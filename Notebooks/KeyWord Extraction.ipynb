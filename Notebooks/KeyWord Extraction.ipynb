{
 "cells": [
  {
   "cell_type": "code",
   "execution_count": 3,
   "metadata": {
    "collapsed": true
   },
   "outputs": [],
   "source": [
    "import pandas as pd\n",
    "import os\n",
    "\n",
    "from pathlib import Path\n",
    "from transformers import AutoModel, AutoTokenizer\n",
    "from konlpy.tag import Mecab"
   ]
  },
  {
   "cell_type": "code",
   "execution_count": 4,
   "outputs": [],
   "source": [
    "news_path = Path.cwd().parent.joinpath(\"Data\", \"News\")"
   ],
   "metadata": {
    "collapsed": false
   }
  },
  {
   "cell_type": "code",
   "execution_count": 5,
   "outputs": [],
   "source": [
    "news = pd.DataFrame()\n",
    "for news_code in os.listdir(news_path):\n",
    "\tload_news = pd.read_csv(Path.joinpath(news_path, news_code))\n",
    "\tload_news = load_news.dropna()\n",
    "\tnews = pd.concat([news, load_news])\n",
    "news = news.reset_index(drop=True)"
   ],
   "metadata": {
    "collapsed": false
   }
  },
  {
   "cell_type": "code",
   "execution_count": 6,
   "outputs": [
    {
     "data": {
      "text/plain": "     company                                       title  \\\n7493    삼성전자  데이터센터 전력 40% 차지하는 D램… 삼성·SK하이닉스, ‘전성비’ ...   \n7494    삼성전자        LS일렉트릭, 텍사스 공장 짓는다…현지 삼성·SK·LG 전력 지원   \n7495    삼성전자            “삼성전자가 식품도 팔았어?”…신규 가입 일단 종료한 사연   \n7496    삼성전자            SGC솔루션 '도어글라스'…삼성·LG 세탁기·건조기에 공급   \n7497    삼성전자        ‘페이커’ 내세운 삼성 OLED 게이밍 모니터 글로벌 3천대 돌파   \n...      ...                                         ...   \n9521    삼성전자                  엔비디아 폭등에…삼성전자·SK하이닉스 동반 강세   \n9522    삼성전자           \"7만전자 영차\"…삼성전자, 장초반 1% 이상 올라[특징주]   \n9523    삼성전자          코스피, 외인 순매수 속 강보합…삼전 1%·하이닉스 3% 상승   \n9524    삼성전자               삼전·하이닉스 강세에 코스피도 상승 출발…외인 매수세   \n9525    삼성전자               반도체 반등 시작했나…삼성전자·SK하이닉스 연일 강세   \n\n                                                   link  writer  \\\n7493  https://finance.naver.com/item/news_read.naver...    조선비즈   \n7494  https://finance.naver.com/item/news_read.naver...     뉴스1   \n7495  https://finance.naver.com/item/news_read.naver...    매일경제   \n7496  https://finance.naver.com/item/news_read.naver...     뉴시스   \n7497  https://finance.naver.com/item/news_read.naver...  매경이코노미   \n...                                                 ...     ...   \n9521  https://finance.naver.com/item/news_read.naver...     뉴시스   \n9522  https://finance.naver.com/item/news_read.naver...     뉴스1   \n9523  https://finance.naver.com/item/news_read.naver...    한국경제   \n9524  https://finance.naver.com/item/news_read.naver...   머니투데이   \n9525  https://finance.naver.com/item/news_read.naver...   머니투데이   \n\n                  date                                            content  \n7493  2023.07.10 15:29  챗GPT 시대 화두로 떠오른 전력효율성 문제 ”전력 먹는 하마, D램 전력효율성 개...  \n7494  2023.07.10 15:08  북미 첫 배전시스템 생산거점…생산설비 및 R&D센터 구축 삼성전자 파운드리 공장과 ...  \n7495  2023.07.10 15:07  삼성 가전제품 구매고객에 삼성닷컴 내 e-식품관에서  할인혜택 주며 ‘락인’ 기대 ...  \n7496  2023.07.10 15:05  해외 가전 브랜드 공략…B2B 사업 확장[서울=뉴시스] SGC솔루션 논산 공장. (...  \n7497  2023.07.10 14:58  북미·유럽 등 예약 판매 3000대 돌파 10일 오후 6시 삼성닷컴 ‘페이커’ 출연...  \n...                ...                                                ...  \n9521  2023.05.26 09:25  [서울=뉴시스] 김경택 기자 = 삼성전자와 SK하이닉스가 장 초반 동반 강세다. 간...  \n9522  2023.05.26 09:19  경기 수원 영통구 삼성전자 본사의 모습. 2022.3.28/뉴스1 ⓒ News1 김...  \n9523  2023.05.26 09:16  지난 25일 오후 서울 중구 을지로 하나은행 본점 딜링룸. 사진=연합뉴스코스피가 외...  \n9524  2023.05.26 09:15  /사진=임종철 디자인기자기관이 증시에서 매도하며 상승폭이 제한되고 있지만 반도체 강...  \n9525  2023.05.26 09:12  [특징주]삼성전자엔비디아발(發) 훈풍에 코스피 반도체 대형주인 삼성전자와 SK하이닉...  \n\n[2033 rows x 6 columns]",
      "text/html": "<div>\n<style scoped>\n    .dataframe tbody tr th:only-of-type {\n        vertical-align: middle;\n    }\n\n    .dataframe tbody tr th {\n        vertical-align: top;\n    }\n\n    .dataframe thead th {\n        text-align: right;\n    }\n</style>\n<table border=\"1\" class=\"dataframe\">\n  <thead>\n    <tr style=\"text-align: right;\">\n      <th></th>\n      <th>company</th>\n      <th>title</th>\n      <th>link</th>\n      <th>writer</th>\n      <th>date</th>\n      <th>content</th>\n    </tr>\n  </thead>\n  <tbody>\n    <tr>\n      <th>7493</th>\n      <td>삼성전자</td>\n      <td>데이터센터 전력 40% 차지하는 D램… 삼성·SK하이닉스, ‘전성비’ ...</td>\n      <td>https://finance.naver.com/item/news_read.naver...</td>\n      <td>조선비즈</td>\n      <td>2023.07.10 15:29</td>\n      <td>챗GPT 시대 화두로 떠오른 전력효율성 문제 ”전력 먹는 하마, D램 전력효율성 개...</td>\n    </tr>\n    <tr>\n      <th>7494</th>\n      <td>삼성전자</td>\n      <td>LS일렉트릭, 텍사스 공장 짓는다…현지 삼성·SK·LG 전력 지원</td>\n      <td>https://finance.naver.com/item/news_read.naver...</td>\n      <td>뉴스1</td>\n      <td>2023.07.10 15:08</td>\n      <td>북미 첫 배전시스템 생산거점…생산설비 및 R&amp;D센터 구축 삼성전자 파운드리 공장과 ...</td>\n    </tr>\n    <tr>\n      <th>7495</th>\n      <td>삼성전자</td>\n      <td>“삼성전자가 식품도 팔았어?”…신규 가입 일단 종료한 사연</td>\n      <td>https://finance.naver.com/item/news_read.naver...</td>\n      <td>매일경제</td>\n      <td>2023.07.10 15:07</td>\n      <td>삼성 가전제품 구매고객에 삼성닷컴 내 e-식품관에서  할인혜택 주며 ‘락인’ 기대 ...</td>\n    </tr>\n    <tr>\n      <th>7496</th>\n      <td>삼성전자</td>\n      <td>SGC솔루션 '도어글라스'…삼성·LG 세탁기·건조기에 공급</td>\n      <td>https://finance.naver.com/item/news_read.naver...</td>\n      <td>뉴시스</td>\n      <td>2023.07.10 15:05</td>\n      <td>해외 가전 브랜드 공략…B2B 사업 확장[서울=뉴시스] SGC솔루션 논산 공장. (...</td>\n    </tr>\n    <tr>\n      <th>7497</th>\n      <td>삼성전자</td>\n      <td>‘페이커’ 내세운 삼성 OLED 게이밍 모니터 글로벌 3천대 돌파</td>\n      <td>https://finance.naver.com/item/news_read.naver...</td>\n      <td>매경이코노미</td>\n      <td>2023.07.10 14:58</td>\n      <td>북미·유럽 등 예약 판매 3000대 돌파 10일 오후 6시 삼성닷컴 ‘페이커’ 출연...</td>\n    </tr>\n    <tr>\n      <th>...</th>\n      <td>...</td>\n      <td>...</td>\n      <td>...</td>\n      <td>...</td>\n      <td>...</td>\n      <td>...</td>\n    </tr>\n    <tr>\n      <th>9521</th>\n      <td>삼성전자</td>\n      <td>엔비디아 폭등에…삼성전자·SK하이닉스 동반 강세</td>\n      <td>https://finance.naver.com/item/news_read.naver...</td>\n      <td>뉴시스</td>\n      <td>2023.05.26 09:25</td>\n      <td>[서울=뉴시스] 김경택 기자 = 삼성전자와 SK하이닉스가 장 초반 동반 강세다. 간...</td>\n    </tr>\n    <tr>\n      <th>9522</th>\n      <td>삼성전자</td>\n      <td>\"7만전자 영차\"…삼성전자, 장초반 1% 이상 올라[특징주]</td>\n      <td>https://finance.naver.com/item/news_read.naver...</td>\n      <td>뉴스1</td>\n      <td>2023.05.26 09:19</td>\n      <td>경기 수원 영통구 삼성전자 본사의 모습. 2022.3.28/뉴스1 ⓒ News1 김...</td>\n    </tr>\n    <tr>\n      <th>9523</th>\n      <td>삼성전자</td>\n      <td>코스피, 외인 순매수 속 강보합…삼전 1%·하이닉스 3% 상승</td>\n      <td>https://finance.naver.com/item/news_read.naver...</td>\n      <td>한국경제</td>\n      <td>2023.05.26 09:16</td>\n      <td>지난 25일 오후 서울 중구 을지로 하나은행 본점 딜링룸. 사진=연합뉴스코스피가 외...</td>\n    </tr>\n    <tr>\n      <th>9524</th>\n      <td>삼성전자</td>\n      <td>삼전·하이닉스 강세에 코스피도 상승 출발…외인 매수세</td>\n      <td>https://finance.naver.com/item/news_read.naver...</td>\n      <td>머니투데이</td>\n      <td>2023.05.26 09:15</td>\n      <td>/사진=임종철 디자인기자기관이 증시에서 매도하며 상승폭이 제한되고 있지만 반도체 강...</td>\n    </tr>\n    <tr>\n      <th>9525</th>\n      <td>삼성전자</td>\n      <td>반도체 반등 시작했나…삼성전자·SK하이닉스 연일 강세</td>\n      <td>https://finance.naver.com/item/news_read.naver...</td>\n      <td>머니투데이</td>\n      <td>2023.05.26 09:12</td>\n      <td>[특징주]삼성전자엔비디아발(發) 훈풍에 코스피 반도체 대형주인 삼성전자와 SK하이닉...</td>\n    </tr>\n  </tbody>\n</table>\n<p>2033 rows × 6 columns</p>\n</div>"
     },
     "execution_count": 6,
     "metadata": {},
     "output_type": "execute_result"
    }
   ],
   "source": [
    "news[news['company'] == \"삼성전자\"]"
   ],
   "metadata": {
    "collapsed": false
   }
  },
  {
   "cell_type": "code",
   "execution_count": 8,
   "outputs": [
    {
     "data": {
      "text/plain": "     company                                       title  \\\n7493    삼성전자  데이터센터 전력 40% 차지하는 D램… 삼성·SK하이닉스, ‘전성비’ ...   \n7494    삼성전자        LS일렉트릭, 텍사스 공장 짓는다…현지 삼성·SK·LG 전력 지원   \n7495    삼성전자            “삼성전자가 식품도 팔았어?”…신규 가입 일단 종료한 사연   \n7496    삼성전자            SGC솔루션 '도어글라스'…삼성·LG 세탁기·건조기에 공급   \n7497    삼성전자        ‘페이커’ 내세운 삼성 OLED 게이밍 모니터 글로벌 3천대 돌파   \n...      ...                                         ...   \n9521    삼성전자                  엔비디아 폭등에…삼성전자·SK하이닉스 동반 강세   \n9522    삼성전자           \"7만전자 영차\"…삼성전자, 장초반 1% 이상 올라[특징주]   \n9523    삼성전자          코스피, 외인 순매수 속 강보합…삼전 1%·하이닉스 3% 상승   \n9524    삼성전자               삼전·하이닉스 강세에 코스피도 상승 출발…외인 매수세   \n9525    삼성전자               반도체 반등 시작했나…삼성전자·SK하이닉스 연일 강세   \n\n                                                   link  writer  \\\n7493  https://finance.naver.com/item/news_read.naver...    조선비즈   \n7494  https://finance.naver.com/item/news_read.naver...     뉴스1   \n7495  https://finance.naver.com/item/news_read.naver...    매일경제   \n7496  https://finance.naver.com/item/news_read.naver...     뉴시스   \n7497  https://finance.naver.com/item/news_read.naver...  매경이코노미   \n...                                                 ...     ...   \n9521  https://finance.naver.com/item/news_read.naver...     뉴시스   \n9522  https://finance.naver.com/item/news_read.naver...     뉴스1   \n9523  https://finance.naver.com/item/news_read.naver...    한국경제   \n9524  https://finance.naver.com/item/news_read.naver...   머니투데이   \n9525  https://finance.naver.com/item/news_read.naver...   머니투데이   \n\n                  date                                            content  \n7493  2023.07.10 15:29  챗GPT 시대 화두로 떠오른 전력효율성 문제 ”전력 먹는 하마, D램 전력효율성 개...  \n7494  2023.07.10 15:08  북미 첫 배전시스템 생산거점…생산설비 및 R&D센터 구축 삼성전자 파운드리 공장과 ...  \n7495  2023.07.10 15:07  삼성 가전제품 구매고객에 삼성닷컴 내 e-식품관에서  할인혜택 주며 ‘락인’ 기대 ...  \n7496  2023.07.10 15:05  해외 가전 브랜드 공략…B2B 사업 확장[서울=뉴시스] SGC솔루션 논산 공장. (...  \n7497  2023.07.10 14:58  북미·유럽 등 예약 판매 3000대 돌파 10일 오후 6시 삼성닷컴 ‘페이커’ 출연...  \n...                ...                                                ...  \n9521  2023.05.26 09:25  [서울=뉴시스] 김경택 기자 = 삼성전자와 SK하이닉스가 장 초반 동반 강세다. 간...  \n9522  2023.05.26 09:19  경기 수원 영통구 삼성전자 본사의 모습. 2022.3.28/뉴스1 ⓒ News1 김...  \n9523  2023.05.26 09:16  지난 25일 오후 서울 중구 을지로 하나은행 본점 딜링룸. 사진=연합뉴스코스피가 외...  \n9524  2023.05.26 09:15  /사진=임종철 디자인기자기관이 증시에서 매도하며 상승폭이 제한되고 있지만 반도체 강...  \n9525  2023.05.26 09:12  [특징주]삼성전자엔비디아발(發) 훈풍에 코스피 반도체 대형주인 삼성전자와 SK하이닉...  \n\n[2008 rows x 6 columns]",
      "text/html": "<div>\n<style scoped>\n    .dataframe tbody tr th:only-of-type {\n        vertical-align: middle;\n    }\n\n    .dataframe tbody tr th {\n        vertical-align: top;\n    }\n\n    .dataframe thead th {\n        text-align: right;\n    }\n</style>\n<table border=\"1\" class=\"dataframe\">\n  <thead>\n    <tr style=\"text-align: right;\">\n      <th></th>\n      <th>company</th>\n      <th>title</th>\n      <th>link</th>\n      <th>writer</th>\n      <th>date</th>\n      <th>content</th>\n    </tr>\n  </thead>\n  <tbody>\n    <tr>\n      <th>7493</th>\n      <td>삼성전자</td>\n      <td>데이터센터 전력 40% 차지하는 D램… 삼성·SK하이닉스, ‘전성비’ ...</td>\n      <td>https://finance.naver.com/item/news_read.naver...</td>\n      <td>조선비즈</td>\n      <td>2023.07.10 15:29</td>\n      <td>챗GPT 시대 화두로 떠오른 전력효율성 문제 ”전력 먹는 하마, D램 전력효율성 개...</td>\n    </tr>\n    <tr>\n      <th>7494</th>\n      <td>삼성전자</td>\n      <td>LS일렉트릭, 텍사스 공장 짓는다…현지 삼성·SK·LG 전력 지원</td>\n      <td>https://finance.naver.com/item/news_read.naver...</td>\n      <td>뉴스1</td>\n      <td>2023.07.10 15:08</td>\n      <td>북미 첫 배전시스템 생산거점…생산설비 및 R&amp;D센터 구축 삼성전자 파운드리 공장과 ...</td>\n    </tr>\n    <tr>\n      <th>7495</th>\n      <td>삼성전자</td>\n      <td>“삼성전자가 식품도 팔았어?”…신규 가입 일단 종료한 사연</td>\n      <td>https://finance.naver.com/item/news_read.naver...</td>\n      <td>매일경제</td>\n      <td>2023.07.10 15:07</td>\n      <td>삼성 가전제품 구매고객에 삼성닷컴 내 e-식품관에서  할인혜택 주며 ‘락인’ 기대 ...</td>\n    </tr>\n    <tr>\n      <th>7496</th>\n      <td>삼성전자</td>\n      <td>SGC솔루션 '도어글라스'…삼성·LG 세탁기·건조기에 공급</td>\n      <td>https://finance.naver.com/item/news_read.naver...</td>\n      <td>뉴시스</td>\n      <td>2023.07.10 15:05</td>\n      <td>해외 가전 브랜드 공략…B2B 사업 확장[서울=뉴시스] SGC솔루션 논산 공장. (...</td>\n    </tr>\n    <tr>\n      <th>7497</th>\n      <td>삼성전자</td>\n      <td>‘페이커’ 내세운 삼성 OLED 게이밍 모니터 글로벌 3천대 돌파</td>\n      <td>https://finance.naver.com/item/news_read.naver...</td>\n      <td>매경이코노미</td>\n      <td>2023.07.10 14:58</td>\n      <td>북미·유럽 등 예약 판매 3000대 돌파 10일 오후 6시 삼성닷컴 ‘페이커’ 출연...</td>\n    </tr>\n    <tr>\n      <th>...</th>\n      <td>...</td>\n      <td>...</td>\n      <td>...</td>\n      <td>...</td>\n      <td>...</td>\n      <td>...</td>\n    </tr>\n    <tr>\n      <th>9521</th>\n      <td>삼성전자</td>\n      <td>엔비디아 폭등에…삼성전자·SK하이닉스 동반 강세</td>\n      <td>https://finance.naver.com/item/news_read.naver...</td>\n      <td>뉴시스</td>\n      <td>2023.05.26 09:25</td>\n      <td>[서울=뉴시스] 김경택 기자 = 삼성전자와 SK하이닉스가 장 초반 동반 강세다. 간...</td>\n    </tr>\n    <tr>\n      <th>9522</th>\n      <td>삼성전자</td>\n      <td>\"7만전자 영차\"…삼성전자, 장초반 1% 이상 올라[특징주]</td>\n      <td>https://finance.naver.com/item/news_read.naver...</td>\n      <td>뉴스1</td>\n      <td>2023.05.26 09:19</td>\n      <td>경기 수원 영통구 삼성전자 본사의 모습. 2022.3.28/뉴스1 ⓒ News1 김...</td>\n    </tr>\n    <tr>\n      <th>9523</th>\n      <td>삼성전자</td>\n      <td>코스피, 외인 순매수 속 강보합…삼전 1%·하이닉스 3% 상승</td>\n      <td>https://finance.naver.com/item/news_read.naver...</td>\n      <td>한국경제</td>\n      <td>2023.05.26 09:16</td>\n      <td>지난 25일 오후 서울 중구 을지로 하나은행 본점 딜링룸. 사진=연합뉴스코스피가 외...</td>\n    </tr>\n    <tr>\n      <th>9524</th>\n      <td>삼성전자</td>\n      <td>삼전·하이닉스 강세에 코스피도 상승 출발…외인 매수세</td>\n      <td>https://finance.naver.com/item/news_read.naver...</td>\n      <td>머니투데이</td>\n      <td>2023.05.26 09:15</td>\n      <td>/사진=임종철 디자인기자기관이 증시에서 매도하며 상승폭이 제한되고 있지만 반도체 강...</td>\n    </tr>\n    <tr>\n      <th>9525</th>\n      <td>삼성전자</td>\n      <td>반도체 반등 시작했나…삼성전자·SK하이닉스 연일 강세</td>\n      <td>https://finance.naver.com/item/news_read.naver...</td>\n      <td>머니투데이</td>\n      <td>2023.05.26 09:12</td>\n      <td>[특징주]삼성전자엔비디아발(發) 훈풍에 코스피 반도체 대형주인 삼성전자와 SK하이닉...</td>\n    </tr>\n  </tbody>\n</table>\n<p>2008 rows × 6 columns</p>\n</div>"
     },
     "execution_count": 8,
     "metadata": {},
     "output_type": "execute_result"
    }
   ],
   "source": [
    "news[news['company'] == \"삼성전자\"].drop_duplicates(subset='title')"
   ],
   "metadata": {
    "collapsed": false
   }
  },
  {
   "cell_type": "code",
   "execution_count": null,
   "outputs": [],
   "source": [
    "# Train New Tokenizer\n",
    "# def get_news(news):\n",
    "# \tcontent = news['content']\n",
    "# \tfor start_idx in range(0, len(content), 1000):\n",
    "# \t\tsamples = content[start_idx:start_idx+1000]\n",
    "# \t\tyield samples"
   ],
   "metadata": {
    "collapsed": false
   }
  },
  {
   "cell_type": "code",
   "execution_count": null,
   "outputs": [],
   "source": [
    "# tokenizer = AutoTokenizer.from_pretrained(\"klue/roberta-base\")\n",
    "# trained_tokenizer = tokenizer.train_new_from_iterator(get_news(news), vocab_size=32000)"
   ],
   "metadata": {
    "collapsed": false
   }
  },
  {
   "cell_type": "code",
   "execution_count": null,
   "outputs": [],
   "source": [
    "# trained_tokenizer.tokenize(news.sample(1)['content'].item())"
   ],
   "metadata": {
    "collapsed": false
   }
  },
  {
   "cell_type": "code",
   "execution_count": 9,
   "outputs": [],
   "source": [
    "company = news['company'].unique()"
   ],
   "metadata": {
    "collapsed": false
   }
  },
  {
   "cell_type": "code",
   "execution_count": 10,
   "outputs": [],
   "source": [
    "ecopro = news[news['company'] == '에코프로']['content']"
   ],
   "metadata": {
    "collapsed": false
   }
  },
  {
   "cell_type": "code",
   "execution_count": 11,
   "outputs": [],
   "source": [
    "samsung = news[news['company'] == '삼성전자']['content']"
   ],
   "metadata": {
    "collapsed": false
   }
  },
  {
   "cell_type": "code",
   "execution_count": 12,
   "outputs": [
    {
     "data": {
      "text/plain": "7493    챗GPT 시대 화두로 떠오른 전력효율성 문제 ”전력 먹는 하마, D램 전력효율성 개...\n7494    북미 첫 배전시스템 생산거점…생산설비 및 R&D센터 구축 삼성전자 파운드리 공장과 ...\n7495    삼성 가전제품 구매고객에 삼성닷컴 내 e-식품관에서  할인혜택 주며 ‘락인’ 기대 ...\n7496    해외 가전 브랜드 공략…B2B 사업 확장[서울=뉴시스] SGC솔루션 논산 공장. (...\n7497    북미·유럽 등 예약 판매 3000대 돌파 10일 오후 6시 삼성닷컴 ‘페이커’ 출연...\n                              ...                        \n9521    [서울=뉴시스] 김경택 기자 = 삼성전자와 SK하이닉스가 장 초반 동반 강세다. 간...\n9522    경기 수원 영통구 삼성전자 본사의 모습. 2022.3.28/뉴스1 ⓒ News1 김...\n9523    지난 25일 오후 서울 중구 을지로 하나은행 본점 딜링룸. 사진=연합뉴스코스피가 외...\n9524    /사진=임종철 디자인기자기관이 증시에서 매도하며 상승폭이 제한되고 있지만 반도체 강...\n9525    [특징주]삼성전자엔비디아발(發) 훈풍에 코스피 반도체 대형주인 삼성전자와 SK하이닉...\nName: content, Length: 2033, dtype: object"
     },
     "execution_count": 12,
     "metadata": {},
     "output_type": "execute_result"
    }
   ],
   "source": [
    "samsung"
   ],
   "metadata": {
    "collapsed": false
   }
  },
  {
   "cell_type": "code",
   "execution_count": 13,
   "outputs": [],
   "source": [
    "from krwordrank.word import summarize_with_keywords"
   ],
   "metadata": {
    "collapsed": false
   }
  },
  {
   "cell_type": "code",
   "execution_count": 14,
   "outputs": [
    {
     "name": "stdout",
     "output_type": "stream",
     "text": [
      "scan vocabs ... \n",
      "num vocabs = 30397\n",
      "done = 10\n"
     ]
    }
   ],
   "source": [
    "samsung_keywords = summarize_with_keywords(samsung.tolist(),\n",
    "\t\t\t\t\t\t\t\t   min_count=10,\n",
    "\t\t\t\t\t\t\t\t   max_length=10,\n",
    "\t\t\t\t\t\t\t\t   beta=0.85,\n",
    "\t\t\t\t\t\t\t\t   max_iter=10,\n",
    "\t\t\t\t\t\t\t\t   verbose=True)"
   ],
   "metadata": {
    "collapsed": false
   }
  },
  {
   "cell_type": "code",
   "execution_count": 15,
   "outputs": [
    {
     "name": "stdout",
     "output_type": "stream",
     "text": [
      "scan vocabs ... \n",
      "num vocabs = 12622\n",
      "done = 10\n"
     ]
    }
   ],
   "source": [
    "ecopro_keywords = summarize_with_keywords(ecopro.tolist(),\n",
    "\t\t\t\t\t\t\t\t   min_count=10,\n",
    "\t\t\t\t\t\t\t\t   max_length=10,\n",
    "\t\t\t\t\t\t\t\t   beta=0.85,\n",
    "\t\t\t\t\t\t\t\t   max_iter=10,\n",
    "\t\t\t\t\t\t\t\t   verbose=True)"
   ],
   "metadata": {
    "collapsed": false
   }
  },
  {
   "cell_type": "code",
   "execution_count": 16,
   "outputs": [
    {
     "data": {
      "text/plain": "{'삼성': 113.04899471286005,\n '있다.': 96.40025318211502,\n '반도체': 76.9444809698702,\n '것으로': 57.41522417632173,\n '지난': 44.09371281340386,\n '시장': 41.46153028474646,\n '미국': 38.031196586616815,\n '올해': 37.70354689784546,\n '20': 32.574438066067046,\n '있는': 32.05366671509987,\n '따르면': 31.490588741709978,\n '통해': 29.819577665835357,\n '글로벌': 27.451159114847776,\n '제품': 27.020630444594993,\n '대비': 26.903514518127682,\n '말했다.': 26.652387349729356,\n 'AI': 24.394467032344135,\n '국내': 24.16760445268324,\n '대한': 23.415857106259235,\n '밝혔다.': 23.041813486837455,\n '최근': 23.025695399497952,\n '파운드리': 22.402067269813514,\n '실적': 22.267028820371173,\n '기업': 22.248983977863332,\n '2분기': 21.792027397688823,\n '위해': 21.5718121136273,\n '기술': 21.518306211439885,\n '이후': 20.889227921875438,\n '이어': 20.279837730556185,\n '연구원은': 20.121186816728986,\n '메모리': 20.013778836789744,\n '위한': 18.3880931725465,\n '이날': 18.117215069742315,\n '사업': 17.92858192379237,\n '했다.': 16.876348161285556,\n '스마트': 16.766850786194194,\n '최대': 16.7539714595688,\n '것이': 16.656891018475932,\n '등을': 16.639149420003566,\n '중국': 16.54890383819393,\n '이번': 16.429622935691302,\n '갤럭시': 16.108544225282593,\n '기자]': 15.281724222039594,\n '매출': 15.113520072559439,\n '주가': 14.873539455566247,\n '투자': 14.847024909171799,\n 'TV': 14.774839631407232,\n '함께': 14.67042481586292,\n '전망': 14.2072089165826,\n '각각': 14.151467429653152,\n '세계': 14.08805380041153,\n '특히': 13.954154964610524,\n '현재': 13.727580147803764,\n '업계': 13.624476380663015,\n '서울': 13.39578518613723,\n '오른': 13.28257220616118,\n '열린': 13.171850855907183,\n '10': 13.127804978207454,\n 'D램': 13.104814252989478,\n '1분기': 13.065691640004898,\n '상승': 12.934905065043786,\n '개발': 12.690562199448552,\n '같은': 12.686543269127075,\n '기존': 12.660521818672008,\n '이상': 12.551319454786267,\n '가장': 12.376730741078857,\n '공정': 12.058946044436594,\n '오는': 11.852371658108838,\n '수요': 11.823481852996538,\n '제공': 11.512378466201946,\n '다양한': 11.462409872127832,\n '외국인': 11.391831267344774,\n '프로': 11.36956535143897,\n '고객': 11.141642457050207,\n '경우': 11.082107682421261,\n '기준': 11.08195045421991,\n '영업': 11.003131941251652,\n '관련': 10.971401407697837,\n '주요': 10.951053631956672,\n 'OLED': 10.93389035668707,\n '확대': 10.929831688510971,\n '하반기': 10.78476355703099,\n '따라': 10.533051495722162,\n '출시': 10.506325932631405,\n '대해': 10.323349537573318,\n 'SK하이닉스': 10.19297727744963,\n '사용': 10.084722014770199,\n '차세대': 9.925454133544799,\n '1위': 9.89215093382253,\n '예상': 9.781481776697856,\n '한국': 9.761195412123847,\n '반면': 9.688303839817408,\n '생산': 9.60406675688774,\n '가운데': 9.462230130219446,\n '관계자는': 9.45382339157439,\n '에너지': 9.441387451197949,\n '비스포크': 9.389580621539862,\n '가격': 9.21583725806167,\n \"'삼성\": 9.157540532568149,\n 'LG': 9.055550403168208}"
     },
     "execution_count": 16,
     "metadata": {},
     "output_type": "execute_result"
    }
   ],
   "source": [
    "samsung_keywords"
   ],
   "metadata": {
    "collapsed": false
   }
  },
  {
   "cell_type": "code",
   "execution_count": 17,
   "outputs": [
    {
     "data": {
      "text/plain": "{'에코프': 54.889926129265355,\n '있다.': 50.15794883185085,\n '주가': 32.208321531943106,\n '지난': 28.02402241567823,\n '것으로': 23.148091240480124,\n '대비': 22.73903068801928,\n '이날': 22.300822473609166,\n '오른': 20.55145039943215,\n '투자': 20.326081943714932,\n '따르면': 20.231533316702556,\n '상승': 19.049847308432042,\n '코스닥': 17.805913531509685,\n '연구원은': 17.555263009569227,\n '각각': 17.226170678785344,\n '거래': 15.385203867153033,\n '양극재': 15.093433961339818,\n '올해': 14.98328092983398,\n '최근': 14.303050376010049,\n '대한': 14.257971201212495,\n '개인': 13.649856045867324,\n '공매도': 13.553441253263456,\n '미국': 13.056397864081916,\n '기업': 12.961074989749152,\n '현재': 12.244882983648905,\n '있는': 12.216823557403572,\n '하락': 11.976526868536139,\n '기준': 11.938983704280195,\n '시장': 11.821909606994756,\n '국내': 11.540605061803102,\n '종목': 11.365818093263782,\n '20': 11.253322834538004,\n '주식': 11.129030719338278,\n '반면': 11.014786466296483,\n '이후': 10.199095486966236,\n '외국인': 9.610091829773992,\n '말했다.': 9.488019423566351,\n '배터리': 9.286679672657694,\n '순매수': 9.090008812269485,\n '장중': 9.082321431644582,\n '2차': 8.981199445665863,\n '10': 8.725850139283011,\n '상장': 8.638330843843544,\n '이어': 8.60627591237572,\n '매도': 8.595488891917958,\n '생산': 8.506924278944544,\n '밝혔다.': 8.417713342614647,\n '관련': 8.396886825534901,\n '전날': 8.07280030567031,\n '했다.': 7.8301759176879795,\n '자회사': 7.606553752027324,\n '실적': 7.480810547261821,\n '역시': 7.382803951348751,\n '매수': 7.330625796116874,\n '급등': 7.320371588273142,\n '증권': 7.160946144592455,\n '같은': 7.0474046243294,\n '상위': 6.983408733653821,\n '대해': 6.913006765999552,\n '소재': 6.87618260127226,\n '들어': 6.7873567734875335,\n '중이다.': 6.759198140348204,\n '위한': 6.75017133471917,\n '가장': 6.672047369673819,\n '이상': 6.623429481580587,\n '지수': 6.467811532312368,\n '높은': 6.432358343820328,\n '오전': 6.423436136803585,\n '내린': 6.3948323145491575,\n '원),': 6.336123601034103,\n '등을': 6.29948359365883,\n '전기차': 6.29602311691635,\n 'JYP': 6.265788265865504,\n '기록': 6.1924825822205705,\n '매출': 6.0649108367224684,\n '전구체': 6.05625301887726,\n '장을': 6.003681345873961,\n '가운데': 5.99308043971747,\n '위해': 5.942913257204755,\n '1분기': 5.927935451826446,\n '특히': 5.910735646368337,\n '것이': 5.82644797564794,\n '마쳤다.': 5.724675950284127,\n '올랐다.': 5.700854068975071,\n '경우': 5.610166528751129,\n '기관': 5.514381261022586,\n '것은': 5.420623021429579,\n '규모': 5.37162192457227,\n '전년': 5.293710680905656,\n '성장': 5.290821878882535,\n '삼성': 5.206893585272747,\n '기자]': 5.189995398024994,\n '예상': 5.1702086252124015,\n '사업': 5.151595301835381,\n '기간': 5.1296201190158595,\n '기대': 5.093648573320658,\n '한국': 5.087456783661878,\n '증가한': 5.080745851521144,\n '이달': 4.998743613210991,\n '공장': 4.9884009499974615,\n '다만': 4.8965672152555655}"
     },
     "execution_count": 17,
     "metadata": {},
     "output_type": "execute_result"
    }
   ],
   "source": [
    "ecopro_keywords"
   ],
   "metadata": {
    "collapsed": false
   }
  },
  {
   "cell_type": "code",
   "execution_count": 18,
   "outputs": [],
   "source": [
    "top_k = set(samsung_keywords) - set(ecopro_keywords)"
   ],
   "metadata": {
    "collapsed": false
   }
  },
  {
   "cell_type": "code",
   "execution_count": 19,
   "outputs": [],
   "source": [
    "t = {key : samsung_keywords[key] for key in top_k}"
   ],
   "metadata": {
    "collapsed": false
   }
  },
  {
   "cell_type": "code",
   "execution_count": 20,
   "outputs": [
    {
     "data": {
      "text/plain": "[('반도체', 76.9444809698702),\n ('통해', 29.819577665835357),\n ('글로벌', 27.451159114847776),\n ('제품', 27.020630444594993),\n ('AI', 24.394467032344135),\n ('파운드리', 22.402067269813514),\n ('2분기', 21.792027397688823),\n ('기술', 21.518306211439885),\n ('메모리', 20.013778836789744),\n ('스마트', 16.766850786194194),\n ('최대', 16.7539714595688),\n ('중국', 16.54890383819393),\n ('이번', 16.429622935691302),\n ('갤럭시', 16.108544225282593),\n ('TV', 14.774839631407232),\n ('함께', 14.67042481586292),\n ('전망', 14.2072089165826),\n ('세계', 14.08805380041153),\n ('업계', 13.624476380663015),\n ('서울', 13.39578518613723),\n ('열린', 13.171850855907183),\n ('D램', 13.104814252989478),\n ('개발', 12.690562199448552),\n ('기존', 12.660521818672008),\n ('공정', 12.058946044436594),\n ('오는', 11.852371658108838),\n ('수요', 11.823481852996538),\n ('제공', 11.512378466201946),\n ('다양한', 11.462409872127832),\n ('프로', 11.36956535143897),\n ('고객', 11.141642457050207),\n ('영업', 11.003131941251652),\n ('주요', 10.951053631956672),\n ('OLED', 10.93389035668707),\n ('확대', 10.929831688510971),\n ('하반기', 10.78476355703099),\n ('따라', 10.533051495722162),\n ('출시', 10.506325932631405),\n ('SK하이닉스', 10.19297727744963),\n ('사용', 10.084722014770199),\n ('차세대', 9.925454133544799),\n ('1위', 9.89215093382253),\n ('관계자는', 9.45382339157439),\n ('에너지', 9.441387451197949),\n ('비스포크', 9.389580621539862),\n ('가격', 9.21583725806167),\n (\"'삼성\", 9.157540532568149),\n ('LG', 9.055550403168208)]"
     },
     "execution_count": 20,
     "metadata": {},
     "output_type": "execute_result"
    }
   ],
   "source": [
    "sorted(t.items() , reverse=True, key=lambda x: x[1])"
   ],
   "metadata": {
    "collapsed": false
   }
  },
  {
   "cell_type": "code",
   "execution_count": null,
   "outputs": [],
   "source": [],
   "metadata": {
    "collapsed": false
   }
  }
 ],
 "metadata": {
  "kernelspec": {
   "display_name": "Python 3",
   "language": "python",
   "name": "python3"
  },
  "language_info": {
   "codemirror_mode": {
    "name": "ipython",
    "version": 2
   },
   "file_extension": ".py",
   "mimetype": "text/x-python",
   "name": "python",
   "nbconvert_exporter": "python",
   "pygments_lexer": "ipython2",
   "version": "2.7.6"
  }
 },
 "nbformat": 4,
 "nbformat_minor": 0
}
