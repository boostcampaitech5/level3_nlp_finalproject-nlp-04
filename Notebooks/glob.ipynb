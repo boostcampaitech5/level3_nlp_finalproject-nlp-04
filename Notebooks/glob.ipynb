{
 "cells": [
  {
   "cell_type": "code",
   "execution_count": 12,
   "metadata": {},
   "outputs": [],
   "source": [
    "import pandas as pd\n",
    "import glob\n",
    "import re"
   ]
  },
  {
   "attachments": {},
   "cell_type": "markdown",
   "metadata": {},
   "source": [
    "## 공시번호 기준으로 폴더 나누기"
   ]
  },
  {
   "cell_type": "code",
   "execution_count": 21,
   "metadata": {},
   "outputs": [
    {
     "name": "stdout",
     "output_type": "stream",
     "text": [
      "data\n",
      "data\n",
      "data\n",
      "data\n",
      "data\n"
     ]
    }
   ],
   "source": [
    "import os\n",
    "import pandas as pd\n",
    "\n",
    "def merge_and_move_files(directory_path):\n",
    "    file_list = os.listdir(directory_path)\n",
    "\n",
    "    # 파일들을 처리하기 위해 딕셔너리를 생성합니다.\n",
    "    files_by_number = {}\n",
    "\n",
    "    # 파일들을 숫자에 따라 그룹화합니다.\n",
    "    for file_name in file_list:\n",
    "        if file_name.startswith(\"preprocessed_data_\"):\n",
    "            number = file_name.split(\"_\")[2]\n",
    "            if number not in files_by_number:\n",
    "                files_by_number[number] = []\n",
    "            files_by_number[number].append(file_name)\n",
    "\n",
    "    # 각 숫자에 대해 폴더를 만들고 해당 폴더로 파일들을 이동합니다.\n",
    "    for number, files in files_by_number.items():\n",
    "        folder_path = os.path.join(directory_path, number)\n",
    "        os.makedirs(folder_path, exist_ok=True)\n",
    "\n",
    "        # 파일들을 위아래로 합쳐서 새로운 파일로 만듭니다.\n",
    "        combined_data = pd.concat([pd.read_csv(os.path.join(directory_path, file)) for file in files], axis=0)\n",
    "\n",
    "        # 새로운 파일을 해당 폴더로 이동합니다.\n",
    "        merged_file_path = os.path.join(folder_path, f\"merged_{number}.csv\")\n",
    "        combined_data.to_csv(merged_file_path, index=False)\n",
    "\n",
    "        # # 이동한 파일들은 삭제합니다. (선택사항)\n",
    "        # for file in files:\n",
    "        #     file_path = os.path.join(directory_path, file)\n",
    "        #     os.remove(file_path)\n",
    "\n",
    "if __name__ == \"__main__\":\n",
    "    target_directory = '/opt/ml/finance_sentiment_corpus/'\n",
    "    merge_and_move_files(target_directory)\n"
   ]
  },
  {
   "attachments": {},
   "cell_type": "markdown",
   "metadata": {},
   "source": [
    "## 회사명 기준으로 파일 나누기"
   ]
  },
  {
   "cell_type": "code",
   "execution_count": 3,
   "metadata": {},
   "outputs": [],
   "source": [
    "import os\n",
    "import pandas as pd\n",
    "\n",
    "def merge_and_move_files(directory_path):\n",
    "    # 디렉토리 내의 파일 리스트를 가져옵니다.\n",
    "    file_list = os.listdir(directory_path)\n",
    "\n",
    "    # 파일들을 처리하기 위해 딕셔너리를 생성합니다.\n",
    "    files_by_company = {}\n",
    "\n",
    "    # 파일들을 기업 이름에 따라 그룹화합니다.\n",
    "    for file_name in file_list:\n",
    "        # if file_name[0].isdigit():\n",
    "        # if file_name.startswith(\"preprocessed_data_\"):\n",
    "            file_path = os.path.join(directory_path, file_name)\n",
    "            data = pd.read_csv(file_path)\n",
    "            company_name = data['company'].iloc[0]\n",
    "            if company_name not in files_by_company:\n",
    "                files_by_company[company_name] = []\n",
    "            files_by_company[company_name].append(file_name)\n",
    "\n",
    "    # 각 기업에 대해 폴더를 만들고 해당 폴더로 파일들을 이동합니다.\n",
    "    for company_name, files in files_by_company.items():\n",
    "        folder_path = os.path.join(directory_path, \"merged\")\n",
    "        os.makedirs(folder_path, exist_ok=True)\n",
    "\n",
    "        # 파일들을 위아래로 합쳐서 새로운 파일로 만듭니다.\n",
    "        combined_data = pd.concat([pd.read_csv(os.path.join(directory_path, file)) for file in files], axis=0)\n",
    "\n",
    "        # 새로운 파일을 해당 폴더로 이동합니다.\n",
    "        merged_file_path = os.path.join(folder_path, f\"merged_{company_name}.csv\")\n",
    "        combined_data.to_csv(merged_file_path, index=False)\n",
    "\n",
    "        # # 이동한 파일들은 삭제합니다. (선택사항)\n",
    "        # for file in files:\n",
    "        #     file_path = os.path.join(directory_path, file)\n",
    "        #     os.remove(file_path)\n",
    "\n",
    "if __name__ == \"__main__\":\n",
    "    # target_directory = '/opt/ml/finance_sentiment_corpus/'\n",
    "    target_directory = \"/opt/ml/finance_sentiment_corpus\"\n",
    "    merge_and_move_files(target_directory)\n"
   ]
  },
  {
   "attachments": {},
   "cell_type": "markdown",
   "metadata": {},
   "source": [
    "## 파일 합치기"
   ]
  },
  {
   "cell_type": "code",
   "execution_count": null,
   "metadata": {},
   "outputs": [],
   "source": [
    "def merge_csv_files(directory_path, output_file_name):\n",
    "    file_list = os.listdir(directory_path)\n",
    "    combined_data = pd.DataFrame()\n",
    "\n",
    "    for file_name in file_list:\n",
    "        if file_name.endswith(\".csv\") and file_name != \"merged_all.csv\":\n",
    "            file_path = os.path.join(directory_path, file_name)\n",
    "            print(file_path)\n",
    "            data = pd.read_csv(file_path)\n",
    "            \n",
    "            if \"label\" in data.columns and \"labels\" not in data.columns  :\n",
    "                data[\"labels\"] = data[\"label\"]\n",
    "                \n",
    "            data = data[[\"company\", \"title\", \"date\", \"content_corpus\", \"labels\"]]\n",
    "            combined_data = pd.concat([combined_data, data], axis=0, ignore_index=True)\n",
    "    \n",
    "    output_file_path = os.path.join(directory_path, output_file_name)\n",
    "    # print(output_file_path)\n",
    "    if os.path.exists(output_file_path):\n",
    "        os.remove(output_file_path)\n",
    "        \n",
    "    combined_data.to_csv(output_file_path, index=False)\n",
    "    return combined_data\n",
    "\n",
    "directory_path = \"/opt/ml/finance_sentiment_corpus/merged\"\n",
    "output_file_name = \"merged_all.csv\"\n",
    "output_file_path = directory_path + output_file_name\n",
    "    \n",
    "data = merge_csv_files(directory_path , output_file_name)"
   ]
  },
  {
   "attachments": {},
   "cell_type": "markdown",
   "metadata": {},
   "source": [
    "## 전처리해서 chat gpt한테 넣어주기"
   ]
  },
  {
   "cell_type": "code",
   "execution_count": 5,
   "metadata": {},
   "outputs": [
    {
     "name": "stdout",
     "output_type": "stream",
     "text": [
      "/opt/ml/finance_sentiment_corpus/merged/merged_LG전자.csv\n",
      "/opt/ml/finance_sentiment_corpus/merged/merged_KT&G.csv\n",
      "/opt/ml/finance_sentiment_corpus/merged/merged_셀트리온.csv\n",
      "/opt/ml/finance_sentiment_corpus/merged/merged_현대모비스.csv\n",
      "/opt/ml/finance_sentiment_corpus/merged/merged_LG.csv\n",
      "/opt/ml/finance_sentiment_corpus/merged/merged_SK이노베이션.csv\n",
      "/opt/ml/finance_sentiment_corpus/merged/merged_카카오뱅크.csv\n",
      "/opt/ml/finance_sentiment_corpus/merged/merged_HD현대중공업.csv\n",
      "/opt/ml/finance_sentiment_corpus/merged/merged_한국전력.csv\n",
      "/opt/ml/finance_sentiment_corpus/merged/merged_POSCO홀딩스.csv\n",
      "/opt/ml/finance_sentiment_corpus/merged/merged_두산에너빌리티.csv\n",
      "/opt/ml/finance_sentiment_corpus/merged/merged_삼성바이오로직스.csv\n",
      "/opt/ml/finance_sentiment_corpus/merged/merged_LG화학.csv\n",
      "/opt/ml/finance_sentiment_corpus/merged/merged_에코프로비엠.csv\n",
      "/opt/ml/finance_sentiment_corpus/merged/merged_삼성물산.csv\n",
      "/opt/ml/finance_sentiment_corpus/merged/merged_SK하이닉스.csv\n",
      "/opt/ml/finance_sentiment_corpus/merged/merged_삼성SDI.csv\n",
      "/opt/ml/finance_sentiment_corpus/merged/merged_삼성화재.csv\n",
      "/opt/ml/finance_sentiment_corpus/merged/merged_카카오.csv\n",
      "/opt/ml/finance_sentiment_corpus/merged/merged_포스코퓨처엠.csv\n",
      "/opt/ml/finance_sentiment_corpus/merged/merged_기아.csv\n",
      "/opt/ml/finance_sentiment_corpus/merged/merged_하이브.csv\n",
      "/opt/ml/finance_sentiment_corpus/merged/merged_삼성생명.csv\n",
      "/opt/ml/finance_sentiment_corpus/merged/merged_에코프로.csv\n",
      "/opt/ml/finance_sentiment_corpus/merged/merged_신한지주.csv\n",
      "/opt/ml/finance_sentiment_corpus/merged/merged_KB금융.csv\n"
     ]
    }
   ],
   "source": [
    "def merge_csv_files(directory_path, output_file_name):\n",
    "    file_list = os.listdir(directory_path)\n",
    "    combined_data = pd.DataFrame()\n",
    "\n",
    "    for file_name in file_list:\n",
    "        if file_name.endswith(\".csv\") and file_name != \"merged_all.csv\":\n",
    "            file_path = os.path.join(directory_path, file_name)\n",
    "            print(file_path)\n",
    "            data = pd.read_csv(file_path)\n",
    "            \n",
    "            # if \"label\" in data.columns and \"labels\" not in data.columns  :\n",
    "            #     data[\"labels\"] = data[\"label\"]\n",
    "                \n",
    "            data = data[[\"company\", \"title\", \"date\", \"content_corpus\"]]\n",
    "            combined_data = pd.concat([combined_data, data], axis=0, ignore_index=True)\n",
    "    \n",
    "    output_file_path = os.path.join(directory_path, output_file_name)\n",
    "    # print(output_file_path)\n",
    "    if os.path.exists(output_file_path):\n",
    "        os.remove(output_file_path)\n",
    "        \n",
    "    combined_data.to_csv(output_file_path, index=False)\n",
    "    return combined_data\n",
    "\n",
    "directory_path = \"/opt/ml/finance_sentiment_corpus/merged\"\n",
    "output_file_name = \"merged_all.csv\"\n",
    "output_file_path = directory_path + output_file_name\n",
    "    \n",
    "data = merge_csv_files(directory_path , output_file_name)"
   ]
  },
  {
   "cell_type": "code",
   "execution_count": 57,
   "metadata": {},
   "outputs": [],
   "source": [
    "import os\n",
    "import pandas as pd\n",
    "\n",
    "def merge_csv_files(directory_path, output_file_name):\n",
    "    file_list = os.listdir(directory_path)\n",
    "    combined_data = pd.DataFrame()\n",
    "\n",
    "    for file_name in file_list:\n",
    "        if file_name.endswith(\".csv\"):\n",
    "            file_path = os.path.join(directory_path, file_name)\n",
    "            data = pd.read_csv(file_path)\n",
    "            combined_data = pd.concat([combined_data, data], axis=0, ignore_index=True)\n",
    "\n",
    "    output_file_path = os.path.join(directory_path, output_file_name)\n",
    "\n",
    "    combined_data.to_csv(output_file_path, index=False)\n",
    "\n",
    "directory_path = \"/opt/ml/finance_sentiment_corpus/\"\n",
    "output_file_name = \"merged_all.csv\"\n",
    "output_file_path = directory_path + output_file_name\n",
    "\n",
    "if os.path.exists(output_file_path):\n",
    "    os.remove(output_file_path)\n",
    "# merge_csv_files(\"/opt/ml/finance_sentiment_corpus\", \"merged_all.csv\")"
   ]
  }
 ],
 "metadata": {
  "kernelspec": {
   "display_name": "final",
   "language": "python",
   "name": "python3"
  },
  "language_info": {
   "codemirror_mode": {
    "name": "ipython",
    "version": 3
   },
   "file_extension": ".py",
   "mimetype": "text/x-python",
   "name": "python",
   "nbconvert_exporter": "python",
   "pygments_lexer": "ipython3",
   "version": "3.8.5"
  },
  "orig_nbformat": 4,
  "vscode": {
   "interpreter": {
    "hash": "981f108a204f421f158e0977940335d851edffa6dd3586828a3e1aec045160e4"
   }
  }
 },
 "nbformat": 4,
 "nbformat_minor": 2
}
