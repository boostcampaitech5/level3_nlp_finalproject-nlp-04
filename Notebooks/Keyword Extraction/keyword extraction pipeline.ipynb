{
  "nbformat": 4,
  "nbformat_minor": 0,
  "metadata": {
    "colab": {
      "provenance": []
    },
    "kernelspec": {
      "name": "python3",
      "display_name": "Python 3"
    },
    "language_info": {
      "name": "python"
    },
    "widgets": {
      "application/vnd.jupyter.widget-state+json": {
        "2d9c22439311433fbde63dec91fb7ffc": {
          "model_module": "@jupyter-widgets/controls",
          "model_name": "HBoxModel",
          "model_module_version": "1.5.0",
          "state": {
            "_dom_classes": [],
            "_model_module": "@jupyter-widgets/controls",
            "_model_module_version": "1.5.0",
            "_model_name": "HBoxModel",
            "_view_count": null,
            "_view_module": "@jupyter-widgets/controls",
            "_view_module_version": "1.5.0",
            "_view_name": "HBoxView",
            "box_style": "",
            "children": [
              "IPY_MODEL_9acf167658a04032b54f36eb8cc1e9c8",
              "IPY_MODEL_afca155d3a204bc19526d1578e3ff403",
              "IPY_MODEL_f451cacff7044b3ea30925553902a0bc"
            ],
            "layout": "IPY_MODEL_b2ce5bdd00274c07939363b8a51affe7"
          }
        },
        "9acf167658a04032b54f36eb8cc1e9c8": {
          "model_module": "@jupyter-widgets/controls",
          "model_name": "HTMLModel",
          "model_module_version": "1.5.0",
          "state": {
            "_dom_classes": [],
            "_model_module": "@jupyter-widgets/controls",
            "_model_module_version": "1.5.0",
            "_model_name": "HTMLModel",
            "_view_count": null,
            "_view_module": "@jupyter-widgets/controls",
            "_view_module_version": "1.5.0",
            "_view_name": "HTMLView",
            "description": "",
            "description_tooltip": null,
            "layout": "IPY_MODEL_9f7a91fbb53142a2963b49034c6e9f39",
            "placeholder": "​",
            "style": "IPY_MODEL_ccc1c4fb85cb4fffaf074cb6c7657357",
            "value": "Downloading (…)okenizer_config.json: 100%"
          }
        },
        "afca155d3a204bc19526d1578e3ff403": {
          "model_module": "@jupyter-widgets/controls",
          "model_name": "FloatProgressModel",
          "model_module_version": "1.5.0",
          "state": {
            "_dom_classes": [],
            "_model_module": "@jupyter-widgets/controls",
            "_model_module_version": "1.5.0",
            "_model_name": "FloatProgressModel",
            "_view_count": null,
            "_view_module": "@jupyter-widgets/controls",
            "_view_module_version": "1.5.0",
            "_view_name": "ProgressView",
            "bar_style": "success",
            "description": "",
            "description_tooltip": null,
            "layout": "IPY_MODEL_ab20e37d3dde4b5ba482e50e878b2eab",
            "max": 365,
            "min": 0,
            "orientation": "horizontal",
            "style": "IPY_MODEL_a5578182f4ec480bb479b5ee014b7e39",
            "value": 365
          }
        },
        "f451cacff7044b3ea30925553902a0bc": {
          "model_module": "@jupyter-widgets/controls",
          "model_name": "HTMLModel",
          "model_module_version": "1.5.0",
          "state": {
            "_dom_classes": [],
            "_model_module": "@jupyter-widgets/controls",
            "_model_module_version": "1.5.0",
            "_model_name": "HTMLModel",
            "_view_count": null,
            "_view_module": "@jupyter-widgets/controls",
            "_view_module_version": "1.5.0",
            "_view_name": "HTMLView",
            "description": "",
            "description_tooltip": null,
            "layout": "IPY_MODEL_7c1fa72ef3bd45458cd136b1b01c44b5",
            "placeholder": "​",
            "style": "IPY_MODEL_69239a07eea34a2890c1da133a0cb47c",
            "value": " 365/365 [00:00&lt;00:00, 5.66kB/s]"
          }
        },
        "b2ce5bdd00274c07939363b8a51affe7": {
          "model_module": "@jupyter-widgets/base",
          "model_name": "LayoutModel",
          "model_module_version": "1.2.0",
          "state": {
            "_model_module": "@jupyter-widgets/base",
            "_model_module_version": "1.2.0",
            "_model_name": "LayoutModel",
            "_view_count": null,
            "_view_module": "@jupyter-widgets/base",
            "_view_module_version": "1.2.0",
            "_view_name": "LayoutView",
            "align_content": null,
            "align_items": null,
            "align_self": null,
            "border": null,
            "bottom": null,
            "display": null,
            "flex": null,
            "flex_flow": null,
            "grid_area": null,
            "grid_auto_columns": null,
            "grid_auto_flow": null,
            "grid_auto_rows": null,
            "grid_column": null,
            "grid_gap": null,
            "grid_row": null,
            "grid_template_areas": null,
            "grid_template_columns": null,
            "grid_template_rows": null,
            "height": null,
            "justify_content": null,
            "justify_items": null,
            "left": null,
            "margin": null,
            "max_height": null,
            "max_width": null,
            "min_height": null,
            "min_width": null,
            "object_fit": null,
            "object_position": null,
            "order": null,
            "overflow": null,
            "overflow_x": null,
            "overflow_y": null,
            "padding": null,
            "right": null,
            "top": null,
            "visibility": null,
            "width": null
          }
        },
        "9f7a91fbb53142a2963b49034c6e9f39": {
          "model_module": "@jupyter-widgets/base",
          "model_name": "LayoutModel",
          "model_module_version": "1.2.0",
          "state": {
            "_model_module": "@jupyter-widgets/base",
            "_model_module_version": "1.2.0",
            "_model_name": "LayoutModel",
            "_view_count": null,
            "_view_module": "@jupyter-widgets/base",
            "_view_module_version": "1.2.0",
            "_view_name": "LayoutView",
            "align_content": null,
            "align_items": null,
            "align_self": null,
            "border": null,
            "bottom": null,
            "display": null,
            "flex": null,
            "flex_flow": null,
            "grid_area": null,
            "grid_auto_columns": null,
            "grid_auto_flow": null,
            "grid_auto_rows": null,
            "grid_column": null,
            "grid_gap": null,
            "grid_row": null,
            "grid_template_areas": null,
            "grid_template_columns": null,
            "grid_template_rows": null,
            "height": null,
            "justify_content": null,
            "justify_items": null,
            "left": null,
            "margin": null,
            "max_height": null,
            "max_width": null,
            "min_height": null,
            "min_width": null,
            "object_fit": null,
            "object_position": null,
            "order": null,
            "overflow": null,
            "overflow_x": null,
            "overflow_y": null,
            "padding": null,
            "right": null,
            "top": null,
            "visibility": null,
            "width": null
          }
        },
        "ccc1c4fb85cb4fffaf074cb6c7657357": {
          "model_module": "@jupyter-widgets/controls",
          "model_name": "DescriptionStyleModel",
          "model_module_version": "1.5.0",
          "state": {
            "_model_module": "@jupyter-widgets/controls",
            "_model_module_version": "1.5.0",
            "_model_name": "DescriptionStyleModel",
            "_view_count": null,
            "_view_module": "@jupyter-widgets/base",
            "_view_module_version": "1.2.0",
            "_view_name": "StyleView",
            "description_width": ""
          }
        },
        "ab20e37d3dde4b5ba482e50e878b2eab": {
          "model_module": "@jupyter-widgets/base",
          "model_name": "LayoutModel",
          "model_module_version": "1.2.0",
          "state": {
            "_model_module": "@jupyter-widgets/base",
            "_model_module_version": "1.2.0",
            "_model_name": "LayoutModel",
            "_view_count": null,
            "_view_module": "@jupyter-widgets/base",
            "_view_module_version": "1.2.0",
            "_view_name": "LayoutView",
            "align_content": null,
            "align_items": null,
            "align_self": null,
            "border": null,
            "bottom": null,
            "display": null,
            "flex": null,
            "flex_flow": null,
            "grid_area": null,
            "grid_auto_columns": null,
            "grid_auto_flow": null,
            "grid_auto_rows": null,
            "grid_column": null,
            "grid_gap": null,
            "grid_row": null,
            "grid_template_areas": null,
            "grid_template_columns": null,
            "grid_template_rows": null,
            "height": null,
            "justify_content": null,
            "justify_items": null,
            "left": null,
            "margin": null,
            "max_height": null,
            "max_width": null,
            "min_height": null,
            "min_width": null,
            "object_fit": null,
            "object_position": null,
            "order": null,
            "overflow": null,
            "overflow_x": null,
            "overflow_y": null,
            "padding": null,
            "right": null,
            "top": null,
            "visibility": null,
            "width": null
          }
        },
        "a5578182f4ec480bb479b5ee014b7e39": {
          "model_module": "@jupyter-widgets/controls",
          "model_name": "ProgressStyleModel",
          "model_module_version": "1.5.0",
          "state": {
            "_model_module": "@jupyter-widgets/controls",
            "_model_module_version": "1.5.0",
            "_model_name": "ProgressStyleModel",
            "_view_count": null,
            "_view_module": "@jupyter-widgets/base",
            "_view_module_version": "1.2.0",
            "_view_name": "StyleView",
            "bar_color": null,
            "description_width": ""
          }
        },
        "7c1fa72ef3bd45458cd136b1b01c44b5": {
          "model_module": "@jupyter-widgets/base",
          "model_name": "LayoutModel",
          "model_module_version": "1.2.0",
          "state": {
            "_model_module": "@jupyter-widgets/base",
            "_model_module_version": "1.2.0",
            "_model_name": "LayoutModel",
            "_view_count": null,
            "_view_module": "@jupyter-widgets/base",
            "_view_module_version": "1.2.0",
            "_view_name": "LayoutView",
            "align_content": null,
            "align_items": null,
            "align_self": null,
            "border": null,
            "bottom": null,
            "display": null,
            "flex": null,
            "flex_flow": null,
            "grid_area": null,
            "grid_auto_columns": null,
            "grid_auto_flow": null,
            "grid_auto_rows": null,
            "grid_column": null,
            "grid_gap": null,
            "grid_row": null,
            "grid_template_areas": null,
            "grid_template_columns": null,
            "grid_template_rows": null,
            "height": null,
            "justify_content": null,
            "justify_items": null,
            "left": null,
            "margin": null,
            "max_height": null,
            "max_width": null,
            "min_height": null,
            "min_width": null,
            "object_fit": null,
            "object_position": null,
            "order": null,
            "overflow": null,
            "overflow_x": null,
            "overflow_y": null,
            "padding": null,
            "right": null,
            "top": null,
            "visibility": null,
            "width": null
          }
        },
        "69239a07eea34a2890c1da133a0cb47c": {
          "model_module": "@jupyter-widgets/controls",
          "model_name": "DescriptionStyleModel",
          "model_module_version": "1.5.0",
          "state": {
            "_model_module": "@jupyter-widgets/controls",
            "_model_module_version": "1.5.0",
            "_model_name": "DescriptionStyleModel",
            "_view_count": null,
            "_view_module": "@jupyter-widgets/base",
            "_view_module_version": "1.2.0",
            "_view_name": "StyleView",
            "description_width": ""
          }
        },
        "2046ef77bcd747ebaf2282d968d8d324": {
          "model_module": "@jupyter-widgets/controls",
          "model_name": "HBoxModel",
          "model_module_version": "1.5.0",
          "state": {
            "_dom_classes": [],
            "_model_module": "@jupyter-widgets/controls",
            "_model_module_version": "1.5.0",
            "_model_name": "HBoxModel",
            "_view_count": null,
            "_view_module": "@jupyter-widgets/controls",
            "_view_module_version": "1.5.0",
            "_view_name": "HBoxView",
            "box_style": "",
            "children": [
              "IPY_MODEL_9444d0ea409a443fa7843d620bed9fae",
              "IPY_MODEL_5910343a2e2c46d89b221e272cce619a",
              "IPY_MODEL_d4af78e36c0745559630d836f572ba10"
            ],
            "layout": "IPY_MODEL_7c443272e9584cd8a4e0bc494acac30d"
          }
        },
        "9444d0ea409a443fa7843d620bed9fae": {
          "model_module": "@jupyter-widgets/controls",
          "model_name": "HTMLModel",
          "model_module_version": "1.5.0",
          "state": {
            "_dom_classes": [],
            "_model_module": "@jupyter-widgets/controls",
            "_model_module_version": "1.5.0",
            "_model_name": "HTMLModel",
            "_view_count": null,
            "_view_module": "@jupyter-widgets/controls",
            "_view_module_version": "1.5.0",
            "_view_name": "HTMLView",
            "description": "",
            "description_tooltip": null,
            "layout": "IPY_MODEL_7b59e111e7cc413d9bfa87a6e077cc9f",
            "placeholder": "​",
            "style": "IPY_MODEL_b564d91d5d0e4168b19a3b7dc4089cf8",
            "value": "Downloading (…)solve/main/vocab.txt: 100%"
          }
        },
        "5910343a2e2c46d89b221e272cce619a": {
          "model_module": "@jupyter-widgets/controls",
          "model_name": "FloatProgressModel",
          "model_module_version": "1.5.0",
          "state": {
            "_dom_classes": [],
            "_model_module": "@jupyter-widgets/controls",
            "_model_module_version": "1.5.0",
            "_model_name": "FloatProgressModel",
            "_view_count": null,
            "_view_module": "@jupyter-widgets/controls",
            "_view_module_version": "1.5.0",
            "_view_name": "ProgressView",
            "bar_style": "success",
            "description": "",
            "description_tooltip": null,
            "layout": "IPY_MODEL_01fd16484b264eaaa3360e0de6972933",
            "max": 263327,
            "min": 0,
            "orientation": "horizontal",
            "style": "IPY_MODEL_9ab3dcd684d244848e5354ceeedeedeb",
            "value": 263327
          }
        },
        "d4af78e36c0745559630d836f572ba10": {
          "model_module": "@jupyter-widgets/controls",
          "model_name": "HTMLModel",
          "model_module_version": "1.5.0",
          "state": {
            "_dom_classes": [],
            "_model_module": "@jupyter-widgets/controls",
            "_model_module_version": "1.5.0",
            "_model_name": "HTMLModel",
            "_view_count": null,
            "_view_module": "@jupyter-widgets/controls",
            "_view_module_version": "1.5.0",
            "_view_name": "HTMLView",
            "description": "",
            "description_tooltip": null,
            "layout": "IPY_MODEL_560c4ecb19f7446785ebd16eddc814f7",
            "placeholder": "​",
            "style": "IPY_MODEL_92e86e1a4a044af790df8e11f9a7fa0d",
            "value": " 263k/263k [00:00&lt;00:00, 3.41MB/s]"
          }
        },
        "7c443272e9584cd8a4e0bc494acac30d": {
          "model_module": "@jupyter-widgets/base",
          "model_name": "LayoutModel",
          "model_module_version": "1.2.0",
          "state": {
            "_model_module": "@jupyter-widgets/base",
            "_model_module_version": "1.2.0",
            "_model_name": "LayoutModel",
            "_view_count": null,
            "_view_module": "@jupyter-widgets/base",
            "_view_module_version": "1.2.0",
            "_view_name": "LayoutView",
            "align_content": null,
            "align_items": null,
            "align_self": null,
            "border": null,
            "bottom": null,
            "display": null,
            "flex": null,
            "flex_flow": null,
            "grid_area": null,
            "grid_auto_columns": null,
            "grid_auto_flow": null,
            "grid_auto_rows": null,
            "grid_column": null,
            "grid_gap": null,
            "grid_row": null,
            "grid_template_areas": null,
            "grid_template_columns": null,
            "grid_template_rows": null,
            "height": null,
            "justify_content": null,
            "justify_items": null,
            "left": null,
            "margin": null,
            "max_height": null,
            "max_width": null,
            "min_height": null,
            "min_width": null,
            "object_fit": null,
            "object_position": null,
            "order": null,
            "overflow": null,
            "overflow_x": null,
            "overflow_y": null,
            "padding": null,
            "right": null,
            "top": null,
            "visibility": null,
            "width": null
          }
        },
        "7b59e111e7cc413d9bfa87a6e077cc9f": {
          "model_module": "@jupyter-widgets/base",
          "model_name": "LayoutModel",
          "model_module_version": "1.2.0",
          "state": {
            "_model_module": "@jupyter-widgets/base",
            "_model_module_version": "1.2.0",
            "_model_name": "LayoutModel",
            "_view_count": null,
            "_view_module": "@jupyter-widgets/base",
            "_view_module_version": "1.2.0",
            "_view_name": "LayoutView",
            "align_content": null,
            "align_items": null,
            "align_self": null,
            "border": null,
            "bottom": null,
            "display": null,
            "flex": null,
            "flex_flow": null,
            "grid_area": null,
            "grid_auto_columns": null,
            "grid_auto_flow": null,
            "grid_auto_rows": null,
            "grid_column": null,
            "grid_gap": null,
            "grid_row": null,
            "grid_template_areas": null,
            "grid_template_columns": null,
            "grid_template_rows": null,
            "height": null,
            "justify_content": null,
            "justify_items": null,
            "left": null,
            "margin": null,
            "max_height": null,
            "max_width": null,
            "min_height": null,
            "min_width": null,
            "object_fit": null,
            "object_position": null,
            "order": null,
            "overflow": null,
            "overflow_x": null,
            "overflow_y": null,
            "padding": null,
            "right": null,
            "top": null,
            "visibility": null,
            "width": null
          }
        },
        "b564d91d5d0e4168b19a3b7dc4089cf8": {
          "model_module": "@jupyter-widgets/controls",
          "model_name": "DescriptionStyleModel",
          "model_module_version": "1.5.0",
          "state": {
            "_model_module": "@jupyter-widgets/controls",
            "_model_module_version": "1.5.0",
            "_model_name": "DescriptionStyleModel",
            "_view_count": null,
            "_view_module": "@jupyter-widgets/base",
            "_view_module_version": "1.2.0",
            "_view_name": "StyleView",
            "description_width": ""
          }
        },
        "01fd16484b264eaaa3360e0de6972933": {
          "model_module": "@jupyter-widgets/base",
          "model_name": "LayoutModel",
          "model_module_version": "1.2.0",
          "state": {
            "_model_module": "@jupyter-widgets/base",
            "_model_module_version": "1.2.0",
            "_model_name": "LayoutModel",
            "_view_count": null,
            "_view_module": "@jupyter-widgets/base",
            "_view_module_version": "1.2.0",
            "_view_name": "LayoutView",
            "align_content": null,
            "align_items": null,
            "align_self": null,
            "border": null,
            "bottom": null,
            "display": null,
            "flex": null,
            "flex_flow": null,
            "grid_area": null,
            "grid_auto_columns": null,
            "grid_auto_flow": null,
            "grid_auto_rows": null,
            "grid_column": null,
            "grid_gap": null,
            "grid_row": null,
            "grid_template_areas": null,
            "grid_template_columns": null,
            "grid_template_rows": null,
            "height": null,
            "justify_content": null,
            "justify_items": null,
            "left": null,
            "margin": null,
            "max_height": null,
            "max_width": null,
            "min_height": null,
            "min_width": null,
            "object_fit": null,
            "object_position": null,
            "order": null,
            "overflow": null,
            "overflow_x": null,
            "overflow_y": null,
            "padding": null,
            "right": null,
            "top": null,
            "visibility": null,
            "width": null
          }
        },
        "9ab3dcd684d244848e5354ceeedeedeb": {
          "model_module": "@jupyter-widgets/controls",
          "model_name": "ProgressStyleModel",
          "model_module_version": "1.5.0",
          "state": {
            "_model_module": "@jupyter-widgets/controls",
            "_model_module_version": "1.5.0",
            "_model_name": "ProgressStyleModel",
            "_view_count": null,
            "_view_module": "@jupyter-widgets/base",
            "_view_module_version": "1.2.0",
            "_view_name": "StyleView",
            "bar_color": null,
            "description_width": ""
          }
        },
        "560c4ecb19f7446785ebd16eddc814f7": {
          "model_module": "@jupyter-widgets/base",
          "model_name": "LayoutModel",
          "model_module_version": "1.2.0",
          "state": {
            "_model_module": "@jupyter-widgets/base",
            "_model_module_version": "1.2.0",
            "_model_name": "LayoutModel",
            "_view_count": null,
            "_view_module": "@jupyter-widgets/base",
            "_view_module_version": "1.2.0",
            "_view_name": "LayoutView",
            "align_content": null,
            "align_items": null,
            "align_self": null,
            "border": null,
            "bottom": null,
            "display": null,
            "flex": null,
            "flex_flow": null,
            "grid_area": null,
            "grid_auto_columns": null,
            "grid_auto_flow": null,
            "grid_auto_rows": null,
            "grid_column": null,
            "grid_gap": null,
            "grid_row": null,
            "grid_template_areas": null,
            "grid_template_columns": null,
            "grid_template_rows": null,
            "height": null,
            "justify_content": null,
            "justify_items": null,
            "left": null,
            "margin": null,
            "max_height": null,
            "max_width": null,
            "min_height": null,
            "min_width": null,
            "object_fit": null,
            "object_position": null,
            "order": null,
            "overflow": null,
            "overflow_x": null,
            "overflow_y": null,
            "padding": null,
            "right": null,
            "top": null,
            "visibility": null,
            "width": null
          }
        },
        "92e86e1a4a044af790df8e11f9a7fa0d": {
          "model_module": "@jupyter-widgets/controls",
          "model_name": "DescriptionStyleModel",
          "model_module_version": "1.5.0",
          "state": {
            "_model_module": "@jupyter-widgets/controls",
            "_model_module_version": "1.5.0",
            "_model_name": "DescriptionStyleModel",
            "_view_count": null,
            "_view_module": "@jupyter-widgets/base",
            "_view_module_version": "1.2.0",
            "_view_name": "StyleView",
            "description_width": ""
          }
        },
        "b5dcac63cd2649ef8a96d76111c31bbb": {
          "model_module": "@jupyter-widgets/controls",
          "model_name": "HBoxModel",
          "model_module_version": "1.5.0",
          "state": {
            "_dom_classes": [],
            "_model_module": "@jupyter-widgets/controls",
            "_model_module_version": "1.5.0",
            "_model_name": "HBoxModel",
            "_view_count": null,
            "_view_module": "@jupyter-widgets/controls",
            "_view_module_version": "1.5.0",
            "_view_name": "HBoxView",
            "box_style": "",
            "children": [
              "IPY_MODEL_3df8295c1ef04c14897bb86f7f81a8a0",
              "IPY_MODEL_7799deaee83a4ccdbbbb0e3a96b8a042",
              "IPY_MODEL_5c89b41d27aa444a81f76098cf632513"
            ],
            "layout": "IPY_MODEL_7d6bcfa8eb794cf18cb282ca92e248dd"
          }
        },
        "3df8295c1ef04c14897bb86f7f81a8a0": {
          "model_module": "@jupyter-widgets/controls",
          "model_name": "HTMLModel",
          "model_module_version": "1.5.0",
          "state": {
            "_dom_classes": [],
            "_model_module": "@jupyter-widgets/controls",
            "_model_module_version": "1.5.0",
            "_model_name": "HTMLModel",
            "_view_count": null,
            "_view_module": "@jupyter-widgets/controls",
            "_view_module_version": "1.5.0",
            "_view_name": "HTMLView",
            "description": "",
            "description_tooltip": null,
            "layout": "IPY_MODEL_e96da164d67d44998b4615edc9816731",
            "placeholder": "​",
            "style": "IPY_MODEL_3456d1eb82404263bce844e673579be6",
            "value": "Downloading (…)/main/tokenizer.json: 100%"
          }
        },
        "7799deaee83a4ccdbbbb0e3a96b8a042": {
          "model_module": "@jupyter-widgets/controls",
          "model_name": "FloatProgressModel",
          "model_module_version": "1.5.0",
          "state": {
            "_dom_classes": [],
            "_model_module": "@jupyter-widgets/controls",
            "_model_module_version": "1.5.0",
            "_model_name": "FloatProgressModel",
            "_view_count": null,
            "_view_module": "@jupyter-widgets/controls",
            "_view_module_version": "1.5.0",
            "_view_name": "ProgressView",
            "bar_style": "success",
            "description": "",
            "description_tooltip": null,
            "layout": "IPY_MODEL_692ab560e5414507add9093ab3d308b1",
            "max": 814850,
            "min": 0,
            "orientation": "horizontal",
            "style": "IPY_MODEL_d4198e59eae247ff920a7fece1ddb701",
            "value": 814850
          }
        },
        "5c89b41d27aa444a81f76098cf632513": {
          "model_module": "@jupyter-widgets/controls",
          "model_name": "HTMLModel",
          "model_module_version": "1.5.0",
          "state": {
            "_dom_classes": [],
            "_model_module": "@jupyter-widgets/controls",
            "_model_module_version": "1.5.0",
            "_model_name": "HTMLModel",
            "_view_count": null,
            "_view_module": "@jupyter-widgets/controls",
            "_view_module_version": "1.5.0",
            "_view_name": "HTMLView",
            "description": "",
            "description_tooltip": null,
            "layout": "IPY_MODEL_a7e43dc7a1b2457fa5ea5ea359fafd08",
            "placeholder": "​",
            "style": "IPY_MODEL_7ec13f29d83d4be58fa557bbf5b4b980",
            "value": " 815k/815k [00:00&lt;00:00, 10.5MB/s]"
          }
        },
        "7d6bcfa8eb794cf18cb282ca92e248dd": {
          "model_module": "@jupyter-widgets/base",
          "model_name": "LayoutModel",
          "model_module_version": "1.2.0",
          "state": {
            "_model_module": "@jupyter-widgets/base",
            "_model_module_version": "1.2.0",
            "_model_name": "LayoutModel",
            "_view_count": null,
            "_view_module": "@jupyter-widgets/base",
            "_view_module_version": "1.2.0",
            "_view_name": "LayoutView",
            "align_content": null,
            "align_items": null,
            "align_self": null,
            "border": null,
            "bottom": null,
            "display": null,
            "flex": null,
            "flex_flow": null,
            "grid_area": null,
            "grid_auto_columns": null,
            "grid_auto_flow": null,
            "grid_auto_rows": null,
            "grid_column": null,
            "grid_gap": null,
            "grid_row": null,
            "grid_template_areas": null,
            "grid_template_columns": null,
            "grid_template_rows": null,
            "height": null,
            "justify_content": null,
            "justify_items": null,
            "left": null,
            "margin": null,
            "max_height": null,
            "max_width": null,
            "min_height": null,
            "min_width": null,
            "object_fit": null,
            "object_position": null,
            "order": null,
            "overflow": null,
            "overflow_x": null,
            "overflow_y": null,
            "padding": null,
            "right": null,
            "top": null,
            "visibility": null,
            "width": null
          }
        },
        "e96da164d67d44998b4615edc9816731": {
          "model_module": "@jupyter-widgets/base",
          "model_name": "LayoutModel",
          "model_module_version": "1.2.0",
          "state": {
            "_model_module": "@jupyter-widgets/base",
            "_model_module_version": "1.2.0",
            "_model_name": "LayoutModel",
            "_view_count": null,
            "_view_module": "@jupyter-widgets/base",
            "_view_module_version": "1.2.0",
            "_view_name": "LayoutView",
            "align_content": null,
            "align_items": null,
            "align_self": null,
            "border": null,
            "bottom": null,
            "display": null,
            "flex": null,
            "flex_flow": null,
            "grid_area": null,
            "grid_auto_columns": null,
            "grid_auto_flow": null,
            "grid_auto_rows": null,
            "grid_column": null,
            "grid_gap": null,
            "grid_row": null,
            "grid_template_areas": null,
            "grid_template_columns": null,
            "grid_template_rows": null,
            "height": null,
            "justify_content": null,
            "justify_items": null,
            "left": null,
            "margin": null,
            "max_height": null,
            "max_width": null,
            "min_height": null,
            "min_width": null,
            "object_fit": null,
            "object_position": null,
            "order": null,
            "overflow": null,
            "overflow_x": null,
            "overflow_y": null,
            "padding": null,
            "right": null,
            "top": null,
            "visibility": null,
            "width": null
          }
        },
        "3456d1eb82404263bce844e673579be6": {
          "model_module": "@jupyter-widgets/controls",
          "model_name": "DescriptionStyleModel",
          "model_module_version": "1.5.0",
          "state": {
            "_model_module": "@jupyter-widgets/controls",
            "_model_module_version": "1.5.0",
            "_model_name": "DescriptionStyleModel",
            "_view_count": null,
            "_view_module": "@jupyter-widgets/base",
            "_view_module_version": "1.2.0",
            "_view_name": "StyleView",
            "description_width": ""
          }
        },
        "692ab560e5414507add9093ab3d308b1": {
          "model_module": "@jupyter-widgets/base",
          "model_name": "LayoutModel",
          "model_module_version": "1.2.0",
          "state": {
            "_model_module": "@jupyter-widgets/base",
            "_model_module_version": "1.2.0",
            "_model_name": "LayoutModel",
            "_view_count": null,
            "_view_module": "@jupyter-widgets/base",
            "_view_module_version": "1.2.0",
            "_view_name": "LayoutView",
            "align_content": null,
            "align_items": null,
            "align_self": null,
            "border": null,
            "bottom": null,
            "display": null,
            "flex": null,
            "flex_flow": null,
            "grid_area": null,
            "grid_auto_columns": null,
            "grid_auto_flow": null,
            "grid_auto_rows": null,
            "grid_column": null,
            "grid_gap": null,
            "grid_row": null,
            "grid_template_areas": null,
            "grid_template_columns": null,
            "grid_template_rows": null,
            "height": null,
            "justify_content": null,
            "justify_items": null,
            "left": null,
            "margin": null,
            "max_height": null,
            "max_width": null,
            "min_height": null,
            "min_width": null,
            "object_fit": null,
            "object_position": null,
            "order": null,
            "overflow": null,
            "overflow_x": null,
            "overflow_y": null,
            "padding": null,
            "right": null,
            "top": null,
            "visibility": null,
            "width": null
          }
        },
        "d4198e59eae247ff920a7fece1ddb701": {
          "model_module": "@jupyter-widgets/controls",
          "model_name": "ProgressStyleModel",
          "model_module_version": "1.5.0",
          "state": {
            "_model_module": "@jupyter-widgets/controls",
            "_model_module_version": "1.5.0",
            "_model_name": "ProgressStyleModel",
            "_view_count": null,
            "_view_module": "@jupyter-widgets/base",
            "_view_module_version": "1.2.0",
            "_view_name": "StyleView",
            "bar_color": null,
            "description_width": ""
          }
        },
        "a7e43dc7a1b2457fa5ea5ea359fafd08": {
          "model_module": "@jupyter-widgets/base",
          "model_name": "LayoutModel",
          "model_module_version": "1.2.0",
          "state": {
            "_model_module": "@jupyter-widgets/base",
            "_model_module_version": "1.2.0",
            "_model_name": "LayoutModel",
            "_view_count": null,
            "_view_module": "@jupyter-widgets/base",
            "_view_module_version": "1.2.0",
            "_view_name": "LayoutView",
            "align_content": null,
            "align_items": null,
            "align_self": null,
            "border": null,
            "bottom": null,
            "display": null,
            "flex": null,
            "flex_flow": null,
            "grid_area": null,
            "grid_auto_columns": null,
            "grid_auto_flow": null,
            "grid_auto_rows": null,
            "grid_column": null,
            "grid_gap": null,
            "grid_row": null,
            "grid_template_areas": null,
            "grid_template_columns": null,
            "grid_template_rows": null,
            "height": null,
            "justify_content": null,
            "justify_items": null,
            "left": null,
            "margin": null,
            "max_height": null,
            "max_width": null,
            "min_height": null,
            "min_width": null,
            "object_fit": null,
            "object_position": null,
            "order": null,
            "overflow": null,
            "overflow_x": null,
            "overflow_y": null,
            "padding": null,
            "right": null,
            "top": null,
            "visibility": null,
            "width": null
          }
        },
        "7ec13f29d83d4be58fa557bbf5b4b980": {
          "model_module": "@jupyter-widgets/controls",
          "model_name": "DescriptionStyleModel",
          "model_module_version": "1.5.0",
          "state": {
            "_model_module": "@jupyter-widgets/controls",
            "_model_module_version": "1.5.0",
            "_model_name": "DescriptionStyleModel",
            "_view_count": null,
            "_view_module": "@jupyter-widgets/base",
            "_view_module_version": "1.2.0",
            "_view_name": "StyleView",
            "description_width": ""
          }
        },
        "0c81c2073c2c4c8fac1d174d356d1659": {
          "model_module": "@jupyter-widgets/controls",
          "model_name": "HBoxModel",
          "model_module_version": "1.5.0",
          "state": {
            "_dom_classes": [],
            "_model_module": "@jupyter-widgets/controls",
            "_model_module_version": "1.5.0",
            "_model_name": "HBoxModel",
            "_view_count": null,
            "_view_module": "@jupyter-widgets/controls",
            "_view_module_version": "1.5.0",
            "_view_name": "HBoxView",
            "box_style": "",
            "children": [
              "IPY_MODEL_afe5c9d4af724fef936d0b7b69c8d10b",
              "IPY_MODEL_4fed88c7a3b848678f09ec9a13bb3c46",
              "IPY_MODEL_b4c69a733e084bc1bea1e5106eedd48b"
            ],
            "layout": "IPY_MODEL_9e2472bae3f9489eb637ad681b551eaf"
          }
        },
        "afe5c9d4af724fef936d0b7b69c8d10b": {
          "model_module": "@jupyter-widgets/controls",
          "model_name": "HTMLModel",
          "model_module_version": "1.5.0",
          "state": {
            "_dom_classes": [],
            "_model_module": "@jupyter-widgets/controls",
            "_model_module_version": "1.5.0",
            "_model_name": "HTMLModel",
            "_view_count": null,
            "_view_module": "@jupyter-widgets/controls",
            "_view_module_version": "1.5.0",
            "_view_name": "HTMLView",
            "description": "",
            "description_tooltip": null,
            "layout": "IPY_MODEL_799a551beed049e78a16caad61bfaff3",
            "placeholder": "​",
            "style": "IPY_MODEL_7dfabc71cf9b460fbc350ec21cbe3165",
            "value": "Downloading (…)cial_tokens_map.json: 100%"
          }
        },
        "4fed88c7a3b848678f09ec9a13bb3c46": {
          "model_module": "@jupyter-widgets/controls",
          "model_name": "FloatProgressModel",
          "model_module_version": "1.5.0",
          "state": {
            "_dom_classes": [],
            "_model_module": "@jupyter-widgets/controls",
            "_model_module_version": "1.5.0",
            "_model_name": "FloatProgressModel",
            "_view_count": null,
            "_view_module": "@jupyter-widgets/controls",
            "_view_module_version": "1.5.0",
            "_view_name": "ProgressView",
            "bar_style": "success",
            "description": "",
            "description_tooltip": null,
            "layout": "IPY_MODEL_17c52890539445a8a3e3ba25e1a34805",
            "max": 125,
            "min": 0,
            "orientation": "horizontal",
            "style": "IPY_MODEL_720050fc0b2f45ed973564357b8b96c0",
            "value": 125
          }
        },
        "b4c69a733e084bc1bea1e5106eedd48b": {
          "model_module": "@jupyter-widgets/controls",
          "model_name": "HTMLModel",
          "model_module_version": "1.5.0",
          "state": {
            "_dom_classes": [],
            "_model_module": "@jupyter-widgets/controls",
            "_model_module_version": "1.5.0",
            "_model_name": "HTMLModel",
            "_view_count": null,
            "_view_module": "@jupyter-widgets/controls",
            "_view_module_version": "1.5.0",
            "_view_name": "HTMLView",
            "description": "",
            "description_tooltip": null,
            "layout": "IPY_MODEL_e8f1b7529d104fb597c34827ff0b55c9",
            "placeholder": "​",
            "style": "IPY_MODEL_4c654170f9f64a7081ce622964ea9a6b",
            "value": " 125/125 [00:00&lt;00:00, 1.06kB/s]"
          }
        },
        "9e2472bae3f9489eb637ad681b551eaf": {
          "model_module": "@jupyter-widgets/base",
          "model_name": "LayoutModel",
          "model_module_version": "1.2.0",
          "state": {
            "_model_module": "@jupyter-widgets/base",
            "_model_module_version": "1.2.0",
            "_model_name": "LayoutModel",
            "_view_count": null,
            "_view_module": "@jupyter-widgets/base",
            "_view_module_version": "1.2.0",
            "_view_name": "LayoutView",
            "align_content": null,
            "align_items": null,
            "align_self": null,
            "border": null,
            "bottom": null,
            "display": null,
            "flex": null,
            "flex_flow": null,
            "grid_area": null,
            "grid_auto_columns": null,
            "grid_auto_flow": null,
            "grid_auto_rows": null,
            "grid_column": null,
            "grid_gap": null,
            "grid_row": null,
            "grid_template_areas": null,
            "grid_template_columns": null,
            "grid_template_rows": null,
            "height": null,
            "justify_content": null,
            "justify_items": null,
            "left": null,
            "margin": null,
            "max_height": null,
            "max_width": null,
            "min_height": null,
            "min_width": null,
            "object_fit": null,
            "object_position": null,
            "order": null,
            "overflow": null,
            "overflow_x": null,
            "overflow_y": null,
            "padding": null,
            "right": null,
            "top": null,
            "visibility": null,
            "width": null
          }
        },
        "799a551beed049e78a16caad61bfaff3": {
          "model_module": "@jupyter-widgets/base",
          "model_name": "LayoutModel",
          "model_module_version": "1.2.0",
          "state": {
            "_model_module": "@jupyter-widgets/base",
            "_model_module_version": "1.2.0",
            "_model_name": "LayoutModel",
            "_view_count": null,
            "_view_module": "@jupyter-widgets/base",
            "_view_module_version": "1.2.0",
            "_view_name": "LayoutView",
            "align_content": null,
            "align_items": null,
            "align_self": null,
            "border": null,
            "bottom": null,
            "display": null,
            "flex": null,
            "flex_flow": null,
            "grid_area": null,
            "grid_auto_columns": null,
            "grid_auto_flow": null,
            "grid_auto_rows": null,
            "grid_column": null,
            "grid_gap": null,
            "grid_row": null,
            "grid_template_areas": null,
            "grid_template_columns": null,
            "grid_template_rows": null,
            "height": null,
            "justify_content": null,
            "justify_items": null,
            "left": null,
            "margin": null,
            "max_height": null,
            "max_width": null,
            "min_height": null,
            "min_width": null,
            "object_fit": null,
            "object_position": null,
            "order": null,
            "overflow": null,
            "overflow_x": null,
            "overflow_y": null,
            "padding": null,
            "right": null,
            "top": null,
            "visibility": null,
            "width": null
          }
        },
        "7dfabc71cf9b460fbc350ec21cbe3165": {
          "model_module": "@jupyter-widgets/controls",
          "model_name": "DescriptionStyleModel",
          "model_module_version": "1.5.0",
          "state": {
            "_model_module": "@jupyter-widgets/controls",
            "_model_module_version": "1.5.0",
            "_model_name": "DescriptionStyleModel",
            "_view_count": null,
            "_view_module": "@jupyter-widgets/base",
            "_view_module_version": "1.2.0",
            "_view_name": "StyleView",
            "description_width": ""
          }
        },
        "17c52890539445a8a3e3ba25e1a34805": {
          "model_module": "@jupyter-widgets/base",
          "model_name": "LayoutModel",
          "model_module_version": "1.2.0",
          "state": {
            "_model_module": "@jupyter-widgets/base",
            "_model_module_version": "1.2.0",
            "_model_name": "LayoutModel",
            "_view_count": null,
            "_view_module": "@jupyter-widgets/base",
            "_view_module_version": "1.2.0",
            "_view_name": "LayoutView",
            "align_content": null,
            "align_items": null,
            "align_self": null,
            "border": null,
            "bottom": null,
            "display": null,
            "flex": null,
            "flex_flow": null,
            "grid_area": null,
            "grid_auto_columns": null,
            "grid_auto_flow": null,
            "grid_auto_rows": null,
            "grid_column": null,
            "grid_gap": null,
            "grid_row": null,
            "grid_template_areas": null,
            "grid_template_columns": null,
            "grid_template_rows": null,
            "height": null,
            "justify_content": null,
            "justify_items": null,
            "left": null,
            "margin": null,
            "max_height": null,
            "max_width": null,
            "min_height": null,
            "min_width": null,
            "object_fit": null,
            "object_position": null,
            "order": null,
            "overflow": null,
            "overflow_x": null,
            "overflow_y": null,
            "padding": null,
            "right": null,
            "top": null,
            "visibility": null,
            "width": null
          }
        },
        "720050fc0b2f45ed973564357b8b96c0": {
          "model_module": "@jupyter-widgets/controls",
          "model_name": "ProgressStyleModel",
          "model_module_version": "1.5.0",
          "state": {
            "_model_module": "@jupyter-widgets/controls",
            "_model_module_version": "1.5.0",
            "_model_name": "ProgressStyleModel",
            "_view_count": null,
            "_view_module": "@jupyter-widgets/base",
            "_view_module_version": "1.2.0",
            "_view_name": "StyleView",
            "bar_color": null,
            "description_width": ""
          }
        },
        "e8f1b7529d104fb597c34827ff0b55c9": {
          "model_module": "@jupyter-widgets/base",
          "model_name": "LayoutModel",
          "model_module_version": "1.2.0",
          "state": {
            "_model_module": "@jupyter-widgets/base",
            "_model_module_version": "1.2.0",
            "_model_name": "LayoutModel",
            "_view_count": null,
            "_view_module": "@jupyter-widgets/base",
            "_view_module_version": "1.2.0",
            "_view_name": "LayoutView",
            "align_content": null,
            "align_items": null,
            "align_self": null,
            "border": null,
            "bottom": null,
            "display": null,
            "flex": null,
            "flex_flow": null,
            "grid_area": null,
            "grid_auto_columns": null,
            "grid_auto_flow": null,
            "grid_auto_rows": null,
            "grid_column": null,
            "grid_gap": null,
            "grid_row": null,
            "grid_template_areas": null,
            "grid_template_columns": null,
            "grid_template_rows": null,
            "height": null,
            "justify_content": null,
            "justify_items": null,
            "left": null,
            "margin": null,
            "max_height": null,
            "max_width": null,
            "min_height": null,
            "min_width": null,
            "object_fit": null,
            "object_position": null,
            "order": null,
            "overflow": null,
            "overflow_x": null,
            "overflow_y": null,
            "padding": null,
            "right": null,
            "top": null,
            "visibility": null,
            "width": null
          }
        },
        "4c654170f9f64a7081ce622964ea9a6b": {
          "model_module": "@jupyter-widgets/controls",
          "model_name": "DescriptionStyleModel",
          "model_module_version": "1.5.0",
          "state": {
            "_model_module": "@jupyter-widgets/controls",
            "_model_module_version": "1.5.0",
            "_model_name": "DescriptionStyleModel",
            "_view_count": null,
            "_view_module": "@jupyter-widgets/base",
            "_view_module_version": "1.2.0",
            "_view_name": "StyleView",
            "description_width": ""
          }
        },
        "aa3972c512604047a848ccbfd6ce7549": {
          "model_module": "@jupyter-widgets/controls",
          "model_name": "HBoxModel",
          "model_module_version": "1.5.0",
          "state": {
            "_dom_classes": [],
            "_model_module": "@jupyter-widgets/controls",
            "_model_module_version": "1.5.0",
            "_model_name": "HBoxModel",
            "_view_count": null,
            "_view_module": "@jupyter-widgets/controls",
            "_view_module_version": "1.5.0",
            "_view_name": "HBoxView",
            "box_style": "",
            "children": [
              "IPY_MODEL_149b398730f14bc3a84d2537b1f43192",
              "IPY_MODEL_3b6dd37cb3ac4300a608e4b7e47513fe",
              "IPY_MODEL_2075e02c4a4b4e22a90b1a57299d110a"
            ],
            "layout": "IPY_MODEL_6a7c0dbf679b4588b7e127fd293343c3"
          }
        },
        "149b398730f14bc3a84d2537b1f43192": {
          "model_module": "@jupyter-widgets/controls",
          "model_name": "HTMLModel",
          "model_module_version": "1.5.0",
          "state": {
            "_dom_classes": [],
            "_model_module": "@jupyter-widgets/controls",
            "_model_module_version": "1.5.0",
            "_model_name": "HTMLModel",
            "_view_count": null,
            "_view_module": "@jupyter-widgets/controls",
            "_view_module_version": "1.5.0",
            "_view_name": "HTMLView",
            "description": "",
            "description_tooltip": null,
            "layout": "IPY_MODEL_2045aba1e11c4d618b763af8832f869f",
            "placeholder": "​",
            "style": "IPY_MODEL_b06d6137f7ee4ddfb34fbc4ba67b701b",
            "value": "Downloading (…)lve/main/config.json: 100%"
          }
        },
        "3b6dd37cb3ac4300a608e4b7e47513fe": {
          "model_module": "@jupyter-widgets/controls",
          "model_name": "FloatProgressModel",
          "model_module_version": "1.5.0",
          "state": {
            "_dom_classes": [],
            "_model_module": "@jupyter-widgets/controls",
            "_model_module_version": "1.5.0",
            "_model_name": "FloatProgressModel",
            "_view_count": null,
            "_view_module": "@jupyter-widgets/controls",
            "_view_module_version": "1.5.0",
            "_view_name": "ProgressView",
            "bar_style": "success",
            "description": "",
            "description_tooltip": null,
            "layout": "IPY_MODEL_534575664a26442f8d9a82d2a2c7aaed",
            "max": 1880,
            "min": 0,
            "orientation": "horizontal",
            "style": "IPY_MODEL_9456688719ac46bb889049d7afabf36b",
            "value": 1880
          }
        },
        "2075e02c4a4b4e22a90b1a57299d110a": {
          "model_module": "@jupyter-widgets/controls",
          "model_name": "HTMLModel",
          "model_module_version": "1.5.0",
          "state": {
            "_dom_classes": [],
            "_model_module": "@jupyter-widgets/controls",
            "_model_module_version": "1.5.0",
            "_model_name": "HTMLModel",
            "_view_count": null,
            "_view_module": "@jupyter-widgets/controls",
            "_view_module_version": "1.5.0",
            "_view_name": "HTMLView",
            "description": "",
            "description_tooltip": null,
            "layout": "IPY_MODEL_08e297bfd5ea4d549d75855a8d8bfc53",
            "placeholder": "​",
            "style": "IPY_MODEL_a3d4c956d2e84bac8a285cef6d4e30dd",
            "value": " 1.88k/1.88k [00:00&lt;00:00, 33.5kB/s]"
          }
        },
        "6a7c0dbf679b4588b7e127fd293343c3": {
          "model_module": "@jupyter-widgets/base",
          "model_name": "LayoutModel",
          "model_module_version": "1.2.0",
          "state": {
            "_model_module": "@jupyter-widgets/base",
            "_model_module_version": "1.2.0",
            "_model_name": "LayoutModel",
            "_view_count": null,
            "_view_module": "@jupyter-widgets/base",
            "_view_module_version": "1.2.0",
            "_view_name": "LayoutView",
            "align_content": null,
            "align_items": null,
            "align_self": null,
            "border": null,
            "bottom": null,
            "display": null,
            "flex": null,
            "flex_flow": null,
            "grid_area": null,
            "grid_auto_columns": null,
            "grid_auto_flow": null,
            "grid_auto_rows": null,
            "grid_column": null,
            "grid_gap": null,
            "grid_row": null,
            "grid_template_areas": null,
            "grid_template_columns": null,
            "grid_template_rows": null,
            "height": null,
            "justify_content": null,
            "justify_items": null,
            "left": null,
            "margin": null,
            "max_height": null,
            "max_width": null,
            "min_height": null,
            "min_width": null,
            "object_fit": null,
            "object_position": null,
            "order": null,
            "overflow": null,
            "overflow_x": null,
            "overflow_y": null,
            "padding": null,
            "right": null,
            "top": null,
            "visibility": null,
            "width": null
          }
        },
        "2045aba1e11c4d618b763af8832f869f": {
          "model_module": "@jupyter-widgets/base",
          "model_name": "LayoutModel",
          "model_module_version": "1.2.0",
          "state": {
            "_model_module": "@jupyter-widgets/base",
            "_model_module_version": "1.2.0",
            "_model_name": "LayoutModel",
            "_view_count": null,
            "_view_module": "@jupyter-widgets/base",
            "_view_module_version": "1.2.0",
            "_view_name": "LayoutView",
            "align_content": null,
            "align_items": null,
            "align_self": null,
            "border": null,
            "bottom": null,
            "display": null,
            "flex": null,
            "flex_flow": null,
            "grid_area": null,
            "grid_auto_columns": null,
            "grid_auto_flow": null,
            "grid_auto_rows": null,
            "grid_column": null,
            "grid_gap": null,
            "grid_row": null,
            "grid_template_areas": null,
            "grid_template_columns": null,
            "grid_template_rows": null,
            "height": null,
            "justify_content": null,
            "justify_items": null,
            "left": null,
            "margin": null,
            "max_height": null,
            "max_width": null,
            "min_height": null,
            "min_width": null,
            "object_fit": null,
            "object_position": null,
            "order": null,
            "overflow": null,
            "overflow_x": null,
            "overflow_y": null,
            "padding": null,
            "right": null,
            "top": null,
            "visibility": null,
            "width": null
          }
        },
        "b06d6137f7ee4ddfb34fbc4ba67b701b": {
          "model_module": "@jupyter-widgets/controls",
          "model_name": "DescriptionStyleModel",
          "model_module_version": "1.5.0",
          "state": {
            "_model_module": "@jupyter-widgets/controls",
            "_model_module_version": "1.5.0",
            "_model_name": "DescriptionStyleModel",
            "_view_count": null,
            "_view_module": "@jupyter-widgets/base",
            "_view_module_version": "1.2.0",
            "_view_name": "StyleView",
            "description_width": ""
          }
        },
        "534575664a26442f8d9a82d2a2c7aaed": {
          "model_module": "@jupyter-widgets/base",
          "model_name": "LayoutModel",
          "model_module_version": "1.2.0",
          "state": {
            "_model_module": "@jupyter-widgets/base",
            "_model_module_version": "1.2.0",
            "_model_name": "LayoutModel",
            "_view_count": null,
            "_view_module": "@jupyter-widgets/base",
            "_view_module_version": "1.2.0",
            "_view_name": "LayoutView",
            "align_content": null,
            "align_items": null,
            "align_self": null,
            "border": null,
            "bottom": null,
            "display": null,
            "flex": null,
            "flex_flow": null,
            "grid_area": null,
            "grid_auto_columns": null,
            "grid_auto_flow": null,
            "grid_auto_rows": null,
            "grid_column": null,
            "grid_gap": null,
            "grid_row": null,
            "grid_template_areas": null,
            "grid_template_columns": null,
            "grid_template_rows": null,
            "height": null,
            "justify_content": null,
            "justify_items": null,
            "left": null,
            "margin": null,
            "max_height": null,
            "max_width": null,
            "min_height": null,
            "min_width": null,
            "object_fit": null,
            "object_position": null,
            "order": null,
            "overflow": null,
            "overflow_x": null,
            "overflow_y": null,
            "padding": null,
            "right": null,
            "top": null,
            "visibility": null,
            "width": null
          }
        },
        "9456688719ac46bb889049d7afabf36b": {
          "model_module": "@jupyter-widgets/controls",
          "model_name": "ProgressStyleModel",
          "model_module_version": "1.5.0",
          "state": {
            "_model_module": "@jupyter-widgets/controls",
            "_model_module_version": "1.5.0",
            "_model_name": "ProgressStyleModel",
            "_view_count": null,
            "_view_module": "@jupyter-widgets/base",
            "_view_module_version": "1.2.0",
            "_view_name": "StyleView",
            "bar_color": null,
            "description_width": ""
          }
        },
        "08e297bfd5ea4d549d75855a8d8bfc53": {
          "model_module": "@jupyter-widgets/base",
          "model_name": "LayoutModel",
          "model_module_version": "1.2.0",
          "state": {
            "_model_module": "@jupyter-widgets/base",
            "_model_module_version": "1.2.0",
            "_model_name": "LayoutModel",
            "_view_count": null,
            "_view_module": "@jupyter-widgets/base",
            "_view_module_version": "1.2.0",
            "_view_name": "LayoutView",
            "align_content": null,
            "align_items": null,
            "align_self": null,
            "border": null,
            "bottom": null,
            "display": null,
            "flex": null,
            "flex_flow": null,
            "grid_area": null,
            "grid_auto_columns": null,
            "grid_auto_flow": null,
            "grid_auto_rows": null,
            "grid_column": null,
            "grid_gap": null,
            "grid_row": null,
            "grid_template_areas": null,
            "grid_template_columns": null,
            "grid_template_rows": null,
            "height": null,
            "justify_content": null,
            "justify_items": null,
            "left": null,
            "margin": null,
            "max_height": null,
            "max_width": null,
            "min_height": null,
            "min_width": null,
            "object_fit": null,
            "object_position": null,
            "order": null,
            "overflow": null,
            "overflow_x": null,
            "overflow_y": null,
            "padding": null,
            "right": null,
            "top": null,
            "visibility": null,
            "width": null
          }
        },
        "a3d4c956d2e84bac8a285cef6d4e30dd": {
          "model_module": "@jupyter-widgets/controls",
          "model_name": "DescriptionStyleModel",
          "model_module_version": "1.5.0",
          "state": {
            "_model_module": "@jupyter-widgets/controls",
            "_model_module_version": "1.5.0",
            "_model_name": "DescriptionStyleModel",
            "_view_count": null,
            "_view_module": "@jupyter-widgets/base",
            "_view_module_version": "1.2.0",
            "_view_name": "StyleView",
            "description_width": ""
          }
        },
        "f41a5c3f217a447e9b5ab384e8f49fe4": {
          "model_module": "@jupyter-widgets/controls",
          "model_name": "HBoxModel",
          "model_module_version": "1.5.0",
          "state": {
            "_dom_classes": [],
            "_model_module": "@jupyter-widgets/controls",
            "_model_module_version": "1.5.0",
            "_model_name": "HBoxModel",
            "_view_count": null,
            "_view_module": "@jupyter-widgets/controls",
            "_view_module_version": "1.5.0",
            "_view_name": "HBoxView",
            "box_style": "",
            "children": [
              "IPY_MODEL_e792d635a172466489805d0ff0ea690a",
              "IPY_MODEL_0a3ab3fa5b6f434e80f1be44ea869715",
              "IPY_MODEL_ad5b79173e414a11954054baad03d074"
            ],
            "layout": "IPY_MODEL_843b2195c06240f280516695e6c6a163"
          }
        },
        "e792d635a172466489805d0ff0ea690a": {
          "model_module": "@jupyter-widgets/controls",
          "model_name": "HTMLModel",
          "model_module_version": "1.5.0",
          "state": {
            "_dom_classes": [],
            "_model_module": "@jupyter-widgets/controls",
            "_model_module_version": "1.5.0",
            "_model_name": "HTMLModel",
            "_view_count": null,
            "_view_module": "@jupyter-widgets/controls",
            "_view_module_version": "1.5.0",
            "_view_name": "HTMLView",
            "description": "",
            "description_tooltip": null,
            "layout": "IPY_MODEL_8fea3fa5e37e4f089de7160e9b93603d",
            "placeholder": "​",
            "style": "IPY_MODEL_24502943168641218c700a88a50b5fcd",
            "value": "Downloading model.safetensors: 100%"
          }
        },
        "0a3ab3fa5b6f434e80f1be44ea869715": {
          "model_module": "@jupyter-widgets/controls",
          "model_name": "FloatProgressModel",
          "model_module_version": "1.5.0",
          "state": {
            "_dom_classes": [],
            "_model_module": "@jupyter-widgets/controls",
            "_model_module_version": "1.5.0",
            "_model_name": "FloatProgressModel",
            "_view_count": null,
            "_view_module": "@jupyter-widgets/controls",
            "_view_module_version": "1.5.0",
            "_view_name": "ProgressView",
            "bar_style": "success",
            "description": "",
            "description_tooltip": null,
            "layout": "IPY_MODEL_26c44f82b0b64fa6b0daea6d9d4e3557",
            "max": 56284578,
            "min": 0,
            "orientation": "horizontal",
            "style": "IPY_MODEL_7c13738bca27482799c444fc7fdaee54",
            "value": 56284578
          }
        },
        "ad5b79173e414a11954054baad03d074": {
          "model_module": "@jupyter-widgets/controls",
          "model_name": "HTMLModel",
          "model_module_version": "1.5.0",
          "state": {
            "_dom_classes": [],
            "_model_module": "@jupyter-widgets/controls",
            "_model_module_version": "1.5.0",
            "_model_name": "HTMLModel",
            "_view_count": null,
            "_view_module": "@jupyter-widgets/controls",
            "_view_module_version": "1.5.0",
            "_view_name": "HTMLView",
            "description": "",
            "description_tooltip": null,
            "layout": "IPY_MODEL_4468bd12e8364289bad249ac201dca98",
            "placeholder": "​",
            "style": "IPY_MODEL_09483de37bb04a688b6b1484825f4ff8",
            "value": " 56.3M/56.3M [00:00&lt;00:00, 70.6MB/s]"
          }
        },
        "843b2195c06240f280516695e6c6a163": {
          "model_module": "@jupyter-widgets/base",
          "model_name": "LayoutModel",
          "model_module_version": "1.2.0",
          "state": {
            "_model_module": "@jupyter-widgets/base",
            "_model_module_version": "1.2.0",
            "_model_name": "LayoutModel",
            "_view_count": null,
            "_view_module": "@jupyter-widgets/base",
            "_view_module_version": "1.2.0",
            "_view_name": "LayoutView",
            "align_content": null,
            "align_items": null,
            "align_self": null,
            "border": null,
            "bottom": null,
            "display": null,
            "flex": null,
            "flex_flow": null,
            "grid_area": null,
            "grid_auto_columns": null,
            "grid_auto_flow": null,
            "grid_auto_rows": null,
            "grid_column": null,
            "grid_gap": null,
            "grid_row": null,
            "grid_template_areas": null,
            "grid_template_columns": null,
            "grid_template_rows": null,
            "height": null,
            "justify_content": null,
            "justify_items": null,
            "left": null,
            "margin": null,
            "max_height": null,
            "max_width": null,
            "min_height": null,
            "min_width": null,
            "object_fit": null,
            "object_position": null,
            "order": null,
            "overflow": null,
            "overflow_x": null,
            "overflow_y": null,
            "padding": null,
            "right": null,
            "top": null,
            "visibility": null,
            "width": null
          }
        },
        "8fea3fa5e37e4f089de7160e9b93603d": {
          "model_module": "@jupyter-widgets/base",
          "model_name": "LayoutModel",
          "model_module_version": "1.2.0",
          "state": {
            "_model_module": "@jupyter-widgets/base",
            "_model_module_version": "1.2.0",
            "_model_name": "LayoutModel",
            "_view_count": null,
            "_view_module": "@jupyter-widgets/base",
            "_view_module_version": "1.2.0",
            "_view_name": "LayoutView",
            "align_content": null,
            "align_items": null,
            "align_self": null,
            "border": null,
            "bottom": null,
            "display": null,
            "flex": null,
            "flex_flow": null,
            "grid_area": null,
            "grid_auto_columns": null,
            "grid_auto_flow": null,
            "grid_auto_rows": null,
            "grid_column": null,
            "grid_gap": null,
            "grid_row": null,
            "grid_template_areas": null,
            "grid_template_columns": null,
            "grid_template_rows": null,
            "height": null,
            "justify_content": null,
            "justify_items": null,
            "left": null,
            "margin": null,
            "max_height": null,
            "max_width": null,
            "min_height": null,
            "min_width": null,
            "object_fit": null,
            "object_position": null,
            "order": null,
            "overflow": null,
            "overflow_x": null,
            "overflow_y": null,
            "padding": null,
            "right": null,
            "top": null,
            "visibility": null,
            "width": null
          }
        },
        "24502943168641218c700a88a50b5fcd": {
          "model_module": "@jupyter-widgets/controls",
          "model_name": "DescriptionStyleModel",
          "model_module_version": "1.5.0",
          "state": {
            "_model_module": "@jupyter-widgets/controls",
            "_model_module_version": "1.5.0",
            "_model_name": "DescriptionStyleModel",
            "_view_count": null,
            "_view_module": "@jupyter-widgets/base",
            "_view_module_version": "1.2.0",
            "_view_name": "StyleView",
            "description_width": ""
          }
        },
        "26c44f82b0b64fa6b0daea6d9d4e3557": {
          "model_module": "@jupyter-widgets/base",
          "model_name": "LayoutModel",
          "model_module_version": "1.2.0",
          "state": {
            "_model_module": "@jupyter-widgets/base",
            "_model_module_version": "1.2.0",
            "_model_name": "LayoutModel",
            "_view_count": null,
            "_view_module": "@jupyter-widgets/base",
            "_view_module_version": "1.2.0",
            "_view_name": "LayoutView",
            "align_content": null,
            "align_items": null,
            "align_self": null,
            "border": null,
            "bottom": null,
            "display": null,
            "flex": null,
            "flex_flow": null,
            "grid_area": null,
            "grid_auto_columns": null,
            "grid_auto_flow": null,
            "grid_auto_rows": null,
            "grid_column": null,
            "grid_gap": null,
            "grid_row": null,
            "grid_template_areas": null,
            "grid_template_columns": null,
            "grid_template_rows": null,
            "height": null,
            "justify_content": null,
            "justify_items": null,
            "left": null,
            "margin": null,
            "max_height": null,
            "max_width": null,
            "min_height": null,
            "min_width": null,
            "object_fit": null,
            "object_position": null,
            "order": null,
            "overflow": null,
            "overflow_x": null,
            "overflow_y": null,
            "padding": null,
            "right": null,
            "top": null,
            "visibility": null,
            "width": null
          }
        },
        "7c13738bca27482799c444fc7fdaee54": {
          "model_module": "@jupyter-widgets/controls",
          "model_name": "ProgressStyleModel",
          "model_module_version": "1.5.0",
          "state": {
            "_model_module": "@jupyter-widgets/controls",
            "_model_module_version": "1.5.0",
            "_model_name": "ProgressStyleModel",
            "_view_count": null,
            "_view_module": "@jupyter-widgets/base",
            "_view_module_version": "1.2.0",
            "_view_name": "StyleView",
            "bar_color": null,
            "description_width": ""
          }
        },
        "4468bd12e8364289bad249ac201dca98": {
          "model_module": "@jupyter-widgets/base",
          "model_name": "LayoutModel",
          "model_module_version": "1.2.0",
          "state": {
            "_model_module": "@jupyter-widgets/base",
            "_model_module_version": "1.2.0",
            "_model_name": "LayoutModel",
            "_view_count": null,
            "_view_module": "@jupyter-widgets/base",
            "_view_module_version": "1.2.0",
            "_view_name": "LayoutView",
            "align_content": null,
            "align_items": null,
            "align_self": null,
            "border": null,
            "bottom": null,
            "display": null,
            "flex": null,
            "flex_flow": null,
            "grid_area": null,
            "grid_auto_columns": null,
            "grid_auto_flow": null,
            "grid_auto_rows": null,
            "grid_column": null,
            "grid_gap": null,
            "grid_row": null,
            "grid_template_areas": null,
            "grid_template_columns": null,
            "grid_template_rows": null,
            "height": null,
            "justify_content": null,
            "justify_items": null,
            "left": null,
            "margin": null,
            "max_height": null,
            "max_width": null,
            "min_height": null,
            "min_width": null,
            "object_fit": null,
            "object_position": null,
            "order": null,
            "overflow": null,
            "overflow_x": null,
            "overflow_y": null,
            "padding": null,
            "right": null,
            "top": null,
            "visibility": null,
            "width": null
          }
        },
        "09483de37bb04a688b6b1484825f4ff8": {
          "model_module": "@jupyter-widgets/controls",
          "model_name": "DescriptionStyleModel",
          "model_module_version": "1.5.0",
          "state": {
            "_model_module": "@jupyter-widgets/controls",
            "_model_module_version": "1.5.0",
            "_model_name": "DescriptionStyleModel",
            "_view_count": null,
            "_view_module": "@jupyter-widgets/base",
            "_view_module_version": "1.2.0",
            "_view_name": "StyleView",
            "description_width": ""
          }
        }
      }
    }
  },
  "cells": [
    {
      "cell_type": "code",
      "source": [
        "!pip install transformers"
      ],
      "metadata": {
        "id": "-IvPt6jot3kn"
      },
      "execution_count": null,
      "outputs": []
    },
    {
      "cell_type": "code",
      "source": [
        "!pip install sentence_transformers"
      ],
      "metadata": {
        "id": "aiOjtV_Ft4GR"
      },
      "execution_count": null,
      "outputs": []
    },
    {
      "cell_type": "code",
      "source": [
        "import numpy as np\n",
        "import pandas as pd"
      ],
      "metadata": {
        "id": "SXcUC-2ct3gZ"
      },
      "execution_count": null,
      "outputs": []
    },
    {
      "cell_type": "code",
      "source": [
        "from sklearn.metrics.pairwise import cosine_distances"
      ],
      "metadata": {
        "id": "29c0VPz8uxJ_"
      },
      "execution_count": null,
      "outputs": []
    },
    {
      "cell_type": "code",
      "source": [
        "# 임시 코드 입니다"
      ],
      "metadata": {
        "id": "wBvRYC-yv54e"
      },
      "execution_count": null,
      "outputs": []
    },
    {
      "cell_type": "code",
      "source": [],
      "metadata": {
        "id": "6Jhfqe5yylTF"
      },
      "execution_count": null,
      "outputs": []
    },
    {
      "cell_type": "code",
      "source": [
        "from transformers import AutoTokenizer, AutoModelForTokenClassification\n",
        "from transformers import pipeline\n",
        "\n",
        "tokenizer = AutoTokenizer.from_pretrained(\"Leo97/KoELECTRA-small-v3-modu-ner\")\n",
        "model = AutoModelForTokenClassification.from_pretrained(\"Leo97/KoELECTRA-small-v3-modu-ner\")\n",
        "ner = pipeline(\"ner\", model=model, tokenizer=tokenizer)"
      ],
      "metadata": {
        "colab": {
          "base_uri": "https://localhost:8080/",
          "height": 209,
          "referenced_widgets": [
            "2d9c22439311433fbde63dec91fb7ffc",
            "9acf167658a04032b54f36eb8cc1e9c8",
            "afca155d3a204bc19526d1578e3ff403",
            "f451cacff7044b3ea30925553902a0bc",
            "b2ce5bdd00274c07939363b8a51affe7",
            "9f7a91fbb53142a2963b49034c6e9f39",
            "ccc1c4fb85cb4fffaf074cb6c7657357",
            "ab20e37d3dde4b5ba482e50e878b2eab",
            "a5578182f4ec480bb479b5ee014b7e39",
            "7c1fa72ef3bd45458cd136b1b01c44b5",
            "69239a07eea34a2890c1da133a0cb47c",
            "2046ef77bcd747ebaf2282d968d8d324",
            "9444d0ea409a443fa7843d620bed9fae",
            "5910343a2e2c46d89b221e272cce619a",
            "d4af78e36c0745559630d836f572ba10",
            "7c443272e9584cd8a4e0bc494acac30d",
            "7b59e111e7cc413d9bfa87a6e077cc9f",
            "b564d91d5d0e4168b19a3b7dc4089cf8",
            "01fd16484b264eaaa3360e0de6972933",
            "9ab3dcd684d244848e5354ceeedeedeb",
            "560c4ecb19f7446785ebd16eddc814f7",
            "92e86e1a4a044af790df8e11f9a7fa0d",
            "b5dcac63cd2649ef8a96d76111c31bbb",
            "3df8295c1ef04c14897bb86f7f81a8a0",
            "7799deaee83a4ccdbbbb0e3a96b8a042",
            "5c89b41d27aa444a81f76098cf632513",
            "7d6bcfa8eb794cf18cb282ca92e248dd",
            "e96da164d67d44998b4615edc9816731",
            "3456d1eb82404263bce844e673579be6",
            "692ab560e5414507add9093ab3d308b1",
            "d4198e59eae247ff920a7fece1ddb701",
            "a7e43dc7a1b2457fa5ea5ea359fafd08",
            "7ec13f29d83d4be58fa557bbf5b4b980",
            "0c81c2073c2c4c8fac1d174d356d1659",
            "afe5c9d4af724fef936d0b7b69c8d10b",
            "4fed88c7a3b848678f09ec9a13bb3c46",
            "b4c69a733e084bc1bea1e5106eedd48b",
            "9e2472bae3f9489eb637ad681b551eaf",
            "799a551beed049e78a16caad61bfaff3",
            "7dfabc71cf9b460fbc350ec21cbe3165",
            "17c52890539445a8a3e3ba25e1a34805",
            "720050fc0b2f45ed973564357b8b96c0",
            "e8f1b7529d104fb597c34827ff0b55c9",
            "4c654170f9f64a7081ce622964ea9a6b",
            "aa3972c512604047a848ccbfd6ce7549",
            "149b398730f14bc3a84d2537b1f43192",
            "3b6dd37cb3ac4300a608e4b7e47513fe",
            "2075e02c4a4b4e22a90b1a57299d110a",
            "6a7c0dbf679b4588b7e127fd293343c3",
            "2045aba1e11c4d618b763af8832f869f",
            "b06d6137f7ee4ddfb34fbc4ba67b701b",
            "534575664a26442f8d9a82d2a2c7aaed",
            "9456688719ac46bb889049d7afabf36b",
            "08e297bfd5ea4d549d75855a8d8bfc53",
            "a3d4c956d2e84bac8a285cef6d4e30dd",
            "f41a5c3f217a447e9b5ab384e8f49fe4",
            "e792d635a172466489805d0ff0ea690a",
            "0a3ab3fa5b6f434e80f1be44ea869715",
            "ad5b79173e414a11954054baad03d074",
            "843b2195c06240f280516695e6c6a163",
            "8fea3fa5e37e4f089de7160e9b93603d",
            "24502943168641218c700a88a50b5fcd",
            "26c44f82b0b64fa6b0daea6d9d4e3557",
            "7c13738bca27482799c444fc7fdaee54",
            "4468bd12e8364289bad249ac201dca98",
            "09483de37bb04a688b6b1484825f4ff8"
          ]
        },
        "id": "V41IQomT-pFV",
        "outputId": "977c97aa-ad09-4bad-d58c-1b3fc343a895"
      },
      "execution_count": null,
      "outputs": [
        {
          "output_type": "display_data",
          "data": {
            "text/plain": [
              "Downloading (…)okenizer_config.json:   0%|          | 0.00/365 [00:00<?, ?B/s]"
            ],
            "application/vnd.jupyter.widget-view+json": {
              "version_major": 2,
              "version_minor": 0,
              "model_id": "2d9c22439311433fbde63dec91fb7ffc"
            }
          },
          "metadata": {}
        },
        {
          "output_type": "display_data",
          "data": {
            "text/plain": [
              "Downloading (…)solve/main/vocab.txt:   0%|          | 0.00/263k [00:00<?, ?B/s]"
            ],
            "application/vnd.jupyter.widget-view+json": {
              "version_major": 2,
              "version_minor": 0,
              "model_id": "2046ef77bcd747ebaf2282d968d8d324"
            }
          },
          "metadata": {}
        },
        {
          "output_type": "display_data",
          "data": {
            "text/plain": [
              "Downloading (…)/main/tokenizer.json:   0%|          | 0.00/815k [00:00<?, ?B/s]"
            ],
            "application/vnd.jupyter.widget-view+json": {
              "version_major": 2,
              "version_minor": 0,
              "model_id": "b5dcac63cd2649ef8a96d76111c31bbb"
            }
          },
          "metadata": {}
        },
        {
          "output_type": "display_data",
          "data": {
            "text/plain": [
              "Downloading (…)cial_tokens_map.json:   0%|          | 0.00/125 [00:00<?, ?B/s]"
            ],
            "application/vnd.jupyter.widget-view+json": {
              "version_major": 2,
              "version_minor": 0,
              "model_id": "0c81c2073c2c4c8fac1d174d356d1659"
            }
          },
          "metadata": {}
        },
        {
          "output_type": "display_data",
          "data": {
            "text/plain": [
              "Downloading (…)lve/main/config.json:   0%|          | 0.00/1.88k [00:00<?, ?B/s]"
            ],
            "application/vnd.jupyter.widget-view+json": {
              "version_major": 2,
              "version_minor": 0,
              "model_id": "aa3972c512604047a848ccbfd6ce7549"
            }
          },
          "metadata": {}
        },
        {
          "output_type": "display_data",
          "data": {
            "text/plain": [
              "Downloading model.safetensors:   0%|          | 0.00/56.3M [00:00<?, ?B/s]"
            ],
            "application/vnd.jupyter.widget-view+json": {
              "version_major": 2,
              "version_minor": 0,
              "model_id": "f41a5c3f217a447e9b5ab384e8f49fe4"
            }
          },
          "metadata": {}
        }
      ]
    },
    {
      "cell_type": "code",
      "source": [
        "example = '한글 데이터의 개체명 인식 동작을 확인합니다.'\n",
        "print(ner(example))"
      ],
      "metadata": {
        "colab": {
          "base_uri": "https://localhost:8080/"
        },
        "id": "_WD3Te1n-6eL",
        "outputId": "5f480b63-2237-44ab-baa4-c4631cc233ba"
      },
      "execution_count": null,
      "outputs": [
        {
          "output_type": "stream",
          "name": "stdout",
          "text": [
            "[{'entity': 'B-CV', 'score': 0.60997397, 'index': 1, 'word': '한글', 'start': 0, 'end': 2}]\n"
          ]
        }
      ]
    },
    {
      "cell_type": "code",
      "source": [
        "def return_words(text):\n",
        "  '''\n",
        "  input : text\n",
        "  return : text의 키워드 후보와 index가 있는 dict\n",
        "  '''\n",
        "  ner_results = ner(text)\n",
        "\n",
        "  dic = {'word':[], 'score':[], 'entity':[], 'index':[]}\n",
        "  temp_str = ''\n",
        "  temp_score = []\n",
        "  temp_entity = []\n",
        "  temp_index = []\n",
        "  for result in ner_results:\n",
        "    if result['entity'][0] == 'B':\n",
        "      if temp_str != '':\n",
        "        dic['word'].append(temp_str)\n",
        "        dic['score'].append(temp_entity)\n",
        "        dic['entity'].append(temp_score)\n",
        "        dic['index'].append(temp_index)\n",
        "        temp_str = ''\n",
        "        temp_score = []\n",
        "        temp_entity = []\n",
        "        temp_index = []\n",
        "\n",
        "      temp_str += result['word']\n",
        "\n",
        "    elif result['entity'][0] == 'I':\n",
        "      if result['word'][0] == '#':\n",
        "        temp_str += result['word'][2:]\n",
        "      else:\n",
        "        temp_str += ' ' + result['word']\n",
        "    temp_score.append(result['score'])\n",
        "    temp_entity.append(result['entity'])\n",
        "    temp_index.append((result['start'], result['end']))\n",
        "\n",
        "  if temp_str != '':\n",
        "    dic['word'].append(temp_str)\n",
        "    dic['score'].append(temp_entity)\n",
        "    dic['entity'].append(temp_score)\n",
        "    dic['index'].append(temp_index)\n",
        "\n",
        "  return dic"
      ],
      "metadata": {
        "id": "KOTm6iuo-L2j"
      },
      "execution_count": null,
      "outputs": []
    },
    {
      "cell_type": "code",
      "source": [
        "text = '‘챗 GPT’ 등의 출현으로 미국 반도체 업체 엔비디아 주가가 연일 고공행진을 이어가자 차기 수혜주에 관심이 쏠리고 있다.'\n",
        "result = return_words(text)\n",
        "words = result['word']\n",
        "print(words)\n",
        "result"
      ],
      "metadata": {
        "colab": {
          "base_uri": "https://localhost:8080/"
        },
        "id": "tLIykjbI-LvT",
        "outputId": "fb390d28-21e7-47ec-b30a-72970267ee53"
      },
      "execution_count": null,
      "outputs": [
        {
          "output_type": "stream",
          "name": "stdout",
          "text": [
            "['챗 GPT', '미국', '반도체', '엔비디아']\n"
          ]
        },
        {
          "output_type": "execute_result",
          "data": {
            "text/plain": [
              "{'word': ['챗 GPT', '미국', '반도체', '엔비디아'],\n",
              " 'score': [['B-TM', 'I-TM', 'I-TM'],\n",
              "  ['B-LC'],\n",
              "  ['B-TM'],\n",
              "  ['B-OG', 'I-OG', 'I-OG']],\n",
              " 'entity': [[0.34701303, 0.33055353, 0.37826726],\n",
              "  [0.9544251],\n",
              "  [0.84381807],\n",
              "  [0.9506789, 0.94155383, 0.94034964]],\n",
              " 'index': [[(1, 2), (3, 5), (5, 6)],\n",
              "  [(16, 18)],\n",
              "  [(19, 22)],\n",
              "  [(26, 27), (27, 28), (28, 30)]]}"
            ]
          },
          "metadata": {},
          "execution_count": 9
        }
      ]
    },
    {
      "cell_type": "code",
      "source": [],
      "metadata": {
        "id": "1Nni1HpE-Lo1"
      },
      "execution_count": null,
      "outputs": []
    },
    {
      "cell_type": "code",
      "source": [],
      "metadata": {
        "id": "OwYaJ02HBvul"
      },
      "execution_count": null,
      "outputs": []
    },
    {
      "cell_type": "markdown",
      "source": [
        "### csv 파일로 확인"
      ],
      "metadata": {
        "id": "xtZnvCDbBwPN"
      }
    },
    {
      "cell_type": "code",
      "source": [
        "df = pd.read_csv('056730.csv')"
      ],
      "metadata": {
        "id": "x0RH4mIPss_F"
      },
      "execution_count": null,
      "outputs": []
    },
    {
      "cell_type": "code",
      "source": [
        "df.head()"
      ],
      "metadata": {
        "colab": {
          "base_uri": "https://localhost:8080/",
          "height": 423
        },
        "id": "kqQkinVIs0lM",
        "outputId": "70d5b3d9-845e-4a94-acf6-46f575a9f42b"
      },
      "execution_count": null,
      "outputs": [
        {
          "output_type": "execute_result",
          "data": {
            "text/plain": [
              "  company                         title  \\\n",
              "0   CNT85     CNT85, 156.5억 규모 공사 계약 체결   \n",
              "1   CNT85   CNT85, 28억 규모 RTO 설치공사 공급계약   \n",
              "2   CNT85       CNT85, 4.6억 규모 전환청구권 행사   \n",
              "3   CNT85  CNT85, 1분기 영업익 2.3억원…흑자전환 성공   \n",
              "4   CNT85         CNT85, 7억 규모 전환청구권 행사   \n",
              "\n",
              "                                                link writer              date  \\\n",
              "0  https://finance.naver.com/item/news_read.naver...   이데일리  2023.07.03 13:46   \n",
              "1  https://finance.naver.com/item/news_read.naver...   이데일리  2023.06.16 14:30   \n",
              "2  https://finance.naver.com/item/news_read.naver...   이데일리  2023.05.26 16:22   \n",
              "3  https://finance.naver.com/item/news_read.naver...  머니투데이  2023.05.12 14:42   \n",
              "4  https://finance.naver.com/item/news_read.naver...   이데일리  2023.04.28 17:25   \n",
              "\n",
              "                                             content  \n",
              "0  [이데일리 원다연 기자] CNT85(056730)는 테크로스워터앤에너지와 156억 ...  \n",
              "1  [이데일리 김보겸 기자] CNT85(056730)는 28억원 규모의 당진공장 축열식...  \n",
              "2  [이데일리 김응태 기자] CNT85(056730)는 4억6000만원 규모의 23회차...  \n",
              "3  플랜트, 필터·여과수처리 사업을 운영하는 CNT85가 1분기 영업이익 2억3000만...  \n",
              "4  [이데일리 이정현 기자] CNT85(056730)는 7억 원 규모의 23회차 무기명...  "
            ],
            "text/html": [
              "\n",
              "  <div id=\"df-70d2807b-37e3-4be9-80af-c38b5df1661e\">\n",
              "    <div class=\"colab-df-container\">\n",
              "      <div>\n",
              "<style scoped>\n",
              "    .dataframe tbody tr th:only-of-type {\n",
              "        vertical-align: middle;\n",
              "    }\n",
              "\n",
              "    .dataframe tbody tr th {\n",
              "        vertical-align: top;\n",
              "    }\n",
              "\n",
              "    .dataframe thead th {\n",
              "        text-align: right;\n",
              "    }\n",
              "</style>\n",
              "<table border=\"1\" class=\"dataframe\">\n",
              "  <thead>\n",
              "    <tr style=\"text-align: right;\">\n",
              "      <th></th>\n",
              "      <th>company</th>\n",
              "      <th>title</th>\n",
              "      <th>link</th>\n",
              "      <th>writer</th>\n",
              "      <th>date</th>\n",
              "      <th>content</th>\n",
              "    </tr>\n",
              "  </thead>\n",
              "  <tbody>\n",
              "    <tr>\n",
              "      <th>0</th>\n",
              "      <td>CNT85</td>\n",
              "      <td>CNT85, 156.5억 규모 공사 계약 체결</td>\n",
              "      <td>https://finance.naver.com/item/news_read.naver...</td>\n",
              "      <td>이데일리</td>\n",
              "      <td>2023.07.03 13:46</td>\n",
              "      <td>[이데일리 원다연 기자] CNT85(056730)는 테크로스워터앤에너지와 156억 ...</td>\n",
              "    </tr>\n",
              "    <tr>\n",
              "      <th>1</th>\n",
              "      <td>CNT85</td>\n",
              "      <td>CNT85, 28억 규모 RTO 설치공사 공급계약</td>\n",
              "      <td>https://finance.naver.com/item/news_read.naver...</td>\n",
              "      <td>이데일리</td>\n",
              "      <td>2023.06.16 14:30</td>\n",
              "      <td>[이데일리 김보겸 기자] CNT85(056730)는 28억원 규모의 당진공장 축열식...</td>\n",
              "    </tr>\n",
              "    <tr>\n",
              "      <th>2</th>\n",
              "      <td>CNT85</td>\n",
              "      <td>CNT85, 4.6억 규모 전환청구권 행사</td>\n",
              "      <td>https://finance.naver.com/item/news_read.naver...</td>\n",
              "      <td>이데일리</td>\n",
              "      <td>2023.05.26 16:22</td>\n",
              "      <td>[이데일리 김응태 기자] CNT85(056730)는 4억6000만원 규모의 23회차...</td>\n",
              "    </tr>\n",
              "    <tr>\n",
              "      <th>3</th>\n",
              "      <td>CNT85</td>\n",
              "      <td>CNT85, 1분기 영업익 2.3억원…흑자전환 성공</td>\n",
              "      <td>https://finance.naver.com/item/news_read.naver...</td>\n",
              "      <td>머니투데이</td>\n",
              "      <td>2023.05.12 14:42</td>\n",
              "      <td>플랜트, 필터·여과수처리 사업을 운영하는 CNT85가 1분기 영업이익 2억3000만...</td>\n",
              "    </tr>\n",
              "    <tr>\n",
              "      <th>4</th>\n",
              "      <td>CNT85</td>\n",
              "      <td>CNT85, 7억 규모 전환청구권 행사</td>\n",
              "      <td>https://finance.naver.com/item/news_read.naver...</td>\n",
              "      <td>이데일리</td>\n",
              "      <td>2023.04.28 17:25</td>\n",
              "      <td>[이데일리 이정현 기자] CNT85(056730)는 7억 원 규모의 23회차 무기명...</td>\n",
              "    </tr>\n",
              "  </tbody>\n",
              "</table>\n",
              "</div>\n",
              "      <button class=\"colab-df-convert\" onclick=\"convertToInteractive('df-70d2807b-37e3-4be9-80af-c38b5df1661e')\"\n",
              "              title=\"Convert this dataframe to an interactive table.\"\n",
              "              style=\"display:none;\">\n",
              "        \n",
              "  <svg xmlns=\"http://www.w3.org/2000/svg\" height=\"24px\"viewBox=\"0 0 24 24\"\n",
              "       width=\"24px\">\n",
              "    <path d=\"M0 0h24v24H0V0z\" fill=\"none\"/>\n",
              "    <path d=\"M18.56 5.44l.94 2.06.94-2.06 2.06-.94-2.06-.94-.94-2.06-.94 2.06-2.06.94zm-11 1L8.5 8.5l.94-2.06 2.06-.94-2.06-.94L8.5 2.5l-.94 2.06-2.06.94zm10 10l.94 2.06.94-2.06 2.06-.94-2.06-.94-.94-2.06-.94 2.06-2.06.94z\"/><path d=\"M17.41 7.96l-1.37-1.37c-.4-.4-.92-.59-1.43-.59-.52 0-1.04.2-1.43.59L10.3 9.45l-7.72 7.72c-.78.78-.78 2.05 0 2.83L4 21.41c.39.39.9.59 1.41.59.51 0 1.02-.2 1.41-.59l7.78-7.78 2.81-2.81c.8-.78.8-2.07 0-2.86zM5.41 20L4 18.59l7.72-7.72 1.47 1.35L5.41 20z\"/>\n",
              "  </svg>\n",
              "      </button>\n",
              "      \n",
              "  <style>\n",
              "    .colab-df-container {\n",
              "      display:flex;\n",
              "      flex-wrap:wrap;\n",
              "      gap: 12px;\n",
              "    }\n",
              "\n",
              "    .colab-df-convert {\n",
              "      background-color: #E8F0FE;\n",
              "      border: none;\n",
              "      border-radius: 50%;\n",
              "      cursor: pointer;\n",
              "      display: none;\n",
              "      fill: #1967D2;\n",
              "      height: 32px;\n",
              "      padding: 0 0 0 0;\n",
              "      width: 32px;\n",
              "    }\n",
              "\n",
              "    .colab-df-convert:hover {\n",
              "      background-color: #E2EBFA;\n",
              "      box-shadow: 0px 1px 2px rgba(60, 64, 67, 0.3), 0px 1px 3px 1px rgba(60, 64, 67, 0.15);\n",
              "      fill: #174EA6;\n",
              "    }\n",
              "\n",
              "    [theme=dark] .colab-df-convert {\n",
              "      background-color: #3B4455;\n",
              "      fill: #D2E3FC;\n",
              "    }\n",
              "\n",
              "    [theme=dark] .colab-df-convert:hover {\n",
              "      background-color: #434B5C;\n",
              "      box-shadow: 0px 1px 3px 1px rgba(0, 0, 0, 0.15);\n",
              "      filter: drop-shadow(0px 1px 2px rgba(0, 0, 0, 0.3));\n",
              "      fill: #FFFFFF;\n",
              "    }\n",
              "  </style>\n",
              "\n",
              "      <script>\n",
              "        const buttonEl =\n",
              "          document.querySelector('#df-70d2807b-37e3-4be9-80af-c38b5df1661e button.colab-df-convert');\n",
              "        buttonEl.style.display =\n",
              "          google.colab.kernel.accessAllowed ? 'block' : 'none';\n",
              "\n",
              "        async function convertToInteractive(key) {\n",
              "          const element = document.querySelector('#df-70d2807b-37e3-4be9-80af-c38b5df1661e');\n",
              "          const dataTable =\n",
              "            await google.colab.kernel.invokeFunction('convertToInteractive',\n",
              "                                                     [key], {});\n",
              "          if (!dataTable) return;\n",
              "\n",
              "          const docLinkHtml = 'Like what you see? Visit the ' +\n",
              "            '<a target=\"_blank\" href=https://colab.research.google.com/notebooks/data_table.ipynb>data table notebook</a>'\n",
              "            + ' to learn more about interactive tables.';\n",
              "          element.innerHTML = '';\n",
              "          dataTable['output_type'] = 'display_data';\n",
              "          await google.colab.output.renderOutput(dataTable, element);\n",
              "          const docLink = document.createElement('div');\n",
              "          docLink.innerHTML = docLinkHtml;\n",
              "          element.appendChild(docLink);\n",
              "        }\n",
              "      </script>\n",
              "    </div>\n",
              "  </div>\n",
              "  "
            ]
          },
          "metadata": {},
          "execution_count": 11
        }
      ]
    },
    {
      "cell_type": "code",
      "source": [
        "text = df.loc[0]['content']"
      ],
      "metadata": {
        "id": "UpCiSdvSurwq"
      },
      "execution_count": null,
      "outputs": []
    },
    {
      "cell_type": "code",
      "source": [
        "title = df.loc[0]['title']"
      ],
      "metadata": {
        "id": "ihvjZ9dXurnC"
      },
      "execution_count": null,
      "outputs": []
    },
    {
      "cell_type": "code",
      "source": [
        "text"
      ],
      "metadata": {
        "colab": {
          "base_uri": "https://localhost:8080/",
          "height": 54
        },
        "id": "Vflr9KeNCA4j",
        "outputId": "0ea4b104-34d2-4221-f0bd-fa623856b160"
      },
      "execution_count": null,
      "outputs": [
        {
          "output_type": "execute_result",
          "data": {
            "text/plain": [
              "'[이데일리 원다연 기자] CNT85(056730)는 테크로스워터앤에너지와 156억 5000만원 규모의 기흥 SDR 그린센터 오수처리시설 기계배관 공사 계약을 체결했다고 3일 공시했다.이는 최근 매출액 대비 48.78%에 해당한다. 계약 기간은 지난 30일부터 내년 12월 31일까지다.'"
            ],
            "application/vnd.google.colaboratory.intrinsic+json": {
              "type": "string"
            }
          },
          "metadata": {},
          "execution_count": 15
        }
      ]
    },
    {
      "cell_type": "code",
      "source": [
        "result = return_words(text)\n",
        "words = result['word']\n",
        "words"
      ],
      "metadata": {
        "colab": {
          "base_uri": "https://localhost:8080/"
        },
        "id": "gXOh8ZA8vEQq",
        "outputId": "7e249d57-d4b3-47ba-df76-745def4d5664"
      },
      "execution_count": null,
      "outputs": [
        {
          "output_type": "execute_result",
          "data": {
            "text/plain": [
              "['일리',\n",
              " '원다연',\n",
              " '기자',\n",
              " 'CNT85',\n",
              " '0567',\n",
              " '##30',\n",
              " '테크로스워터앤에너지',\n",
              " '156억 5000',\n",
              " '기흥',\n",
              " 'SDR 그린센터',\n",
              " '3',\n",
              " '##일',\n",
              " '48 . 78 %']"
            ]
          },
          "metadata": {},
          "execution_count": 14
        }
      ]
    },
    {
      "cell_type": "code",
      "source": [
        "'''\n",
        "  todo : 현재 입력 데이터의 길이가 길면 출력이 이상해 지는 문제가 있음\n",
        "  아래 예시 확인\n",
        "'''"
      ],
      "metadata": {
        "id": "ZMxs6kUCffTZ"
      },
      "execution_count": null,
      "outputs": []
    },
    {
      "cell_type": "code",
      "source": [
        "result = return_words(text[:50])\n",
        "words = result['word']\n",
        "words"
      ],
      "metadata": {
        "colab": {
          "base_uri": "https://localhost:8080/"
        },
        "id": "rxlltjT5CUX4",
        "outputId": "511984ba-e3c3-4e4c-ccca-cd4aa9ad5447"
      },
      "execution_count": null,
      "outputs": [
        {
          "output_type": "execute_result",
          "data": {
            "text/plain": [
              "['원다연', '기자', 'CNT85', '056730', '테크로스워터앤에너지', '156억 5000']"
            ]
          },
          "metadata": {},
          "execution_count": 24
        }
      ]
    },
    {
      "cell_type": "code",
      "source": [
        "result = return_words(text[:101])\n",
        "words = result['word']\n",
        "words"
      ],
      "metadata": {
        "colab": {
          "base_uri": "https://localhost:8080/"
        },
        "id": "IG2E3rJdCwv5",
        "outputId": "d6573205-682d-42d0-99aa-74b9afbf41af"
      },
      "execution_count": null,
      "outputs": [
        {
          "output_type": "execute_result",
          "data": {
            "text/plain": [
              "['원다연',\n",
              " '기자',\n",
              " 'CNT85',\n",
              " '056730',\n",
              " '테크로스워터앤에너지',\n",
              " '156억 5000',\n",
              " '기흥',\n",
              " 'SDR 그린센터',\n",
              " '3일']"
            ]
          },
          "metadata": {},
          "execution_count": 27
        }
      ]
    },
    {
      "cell_type": "code",
      "source": [
        "result = return_words(text[:130])\n",
        "words = result['word']\n",
        "words"
      ],
      "metadata": {
        "colab": {
          "base_uri": "https://localhost:8080/"
        },
        "id": "KWZpH3MuDA-B",
        "outputId": "d5472fdf-cf67-4bb6-b5e3-a587713833ed"
      },
      "execution_count": null,
      "outputs": [
        {
          "output_type": "execute_result",
          "data": {
            "text/plain": [
              "['일리',\n",
              " '원다연',\n",
              " '기자',\n",
              " 'CNT85',\n",
              " '056730',\n",
              " '테크로스워터앤에너지',\n",
              " '156억 5000',\n",
              " '기흥',\n",
              " 'SDR 그린센터',\n",
              " '3일',\n",
              " '48 . 78 %']"
            ]
          },
          "metadata": {},
          "execution_count": 31
        }
      ]
    },
    {
      "cell_type": "code",
      "source": [
        "result = return_words(text)\n",
        "words = result['word']\n",
        "words"
      ],
      "metadata": {
        "colab": {
          "base_uri": "https://localhost:8080/"
        },
        "id": "tEO_oMYPCF7I",
        "outputId": "a6a4c31d-1286-45f5-d5ee-5ac6ffeeb896"
      },
      "execution_count": null,
      "outputs": [
        {
          "output_type": "execute_result",
          "data": {
            "text/plain": [
              "['일리',\n",
              " '원다연',\n",
              " '기자',\n",
              " 'CNT85',\n",
              " '0567',\n",
              " '##30',\n",
              " '테크로스워터앤에너지',\n",
              " '156억 5000',\n",
              " '기흥',\n",
              " 'SDR 그린센터',\n",
              " '3',\n",
              " '##일',\n",
              " '48 . 78 %']"
            ]
          },
          "metadata": {},
          "execution_count": 32
        }
      ]
    },
    {
      "cell_type": "code",
      "source": [
        "result"
      ],
      "metadata": {
        "colab": {
          "base_uri": "https://localhost:8080/"
        },
        "id": "0sceVfkRvEOX",
        "outputId": "4d870c4f-d19c-4db7-8150-9d0c4c374fe6"
      },
      "execution_count": null,
      "outputs": [
        {
          "output_type": "execute_result",
          "data": {
            "text/plain": [
              "{'word': ['일리',\n",
              "  '원다연',\n",
              "  '기자',\n",
              "  'CNT85',\n",
              "  '0567',\n",
              "  '##30',\n",
              "  '테크로스워터앤에너지',\n",
              "  '156억 5000',\n",
              "  '기흥',\n",
              "  'SDR 그린센터',\n",
              "  '3',\n",
              "  '##일',\n",
              "  '48 . 78 %'],\n",
              " 'score': [['I-OG'],\n",
              "  ['B-OG', 'I-OG', 'I-PS'],\n",
              "  ['B-CV'],\n",
              "  ['B-AF', 'I-AF', 'I-AF'],\n",
              "  ['B-QT', 'I-QT'],\n",
              "  ['B-QT'],\n",
              "  ['B-OG', 'I-OG', 'I-OG', 'I-OG', 'I-OG', 'I-OG', 'I-OG'],\n",
              "  ['B-QT', 'I-QT', 'I-QT'],\n",
              "  ['B-LC'],\n",
              "  ['B-AF', 'I-AF', 'I-AF', 'I-AF'],\n",
              "  ['B-DT'],\n",
              "  ['B-DT'],\n",
              "  ['B-QT', 'I-QT', 'I-QT', 'I-QT']],\n",
              " 'entity': [[0.49553466],\n",
              "  [0.5833473, 0.45962462, 0.5877794],\n",
              "  [0.61917484],\n",
              "  [0.41322687, 0.45933244, 0.35766423],\n",
              "  [0.82425725, 0.73227006],\n",
              "  [0.80768573],\n",
              "  [0.86274034,\n",
              "   0.8953028,\n",
              "   0.89671725,\n",
              "   0.92597497,\n",
              "   0.9127999,\n",
              "   0.9244243,\n",
              "   0.9098607],\n",
              "  [0.63297695, 0.64723974, 0.66578895],\n",
              "  [0.7482972],\n",
              "  [0.33515036, 0.42516705, 0.46068886, 0.416388],\n",
              "  [0.7863837],\n",
              "  [0.77908856],\n",
              "  [0.7852038, 0.78137255, 0.8358253, 0.80113524]],\n",
              " 'index': [[(3, 5)],\n",
              "  [(6, 7), (7, 8), (8, 9)],\n",
              "  [(10, 12)],\n",
              "  [(14, 16), (16, 17), (17, 19)],\n",
              "  [(20, 22), (22, 24)],\n",
              "  [(24, 26)],\n",
              "  [(29, 31), (31, 33), (33, 34), (34, 35), (35, 36), (36, 37), (37, 39)],\n",
              "  [(41, 44), (44, 45), (46, 50)],\n",
              "  [(57, 59)],\n",
              "  [(60, 62), (62, 63), (64, 66), (66, 68)],\n",
              "  [(94, 95)],\n",
              "  [(95, 96)],\n",
              "  [(115, 117), (117, 118), (118, 120), (120, 121)]]}"
            ]
          },
          "metadata": {},
          "execution_count": 33
        }
      ]
    },
    {
      "cell_type": "code",
      "source": [],
      "metadata": {
        "id": "1Jc0Cr8mDkGP"
      },
      "execution_count": null,
      "outputs": []
    },
    {
      "cell_type": "code",
      "source": [],
      "metadata": {
        "id": "DjdmghkDDj9A"
      },
      "execution_count": null,
      "outputs": []
    },
    {
      "cell_type": "code",
      "source": [
        "result = return_words(text[:130])\n",
        "words = result['word']\n",
        "words"
      ],
      "metadata": {
        "colab": {
          "base_uri": "https://localhost:8080/"
        },
        "id": "h5DIRDQGDqFi",
        "outputId": "d36d8ed1-cde9-45a1-a032-d509d3af6c06"
      },
      "execution_count": null,
      "outputs": [
        {
          "output_type": "execute_result",
          "data": {
            "text/plain": [
              "['일리',\n",
              " '원다연',\n",
              " '기자',\n",
              " 'CNT85',\n",
              " '056730',\n",
              " '테크로스워터앤에너지',\n",
              " '156억 5000',\n",
              " '기흥',\n",
              " 'SDR 그린센터',\n",
              " '3일',\n",
              " '48 . 78 %']"
            ]
          },
          "metadata": {},
          "execution_count": 34
        }
      ]
    },
    {
      "cell_type": "code",
      "source": [],
      "metadata": {
        "id": "0wXruLk2ss5G"
      },
      "execution_count": null,
      "outputs": []
    },
    {
      "cell_type": "markdown",
      "source": [
        "### 불용어 제거"
      ],
      "metadata": {
        "id": "saTscqVSr4Pv"
      }
    },
    {
      "cell_type": "code",
      "source": [
        "#stopword 목록 다운\n",
        "!git clone https://gist.github.com/d10b18575a73778da4bc83853385465c.git stopwords"
      ],
      "metadata": {
        "id": "EQAr45AJt3TS",
        "colab": {
          "base_uri": "https://localhost:8080/"
        },
        "outputId": "c2d348de-ab1f-44a7-9a28-664c47f155e7"
      },
      "execution_count": null,
      "outputs": [
        {
          "output_type": "stream",
          "name": "stdout",
          "text": [
            "Cloning into 'stopwords'...\n",
            "remote: Enumerating objects: 3, done.\u001b[K\n",
            "remote: Total 3 (delta 0), reused 0 (delta 0), pack-reused 3\u001b[K\n",
            "Unpacking objects: 100% (3/3), 2.75 KiB | 2.75 MiB/s, done.\n"
          ]
        }
      ]
    },
    {
      "cell_type": "code",
      "source": [
        "'''\n",
        "  todo : 불용어 추가\n",
        "'''\n",
        "def load_stopwords(custom_stopwords = None):\n",
        "  words = []\n",
        "\n",
        "  if custom_stopwords:\n",
        "    words.extend(custom_stopwords)\n",
        "\n",
        "  file_path = \"./stopwords/stopwords.txt\"\n",
        "  with open(file_path, 'r') as file:\n",
        "      words.extend(file.read().split('\\n'))\n",
        "\n",
        "  # file_path = \"./stopword.txt\"\n",
        "  # with open(file_path, 'r') as file:\n",
        "  #     words.extend(file.read().split('\\n'))\n",
        "\n",
        "  # file_path = \"./stopword2.txt\"\n",
        "  # with open(file_path, 'r') as file:\n",
        "  #     words.extend(file.read().split('\\n')[1:])\n",
        "\n",
        "  return list(set(words))"
      ],
      "metadata": {
        "id": "GEF_B-bEq5Aa"
      },
      "execution_count": null,
      "outputs": []
    },
    {
      "cell_type": "code",
      "source": [
        "# custom = []\n",
        "custom = ['기자','3일']\n",
        "stopwords = load_stopwords(custom)"
      ],
      "metadata": {
        "id": "qY5xgD4irmKq"
      },
      "execution_count": null,
      "outputs": []
    },
    {
      "cell_type": "code",
      "source": [
        "print(len(stopwords))"
      ],
      "metadata": {
        "colab": {
          "base_uri": "https://localhost:8080/"
        },
        "id": "js9a5HsGEm5x",
        "outputId": "58a2ebfa-7cad-461c-bf74-9df6e207228b"
      },
      "execution_count": null,
      "outputs": [
        {
          "output_type": "stream",
          "name": "stdout",
          "text": [
            "597\n"
          ]
        }
      ]
    },
    {
      "cell_type": "code",
      "source": [
        "result"
      ],
      "metadata": {
        "colab": {
          "base_uri": "https://localhost:8080/"
        },
        "id": "Depd1ifUGXRv",
        "outputId": "3c5996a7-d7aa-4ac8-8e70-0b16db6c968d"
      },
      "execution_count": null,
      "outputs": [
        {
          "output_type": "execute_result",
          "data": {
            "text/plain": [
              "{'word': ['일리',\n",
              "  '원다연',\n",
              "  '기자',\n",
              "  'CNT85',\n",
              "  '056730',\n",
              "  '테크로스워터앤에너지',\n",
              "  '156억 5000',\n",
              "  '기흥',\n",
              "  'SDR 그린센터',\n",
              "  '3일',\n",
              "  '48 . 78 %'],\n",
              " 'score': [['I-OG'],\n",
              "  ['B-OG', 'I-PS', 'I-PS'],\n",
              "  ['B-CV'],\n",
              "  ['B-AF', 'I-AF', 'I-AF'],\n",
              "  ['B-QT', 'I-QT', 'I-QT'],\n",
              "  ['B-OG', 'I-OG', 'I-OG', 'I-OG', 'I-OG', 'I-OG', 'I-OG'],\n",
              "  ['B-QT', 'I-QT', 'I-QT'],\n",
              "  ['B-LC'],\n",
              "  ['B-AF', 'I-AF', 'I-AF', 'I-AF'],\n",
              "  ['B-DT', 'I-DT'],\n",
              "  ['B-QT', 'I-QT', 'I-QT', 'I-QT']],\n",
              " 'entity': [[0.4308679],\n",
              "  [0.5620235, 0.4328442, 0.6262465],\n",
              "  [0.6986592],\n",
              "  [0.42377126, 0.45967755, 0.36286187],\n",
              "  [0.9009548, 0.8883027, 0.940171],\n",
              "  [0.87209386,\n",
              "   0.89965653,\n",
              "   0.89785665,\n",
              "   0.9268155,\n",
              "   0.9119154,\n",
              "   0.9234293,\n",
              "   0.9095367],\n",
              "  [0.64638066, 0.6557225, 0.6707427],\n",
              "  [0.7661712],\n",
              "  [0.37843058, 0.4347338, 0.47299442, 0.4301917],\n",
              "  [0.8726086, 0.946883],\n",
              "  [0.83745456, 0.8217816, 0.870865, 0.8377137]],\n",
              " 'index': [[(3, 5)],\n",
              "  [(6, 7), (7, 8), (8, 9)],\n",
              "  [(10, 12)],\n",
              "  [(14, 16), (16, 17), (17, 19)],\n",
              "  [(20, 22), (22, 24), (24, 26)],\n",
              "  [(29, 31), (31, 33), (33, 34), (34, 35), (35, 36), (36, 37), (37, 39)],\n",
              "  [(41, 44), (44, 45), (46, 50)],\n",
              "  [(57, 59)],\n",
              "  [(60, 62), (62, 63), (64, 66), (66, 68)],\n",
              "  [(94, 95), (95, 96)],\n",
              "  [(115, 117), (117, 118), (118, 120), (120, 121)]]}"
            ]
          },
          "metadata": {},
          "execution_count": 53
        }
      ]
    },
    {
      "cell_type": "code",
      "source": [
        "remove_idxs = [i for i, word in enumerate(result['word']) if word in stopwords]\n",
        "remove_idxs"
      ],
      "metadata": {
        "colab": {
          "base_uri": "https://localhost:8080/"
        },
        "id": "-6kzIpMVGXLN",
        "outputId": "1596d600-9e7c-44db-d80f-5aebabdf70b7"
      },
      "execution_count": null,
      "outputs": [
        {
          "output_type": "execute_result",
          "data": {
            "text/plain": [
              "[2, 9]"
            ]
          },
          "metadata": {},
          "execution_count": 54
        }
      ]
    },
    {
      "cell_type": "code",
      "source": [
        "for idx in sorted(remove_idxs, reverse=True):\n",
        "    del result['word'][idx]\n",
        "    del result['score'][idx]\n",
        "    del result['entity'][idx]\n",
        "    del result['index'][idx]"
      ],
      "metadata": {
        "id": "ci0iEZ0oGXFz"
      },
      "execution_count": null,
      "outputs": []
    },
    {
      "cell_type": "code",
      "source": [
        "result"
      ],
      "metadata": {
        "colab": {
          "base_uri": "https://localhost:8080/"
        },
        "id": "m3mvNACsHTYh",
        "outputId": "e2da1dd4-be67-4d71-b61f-7f6cf7d9287b"
      },
      "execution_count": null,
      "outputs": [
        {
          "output_type": "execute_result",
          "data": {
            "text/plain": [
              "{'word': ['일리',\n",
              "  '원다연',\n",
              "  'CNT85',\n",
              "  '056730',\n",
              "  '테크로스워터앤에너지',\n",
              "  '156억 5000',\n",
              "  '기흥',\n",
              "  'SDR 그린센터',\n",
              "  '48 . 78 %'],\n",
              " 'score': [['I-OG'],\n",
              "  ['B-OG', 'I-PS', 'I-PS'],\n",
              "  ['B-AF', 'I-AF', 'I-AF'],\n",
              "  ['B-QT', 'I-QT', 'I-QT'],\n",
              "  ['B-OG', 'I-OG', 'I-OG', 'I-OG', 'I-OG', 'I-OG', 'I-OG'],\n",
              "  ['B-QT', 'I-QT', 'I-QT'],\n",
              "  ['B-LC'],\n",
              "  ['B-AF', 'I-AF', 'I-AF', 'I-AF'],\n",
              "  ['B-QT', 'I-QT', 'I-QT', 'I-QT']],\n",
              " 'entity': [[0.4308679],\n",
              "  [0.5620235, 0.4328442, 0.6262465],\n",
              "  [0.42377126, 0.45967755, 0.36286187],\n",
              "  [0.9009548, 0.8883027, 0.940171],\n",
              "  [0.87209386,\n",
              "   0.89965653,\n",
              "   0.89785665,\n",
              "   0.9268155,\n",
              "   0.9119154,\n",
              "   0.9234293,\n",
              "   0.9095367],\n",
              "  [0.64638066, 0.6557225, 0.6707427],\n",
              "  [0.7661712],\n",
              "  [0.37843058, 0.4347338, 0.47299442, 0.4301917],\n",
              "  [0.83745456, 0.8217816, 0.870865, 0.8377137]],\n",
              " 'index': [[(3, 5)],\n",
              "  [(6, 7), (7, 8), (8, 9)],\n",
              "  [(14, 16), (16, 17), (17, 19)],\n",
              "  [(20, 22), (22, 24), (24, 26)],\n",
              "  [(29, 31), (31, 33), (33, 34), (34, 35), (35, 36), (36, 37), (37, 39)],\n",
              "  [(41, 44), (44, 45), (46, 50)],\n",
              "  [(57, 59)],\n",
              "  [(60, 62), (62, 63), (64, 66), (66, 68)],\n",
              "  [(115, 117), (117, 118), (118, 120), (120, 121)]]}"
            ]
          },
          "metadata": {},
          "execution_count": 56
        }
      ]
    },
    {
      "cell_type": "code",
      "source": [],
      "metadata": {
        "id": "bOnMBZihHTTX"
      },
      "execution_count": null,
      "outputs": []
    },
    {
      "cell_type": "code",
      "source": [
        "words = result['word']\n",
        "words"
      ],
      "metadata": {
        "colab": {
          "base_uri": "https://localhost:8080/"
        },
        "id": "I_9x2bcdINrq",
        "outputId": "8adc2679-c363-4857-935a-4bfdd919dfeb"
      },
      "execution_count": null,
      "outputs": [
        {
          "output_type": "execute_result",
          "data": {
            "text/plain": [
              "['일리',\n",
              " '원다연',\n",
              " 'CNT85',\n",
              " '056730',\n",
              " '테크로스워터앤에너지',\n",
              " '156억 5000',\n",
              " '기흥',\n",
              " 'SDR 그린센터',\n",
              " '48 . 78 %']"
            ]
          },
          "metadata": {},
          "execution_count": 58
        }
      ]
    },
    {
      "cell_type": "code",
      "source": [],
      "metadata": {
        "id": "VjyoDJajGXAQ"
      },
      "execution_count": null,
      "outputs": []
    },
    {
      "cell_type": "markdown",
      "source": [
        "### 벡터화"
      ],
      "metadata": {
        "id": "grQ_6GhAr-Zo"
      }
    },
    {
      "cell_type": "code",
      "source": [],
      "metadata": {
        "id": "E2WP0Ukor9lV"
      },
      "execution_count": null,
      "outputs": []
    },
    {
      "cell_type": "code",
      "source": [
        "'''\n",
        "  참고 사이트 :\n",
        "  https://devocean.sk.com/blog/techBoardDetail.do?ID=164033\n",
        "'''"
      ],
      "metadata": {
        "id": "wH4_QbLD1QmC"
      },
      "execution_count": null,
      "outputs": []
    },
    {
      "cell_type": "code",
      "source": [
        "'''\n",
        "  todo : sota 모델 찾기\n",
        "'''\n",
        "from sentence_transformers import SentenceTransformer\n",
        "model = SentenceTransformer('jhgan/ko-sroberta-multitask')"
      ],
      "metadata": {
        "id": "0086Wo6C1QGX"
      },
      "execution_count": null,
      "outputs": []
    },
    {
      "cell_type": "code",
      "source": [
        "print(title)\n",
        "print(text)\n",
        "print(words)"
      ],
      "metadata": {
        "colab": {
          "base_uri": "https://localhost:8080/"
        },
        "id": "qjogJSFtIfLN",
        "outputId": "fa9998a1-cc3f-4a23-a7aa-f9ec846ec41c"
      },
      "execution_count": null,
      "outputs": [
        {
          "output_type": "stream",
          "name": "stdout",
          "text": [
            "CNT85, 156.5억 규모 공사 계약 체결\n",
            "[이데일리 원다연 기자] CNT85(056730)는 테크로스워터앤에너지와 156억 5000만원 규모의 기흥 SDR 그린센터 오수처리시설 기계배관 공사 계약을 체결했다고 3일 공시했다.이는 최근 매출액 대비 48.78%에 해당한다. 계약 기간은 지난 30일부터 내년 12월 31일까지다.\n",
            "['일리', '원다연', 'CNT85', '056730', '테크로스워터앤에너지', '156억 5000', '기흥', 'SDR 그린센터', '48 . 78 %']\n"
          ]
        }
      ]
    },
    {
      "cell_type": "code",
      "source": [
        "# title 벡터화\n",
        "title_emb = model.encode(title)\n",
        "# text 벡터화\n",
        "doc_emb = model.encode(text)\n",
        "# words 백터화\n",
        "word_emb = model.encode(words)\n",
        "# print(doc_emb.shape)\n",
        "# print(word_emb.shape)"
      ],
      "metadata": {
        "id": "l0MxvjSst3P8"
      },
      "execution_count": null,
      "outputs": []
    },
    {
      "cell_type": "code",
      "source": [
        "# 코사인 유사도 측정\n",
        "title_word_dists = cosine_distances([title_emb], word_emb).flatten()\n",
        "text_word_dists = cosine_distances([doc_emb], word_emb).flatten()\n",
        "print('title과 text의 cosine distance: ',cosine_distances([doc_emb], [title_emb]).flatten())"
      ],
      "metadata": {
        "colab": {
          "base_uri": "https://localhost:8080/"
        },
        "id": "ZO7J0ZlTyDNq",
        "outputId": "df325d5f-63be-4ed5-8944-9a49562fd036"
      },
      "execution_count": null,
      "outputs": [
        {
          "output_type": "stream",
          "name": "stdout",
          "text": [
            "title과 text의 cosine distance:  [0.36870557]\n"
          ]
        }
      ]
    },
    {
      "cell_type": "code",
      "source": [
        "text_word_dists"
      ],
      "metadata": {
        "colab": {
          "base_uri": "https://localhost:8080/"
        },
        "id": "VMuNJeyiKK43",
        "outputId": "5f00413e-1b0d-4178-8919-6923a94da41b"
      },
      "execution_count": null,
      "outputs": [
        {
          "output_type": "execute_result",
          "data": {
            "text/plain": [
              "array([0.87537664, 0.82498133, 0.5951872 , 0.6734893 , 0.49724144,\n",
              "       0.6993714 , 0.6877056 , 0.6774784 , 0.71606404], dtype=float32)"
            ]
          },
          "metadata": {},
          "execution_count": 72
        }
      ]
    },
    {
      "cell_type": "code",
      "source": [
        "print('title과 words의 cosine distance')\n",
        "for i in np.argsort(title_word_dists):\n",
        "    print(words[i],title_word_dists[i])"
      ],
      "metadata": {
        "colab": {
          "base_uri": "https://localhost:8080/"
        },
        "id": "ZP9idZW_yDKl",
        "outputId": "bffb2575-50d8-4db0-fe82-6862245ae5a9"
      },
      "execution_count": null,
      "outputs": [
        {
          "output_type": "stream",
          "name": "stdout",
          "text": [
            "title과 words의 cosine distance\n",
            "CNT85 0.36422163\n",
            "156억 5000 0.5453429\n",
            "테크로스워터앤에너지 0.58205175\n",
            "056730 0.6712269\n",
            "SDR 그린센터 0.7803867\n",
            "원다연 0.8208597\n",
            "기흥 0.82504976\n",
            "일리 0.8513015\n",
            "48 . 78 % 0.97520405\n"
          ]
        }
      ]
    },
    {
      "cell_type": "code",
      "source": [
        "print('text과 words의 cosine distance')\n",
        "for i in np.argsort(text_word_dists):\n",
        "    print(words[i],text_word_dists[i])"
      ],
      "metadata": {
        "colab": {
          "base_uri": "https://localhost:8080/"
        },
        "id": "GGaUCZvWw2DM",
        "outputId": "5c954ed0-7070-4714-d2dd-5a81248ad187"
      },
      "execution_count": null,
      "outputs": [
        {
          "output_type": "stream",
          "name": "stdout",
          "text": [
            "text과 words의 cosine distance\n",
            "테크로스워터앤에너지 0.49724144\n",
            "CNT85 0.5951872\n",
            "056730 0.6734893\n",
            "SDR 그린센터 0.6774784\n",
            "기흥 0.6877056\n",
            "156억 5000 0.6993714\n",
            "48 . 78 % 0.71606404\n",
            "원다연 0.82498133\n",
            "일리 0.87537664\n"
          ]
        }
      ]
    },
    {
      "cell_type": "markdown",
      "source": [
        "### Score 계산"
      ],
      "metadata": {
        "id": "sIFjWEeGfKDw"
      }
    },
    {
      "cell_type": "code",
      "source": [
        "# score 구하기 (임시)\n",
        "score = 0.6 * (1 - title_word_dists) + 0.4 * (1 - text_word_dists)\n",
        "score"
      ],
      "metadata": {
        "colab": {
          "base_uri": "https://localhost:8080/"
        },
        "id": "MIPArmgdKdD3",
        "outputId": "2d242fc8-e6a2-4af6-d1ec-b4ac62053994"
      },
      "execution_count": null,
      "outputs": [
        {
          "output_type": "execute_result",
          "data": {
            "text/plain": [
              "array([0.13906845, 0.17749166, 0.5433922 , 0.32786816, 0.4518724 ,\n",
              "       0.3930457 , 0.22988792, 0.26077664, 0.12845196], dtype=float32)"
            ]
          },
          "metadata": {},
          "execution_count": 79
        }
      ]
    },
    {
      "cell_type": "code",
      "source": [
        "print(list(score))\n",
        "np.argsort(score)"
      ],
      "metadata": {
        "colab": {
          "base_uri": "https://localhost:8080/"
        },
        "id": "SUYEYhvVLpNH",
        "outputId": "43485f27-9b25-47b6-ffa8-b780095f3045"
      },
      "execution_count": null,
      "outputs": [
        {
          "output_type": "stream",
          "name": "stdout",
          "text": [
            "[0.13906845, 0.17749166, 0.5433922, 0.32786816, 0.4518724, 0.3930457, 0.22988792, 0.26077664, 0.12845196]\n"
          ]
        },
        {
          "output_type": "execute_result",
          "data": {
            "text/plain": [
              "array([8, 0, 1, 6, 7, 3, 5, 4, 2])"
            ]
          },
          "metadata": {},
          "execution_count": 86
        }
      ]
    },
    {
      "cell_type": "code",
      "source": [
        "top_k = 3\n",
        "top_words = []\n",
        "for i in np.argsort(-score)[:top_k]:\n",
        "    top_words.append()\n",
        "    print(i, words[i], 'score :',score[i], 'title score :', 1 - title_word_dists[i], 'text score :', 1 - text_word_dists[i])"
      ],
      "metadata": {
        "colab": {
          "base_uri": "https://localhost:8080/"
        },
        "id": "SYzgrLMbKaNg",
        "outputId": "03928fd4-f28c-4621-a1d5-c7eb8899397c"
      },
      "execution_count": null,
      "outputs": [
        {
          "output_type": "stream",
          "name": "stdout",
          "text": [
            "2 CNT85 score : 0.5433922 title score : 0.6357783675193787 text score : 0.4048128128051758\n",
            "4 테크로스워터앤에너지 score : 0.4518724 title score : 0.41794824600219727 text score : 0.5027585625648499\n",
            "5 156억 5000 score : 0.3930457 title score : 0.45465707778930664 text score : 0.3006286025047302\n"
          ]
        }
      ]
    },
    {
      "cell_type": "code",
      "source": [
        "print(title)\n",
        "text"
      ],
      "metadata": {
        "colab": {
          "base_uri": "https://localhost:8080/",
          "height": 72
        },
        "id": "E_KCOQKowB-Q",
        "outputId": "676655e0-90c8-49ad-ce59-bd6baf5d7d7f"
      },
      "execution_count": null,
      "outputs": [
        {
          "output_type": "stream",
          "name": "stdout",
          "text": [
            "CNT85, 156.5억 규모 공사 계약 체결\n"
          ]
        },
        {
          "output_type": "execute_result",
          "data": {
            "text/plain": [
              "'[이데일리 원다연 기자] CNT85(056730)는 테크로스워터앤에너지와 156억 5000만원 규모의 기흥 SDR 그린센터 오수처리시설 기계배관 공사 계약을 체결했다고 3일 공시했다.이는 최근 매출액 대비 48.78%에 해당한다. 계약 기간은 지난 30일부터 내년 12월 31일까지다.'"
            ],
            "application/vnd.google.colaboratory.intrinsic+json": {
              "type": "string"
            }
          },
          "metadata": {},
          "execution_count": 91
        }
      ]
    },
    {
      "cell_type": "code",
      "source": [
        "result['word'].index()"
      ],
      "metadata": {
        "id": "QY-vX00vNLyM"
      },
      "execution_count": null,
      "outputs": []
    },
    {
      "cell_type": "code",
      "source": [
        "'''\n",
        "  todo : 유사도 threshold로 word filtering\n",
        "'''"
      ],
      "metadata": {
        "id": "BOdvOz985F71"
      },
      "execution_count": null,
      "outputs": []
    },
    {
      "cell_type": "code",
      "source": [],
      "metadata": {
        "id": "eNzZI4yd5Ftc"
      },
      "execution_count": null,
      "outputs": []
    },
    {
      "cell_type": "markdown",
      "source": [
        "### 키워드 빈도수 계산"
      ],
      "metadata": {
        "id": "2ehFBbv_4pL-"
      }
    },
    {
      "cell_type": "code",
      "source": [
        "word_counts = {}\n",
        "for word in words:\n",
        "    count = text.count(word)\n",
        "    word_counts[word] = count"
      ],
      "metadata": {
        "id": "0J1zc7eM4omG"
      },
      "execution_count": null,
      "outputs": []
    },
    {
      "cell_type": "code",
      "source": [
        "word_counts"
      ],
      "metadata": {
        "colab": {
          "base_uri": "https://localhost:8080/"
        },
        "id": "nINedIBL4QeH",
        "outputId": "07c2a191-5da0-43a6-9714-de1ed241653b"
      },
      "execution_count": null,
      "outputs": [
        {
          "output_type": "execute_result",
          "data": {
            "text/plain": [
              "{'챗': 1,\n",
              " '등': 1,\n",
              " '출현': 1,\n",
              " '미국 반도체 업체 엔비디아 주가': 1,\n",
              " '연일': 1,\n",
              " '행진': 1,\n",
              " '어가': 1,\n",
              " '차기': 1,\n",
              " '혜주': 1,\n",
              " '관심': 1}"
            ]
          },
          "metadata": {},
          "execution_count": 33
        }
      ]
    },
    {
      "cell_type": "code",
      "source": [],
      "metadata": {
        "id": "8ojvYDaJ4ZPk"
      },
      "execution_count": null,
      "outputs": []
    },
    {
      "cell_type": "code",
      "source": [
        "'''\n",
        "  todo :\n",
        "  1. 뉴스 제목과 word의 유사도 측정\n",
        "  2. 빈도수, 제목과 유사성, 본문과 유사성 등 을 합쳐 점수 계산\n",
        "  (option) 기사 간 키워드 클러스터링 해서 filtering\n",
        "'''"
      ],
      "metadata": {
        "id": "oOFahDC94CbE"
      },
      "execution_count": null,
      "outputs": []
    },
    {
      "cell_type": "code",
      "source": [],
      "metadata": {
        "id": "vpTWM1jz4C0h"
      },
      "execution_count": null,
      "outputs": []
    },
    {
      "cell_type": "code",
      "source": [],
      "metadata": {
        "id": "WIdcILnO4DIS"
      },
      "execution_count": null,
      "outputs": []
    },
    {
      "cell_type": "code",
      "source": [
        "'''\n",
        "  todo : option\n",
        "  급상승 키워드 재순위화\n",
        "'''"
      ],
      "metadata": {
        "id": "4rrtsYJOyDCp"
      },
      "execution_count": null,
      "outputs": []
    },
    {
      "cell_type": "code",
      "source": [],
      "metadata": {
        "id": "N-vrylfxt3Mr"
      },
      "execution_count": null,
      "outputs": []
    },
    {
      "cell_type": "code",
      "source": [],
      "metadata": {
        "id": "_-m4zal0t3J_"
      },
      "execution_count": null,
      "outputs": []
    },
    {
      "cell_type": "code",
      "source": [
        "'''\n",
        "나중에 참고용\n",
        "elastric search 도입 참고용\n",
        "https://www.lesstif.com/dbms/elastic-search-nori-80248960.html\n",
        "'''"
      ],
      "metadata": {
        "id": "sHsULSEyt3GK"
      },
      "execution_count": null,
      "outputs": []
    },
    {
      "cell_type": "code",
      "source": [],
      "metadata": {
        "id": "8lWwifjxt3DB"
      },
      "execution_count": null,
      "outputs": []
    }
  ]
}