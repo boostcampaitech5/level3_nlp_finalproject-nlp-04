{
 "cells": [
  {
   "cell_type": "code",
   "execution_count": 1,
   "metadata": {
    "collapsed": true
   },
   "outputs": [],
   "source": [
    "import pandas as pd\n",
    "import os\n",
    "import sys\n",
    "import numpy as np\n",
    "from pathlib import Path\n",
    "from tqdm import trange\n",
    "from transformers import AutoModel, AutoTokenizer\n",
    "from konlpy.tag import Mecab, Okt"
   ]
  },
  {
   "cell_type": "code",
   "execution_count": 2,
   "outputs": [],
   "source": [
    "sys.path.append(str(Path.home().joinpath(\"level3_nlp_finalproject-nlp-04\")))\n",
    "from utils.preprocessing import *"
   ],
   "metadata": {
    "collapsed": false
   }
  },
  {
   "cell_type": "code",
   "execution_count": 3,
   "outputs": [],
   "source": [
    "news = pd.read_csv(Path.cwd().parent.joinpath(\"Data\", \"News\", \"005930.csv\"))"
   ],
   "metadata": {
    "collapsed": false
   }
  },
  {
   "cell_type": "code",
   "execution_count": 4,
   "outputs": [],
   "source": [
    "# news = preprocess_dataframe(news)\n",
    "news['content'].replace('', np.nan, inplace=True)\n",
    "news.dropna(subset=['content'], inplace=True)\n",
    "news.reset_index(drop=True, inplace=True)"
   ],
   "metadata": {
    "collapsed": false
   }
  },
  {
   "cell_type": "code",
   "execution_count": 5,
   "outputs": [
    {
     "data": {
      "text/plain": "     company                                       title  \\\n0       삼성전자             “지독한 중국 떼로 덤비더니” 삼성 점유율 절반 뺏아갔다   \n1       삼성전자            “반도체 시간이 온다”…야심작 출격한 삼성전자, 비밀병기는   \n2       삼성전자               D램 격차 더 벌린 삼성전자…업계 첫 12나노급 양산   \n3       삼성전자           현대차에 내준 '영업이익 1위' 삼성전자, 하반기엔 되찾는다   \n4       삼성전자                     삼성전자 '12나노급 D램' 세계 첫 양산   \n...      ...                                         ...   \n2874    삼성전자  [특징주] 삼성전자, 장중 7만원선 밑돌아…외인 매도에 1% 하락(종합...   \n2875    삼성전자  AMD CEO \"韓 언론을 믿냐\"…삼성, AMD 3나노 수주보도에 'T...   \n2876    삼성전자  바닥 찍은 반도체·디스플레이… 삼성전자·LGD, 4분기 흑자전환 기대감...   \n2877    삼성전자  '황금명함'만 있는 게 아니다...삼성전자 새내기 부모님 '이것' 받고...   \n2878    삼성전자                [특징주] 삼성전자, 2% 하락해 다시 ‘6만전자’   \n\n                                                   link  writer  \\\n0     https://finance.naver.com/item/news_read.naver...   헤럴드경제   \n1     https://finance.naver.com/item/news_read.naver...    매일경제   \n2     https://finance.naver.com/item/news_read.naver...  파이낸셜뉴스   \n3     https://finance.naver.com/item/news_read.naver...    매일경제   \n4     https://finance.naver.com/item/news_read.naver...    매일경제   \n...                                                 ...     ...   \n2874  https://finance.naver.com/item/news_read.naver...    연합뉴스   \n2875  https://finance.naver.com/item/news_read.naver...   아시아경제   \n2876  https://finance.naver.com/item/news_read.naver...    조선비즈   \n2877  https://finance.naver.com/item/news_read.naver...  파이낸셜뉴스   \n2878  https://finance.naver.com/item/news_read.naver...    조선비즈   \n\n                  date                                            content  \n0     2023.05.18 22:14  중국 화웨이 폴더블폰 S포켓[헤럴드경제= 박영훈 기자] “삼성 타도 외치더니”  중...  \n1     2023.05.18 19:02  12나노급 DDR5 D램 양산 EUV 공정 등 기술력 총동원 DDR5로의 시장 전환...  \n2     2023.05.18 18:41  1초에 UHD 영화 2편 처리 가능 생산성 20% 소비전력 23% 개선 ‘챗GPT’...  \n3     2023.05.18 17:46  현대차 실적 상고하저 예상 3분기 2조8200억원 그칠듯 삼성전자 하반기 본격 반등...  \n4     2023.05.18 17:43  반도체 업황부진 뚫을 야심작 생산성 20%·소비전력 23% ↑삼성전자가 메모리반도체...  \n...                ...                                                ...  \n2874  2023.07.21 15:44  (CG) [연합뉴스TV 제공](서울=연합뉴스) 송은경 기자 = 글로벌 반도체 업종 ...  \n2875  2023.07.21 15:32  4년 만에 대만 방문한 리사 수 AMD CEO미국 반도체 업계를 대표하는 대만계 경...  \n2876  2023.07.21 15:26  삼성전자, 3분기부터 메모리 감산 효과 본격화 3분기 들어 D램 가격 하락폭도 안정...  \n2877  2023.07.21 14:53  삼성전자 반도체(DS)부문 입사 예정자들에게 전달된 황금명함과 꽃다발, 경계현 사장...  \n2878  2023.07.21 09:22  21일 삼성전자가 2% 하락하며 다시 ‘6만전자’로 내려앉았다. 전날 미국 뉴욕증시...  \n\n[2879 rows x 6 columns]",
      "text/html": "<div>\n<style scoped>\n    .dataframe tbody tr th:only-of-type {\n        vertical-align: middle;\n    }\n\n    .dataframe tbody tr th {\n        vertical-align: top;\n    }\n\n    .dataframe thead th {\n        text-align: right;\n    }\n</style>\n<table border=\"1\" class=\"dataframe\">\n  <thead>\n    <tr style=\"text-align: right;\">\n      <th></th>\n      <th>company</th>\n      <th>title</th>\n      <th>link</th>\n      <th>writer</th>\n      <th>date</th>\n      <th>content</th>\n    </tr>\n  </thead>\n  <tbody>\n    <tr>\n      <th>0</th>\n      <td>삼성전자</td>\n      <td>“지독한 중국 떼로 덤비더니” 삼성 점유율 절반 뺏아갔다</td>\n      <td>https://finance.naver.com/item/news_read.naver...</td>\n      <td>헤럴드경제</td>\n      <td>2023.05.18 22:14</td>\n      <td>중국 화웨이 폴더블폰 S포켓[헤럴드경제= 박영훈 기자] “삼성 타도 외치더니”  중...</td>\n    </tr>\n    <tr>\n      <th>1</th>\n      <td>삼성전자</td>\n      <td>“반도체 시간이 온다”…야심작 출격한 삼성전자, 비밀병기는</td>\n      <td>https://finance.naver.com/item/news_read.naver...</td>\n      <td>매일경제</td>\n      <td>2023.05.18 19:02</td>\n      <td>12나노급 DDR5 D램 양산 EUV 공정 등 기술력 총동원 DDR5로의 시장 전환...</td>\n    </tr>\n    <tr>\n      <th>2</th>\n      <td>삼성전자</td>\n      <td>D램 격차 더 벌린 삼성전자…업계 첫 12나노급 양산</td>\n      <td>https://finance.naver.com/item/news_read.naver...</td>\n      <td>파이낸셜뉴스</td>\n      <td>2023.05.18 18:41</td>\n      <td>1초에 UHD 영화 2편 처리 가능 생산성 20% 소비전력 23% 개선 ‘챗GPT’...</td>\n    </tr>\n    <tr>\n      <th>3</th>\n      <td>삼성전자</td>\n      <td>현대차에 내준 '영업이익 1위' 삼성전자, 하반기엔 되찾는다</td>\n      <td>https://finance.naver.com/item/news_read.naver...</td>\n      <td>매일경제</td>\n      <td>2023.05.18 17:46</td>\n      <td>현대차 실적 상고하저 예상 3분기 2조8200억원 그칠듯 삼성전자 하반기 본격 반등...</td>\n    </tr>\n    <tr>\n      <th>4</th>\n      <td>삼성전자</td>\n      <td>삼성전자 '12나노급 D램' 세계 첫 양산</td>\n      <td>https://finance.naver.com/item/news_read.naver...</td>\n      <td>매일경제</td>\n      <td>2023.05.18 17:43</td>\n      <td>반도체 업황부진 뚫을 야심작 생산성 20%·소비전력 23% ↑삼성전자가 메모리반도체...</td>\n    </tr>\n    <tr>\n      <th>...</th>\n      <td>...</td>\n      <td>...</td>\n      <td>...</td>\n      <td>...</td>\n      <td>...</td>\n      <td>...</td>\n    </tr>\n    <tr>\n      <th>2874</th>\n      <td>삼성전자</td>\n      <td>[특징주] 삼성전자, 장중 7만원선 밑돌아…외인 매도에 1% 하락(종합...</td>\n      <td>https://finance.naver.com/item/news_read.naver...</td>\n      <td>연합뉴스</td>\n      <td>2023.07.21 15:44</td>\n      <td>(CG) [연합뉴스TV 제공](서울=연합뉴스) 송은경 기자 = 글로벌 반도체 업종 ...</td>\n    </tr>\n    <tr>\n      <th>2875</th>\n      <td>삼성전자</td>\n      <td>AMD CEO \"韓 언론을 믿냐\"…삼성, AMD 3나노 수주보도에 'T...</td>\n      <td>https://finance.naver.com/item/news_read.naver...</td>\n      <td>아시아경제</td>\n      <td>2023.07.21 15:32</td>\n      <td>4년 만에 대만 방문한 리사 수 AMD CEO미국 반도체 업계를 대표하는 대만계 경...</td>\n    </tr>\n    <tr>\n      <th>2876</th>\n      <td>삼성전자</td>\n      <td>바닥 찍은 반도체·디스플레이… 삼성전자·LGD, 4분기 흑자전환 기대감...</td>\n      <td>https://finance.naver.com/item/news_read.naver...</td>\n      <td>조선비즈</td>\n      <td>2023.07.21 15:26</td>\n      <td>삼성전자, 3분기부터 메모리 감산 효과 본격화 3분기 들어 D램 가격 하락폭도 안정...</td>\n    </tr>\n    <tr>\n      <th>2877</th>\n      <td>삼성전자</td>\n      <td>'황금명함'만 있는 게 아니다...삼성전자 새내기 부모님 '이것' 받고...</td>\n      <td>https://finance.naver.com/item/news_read.naver...</td>\n      <td>파이낸셜뉴스</td>\n      <td>2023.07.21 14:53</td>\n      <td>삼성전자 반도체(DS)부문 입사 예정자들에게 전달된 황금명함과 꽃다발, 경계현 사장...</td>\n    </tr>\n    <tr>\n      <th>2878</th>\n      <td>삼성전자</td>\n      <td>[특징주] 삼성전자, 2% 하락해 다시 ‘6만전자’</td>\n      <td>https://finance.naver.com/item/news_read.naver...</td>\n      <td>조선비즈</td>\n      <td>2023.07.21 09:22</td>\n      <td>21일 삼성전자가 2% 하락하며 다시 ‘6만전자’로 내려앉았다. 전날 미국 뉴욕증시...</td>\n    </tr>\n  </tbody>\n</table>\n<p>2879 rows × 6 columns</p>\n</div>"
     },
     "execution_count": 5,
     "metadata": {},
     "output_type": "execute_result"
    }
   ],
   "source": [
    "news"
   ],
   "metadata": {
    "collapsed": false
   }
  },
  {
   "cell_type": "code",
   "execution_count": null,
   "outputs": [],
   "source": [
    "# Train New Tokenizer\n",
    "# def get_news(news):\n",
    "# \tcontent = news['content']\n",
    "# \tfor start_idx in range(0, len(content), 1000):\n",
    "# \t\tsamples = content[start_idx:start_idx+1000]\n",
    "# \t\tyield samples"
   ],
   "metadata": {
    "collapsed": false
   }
  },
  {
   "cell_type": "code",
   "execution_count": null,
   "outputs": [],
   "source": [
    "# tokenizer = AutoTokenizer.from_pretrained(\"klue/roberta-base\")\n",
    "# trained_tokenizer = tokenizer.train_new_from_iterator(get_news(news), vocab_size=32000)"
   ],
   "metadata": {
    "collapsed": false
   }
  },
  {
   "cell_type": "code",
   "execution_count": null,
   "outputs": [],
   "source": [
    "# trained_tokenizer.tokenize(news.sample(1)['content'].item())"
   ],
   "metadata": {
    "collapsed": false
   }
  },
  {
   "cell_type": "code",
   "execution_count": null,
   "outputs": [],
   "source": [
    "okt = Okt()"
   ],
   "metadata": {
    "collapsed": false
   }
  },
  {
   "cell_type": "code",
   "execution_count": null,
   "outputs": [],
   "source": [
    "company = news['company'].unique()"
   ],
   "metadata": {
    "collapsed": false
   }
  },
  {
   "cell_type": "code",
   "execution_count": null,
   "outputs": [],
   "source": [
    "ecopro = news[news['company'] == '에코프로']['content']"
   ],
   "metadata": {
    "collapsed": false
   }
  },
  {
   "cell_type": "code",
   "execution_count": null,
   "outputs": [],
   "source": [
    "samsung = news[news['company'] == '삼성전자']['content']"
   ],
   "metadata": {
    "collapsed": false
   }
  },
  {
   "cell_type": "code",
   "execution_count": null,
   "outputs": [],
   "source": [
    "for i in trange(len(samsung)):\n",
    "\tsamsung[i] = \" \".join(okt.nouns(samsung[i]))"
   ],
   "metadata": {
    "collapsed": false
   }
  },
  {
   "cell_type": "code",
   "execution_count": null,
   "outputs": [],
   "source": [
    "from krwordrank.word import summarize_with_keywords, KRWordRank"
   ],
   "metadata": {
    "collapsed": false
   }
  },
  {
   "cell_type": "code",
   "execution_count": null,
   "outputs": [],
   "source": [
    "wordrank_extractor = KRWordRank(min_count=10, max_length=100)\n",
    "\n",
    "beta = 0.85\n",
    "max_iter = 10\n",
    "keywords, rank, graph = wordrank_extractor.extract(samsung.tolist(), beta, max_iter)"
   ],
   "metadata": {
    "collapsed": false
   }
  },
  {
   "cell_type": "code",
   "execution_count": null,
   "outputs": [],
   "source": [],
   "metadata": {
    "collapsed": false
   }
  },
  {
   "cell_type": "code",
   "execution_count": null,
   "outputs": [],
   "source": [
    "for key, score in sorted(graph[5].items(), reverse=True, key=lambda x: x[1])[:100]:\n",
    "\tprint(wordrank_extractor.int2token(key))\n",
    "\tprint(score)"
   ],
   "metadata": {
    "collapsed": false
   }
  },
  {
   "cell_type": "code",
   "execution_count": null,
   "outputs": [],
   "source": [
    "samsung_keywords = summarize_with_keywords(samsung.tolist(),\n",
    "\t\t\t\t\t\t\t\t   min_count=10,\n",
    "\t\t\t\t\t\t\t\t   max_length=100,\n",
    "\t\t\t\t\t\t\t\t   beta=0.85,\n",
    "\t\t\t\t\t\t\t\t   max_iter=10,\n",
    "\t\t\t\t\t\t\t\t   verbose=False)"
   ],
   "metadata": {
    "collapsed": false
   }
  },
  {
   "cell_type": "code",
   "execution_count": null,
   "outputs": [],
   "source": [
    "samsung_keywords"
   ],
   "metadata": {
    "collapsed": false
   }
  },
  {
   "cell_type": "code",
   "execution_count": null,
   "outputs": [],
   "source": [
    "ecopro_keywords = summarize_with_keywords(ecopro.tolist(),\n",
    "\t\t\t\t\t\t\t\t   min_count=10,\n",
    "\t\t\t\t\t\t\t\t   max_length=100,\n",
    "\t\t\t\t\t\t\t\t   beta=0.85,\n",
    "\t\t\t\t\t\t\t\t   max_iter=10,\n",
    "\t\t\t\t\t\t\t\t   verbose=True)\n",
    "ecopro_keywords"
   ],
   "metadata": {
    "collapsed": false
   }
  },
  {
   "cell_type": "code",
   "execution_count": null,
   "outputs": [],
   "source": [
    "top_k = set(samsung_keywords) - set(ecopro_keywords)"
   ],
   "metadata": {
    "collapsed": false
   }
  },
  {
   "cell_type": "code",
   "execution_count": null,
   "outputs": [],
   "source": [
    "t = {key : samsung_keywords[key] for key in top_k}"
   ],
   "metadata": {
    "collapsed": false
   }
  },
  {
   "cell_type": "code",
   "execution_count": null,
   "outputs": [],
   "source": [
    "sorted(t.items() , reverse=True, key=lambda x: x[1])"
   ],
   "metadata": {
    "collapsed": false
   }
  },
  {
   "cell_type": "code",
   "execution_count": null,
   "outputs": [],
   "source": [],
   "metadata": {
    "collapsed": false
   }
  }
 ],
 "metadata": {
  "kernelspec": {
   "display_name": "Python 3",
   "language": "python",
   "name": "python3"
  },
  "language_info": {
   "codemirror_mode": {
    "name": "ipython",
    "version": 2
   },
   "file_extension": ".py",
   "mimetype": "text/x-python",
   "name": "python",
   "nbconvert_exporter": "python",
   "pygments_lexer": "ipython2",
   "version": "2.7.6"
  }
 },
 "nbformat": 4,
 "nbformat_minor": 0
}
