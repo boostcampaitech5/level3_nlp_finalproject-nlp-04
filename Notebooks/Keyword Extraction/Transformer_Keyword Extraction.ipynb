{
 "cells": [
  {
   "cell_type": "code",
   "execution_count": null,
   "metadata": {
    "collapsed": true
   },
   "outputs": [],
   "source": [
    "import pandas as pd\n",
    "import numpy as np\n",
    "import sys\n",
    "\n",
    "from konlpy.tag import Okt, Mecab\n",
    "from pathlib import Path"
   ]
  },
  {
   "cell_type": "code",
   "execution_count": null,
   "outputs": [],
   "source": [
    "sys.path.append(str(Path.home().joinpath(\"level3_nlp_finalproject-nlp-04\")))"
   ],
   "metadata": {
    "collapsed": false
   }
  },
  {
   "cell_type": "code",
   "execution_count": null,
   "outputs": [],
   "source": [
    "from utils.preprocessing import *\n",
    "from keyword_extractor.model import KeyBert"
   ],
   "metadata": {
    "collapsed": false
   }
  },
  {
   "cell_type": "code",
   "execution_count": null,
   "outputs": [],
   "source": [
    "df = pd.read_csv(Path.cwd().parent.joinpath(\"Data\", \"News\", \"005930.csv\"))"
   ],
   "metadata": {
    "collapsed": false
   }
  },
  {
   "cell_type": "code",
   "execution_count": null,
   "outputs": [],
   "source": [
    "df['content'] = df['content'].apply(lambda x : all_preprocessing(x))"
   ],
   "metadata": {
    "collapsed": false
   }
  },
  {
   "cell_type": "code",
   "execution_count": null,
   "outputs": [],
   "source": [
    "okt = Okt()\n",
    "mecab = Mecab()"
   ],
   "metadata": {
    "collapsed": false
   }
  },
  {
   "cell_type": "code",
   "execution_count": null,
   "outputs": [],
   "source": [
    "# Sentence-Transformer => STS, NLI 데이터셋"
   ],
   "metadata": {
    "collapsed": false
   }
  },
  {
   "cell_type": "code",
   "execution_count": null,
   "outputs": [],
   "source": [
    "model1 = KeyBert(\"jhgan/ko-sroberta-multitask\")\n",
    "model2 = KeyBert(\"jhgan/ko-sroberta-nli\")\n",
    "model3 = KeyBert(\"snunlp/KR-SBERT-V40K-klueNLI-augSTS\")\n",
    "model4 = KeyBert(\"sentence-transformers/xlm-r-100langs-bert-base-nli-stsb-mean-tokens\")"
   ],
   "metadata": {
    "collapsed": false
   }
  },
  {
   "cell_type": "code",
   "execution_count": null,
   "outputs": [],
   "source": [
    "# mecab_word = df['content'].sample(10).apply(lambda x : \" \".join(okt.nouns(x))).tolist()\n",
    "mecab_word = df['content'].sample(10).tolist()"
   ],
   "metadata": {
    "collapsed": false
   }
  },
  {
   "cell_type": "code",
   "execution_count": null,
   "outputs": [],
   "source": [
    "for corpus in mecab_word:\n",
    "\tprint(\"Sentence : \", corpus)\n",
    "\tprint(\"=\"*5)\n",
    "\tprint(\"(sroberta-multi, sroberta-nli, v40k, xlm)\")\n",
    "\tfor (a, b, c, d) in zip(model1.extract_keywords(corpus,\n",
    "\t\t\t\t\t\t\t\t\t\t\t\t\tdiversity=0.9,\n",
    "\t\t\t\t\t\t\t\t\t\t\t\t\tcandidate_frac=0.5,\n",
    "\t\t\t\t\t\t\t\t\t\t\t\t\tstop_words = ['삼성전자', '삼성', '전자'],\n",
    "\t\t\t\t\t\t\t\t\t\t\t\t\ttag_type=\"okt\")[0],\n",
    "\n",
    "\t\t\t\t\t\t\tmodel2.extract_keywords(corpus,\n",
    "\t\t\t\t\t\t\t\t\t\t\t\t\tdiversity=0.9,\n",
    "\t\t\t\t\t\t\t\t\t\t\t\t\tcandidate_frac=0.5,\n",
    "\t\t\t\t\t\t\t\t\t\t\t\t\tstop_words = ['삼성전자', '삼성', '전자'],\n",
    "\t\t\t\t\t\t\t\t\t\t\t\t\ttag_type=\"okt\")[0],\n",
    "\t\t\t\t\t\t\tmodel3.extract_keywords(corpus,\n",
    "\t\t\t\t\t\t\t\t\t\t\t\t\tdiversity=0.9,\n",
    "\t\t\t\t\t\t\t\t\t\t\t\t\tcandidate_frac=0.5,\n",
    "\t\t\t\t\t\t\t\t\t\t\t\t\tstop_words = ['삼성전자', '삼성', '전자'],\n",
    "\t\t\t\t\t\t\t\t\t\t\t\t\ttag_type=\"okt\")[0],\n",
    "\t\t\t\t\t\t\tmodel4.extract_keywords(corpus,\n",
    "\t\t\t\t\t\t\t\t\t\t\t\t\tdiversity=0.9,\n",
    "\t\t\t\t\t\t\t\t\t\t\t\t\tcandidate_frac=0.5,\n",
    "\t\t\t\t\t\t\t\t\t\t\t\t\tstop_words = ['삼성전자', '삼성', '전자'],\n",
    "\t\t\t\t\t\t\t\t\t\t\t\t\ttag_type=\"okt\")[0]):\n",
    "\t\tprint(a, b, c, d)\n",
    "\tprint(\"=\"*10)"
   ],
   "metadata": {
    "collapsed": false
   }
  },
  {
   "cell_type": "code",
   "execution_count": null,
   "outputs": [],
   "source": [
    "keywords = model3.extract_keywords(mecab_word,\n",
    "\t\t\t\t\t\tkeyphrase_ngram_range=(1, 1),\n",
    "\t\t\t\t\t\tdiversity=0.9,\n",
    "\t\t\t\t\t\tcandidate_frac=0.5,\n",
    "\t\t\t\t\t\tstop_words = ['삼성전자', '삼성', '전자'])"
   ],
   "metadata": {
    "collapsed": false
   }
  },
  {
   "cell_type": "code",
   "execution_count": null,
   "outputs": [],
   "source": [
    "keywords"
   ],
   "metadata": {
    "collapsed": false
   }
  },
  {
   "cell_type": "code",
   "execution_count": null,
   "outputs": [],
   "source": [
    "for keyword, score in keywords[0]:\n",
    "\tprint(keyword)\n",
    "\tap = okt.pos(keyword)\n",
    "\n",
    "\twhile len(ap)!=0 and \"N\" != ap[-1][1][0]:\n",
    "\t\tap.pop()\n",
    "\tprint(\"\".join([a[0] for a in ap]))"
   ],
   "metadata": {
    "collapsed": false
   }
  },
  {
   "cell_type": "code",
   "execution_count": null,
   "outputs": [],
   "source": [
    "mecab.pos(\"갤럭시s23울트라의\")"
   ],
   "metadata": {
    "collapsed": false
   }
  },
  {
   "cell_type": "code",
   "execution_count": null,
   "outputs": [],
   "source": [],
   "metadata": {
    "collapsed": false
   }
  }
 ],
 "metadata": {
  "kernelspec": {
   "display_name": "Python 3",
   "language": "python",
   "name": "python3"
  },
  "language_info": {
   "codemirror_mode": {
    "name": "ipython",
    "version": 2
   },
   "file_extension": ".py",
   "mimetype": "text/x-python",
   "name": "python",
   "nbconvert_exporter": "python",
   "pygments_lexer": "ipython2",
   "version": "2.7.6"
  }
 },
 "nbformat": 4,
 "nbformat_minor": 0
}
