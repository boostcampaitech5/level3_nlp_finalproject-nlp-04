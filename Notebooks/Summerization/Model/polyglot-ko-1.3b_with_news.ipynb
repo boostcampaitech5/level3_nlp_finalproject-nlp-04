{
 "cells": [
  {
   "cell_type": "markdown",
   "metadata": {
    "id": "XIyP_0r6zuVc"
   },
   "source": [
    "# `transformers` meets `bitsandbytes` for democratzing Large Language Models (LLMs) through 4bit quantization\n",
    "\n",
    "<center>\n",
    "<img src=\"https://github.com/huggingface/blog/blob/main/assets/96_hf_bitsandbytes_integration/Thumbnail_blue.png?raw=true\" alt=\"drawing\" width=\"700\" class=\"center\"/>\n",
    "</center>\n",
    "\n",
    "Welcome to this notebook that goes through the recent `bitsandbytes` integration that includes the work from XXX that introduces no performance degradation 4bit quantization techniques, for democratizing LLMs inference and training.\n",
    "\n",
    "In this notebook, we will learn together how to load a large model in 4bit (`gpt-neo-x-20b`) and train it using Google Colab and PEFT library from Hugging Face 🤗.\n",
    "\n",
    "[In the general usage notebook](https://colab.research.google.com/drive/1ge2F1QSK8Q7h0hn3YKuBCOAS0bK8E0wf?usp=sharing), you can learn how to propely load a model in 4bit with all its variants.\n",
    "\n",
    "If you liked the previous work for integrating [*LLM.int8*](https://arxiv.org/abs/2208.07339), you can have a look at the [introduction blogpost](https://huggingface.co/blog/hf-bitsandbytes-integration) to lean more about that quantization method.\n"
   ]
  },
  {
   "cell_type": "code",
   "execution_count": 1,
   "metadata": {
    "colab": {
     "base_uri": "https://localhost:8080/"
    },
    "id": "CHX-RCPdkXgP",
    "outputId": "d294f833-6f45-4014-e4ed-75ef26141a0b"
   },
   "outputs": [
    {
     "name": "stdout",
     "output_type": "stream",
     "text": [
      "Tue Jul 18 01:47:13 2023       \n",
      "+-----------------------------------------------------------------------------+\n",
      "| NVIDIA-SMI 450.80.02    Driver Version: 450.80.02    CUDA Version: 11.0     |\n",
      "|-------------------------------+----------------------+----------------------+\n",
      "| GPU  Name        Persistence-M| Bus-Id        Disp.A | Volatile Uncorr. ECC |\n",
      "| Fan  Temp  Perf  Pwr:Usage/Cap|         Memory-Usage | GPU-Util  Compute M. |\n",
      "|                               |                      |               MIG M. |\n",
      "|===============================+======================+======================|\n",
      "|   0  Tesla V100-PCIE...  Off  | 00000000:00:05.0 Off |                  Off |\n",
      "| N/A   43C    P0    37W / 250W |      0MiB / 32510MiB |      0%      Default |\n",
      "|                               |                      |                  N/A |\n",
      "+-------------------------------+----------------------+----------------------+\n",
      "                                                                               \n",
      "+-----------------------------------------------------------------------------+\n",
      "| Processes:                                                                  |\n",
      "|  GPU   GI   CI        PID   Type   Process name                  GPU Memory |\n",
      "|        ID   ID                                                   Usage      |\n",
      "|=============================================================================|\n",
      "|  No running processes found                                                 |\n",
      "+-----------------------------------------------------------------------------+\n"
     ]
    }
   ],
   "source": [
    "!nvidia-smi"
   ]
  },
  {
   "cell_type": "code",
   "execution_count": 10,
   "metadata": {
    "colab": {
     "base_uri": "https://localhost:8080/"
    },
    "id": "FuXIFTFapAMI",
    "outputId": "340f0ca7-6dfd-4350-b2d2-15f983adfc66"
   },
   "outputs": [
    {
     "name": "stdout",
     "output_type": "stream",
     "text": [
      "\u001b[33mWARNING: Running pip as the 'root' user can result in broken permissions and conflicting behaviour with the system package manager. It is recommended to use a virtual environment instead: https://pip.pypa.io/warnings/venv\u001b[0m\u001b[33m\n",
      "\u001b[0m\u001b[33mWARNING: Running pip as the 'root' user can result in broken permissions and conflicting behaviour with the system package manager. It is recommended to use a virtual environment instead: https://pip.pypa.io/warnings/venv\u001b[0m\u001b[33m\n",
      "\u001b[0m\u001b[33mWARNING: Running pip as the 'root' user can result in broken permissions and conflicting behaviour with the system package manager. It is recommended to use a virtual environment instead: https://pip.pypa.io/warnings/venv\u001b[0m\u001b[33m\n",
      "\u001b[0m\u001b[33mWARNING: Running pip as the 'root' user can result in broken permissions and conflicting behaviour with the system package manager. It is recommended to use a virtual environment instead: https://pip.pypa.io/warnings/venv\u001b[0m\u001b[33m\n",
      "\u001b[0m\u001b[33mWARNING: Running pip as the 'root' user can result in broken permissions and conflicting behaviour with the system package manager. It is recommended to use a virtual environment instead: https://pip.pypa.io/warnings/venv\u001b[0m\u001b[33m\n",
      "\u001b[0m"
     ]
    }
   ],
   "source": [
    "# !pip install -q -U bitsandbytes\n",
    "# !pip install -q -U git+https://github.com/huggingface/transformers.git\n",
    "# !pip install -q -U git+https://github.com/huggingface/peft.git\n",
    "# !pip install -q -U git+https://github.com/huggingface/accelerate.git\n",
    "# !pip install -q datasets"
   ]
  },
  {
   "cell_type": "markdown",
   "metadata": {
    "id": "MJ-5idQwzvg-"
   },
   "source": [
    "First let's load the model we are going to use - GPT-neo-x-20B! Note that the model itself is around 40GB in half precision"
   ]
  },
  {
   "cell_type": "code",
   "execution_count": 2,
   "metadata": {
    "colab": {
     "base_uri": "https://localhost:8080/",
     "height": 87,
     "referenced_widgets": [
      "278070bfaaac4794a649f11306ad2947",
      "5391d6d2385549319099d3bf653c34ee",
      "ee696f00718b43989f653dd01391a87d",
      "e39e4f5284224bfdbde4359d8593d206",
      "0a91d94890634dc1bb43176347c27fec",
      "ec9d84f9337948cba5562b7e995bb2ef",
      "3473e65596d5455385269f59e6159e38",
      "416d78e5558f4019972720c8d52a410b",
      "388757e992344b06b2fc7e4573eba77d",
      "664f6a3720a446929197650580dd005d",
      "92e0594143bd4c2690dc3ddaa0170b17"
     ]
    },
    "id": "jm4FzCvfeYcK",
    "outputId": "bf40f8d2-7603-407d-fba5-6686eddd49aa"
   },
   "outputs": [
    {
     "name": "stderr",
     "output_type": "stream",
     "text": [
      "Found cached dataset csv (/opt/ml/.cache/huggingface/datasets/daekeun-ml___csv/daekeun-ml--naver-news-summarization-ko-314b3fce3cddf558/0.0.0/eea64c71ca8b46dd3f537ed218fc9bf495d5707789152eb2764f5c78fa66d59d)\n"
     ]
    },
    {
     "data": {
      "application/vnd.jupyter.widget-view+json": {
       "model_id": "dec17cc58fc94e80b18865f0c6c4f611",
       "version_major": 2,
       "version_minor": 0
      },
      "text/plain": [
       "  0%|          | 0/3 [00:00<?, ?it/s]"
      ]
     },
     "metadata": {},
     "output_type": "display_data"
    }
   ],
   "source": [
    "from datasets import load_dataset\n",
    "\n",
    "data = load_dataset(\"daekeun-ml/naver-news-summarization-ko\")"
   ]
  },
  {
   "cell_type": "code",
   "execution_count": 3,
   "metadata": {
    "colab": {
     "base_uri": "https://localhost:8080/"
    },
    "id": "2KUhV7x3e6Db",
    "outputId": "1fdf62ba-5269-435c-dd11-29a381ba04c7"
   },
   "outputs": [
    {
     "data": {
      "text/plain": [
       "DatasetDict({\n",
       "    train: Dataset({\n",
       "        features: ['date', 'category', 'press', 'title', 'document', 'link', 'summary'],\n",
       "        num_rows: 22194\n",
       "    })\n",
       "    validation: Dataset({\n",
       "        features: ['date', 'category', 'press', 'title', 'document', 'link', 'summary'],\n",
       "        num_rows: 2466\n",
       "    })\n",
       "    test: Dataset({\n",
       "        features: ['date', 'category', 'press', 'title', 'document', 'link', 'summary'],\n",
       "        num_rows: 2740\n",
       "    })\n",
       "})"
      ]
     },
     "execution_count": 3,
     "metadata": {},
     "output_type": "execute_result"
    }
   ],
   "source": [
    "data"
   ]
  },
  {
   "cell_type": "code",
   "execution_count": 4,
   "metadata": {
    "colab": {
     "base_uri": "https://localhost:8080/"
    },
    "id": "0FbgsI9sezTJ",
    "outputId": "7df84efa-917f-4d13-e5ba-62fc1d0b3d25"
   },
   "outputs": [
    {
     "name": "stderr",
     "output_type": "stream",
     "text": [
      "Loading cached processed dataset at /opt/ml/.cache/huggingface/datasets/daekeun-ml___csv/daekeun-ml--naver-news-summarization-ko-314b3fce3cddf558/0.0.0/eea64c71ca8b46dd3f537ed218fc9bf495d5707789152eb2764f5c78fa66d59d/cache-b33a50b433e46510.arrow\n",
      "Loading cached processed dataset at /opt/ml/.cache/huggingface/datasets/daekeun-ml___csv/daekeun-ml--naver-news-summarization-ko-314b3fce3cddf558/0.0.0/eea64c71ca8b46dd3f537ed218fc9bf495d5707789152eb2764f5c78fa66d59d/cache-547a310d7a6e930f.arrow\n",
      "Loading cached processed dataset at /opt/ml/.cache/huggingface/datasets/daekeun-ml___csv/daekeun-ml--naver-news-summarization-ko-314b3fce3cddf558/0.0.0/eea64c71ca8b46dd3f537ed218fc9bf495d5707789152eb2764f5c78fa66d59d/cache-f10a0312793924ae.arrow\n"
     ]
    }
   ],
   "source": [
    "# # data\n",
    "# data = data.map(\n",
    "#     lambda x:\n",
    "#     {'text': f\"### 명령어: {x['instruction']}\\n\\n###맥락: {x['input']}\\n\\n### 답변: {x['output']}<|endoftext|>\" }\n",
    "#     if x['input'] else\n",
    "#     {'text':f\"### 명령어: {x['instruction']}\\n\\n### 답변: {x['output']}<|endoftext|>\"},\n",
    "# )\n",
    "# data\n",
    "# data = data.map(\n",
    "#     lambda x: {'text':f\"### 명령어: {x['instruction']}\\n\\n### 답변: {x['output']}<|endoftext|>\"},\n",
    "# )\n",
    "data = data.map(\n",
    "    lambda x: {'text': f\"### 질문: 아래의 문서를 요약해줘.\\n\\n###맥락: {x['document']}\\n\\n### 답변: {x['summary']}<|endoftext|>\" }\n",
    ")"
   ]
  },
  {
   "cell_type": "code",
   "execution_count": 5,
   "metadata": {
    "colab": {
     "base_uri": "https://localhost:8080/"
    },
    "id": "E0Nl5mWL0k2T",
    "outputId": "e601d45a-99f5-46ff-aecf-497ed8754c24"
   },
   "outputs": [
    {
     "data": {
      "application/vnd.jupyter.widget-view+json": {
       "model_id": "a3b20bfff5cf4f8fb30bfb3f273f3425",
       "version_major": 2,
       "version_minor": 0
      },
      "text/plain": [
       "Downloading (…)okenizer_config.json:   0%|          | 0.00/164 [00:00<?, ?B/s]"
      ]
     },
     "metadata": {},
     "output_type": "display_data"
    },
    {
     "data": {
      "application/vnd.jupyter.widget-view+json": {
       "model_id": "d3c522451577404f8884327d01b75f9c",
       "version_major": 2,
       "version_minor": 0
      },
      "text/plain": [
       "Downloading (…)/main/tokenizer.json:   0%|          | 0.00/1.65M [00:00<?, ?B/s]"
      ]
     },
     "metadata": {},
     "output_type": "display_data"
    },
    {
     "data": {
      "application/vnd.jupyter.widget-view+json": {
       "model_id": "dde4276e97d647ad91f09edd3d997970",
       "version_major": 2,
       "version_minor": 0
      },
      "text/plain": [
       "Downloading (…)cial_tokens_map.json:   0%|          | 0.00/185 [00:00<?, ?B/s]"
      ]
     },
     "metadata": {},
     "output_type": "display_data"
    },
    {
     "data": {
      "application/vnd.jupyter.widget-view+json": {
       "model_id": "270ae0c85b3849d9b3a32b813cfc4d24",
       "version_major": 2,
       "version_minor": 0
      },
      "text/plain": [
       "Downloading (…)lve/main/config.json:   0%|          | 0.00/640 [00:00<?, ?B/s]"
      ]
     },
     "metadata": {},
     "output_type": "display_data"
    },
    {
     "data": {
      "application/vnd.jupyter.widget-view+json": {
       "model_id": "57df89e1231d4c539a32fc6a847cf84b",
       "version_major": 2,
       "version_minor": 0
      },
      "text/plain": [
       "Downloading (…)fetensors.index.json:   0%|          | 0.00/31.6k [00:00<?, ?B/s]"
      ]
     },
     "metadata": {},
     "output_type": "display_data"
    },
    {
     "data": {
      "application/vnd.jupyter.widget-view+json": {
       "model_id": "ca7d8d4c20894a80ad450043c6e69081",
       "version_major": 2,
       "version_minor": 0
      },
      "text/plain": [
       "Downloading shards:   0%|          | 0/3 [00:00<?, ?it/s]"
      ]
     },
     "metadata": {},
     "output_type": "display_data"
    },
    {
     "data": {
      "application/vnd.jupyter.widget-view+json": {
       "model_id": "1bc3037580f248f7b40b72587c99b36d",
       "version_major": 2,
       "version_minor": 0
      },
      "text/plain": [
       "Downloading (…)of-00003.safetensors:   0%|          | 0.00/1.00G [00:00<?, ?B/s]"
      ]
     },
     "metadata": {},
     "output_type": "display_data"
    },
    {
     "data": {
      "application/vnd.jupyter.widget-view+json": {
       "model_id": "13ccd8a9fedb429e93b65d5370fabf2e",
       "version_major": 2,
       "version_minor": 0
      },
      "text/plain": [
       "Downloading (…)of-00003.safetensors:   0%|          | 0.00/1.02G [00:00<?, ?B/s]"
      ]
     },
     "metadata": {},
     "output_type": "display_data"
    },
    {
     "data": {
      "application/vnd.jupyter.widget-view+json": {
       "model_id": "e090c9fee842442b8c03277bf36b4490",
       "version_major": 2,
       "version_minor": 0
      },
      "text/plain": [
       "Downloading (…)of-00003.safetensors:   0%|          | 0.00/748M [00:00<?, ?B/s]"
      ]
     },
     "metadata": {},
     "output_type": "display_data"
    },
    {
     "data": {
      "application/vnd.jupyter.widget-view+json": {
       "model_id": "080ff8c3cdb74d3b85f00f54fba25010",
       "version_major": 2,
       "version_minor": 0
      },
      "text/plain": [
       "Loading checkpoint shards:   0%|          | 0/3 [00:00<?, ?it/s]"
      ]
     },
     "metadata": {},
     "output_type": "display_data"
    },
    {
     "data": {
      "application/vnd.jupyter.widget-view+json": {
       "model_id": "8ab142261e904676878d38efb12d25af",
       "version_major": 2,
       "version_minor": 0
      },
      "text/plain": [
       "Downloading (…)neration_config.json:   0%|          | 0.00/111 [00:00<?, ?B/s]"
      ]
     },
     "metadata": {},
     "output_type": "display_data"
    }
   ],
   "source": [
    "import torch\n",
    "from transformers import AutoTokenizer, AutoModelForCausalLM, BitsAndBytesConfig, LlamaTokenizer\n",
    "\n",
    "model_id = \"EleutherAI/polyglot-ko-1.3b\"\n",
    "bnb_config = BitsAndBytesConfig(\n",
    "    load_in_4bit=True,\n",
    "    bnb_4bit_use_double_quant=True,\n",
    "    bnb_4bit_quant_type=\"nf4\",\n",
    "    bnb_4bit_compute_dtype=torch.bfloat16\n",
    ")\n",
    "\n",
    "tokenizer = AutoTokenizer.from_pretrained(model_id)\n",
    "model = AutoModelForCausalLM.from_pretrained(model_id, quantization_config=bnb_config, device_map={\"\":0})\n",
    "\n",
    "# tokenizer = AutoTokenizer.from_pretrained(\n",
    "#   'kakaobrain/kogpt', revision='KoGPT6B-ryan1.5b-float16',  # or float32 version: revision=KoGPT6B-ryan1.5b\n",
    "#   bos_token='[BOS]', eos_token='[EOS]', unk_token='[UNK]', pad_token='[PAD]', mask_token='[MASK]'\n",
    "# )\n",
    "# model = AutoModelForCausalLM.from_pretrained(\n",
    "#   'kakaobrain/kogpt', revision='KoGPT6B-ryan1.5b-float16',  # or float32 version: revision=KoGPT6B-ryan1.5b\n",
    "#   pad_token_id=tokenizer.eos_token_id,\n",
    "#   quantization_config=bnb_config, device_map={\"\":0}\n",
    "# )"
   ]
  },
  {
   "cell_type": "markdown",
   "metadata": {
    "id": "Mp2gMi1ZzGET"
   },
   "source": [
    "Then we have to apply some preprocessing to the model to prepare it for training. For that use the `prepare_model_for_kbit_training` method from PEFT."
   ]
  },
  {
   "cell_type": "code",
   "execution_count": 6,
   "metadata": {
    "colab": {
     "base_uri": "https://localhost:8080/"
    },
    "id": "C4TDUgDbhyhK",
    "outputId": "8aac9a8c-5211-4cb8-bd43-3b99b24c9c00"
   },
   "outputs": [
    {
     "data": {
      "application/vnd.jupyter.widget-view+json": {
       "model_id": "",
       "version_major": 2,
       "version_minor": 0
      },
      "text/plain": [
       "Map:   0%|          | 0/22194 [00:00<?, ? examples/s]"
      ]
     },
     "metadata": {},
     "output_type": "display_data"
    },
    {
     "data": {
      "application/vnd.jupyter.widget-view+json": {
       "model_id": "",
       "version_major": 2,
       "version_minor": 0
      },
      "text/plain": [
       "Map:   0%|          | 0/2466 [00:00<?, ? examples/s]"
      ]
     },
     "metadata": {},
     "output_type": "display_data"
    },
    {
     "data": {
      "application/vnd.jupyter.widget-view+json": {
       "model_id": "",
       "version_major": 2,
       "version_minor": 0
      },
      "text/plain": [
       "Map:   0%|          | 0/2740 [00:00<?, ? examples/s]"
      ]
     },
     "metadata": {},
     "output_type": "display_data"
    },
    {
     "data": {
      "text/plain": [
       "DatasetDict({\n",
       "    train: Dataset({\n",
       "        features: ['date', 'category', 'press', 'title', 'document', 'link', 'summary', 'text', 'input_ids', 'token_type_ids', 'attention_mask'],\n",
       "        num_rows: 22194\n",
       "    })\n",
       "    validation: Dataset({\n",
       "        features: ['date', 'category', 'press', 'title', 'document', 'link', 'summary', 'text', 'input_ids', 'token_type_ids', 'attention_mask'],\n",
       "        num_rows: 2466\n",
       "    })\n",
       "    test: Dataset({\n",
       "        features: ['date', 'category', 'press', 'title', 'document', 'link', 'summary', 'text', 'input_ids', 'token_type_ids', 'attention_mask'],\n",
       "        num_rows: 2740\n",
       "    })\n",
       "})"
      ]
     },
     "execution_count": 6,
     "metadata": {},
     "output_type": "execute_result"
    }
   ],
   "source": [
    "data = data.map(lambda samples: tokenizer(samples[\"text\"]), batched=True)\n",
    "data"
   ]
  },
  {
   "cell_type": "code",
   "execution_count": 7,
   "metadata": {},
   "outputs": [
    {
     "data": {
      "text/plain": [
       "'### 질문: 아래의 문서를 요약해줘.\\n\\n###맥락: 앵커 정부가 올해 하반기 우리 경제의 버팀목인 수출 확대를 위해 총력을 기울이기로 했습니다. 특히 수출 중소기업의 물류난 해소를 위해 무역금융 규모를 40조 원 이상 확대하고 물류비 지원과 임시선박 투입 등을 추진하기로 했습니다. 류환홍 기자가 보도합니다. 기자 수출은 최고의 실적을 보였지만 수입액이 급증하면서 올해 상반기 우리나라 무역수지는 역대 최악인 103억 달러 적자를 기록했습니다. 정부가 수출확대에 총력을 기울이기로 한 것은 원자재 가격 상승 등 대외 리스크가 가중되는 상황에서 수출 증가세 지속이야말로 한국경제의 회복을 위한 열쇠라고 본 것입니다. 추경호 경제부총리 겸 기획재정부 장관 정부는 우리 경제의 성장엔진인 수출이 높은 증가세를 지속할 수 있도록 총력을 다하겠습니다. 우선 물류 부담 증가 원자재 가격 상승 등 가중되고 있는 대외 리스크에 대해 적극 대응하겠습니다. 특히 중소기업과 중견기업 수출 지원을 위해 무역금융 규모를 연초 목표보다 40조 원 늘린 301조 원까지 확대하고 물류비 부담을 줄이기 위한 대책도 마련했습니다. 이창양 산업통상자원부 장관 국제 해상운임이 안정될 때까지 월 4척 이상의 임시선박을 지속 투입하는 한편 중소기업 전용 선복 적재 용량 도 현재보다 주당 50TEU 늘려 공급하겠습니다. 하반기에 우리 기업들의 수출 기회를 늘리기 위해 2 500여 개 수출기업을 대상으로 해외 전시회 참가를 지원하는 등 마케팅 지원도 벌이기로 했습니다. 정부는 또 이달 중으로 반도체를 비롯한 첨단 산업 육성 전략을 마련해 수출 증가세를 뒷받침하고 에너지 소비를 줄이기 위한 효율화 방안을 마련해 무역수지 개선에 나서기로 했습니다. YTN 류환홍입니다.\\n\\n### 답변: 올해 상반기 우리나라 무역수지는 역대 최악인 103억 달러 적자를 기록한 가운데, 정부가 하반기에 우리 경제의 버팀목인 수출 확대를 위해 총력을 기울이기로 결정한 가운데, 특히 수출 중소기업의 물류난 해소를 위해 무역금융 규모를 40조 원 이상 확대하고 물류비 지원과 임시선박 투입 등을 추진하기로 했다.<|endoftext|>'"
      ]
     },
     "execution_count": 7,
     "metadata": {},
     "output_type": "execute_result"
    }
   ],
   "source": [
    "tokenizer.decode(data[\"train\"][0][\"input_ids\"])"
   ]
  },
  {
   "cell_type": "code",
   "execution_count": 8,
   "metadata": {
    "id": "a9EUEDAl0ss3"
   },
   "outputs": [],
   "source": [
    "from peft import prepare_model_for_kbit_training\n",
    "\n",
    "model.gradient_checkpointing_enable()\n",
    "model = prepare_model_for_kbit_training(model)"
   ]
  },
  {
   "cell_type": "code",
   "execution_count": 9,
   "metadata": {
    "id": "gkIcwsSU01EB"
   },
   "outputs": [],
   "source": [
    "def print_trainable_parameters(model):\n",
    "    \"\"\"\n",
    "    Prints the number of trainable parameters in the model.\n",
    "    \"\"\"\n",
    "    trainable_params = 0\n",
    "    all_param = 0\n",
    "    for _, param in model.named_parameters():\n",
    "        all_param += param.numel()\n",
    "        if param.requires_grad:\n",
    "            trainable_params += param.numel()\n",
    "    print(\n",
    "        f\"trainable params: {trainable_params} || all params: {all_param} || trainable%: {100 * trainable_params / all_param}\"\n",
    "    )"
   ]
  },
  {
   "cell_type": "code",
   "execution_count": 10,
   "metadata": {
    "colab": {
     "base_uri": "https://localhost:8080/"
    },
    "id": "Ybeyl20n3dYH",
    "outputId": "327a4a63-db3d-4631-edec-23f8d08d14ac"
   },
   "outputs": [
    {
     "name": "stdout",
     "output_type": "stream",
     "text": [
      "trainable params: 1572864 || all params: 729403392 || trainable%: 0.21563705588032142\n"
     ]
    }
   ],
   "source": [
    "from peft import LoraConfig, get_peft_model\n",
    "\n",
    "config = LoraConfig(\n",
    "    r=8,\n",
    "    lora_alpha=16,\n",
    "    target_modules=[\"query_key_value\"],\n",
    "    # target_modules=[\"q_proj\", \"v_proj\"],\n",
    "    lora_dropout=0.05,\n",
    "    bias=\"none\",\n",
    "    task_type=\"CAUSAL_LM\"\n",
    ")\n",
    "\n",
    "model = get_peft_model(model, config)\n",
    "print_trainable_parameters(model)"
   ]
  },
  {
   "cell_type": "markdown",
   "metadata": {
    "id": "FCc64bfnmd3j"
   },
   "source": [
    "Let's load a common dataset, english quotes, to fine tune our model on famous quotes."
   ]
  },
  {
   "cell_type": "code",
   "execution_count": 11,
   "metadata": {
    "colab": {
     "base_uri": "https://localhost:8080/"
    },
    "id": "s6f4z8EYmcJ6",
    "outputId": "21c8ba2d-fd89-40f3-f0b6-c73772f06bf2"
   },
   "outputs": [
    {
     "name": "stdout",
     "output_type": "stream",
     "text": [
      "Wed Jul 12 02:00:00 2023       \n",
      "+-----------------------------------------------------------------------------+\n",
      "| NVIDIA-SMI 450.80.02    Driver Version: 450.80.02    CUDA Version: 11.0     |\n",
      "|-------------------------------+----------------------+----------------------+\n",
      "| GPU  Name        Persistence-M| Bus-Id        Disp.A | Volatile Uncorr. ECC |\n",
      "| Fan  Temp  Perf  Pwr:Usage/Cap|         Memory-Usage | GPU-Util  Compute M. |\n",
      "|                               |                      |               MIG M. |\n",
      "|===============================+======================+======================|\n",
      "|   0  Tesla V100-PCIE...  Off  | 00000000:00:05.0 Off |                  Off |\n",
      "| N/A   46C    P0    38W / 250W |   5707MiB / 32510MiB |      0%      Default |\n",
      "|                               |                      |                  N/A |\n",
      "+-------------------------------+----------------------+----------------------+\n",
      "                                                                               \n",
      "+-----------------------------------------------------------------------------+\n",
      "| Processes:                                                                  |\n",
      "|  GPU   GI   CI        PID   Type   Process name                  GPU Memory |\n",
      "|        ID   ID                                                   Usage      |\n",
      "|=============================================================================|\n",
      "+-----------------------------------------------------------------------------+\n"
     ]
    }
   ],
   "source": [
    "!nvidia-smi"
   ]
  },
  {
   "cell_type": "markdown",
   "metadata": {
    "id": "_0MOtwf3zdZp"
   },
   "source": [
    "Run the cell below to run the training! For the sake of the demo, we just ran it for few steps just to showcase how to use this integration with existing tools on the HF ecosystem."
   ]
  },
  {
   "cell_type": "code",
   "execution_count": 11,
   "metadata": {
    "scrolled": true
   },
   "outputs": [
    {
     "data": {
      "application/vnd.jupyter.widget-view+json": {
       "model_id": "",
       "version_major": 2,
       "version_minor": 0
      },
      "text/plain": [
       "Filter:   0%|          | 0/22194 [00:00<?, ? examples/s]"
      ]
     },
     "metadata": {},
     "output_type": "display_data"
    },
    {
     "data": {
      "application/vnd.jupyter.widget-view+json": {
       "model_id": "",
       "version_major": 2,
       "version_minor": 0
      },
      "text/plain": [
       "Filter:   0%|          | 0/2466 [00:00<?, ? examples/s]"
      ]
     },
     "metadata": {},
     "output_type": "display_data"
    },
    {
     "data": {
      "application/vnd.jupyter.widget-view+json": {
       "model_id": "",
       "version_major": 2,
       "version_minor": 0
      },
      "text/plain": [
       "Filter:   0%|          | 0/2740 [00:00<?, ? examples/s]"
      ]
     },
     "metadata": {},
     "output_type": "display_data"
    },
    {
     "name": "stdout",
     "output_type": "stream",
     "text": [
      "0 ### 질문: 아래의 문서를 요약해줘.\n",
      "\n",
      "###맥락: 아이엘사이언스의 자회사 아이트로닉스는 차량용 복합기능형 졸음 방지 단말기 특허를 출원했다고 4일 밝혔다. 신규 특허는 자동차 주행 중 운전자의 졸음운전을 방지하는 상태 검출 기술에 관한 것이다. 해당 단말기는 가시광선 및 근적외선 광원을 조사하는 광원 모듈 운전자의 얼굴 영상을 촬영하는 가시광선 및 근적외선 카메라 차량 실내의 이산화탄소 농도를 측정하는 이산화탄소 센서로 구성됐다. 단말기는 광원에 반응하는 운전자의 얼굴 촬영 영상을 기반으로 심박 데이터와 눈의 깜빡임 횟수 눈을 감은 시간 등을 측정한다. 여기에 차내 졸음을 유발하는 이산화탄소 농도까지 종합적으로 분석해 운전자의 졸음 상태를 판단하고 결과값에 따라 경보 신호를 송출하도록 설계됐다. 아이트로닉스는 이번 특허기술을 차세대 지능형 교통체계 C ITS 시스템 설비에 적용할 예정이다. 회사 관계자는 이번 특허는 대표적인 차량 내적 사고 요인인 졸음운전 방지 차원에서 당사의 혁신 기술력을 집약해 정확도를 높이는 데 집중했다 며 완전 자율주행 단계에 이르기 전까지 지속될 운전자 안전사고 예방에 있어 해당 기술의 가시적인 성과를 기대하고 있다 고 말했다.\n",
      "\n",
      "### 답변: 아이일, 아이트로닉스는 차량용 복합기능형 졸음 방지 단말기 특허를 출원했다고 4일 밝혔으며 신규 특허는 자동차 주행 중 운전자의 졸음운전을 방지하는 상태 검출 기술에 관한 것으로, 해당 단말기는 가시광선 및 근적외선 광원을 조사하는 광원 모듈 운전자의 얼굴 영상을 촬영하는 가시광선 및 근적외선 카메라 차량 실내의 이산화탄소 농도를 측정하는 이산화탄소 센서로 구성됐다.<|endoftext|>\n",
      "1 ### 질문: 아래의 문서를 요약해줘.\n",
      "\n",
      "###맥락: 한국형 우주발사체 누리호 가 지난 6월 21일 전남 고흥 나로우주센터 발사대에서 날아올라 성공적으로 발사됐다. 한국항공우주연구원 제공 파이낸셜뉴스 한국형 우주발사체 누리호 의 발사 성공에 힘입어 뉴스페이스 시대를 앞당기기 위한 발걸음이 빨라졌다. 우선 누리호를 설계하고 제작 발사하는 기술을 이전받을 기업을 9월까지 선정키로 했다. 또한 민간 우주기업들을 위한 산업단지와 각종 인프라가 들어설 우주산업 클러스터가 조성될 지역을 8월중 선정할 계획이다. 이같은 계획에 앞서 윤석렬 대통령은 지난 6일 한국항공우주연구원에서 우리의 미래가 국가 경쟁력의 핵심 분야인 우주에 달려 있다 며 항공우주산업을 체계적으로 지원하겠다고 밝혔다. 이는 대선후보시절부터 내세웠던 공약을 이행하겠다는 의지를 표명한 것이다. 누리호 기술 민간에 이전 과학기술정보통신부는 7일 이를위해 제42회 우주개발진흥실무위원회를 개최하고 한국형발사체 고도화사업 체계종합기업 선정 계획과 우주산업 클러스터 추진계획을 확정했다. 과기정통부 오태석 제1차관은 이날 우주개발진흥실무위원회에서 누리호 2차 발사 성공을 통한 국민적 지지 확보와 우주개발진흥법 개정을 통한 제도적 기반 마련 국정과제 반영 등 정부의 강력한 정책 의지가 엿보인다 며 지금이 우리나라 우주산업 육성의 골든타임이라고 판단된다 고 말했다. 과기정통부는 지난 6월 국내 우주산업 육성을 위한 우주개발진흥법 개정과 누리호 2차 발사 성공 등에 발맞춰 뉴스페이스 시대를 앞당기겠다는 윤 대통령의 의지를 뒷받침하고 있다. 우선 과기정통부는 한국형발사체 고도화사업의 일환으로 체계종합기업을 선정한다. 한국형발사체 고도화사업은 올해부터 2027년까지 총 6874억원을 투입해 누리호를 4차례 반복 발사하면서 누리호의 신뢰성을 높인다. 이때 발사체 체계종합기업에 선정된 기업은 이 기간동안 한국항공우주연구원으로부터 발사체의 설계와 제작 발사 등 전과정에 참여하면서 기술을 이전받게 된다. 과기정통부는 한국연구재단을 통해 체계종합기업 선정을 위한 기술능력 평가위원회를 꾸려 평가할 계획이다. 우주산업 클러스터 8월중 선정 또한 실무위원회에서는 우주산업 클러스터 추진계획을 확정했다. 이는 뉴스페이스 시대에 대비 민간이 주도하는 우주산업 본격 육성을 목적으로 발사체 특화지구와 위성 특화지구 지정이 주요 골자다. 과기정통부는 계획안에 맞춰 발사체와 위성 특화지구의 최적 후보지를 8월중 국가우주위원회 심의를 거쳐 최종 선정키로 했다. 이를 위해 오는 9월 중 우주산업클러스터 세부 사업의 예비타당성 조사를 신청키로 했다. 예타가 성공적으로 마무리되면 내년에 예산안을 마련해 2024년부터는 본격적으로 클러스터 구축 사업에 착수할 계획이다. 과기정통부가 정한 특화지구 지정원칙에 따르면 지역균형을 고려해 특화지구 지정때 수도권은 후보지에서 제외된다. 또한 관련 인프라가 이미 구축돼 있는 지역을 우선 검토할 예정이다. 우주산업 클러스터는 기존 인프라를 중심으로 조성해 국가 우주자산 활용을 극대화한다느 전략이다. 여기에 산업단지 조성과 연구개발 등의 지원을 통해 산업체 유치와 혁신 역량을 강화한다. 발사체 특화지구에는 발사체 산업단지와 조립·제작 창업 등을 지원하는 종합지원센터가 구축된다. 또 위성 특화지구에는 위성 산업단지와 인공위성과 관련된 시험인증 창업 지원등을 위한 지원종합지원센터가 들어서게 된다.이와함께 궤도나 발사 전자파 등 우주환경 시험 시설까지 확충할 계획이다. 이외에도 지역 대학 등과 연계해 거점별 특화된 전문 인력을 상시 공급하는 계획도 포함돼 있다.\n",
      "\n",
      "### 답변: 한국형 우주발사체 누리호가 지난 6월 21일 전남 고흥 나로우주센터 발사대에서 성공적으로 발사됨에 따라, 우주산업 클러스터가 조성될 지역을 8월중 선정하는 등 누리호 설계 및 제작 발사하는 기술의 이전으로 뉴스페이스 시대를 앞당기기 위한 계획이 빨라지고 있다.<|endoftext|>\n",
      "2 ### 질문: 아래의 문서를 요약해줘.\n",
      "\n",
      "###맥락: 닥터둠 루비니 주가 50% 폭락할 것 뉴욕 증시 3대지수 모두 하락 대형주 중심의 미국 스탠더드앤드푸어스 S P 500 지수가 올 상반기 50여년만에 최악의 실적을 기록했다. 30일 이하 미국 현지시간 뉴욕 증시 3대 지수는 모두 하락하며 부진한 상반기 실적으로 마감했다. 일각에서는 경기침체 우려로 인해 추가 하락이 올 수 있다는 경고 메시지가 나오고 있다. 30일 뉴욕 증시에선 이번주 들어 4일 연속 하락장을 기록했다. 뉴욕증권거래소 NYSE 에서 다우존스 산업평균지수는 전장보다 253.88포인트 0.82% 하락한 30 775.43으로 거래를 마쳤다. S P500지수는 전장보다 33.45포인트 0.88% 하락한 3 785.38을 기술주 중심의 나스닥 지수는 전장보다 149.16포인트 1.33% 하락한 11 028.74로 장을 마감했다. 올해 상반기 마지막 거래일인 이날 뉴욕 증시 3대 지수는 모두 크게 저조한 실적을 기록했다. S P500의 경우 연초 기준으로 21.08% 하락했는데 이는 52년 전인 1970년 상반기 이후 가장 낮은 수준이다. 분기 기준으로 보면 다우와 S P500은 지난 2020년 1분기 이후 최저 기술주 중심의 나스닥은 2분기에만 22.4%가 빠졌는데 이는 2008년 이후 최악의 분기 실적이다. 홈리치 버그의 최고투자책임자 스테파니 랭은 우리는 전례없는 전염병으로 인해 세계적인 셧다운을 경험했고 재정과 통화 부문에서 모두 전례없는 결과로 이어졌다 면서 수요와 공급 부문에 퍼펙트 스톰이 불어닥쳤고 이제 수십년만에 다시 찾아오는 인플레이션으로 인해 미국 연방준비제도 연준·Fed 가 금리인상으로 바빠졌다 고 말했다. 이날 개별 종목을 보면 다우에서 약국 월그린 부츠 얼라인어스가 7.2%로 크게 하락했다. 이는 월그린이 주당 이익률을 낮췄기 때문이다. 아울러 경기침체 우려로 인해 여행 관련주들이 연속해서 하락했다. 크루즈 선사 카니발은 2% 이상 로열 캐리비언과 노로웨이 크루즈 라인도 각각 3% 이상씩 빠졌다. 이른바 닥터둠 으로 불리는 비관론자 누리엘 루비니 뉴욕대 교수는 주가가 50% 폭락할 것이라고 예상했다. 루비니 교수는 이날 마켓워치 기고문을 통해 이번에 찾아올 경기침체는 스테그플레이션과 금융위기를 동시에 동반하기 때문에 증시 하락은 50%에 이를 것 이라고 말했다. 그는 경기침체가 강할지 약할지 관계없이 역사적으로 보면 증시가 추락할 여지가 매우 크다 면서 이런 맥락에서 최근 1 2주간 보인 반등은 데드캣 바운스 에 불과하다 고 강조했다. 데드캣 바운스는 주가가 큰 폭으로 떨어지다가 잠깐 반등하는 상황을 비유할 때 쓰이는 말이다. 월가 투자정보는 유튜브 월가월부 에서 확인하세요. 자세한 해외 증시와 기업 분석 정보를 매일경제 해외 특파원들이 생생하게 전달해 드립니다.\n",
      "\n",
      "### 답변: 대 대형주 중심의 미국 스탠더드앤드푸어스 S P 500 지수가 올 상반기 50여년만에 최악의 실적을 기록하고 30일 이하 미국 현지시간 뉴욕 증시 3대 지수도 모두 하락하며 부진한 상반기 실적으로 마감한 가운데 일각에서는 경기침체 우려로 인해 추가 하락이 올 수 있다는 경고 메시지가 나오고 있다.<|endoftext|>\n",
      "3 ### 질문: 아래의 문서를 요약해줘.\n",
      "\n",
      "###맥락: 파이낸셜뉴스 풀무원식품은 알래스카 청정해역의 신선한 명태살로 만든 연육을 바삭하게 튀겨낸 ‘볼카츠’를 출시했다고 5일 밝혔다. 신제품 ‘볼카츠’ 2종 통통새우 에그포테이토 은 깨끗한 자연환경으로 잘 알려진 알래스카에서 자란 고품질의 명태 연육을 동그랗게 빚은 후 빵가루를 묻혀 튀겨 내 차별화한 프리미엄 간편식이다. 7㎜ 크기 입자의 습식 빵가루를 사용해 겉은 바삭하고 속은 촉촉한 식감을 살렸다. 여기에 건강한 바다 단백질을 함유한 명태살과 잘 어울리는 새우 계란 감자 등을 더했다. ‘통통새우 볼카츠’는 큼직하고 통통한 흰다리새우를 명태 연육과 함께 빚어 쫄깃한 식감이 특징이다. 흔히 사용되는 작은 새우 대신 71 90미 크기의 흰다리새우를 사용해 쉽게 부서지지 않고 탱탱하게 씹히는 식감을 살렸다. ‘에그포테이토 볼카츠’는 삶은 달걀을 큼직하게 썰고 감자 샐러드를 섞어 만든 스프레드로 명태 연육을 감싸 고소하고 담백한 맛을 살린 제품이다. 고로케를 연상시키는 듯한 맛과 식감으로 든든한 간식은 물론 간편 안주 메뉴로 제격이다. 신제품 ‘볼카츠’는 냉동 가정간편식 HMR 으로 보관과 조리가 편리하다. 에어프라이어 8분이면 가정에서도 손쉽게 바삭한 튀김을 완성할 수 있다. 풀무원식품 박정욱 어묵PM은 “볶음이나 탕 요리를 위한 사각형 또는 봉 형태 제품이 대부분이던 어묵 시장에 새로운 카테고리를 제시하기 위해 이번 프리미엄 신제품을 기획하게 됐다”며 “맛과 영양은 물론 조리 방법도 간단한 만큼 보다 많은 소비자들이 집에서도 간편하게 맛있는 ‘볼카츠’를 맛보길 바란다”라고 말했다.\n",
      "\n",
      "### 답변: 5일 5일 풀무원식품은 알래스카 청정해역의 신선한 명태살로 만든 연육을 동그랗게 빚은 후 빵가루를 묻혀 튀겨낸 '볼카츠'와 명태 연육을 감싸 고소하고 담백한 맛을 살린 '에그포테이토 볼카츠'를 출시했다고 밝혔다.<|endoftext|>\n",
      "4 ### 질문: 아래의 문서를 요약해줘.\n",
      "\n",
      "###맥락: 강덕원 일동제약 생산본부장. 일동제약 제공 일동제약은 생산본부장으로 강덕원 부사장을 영입했다고 지난 1일 밝혔다. 강덕원 본부장은 서울대학교와 서던캘리포니아대학교 USC 를 졸업하고 동대학원에서 생화학 및 분자생물학 석사학위를 취득했다. 이후 캘리포니아에 위치한 스태슨제약 지그프리트컴퍼니의 얼라이언스 메디컬 프로덕트 삼성바이오에피스 GC녹십자 등에서 QC와 GMP 등의 업무를 담당했다. 일동제약 관계자는 강 본부장은 다년간의 글로벌 GMP 근무경력과 전문지식을 바탕으로 생산과 품질체계를 더욱 강화하고 특히 cGMP 기준의 생산시설 구축도 추진하게 될 것 이라고 말했다.\n",
      "\n",
      "### 답변: 일동제약은 생산본부장으로 강덕원 부사장을 영입했다고 지난 1일 밝혔으며 강덕원 본부장은 서울대학교와 서던캘리포니아대학교 USC 를 졸업하고 동대학원에서 생화학 및 분자생물학 석사학위를 취득했으며 이후 글로벌 GMP 근무경력과 전문지식을 바탕으로 생산과 품질체계를 더욱 강화하고 cGMP 기준의 생산시설 구축도 추진하게 될 것이라고 말했다.<|endoftext|>\n",
      "5 ### 질문: 아래의 문서를 요약해줘.\n",
      "\n",
      "###맥락: KIST강릉천연물연구소 등 5일 기업 지원·경제활성화 앞장 약속 한국과학기술연구원 KIST 로고 한국과학기술연구원 제공 한국과학기술연구원 KIST 로고 강릉 연합뉴스 유형재 기자 한국과학기술연구원 이하 KIST 강릉천연물연구소 한국생산기술연구원 강원본부 한국기초과학지원연구원 춘천센터 농업회사법인 커피커퍼가 5일 커피 산업 발전을 위한 업무협약을 체결한다. KIST 강릉천연물연구소에서 열릴 협약식에서 참석 기관들은 힘을 모아 애로 기술 해결 및 지역경제 활성화에 앞장서기로 약속할 예정이다. 그간 커피 산업 발전을 위해 많은 중소기업이 연합해 커피협회를 구성하고 매년 커피축제를 진행하고 있으나 대부분 소규모 기업으로 구성돼 소비자의 이해를 돕기 위한 제품 간 특성 표시 및 제품 품질 표준화에 대한 과학적 근거가 부족했다. 또 커피 품질을 높이기 위한 기술 개발도 절실한 상황이다. 아세안 카페 산업 세미나 연합뉴스 자료사진 이들 기관은 이러한 문제를 해결하기 위해 보유한 기술을 활용하고 나아가 커피 부산물 활용방안을 제시해 이를 기반으로 하는 친환경 소재 개발에 힘쓸 예정이다. 각 기관의 협력으로 기업매출 확대 일자리 창출뿐만 아니라 기업의 애로 기술 해결을 위한 산·연 협력 모델 구축으로 강원지역의 더 많은 기업의 애로 기술을 효율적으로 해결하고 지역경제 활성화에 일익을 담당할 것으로 전망한다. 장준연 KIST 강릉천연물연구소 분원장은 4일 이번 협약으로 지역 커피 관련 기업 지원에 시너지 효과를 높일 기회가 될 것으로 기대한다 고 말했다.\n",
      "\n",
      "### 답변: 5일 기술회사인 커피커퍼가 KIST 강릉천연물연구소와 5일 커피 산업 발전을 위한 업무협약을 체결함에 따라 기업매출 확대 일자리 창출뿐만 아니라 더 많은 기업의 애로 기술 해결을 위한 산·연 협력 모델 구축으로 지역경제 활성화에 일익을 담당할 것으로 예상된다.<|endoftext|>\n",
      "6 ### 질문: 아래의 문서를 요약해줘.\n",
      "\n",
      "###맥락: 매매 수수료 절감 목적도 펀드에서 주식을 매매하는 빈도를 뜻하는 매매 회전율이 5년 만에 최저치를 기록했다. 연초부터 이어진 약세장에 기관투자자들이 상품을 방어적으로 운용하고 나선 영향으로 풀이된다. 6일 한국펀드평가에 따르면 지난 2분기 기준 국내 공모펀드의 연평균 매매 회전율은 141.48%였다. 코로나19 이후 주식시장이 강세를 보였던 2020년 200%대까지 치솟았던 회전율은 지난해까지만 해도 180 190%대에서 움직였다. 전년 동기 회전율은 184.77% 수준이었다. 그러나 올해 들어 수치가 급락했다. 140%대까지 떨어진 것은 2017년 이후 5년 만이다. 매매 회전율은 펀드 내 주식 거래대금을 운용자산으로 나눈 값이다. 예컨대 운용자금이 100억원인 펀드 A에서 연 200%의 회전율을 보였다면 1년 새 200억원의 주식이 손바뀜됐다는 뜻이다. 표면적으로 회전율은 펀드 수익률과 직접적인 연관성은 없으나 매매가 잦을수록 수수료 등 펀드 내 비용이 올라가 성과를 갉아먹을 위험도 있다. 전문가들은 올해 회전율이 떨어진 것은 공모펀드 침체 영향이 크다고 진단했다. 김도형 삼성자산운용 ETF컨설팅팀장은 올해 주식시장이 약세장으로 접어들면서 공모펀드 설정액 자체가 줄어드는 양상을 보이고 있다 며 펀드에 들어오는 자금이 부족할 경우 알파 수익을 추구할 만큼의 매매 여력이 떨어질 수 있다 고 말했다. 김후정 유안타증권 연구원은 아무래도 액티브펀드에서 더 적극적인 매매가 일어난다 며 상장지수펀드 ETF 등 패시브펀드의 성장으로 액티브펀드 비중이 줄어들면서 매매율이 하락한 경향도 있을 것 이라고 설명했다. 김 연구원에 따르면 국내 액티브펀드의 순자산 규모는 현재 17조원이다. 이는 2015년 36조원에 비해 절반 이상 줄어든 수치다.\n",
      "\n",
      "### 답변: 매매에서 주식을 매매하는 빈도를 뜻하는 매매 회전율이 5년 만에 140%까지 떨어진 것은 연초부터 이어진 약세장에 기관투자자들이 상품을 방어적으로 운용하고 나선 영향으로 풀이된다.<|endoftext|>\n",
      "7 ### 질문: 아래의 문서를 요약해줘.\n",
      "\n",
      "###맥락: ‘코오롱 H2 플랫폼’ 밸류체인 플랫폼 발표 계열사간 역량 결집과 동시에 대외 파트너십 구축 6일 동대문 DDP에서 열린 코리아 H2서밋 인베스터데이에 참석한 코오롱인더스트리 장희구 사장 왼쪽에서 네번째 ⓒ코오롱그룹 데일리안 조인영 기자 코오롱그룹이 수소산업의 밸류체인 전반을 고도화하는 플랫폼 구축에 나선다. 코오롱그룹은 6일 동대문 디자인플라자에서 열린 ‘코리아 H2 비즈니스 서밋 2022 인베스터데이’에 참가해 코오롱인더스트리와 코오롱글로벌 코오롱글로텍 코오롱플라스틱 등 그룹이 보유한 첨단기술을 바탕으로 수소 생산부터 운송 저장 발전사업까지 아우르는 코오롱 H2 플랫폼을 구축한다고 밝혔다. 코오롱인더스트리 장희구 사장은 국내외 수소산업 관련 투자자들을 대상으로 ‘코오롱 H2 플랫폼’의 산업적 가치와 의미를 설명하고 그룹의 역량을 집중하겠다고 발표했다. 최근 세계적인 탄소중립 기조에 발맞춰 수소로 대표되는 청정에너지 사업을 그룹의 지속 가능한 미래를 만들 수 있는 핵심 사업으로 성장시키겠다는 전략이다. 코오롱그룹은 수소연료전지를 중심으로 전개해 온 사업 분야를 확대 재편해 청정수소 생산부터 운송과 저장 이를 이용한 전력생산까지 원스톱 서비스가 가능한 플랫폼을 마련해 나간다. 수소 생산분야는 국내 풍력발전 시장을 선도하고 있는 코오롱글로벌과 협업해 진행한다. 풍력발전은 특성상 야간 및 유휴전력이 발생하게 되는데 이를 활용해 물을 전기 분해하는 수전해방식으로 청정수소를 생산할 예정이다. 경주와 태백 풍력단지를 비롯해 현재 추진 중인 완도 해상풍력단지에 이르기까지 수소생산을 위한 중요한 기반 시설로 활용할 계획이다. 코오롱인더스트리의 수분제어장치 및 전해질 분리막 기술 PEM MEA 이 국내에서 선두를 달리고 있고 상용화도 가능해 사업화에 속도를 낼 수 있을 것으로 보고 있다. 코오롱글로벌은 이와 동시에 천연가스 기반의 블루수소 생산사업도 추진 중에 있다. 천연가스를 개질해 수소를 발생시키는 블루수소 생산플랜트 사업은 물을 분리해 수소를 생산하는 그린수소 생산방식과는 달리 탄소배출이 일부 발생할 수 있으나 청정수소 생태계로 가기 위해 거쳐야 할 단계로 보고 사업영역을 순차적으로 확대해 나갈 계획이다. 코오롱이 직접 생산한 청정수소는 코오롱글로텍과 코오롱플라스틱이 개발하고 있는 수소저장용 고압 저장탱크와 수소탱크의 내부 지지재인 수소탱크 라이너 등으로 운송 저장된다. 6일 동대문 DDP에서 열린 코리아 H2서밋 인베스터데이에 참석한 코오롱인더스트리 장희구 사장 왼쪽에서 네번째 ⓒ코오롱그룹 코오롱글로텍은 수소 압력용기에 필수적인 드라이 와인딩 대형 수소탱크 성형기술 및 토우프레그 드라이 와인딩에 사용되는 탄소섬유 중간재 기술력을 보유 중이며 코오롱플라스틱은 수소차 하우징 부품 소재와 수소압력용기 소재 개발 기술력을 보유하고 있어 수소의 운송 저장 분야를 담당할 예정이다. 코오롱이 생산한 수소는 발전사업의 원료로도 활용한다. 코오롱인더스트리는 전국의 각 사업장에 수소발전설비를 구축하고 수소를 활용한 전력을 자체 생산해 제조설비 운영에 활용한다. 이미 상용화된 코오롱인더스트리의 고분자전해질막인 PEM을 적용한 PEMFC 고분자전해질 연료전지 기반의 연료전지 발전소가 만들어지면 수소 기반의 전력생산이 가능해져 2040년까지 탄소배출 제로 목표인 RE100 달성에도 한 발 다가서게 될 것으로 보고 있다. 이를 위해 수소산업을 함께 영위하는 기술 기업과의 긴밀한 파트너십 구축을 위한 Open Innovation 오픈 이노베이션 시스템도 전개한다. 코오롱이 추진하는 오픈 이노베이션은 수소의 생산 운송 저장 발전 등 ‘코오롱 H2 플랫폼’ 사업에 누구라도 함께할 수 있는 협력 시스템이다. 뿐만 아니라 탄소중립 연료전지용 소재 운송 저장 사업 발전사업 기술 등 다양한 분야에서 유기적 협력을 모색하고 파트너와의 상생협력으로 수소 생태계의 Total Solution Provider 종합 솔루션 공급자 로 성장하는 것을 목표로 하고 있다. 코오롱그룹 관계자는 “코오롱은 2000년대 초부터 대한민국 수소산업의 미래를 내다보고 핵심소재 개발과 수소경제 저변 확대를 위해 꾸준히 준비해왔다”며 “코오롱 H2 플랫폼의 실현을 위해 그룹이 가진 수소사업 소재 기술력과 외부 파트너들과의 Open Innovation 협력체를 통해 수소산업 생태계 전반에 핵심 Provider로 자리매김해 나갈 것”이라고 말했다. 한편 코리아 H2 비즈니스 서밋은 수소경제를 조기에 확산하고 대한민국 기업들의 수소 경쟁력을 강화할 목적으로 지난해 9월 출범했다. 코오롱그룹을 비롯해 현대차그룹 SK그룹 포스코그룹 등 총 17개 기업이 참여하고 있으며 2022 인베스터 데이 는 현대차그룹 SK그룹 등 17개 국내 회원사와 해외 에너지 기업 및 투자·금융사 임원들이 행사에 참석해 한국 수소 사업의 현황과 비전을 논의한다.\n",
      "\n",
      "### 답변: 코오롱그룹은 6일 동대문 디자인플라자에서 열린 ‘코리아 H2 비즈니스 서밋 2022 인베스터데이’에 참가해 그룹이 보유한 첨단기술을 바탕으로 수소 생산부터 운송 저장 발전사업까지 아우르는 코오롱 H2 플랫폼을 구축한다고 밝히고, 장희구 사장은 국내외 수소산업 관련 투자자들을 대상으로 ‘코오롱 H2 플랫폼’의 산업적 가치와 의미를 설명하고 그룹의 역량을 집중하겠다고 발표했다.<|endoftext|>\n",
      "8 ### 질문: 아래의 문서를 요약해줘.\n",
      "\n",
      "###맥락: 뉴스데스크 앵커 정부가 새 에너지 정책 방향을 오늘 국무회의에서 의결했습니다. 예상대로 원자력 발전의 비중을 더 늘리겠다고 했는데요 탄소 감축의 핵심인 석탄 화력발전소를 어떻게 줄일지 재생에너지를 어떻게 늘릴 지에 대해서는 발표하지 않았습니다. 먼저 배주환 기자가 보도합니다. 리포트 지난해 우리나라 발전에서 가장 큰 비중을 차지한 건 여전히 석탄화력발전입니다. 3분의 1이 넘습니다. 2위는 천연가스 29% 3위는 원전 27%입니다. 재생에너지의 비중은 7%에 불과합니다. 윤석열 정부는 원전의 비중을 2030년까지 30% 이상으로 늘리기로 했습니다. 문재인 정부가 24%로 낮추기로 한 것과 정반대입니다. 문재인 정부가 30%로 끌어올리겠다고 했던 재생에너지 비중에 대해서는 발표하지 않았습니다. 원전 비중을 30%까지 끌어올리는 방법은 수명연장입니다. 8년 뒤인 2030년 이전에 수명이 끝나는 원전은 10기. 정부는 이 10기의 수명을 모두 연장하기로 했습니다. 현재 건설 중인 신한울 1 2호기 신고리 5 6호기까지 더하면 2030년에 원전 28기를 돌리겠다는 겁니다. 김진 산업통상자원부 에너지전환정책과장 관련 산업의 경쟁력이나 생태계가 그래도 잘 구축돼 있으니 계속 강화를 하겠다는 게 정책 기조라고 보시면 될 것 같습니다. 히지만 이렇게 수명을 연장하고 가동률을 높이면 안전에 대한 우려가 생길 수 있습니다. 석광훈 에너지전환포럼 전문위원 물론 수명 연장을 위해서 설비 교체를 하겠지만 전반적인 설비의 노후화가 지금 진행이 되고 있기 때문에… 반면 탄소 배출 주범으로 꼽히는 석탄화력발전소를 어떻게 줄일지 신재생에너지는 얼마나 늘릴지에 대한 계획은 발표하지 않았습니다. 석탄화력은 합리적 감축 유도 재생에너지는 합리적 수준으로 조정 한다는 말이 전부였습니다. MBC뉴스 배주환입니다. 영상취재 박종일 영상편집 박병근 MBC 뉴스는 24시간 여러분의 제보를 기다립니다.\n",
      "\n",
      "### 답변: 정부가 정부가 오늘 국무회의에서 의결한 새 에너지 정책 방향의 주요 내용인 원자력 발전의 비중을 더 늘리겠다는 계획과 탄소 감축의 핵심인 석탄 화력발전소를 어떻게 줄일지, 재생에너지는 얼마나 늘릴 지에 대한 내용은 발표하지 않았으며, 석탄화력은 합리적 감축 유도 재생에너지는 얼마나 늘릴지에 관한 내용은 발표하지 않은 것으로 알려졌다.<|endoftext|>\n",
      "9 ### 질문: 아래의 문서를 요약해줘.\n",
      "\n",
      "###맥락: 연내 첫 번째 종합계획 수립해 지원사업 본격 추진 이데일리 김형욱 기자 정부가 3년마다 종합계획을 수립해 산업계의 디지털 전환을 지원하는 산업디지털전환촉진법이 5일부터 시행한다. 산업통상자원부는 연내 첫 번째 종합계획을 수립해 기업 간 데이터 연결과 활용 환경 조성 등 다양한 지원사업을 펼칠 계획이다. 장영진 산업통상자원부 제1차관 앞줄 가운데 을 비롯한 관계자가 4일 충북 청주 LS일렉트릭 제1공장에서 산업 디지털 전환 기업 간담회에서 기념촬영하고 있다. 산업부는 5일 산업디지털전환촉진법 시행에 맞춰 연내 첫 번째 종합계획을 수립해 시행할 계획이다. 사진 산업부 장영진 산업부 제1차관은 산업디지털전환촉진법 시행을 하루 앞둔 지난 4일 충북 청주 LS일렉트릭 제1공장에서 산업 디지털 전환 기업 간담회를 열고 올 하반기 수립할 산업 디지털 전환 종합계획 의견수렴 작업에 본격 착수했다. 이날 행사엔 LS일렉트릭 외 포스코 LG전자 센트랄 한국야금 SK텔레콤 네이버클라우드 등 기업 관계자가 참석했다. 정부는 우리 산업의 경쟁력을 유지하기 위해선 디지털 전환을 필수라고 보고 이 법 제정을 추진해 왔다. 이 법은 지난해 12월 국회 의결 절차를 거쳐 7월5일부터 정식 시행하게 됐다. 산업부는 또 앞선 2020년 10월 22개 산업 업종별 협회·단체로 이뤄진 디지털전환 네트워크를 출범해 기업이 당장 필요로 하는 디지털 전환 수요 조사에 나섰다. 산업부는 이를 통해 약 300개 추진 과제를 축적했고 이를 기본계획에 따른 각종 지원사업 추진 과정에서 참조한다는 계획이다. 이미 일부 과제는 산업부 연구개발 사업과 연계해 지원사업을 추진 중이다. 산업부는 첫 기본계획에 개별 기업의 디지털화를 넘어 가치사슬로 얽힌 기업 간 데이터의 연결과 활용 환경을 조성한다는 내용을 담을 계획이다. 제조 분야의 디지털 전문가 공급 개별 중소기업에 대한 인식 개선 계획도 포함한다. 장영진 차관은 “올 하반기 산업계 의견을 최대한 반영한 종합계획을 수립해 기업 간 협업 프로젝트 지원을 강화하고 인력 공급과 중소기업 인식 개선에 나설 것”이라며 “대기업도 중견·중소기업과의 데이터 공유·활용과 우수사례 전파 등 선도적 역할을 해달라”고 전했다.\n",
      "\n",
      "### 답변: 산업디지털전환촉진법 시행을 하루 앞둔 지난 4일 산업부 장영진 제1차관은 산업 디지털 전환 기업 간담회를 열고 올 하반기 수립할 산업 디지털 전환 종합계획 의견수렴 작업에 본격 착수했으며 첫 기본계획에 개별 기업의 디지털화를 넘어 가치사슬로 얽힌 기업 간 데이터의 연결과 활용 환경을 조성한다는 내용을 담을 계획이다.<|endoftext|>\n",
      "10 ### 질문: 아래의 문서를 요약해줘.\n",
      "\n",
      "###맥락: 사진 한국동서발전 한국동서발전은 다음달 31일까지 울산시민과 함께하는 생활 속 걷기 챌린지 탄소중립 건강걷기 누비GO 초록발자국 챌린지 를 진행한다고 1일 밝혔다. 울산숲사랑운동과 함께 하는 이번 챌린지는 코로나19로 지친 시민들이 일상 속 걷기 운동을 통해 건강을 증진하고 자가용 대신 대중교통을 이용해 탄소중립 사회를 실현하기 위해 마련됐다. 울산시민 누구나 구글플레이 또는 앱스토어에서 스마트폰 어플 워크온 을 내려받아 회원가입 후 참여할 수 있다. 챌린지 목표인 10만보·20만보·30만보를 기간 내 달성하면 추첨을 통해 교통카드 등 소정의 기념품을 증정한다. 김태규 동서발전 탄소중립실장은 초록발자국 챌린지를 통해 코로나19로 지친 울산시민들이 활력을 되찾고 대중교통 활성화로 탄소중립 실천에 기여하길 바란다 며 앞으로도 다양한 탄소중립·환경 프로젝트를 추진하여 더 많은 시민이 참여할 수 있도록 최선을 다하겠다 고 말했다.\n",
      "\n",
      "### 답변: 한국동서발전은 다음달 31일까지 울산숲사랑운동과 함께 코로나19로 지친 시민들이 일상 속 걷기 운동을 통해 건강을 증진하고 자가용 대신 대중교통을 이용해 탄소중립 사회를 실현하기 위한 챌린지 탄소중립 건강걷기 누비GO 초록발자국 챌린지 를 진행한다고 1일 밝혔다.<|endoftext|>\n",
      "11 ### 질문: 아래의 문서를 요약해줘.\n",
      "\n",
      "###맥락: 앵커 고공행진하는 물가에 주머니 사정도 빠듯해지고 있습니다. 소비자들은 한푼이라도 아끼기 위해 짠물 소비 에 나서고 있는데요 고물가 시대 달라진 소비행태를 전효성 기자가 살펴봤습니다. 기자 50대 주부 임동순 씨는 대형마트 마감 시간대를 주로 이용해 장을 보고 있습니다. 이 시간대에 육류나 신선제품을 구매하면 정가의 최대 70% 수준에 상품을 구매할 수 있기 때문입니다. 임동순 서울 관악구 자주 와요 마감 시간에 신선식품이나 생선 같은 경우는 30% 정도 세일 하거든요 그럴 때 엄청 덕을 많이 보죠. 실제 한 대형마트에 따르면 마감세일 시작 시간인 오후 7시 이후 매출액이 지난해보다 20% 이상 늘어난 것으로 집계됐습니다. 그나마도 오이 1개 고기 200g처럼 한 두끼 식사에 쓰일 소포장 판매가 주를 이룹니다. 밀키트 제품도 다시금 소비자의 관심을 받고 있습니다. 외식 배달 물가가 고공행진하면서 집에서 간단히 조리해 먹을 수 있는 밀키트 제품이 대체재로 떠오른 겁니다. 기자 물가가 고공행진 하면서 달라진 소비 패턴이 있다면 어떤 게 있을까요. 이기현 서울 중구 외식 안 해요 외식하는 것보다 밀키트 사서 끓여먹는 게 훨씬 경제적이죠. 양도 많고 제가 넣고 싶은 건 더 넣을 수도 있고… 엔데믹에 접어들며 주춤할 것으로 예상됐던 밀키트는 20% 넘는 성장세를 보이는 반면 배달앱 이용자 수는 매달 연중 최저치를 경신하고 있습니다 3 532만명 → 3 209만명 . 편의점 앱에서 유통 기한이 얼마 남지 않은 제품을 저렴하게 구매하는 것도 알뜰 쇼핑족이 애용하는 방법입니다 CU 그린세이브 21.5% GS25 라스트오더 254% 이처럼 짠물소비가 늘면서 유통업계는 물가 구원투수를 자처하며 최저가 경쟁에 나섰습니다. 이마트는 계란 김치 우유 등 40대 필수 상품군을 다른 업체보다 무조건 싸게 팔겠다 고 선언했고 롯데마트는 물가안정TF 를 꾸려 생필품 500여종의 가격을 집중적으로 관리하겠다는 계획을 발표한 상황. 인플레이션이 당분간 계속될 것으로 보이는 만큼 올해 연말까지는 최저가 경쟁을 이어간다는 방침입니다. 김태희 이마트 부장 고객들의 생활비 부담을 조금이라도 덜어드리기 위해 매일 40대 필수 상품에 대한 가격관리를 통해 항상 최저가로 제공해 드리려고 하고 있고… 사상 초유의 6%대 물가 상승률이 현실화된 가운데 눈물나는 짠물 소비 소비자들을 잡기 위한 유통업계의 경쟁이 더욱 치열해지고 있습니다. 한국경제TV 전효성입니다.\n",
      "\n",
      "### 답변: 소비물가 상승률이 현실화된 가운데 소비자들은 한푼이라도 아끼기 위해 짠물 소비 에 나서고 있는데다 밀키트 제품도 다시금 소비자의 관심을 받고 있어 유통업계는 물가 구원투수를 자처하며 최저가 경쟁에 나섰다.<|endoftext|>\n",
      "12 ### 질문: 아래의 문서를 요약해줘.\n",
      "\n",
      "###맥락: 주파수 추가 할당 확보 유력 정부 심사 통과 가능성 높아 3사 100㎒ 폭씩 균등 배분 LG유플러스가 5세대 5G 이동통신 주파수 3.4 3.42㎓ 대역 할당을 단독 신청했다. SK텔레콤과 KT는 고심 끝에 할당 신청을 하지 않기로 했다. 경매가 아닌 정부 심사 할당 절차를 거쳐 LG유플러스의 20㎒ 폭 추가주파수 단독 확보가 유력해졌다. 과학기술정보통신부는 4일 오후 6시 3.4 3.42㎓ 대역 주파수할당 신청 접수를 마감한 결과 LG유플러스만 신청한 것으로 확인했다. LG유플러스는 서비스 제공 시기와 제공 지역 무선국 구축 계획 등에 관한 사항을 담은 주파수 이용계획서를 제출했다. 과기정통부 이동통신 IMT 용 주파수할당 공고 에 의거해 할당을 신청한 법인이 1개로 신청 절차가 종결됐다. 이에 따라 경매 대신 정부 심사로 할당 적격 여부를 평가하는 대가산정 주파수할당 방식이 적용된다. LG유플러스가 심사를 통과할 경우 과기정통부가 경매 최저경쟁가격으로 제시한 총 1521억원에 2022년 11월 1일부터 2028년 11월 30일까지 6년간 사용권을 확보하게 된다. 과기정통부는 할당 조건으로 △2025년까지 누적 5G 무선국 15만국 구축 △5G 농어촌 공동망 2023년 12월 조기 구축 △인접 대역 사업자는 신규 1만5000국 5G 무선국 구축 이후 할당 주파수 사용 △농어촌 지역에 한해 할당 즉시 주파수 이용 등 조건을 부과했다. LG유플러스가 직접 추가주파수 할당을 신청해서 진행하는 할당 절차인 만큼 심사를 통과하지 못할 공산은 극히 낮다는 게 업계의 일반적인 관측이다. 김윤호 LG유플러스 공정경쟁담당은 “5G 주파수를 추가로 확보해 서비스 품질을 개선하고 고객의 편익을 증진하는데 기여하겠다”고 말했다. 과기정통부는 주파수 할당으로 인한 투자 효과가 1조원 이상이 될 것으로 예상했다. 이통 3사가 5G 황금주파수로 꼽히는 3.5㎓ 대역에서 균등하게 100㎒ 폭을 보유하게 됐다. 3사 간 차별화된 네트워크 품질 확보를 위한 투자 경쟁이 순조롭게 진행될 경우 예상되는 투자 효과다. 과기정통부 관계자는 “LG유플러스를 대상으로 한 할당신청 적격여부 검토에 착수할 예정이며 7월 중으로 심사위원회를 구성해 할당심사를 진행할 것”이라고 밝혔다. 경쟁사는 주파수 할당 신청을 하지 않았다고 공식확인했다. SK텔레콤은 기존 신청한 3.7 3.72㎓ 주파수 대역과 관련해 정부와 계속 협의하겠다는 입장을 피력했다. KT는 정부에 LG유플러스에 대해 주파수를 할당하더라도 철저한 이행점검이 필요하다는 입장을 밝혔다.\n",
      "\n",
      "### 답변: 과학기술정보통신부는 4일 LG유플러스가 단독으로 5G 이동통신 주파수 3.4 3.42GHz 대역 할당을 신청했다고 밝혔으며 이로 인해 SK텔레콤과 KT는 할당 신청을 하지 않기로 했고 정부 심사 할당 절차를 통해 LG유플러스의 20MHz 폭 추가주파수 단독 확보가 유력하다.<|endoftext|>\n",
      "13 ### 질문: 아래의 문서를 요약해줘.\n",
      "\n",
      "###맥락: 스포츠조선이 주최하는 제1회 청룡시리즈어워즈 시상식 Blue Dragon Series Awards 이하 BSA 에 대한 관심과 반응이 매우 뜨겁다. 오는 19일 오후 7시 인천 파라다이스시티에서 개최되는 청룡시리즈어워즈는 국내 최초 스트리밍 시리즈 콘텐츠들을 대상으로 한 시상식으로 급변하는 영상 시장 속 오리지널 콘텐츠들에 대한 높은 관심과 전 세계적으로 높아진 K 콘텐츠의 위상을 공고히 하기 위해 만들어졌다. 수상 후보 선정을 위한 청룡시리즈어워즈 후보작 자 선정 투표에 이어 지난 6일부터 시작된 후보작 자 최종 투표는 8일 오후 기준 총 투표 수 230만을 가뿐히 넘어섰다. 청룡 이라는 두 글자가 주는 공정성과 권위 속에 이번 시상식에 대한 팬들의 뜨거운 관심과 업계 기대를 엿볼 수 있는 대목이다. ◇ LG유플러스가 진행하는 청룡시리즈어워즈 레드카펫 1열 직관 이벤트. 사진제공 LG유플러스 한편 K 콘텐츠를 사랑하는 찐팬 이라면 한 번쯤 밟아보고 싶을 만한 이번 시상식 레드카펫 이벤트에 대한 관심도 매우 높다. LG유플러스는 최근 제1회 청룡시리즈어워즈 시상식 공식 후원을 결정하고 U tv 레드카펫 1열 직관 이벤트 를 진행하고 있다. 콘텐츠 마니아들에게 레드카펫 1열에서 직접 K 콘텐츠 스타들을 직접 두 눈에 담을 수 있는 기회를 제공하기로 한 것. 연예·엔터 분야로 입지를 넓히는 한편 K 콘텐츠 산업의 진흥과 발전을 돕기 위함이라고 관계자는 설명했다. LG U tv의 공식 유튜브 채널인 U tv 이모티콘 이 세상 모든 콘텐츠 담당자들이 직접 기획과 촬영 제작한 시상식 현장 스케치 영상은 공개 직후 조회수가 70만회 이상을 기록하기도 했다. LG유플러스는 이번 시상식 레드카펫과 본 시상식 생중계에도 직접 나선다. 생생한 시상식 현장을 안방 1열 로 전달하기 준비에도 한창이다. 이번 시상식과 관련된 다양한 콘텐츠 생산에도 열을 올릴 계획이다. LG유플러스 IPTV 서비스를 이용하는 고객이라면 제1회 청룡시리즈어워즈 시상식을 U tv 채널 234번과 모바일tv를 통해 시청할 수 있다. LG U tv 관계자는 13일까지 U tv 이모티콘 유튜브 채널 커뮤니티 탭에서 신청 가능한 레드카펫 1열 직관 이벤트 에 대해 많은 관심 가져주시기 바란다 고 말했다.\n",
      "\n",
      "### 답변: 스포츠조선이 주최하는 제1회 청룡시리즈어워즈 시상식 Blue Dragon Series Awards 이하 BSA 에 대한 관심과 반응이 매우 뜨거운 가운데 오는 19일 오후 7시 인천 파라다이스시티에서 개최되는 청룡시리즈어워즈는 국내 최초 스트리밍 시리즈 콘텐츠들을 대상으로 한 시상식으로 급변하는 영상 시장 속 오리지널 콘텐츠들에 대한 높은 관심과 전 세계적으로 높아진 K 콘텐츠의 위상을 공고히 하기 위해 만들어졌고.K콘텐츠 사랑하는 찐팬 이라면 한 번쯤 밟아보고 싶을 만한 이번 시상식 레드카펫 이벤트에 대한 관심도 매우 높아<|endoftext|>\n",
      "14 ### 질문: 아래의 문서를 요약해줘.\n",
      "\n",
      "###맥락: 5월 소비자물가 상승률 5.4%… 6월엔 6% 직영주유소 1일부터 유류세 37% 즉시 인하 정부 3일 수출 애로 해소·지원 대책 논의 방기선 1차관 비상경제차관회의 주재 방기선 기획재정부 1차관이 1일 정부서울청사에서 열린 비상경제차관회의를 주재하고 있다. 2022.7.1. 연합뉴스 정부가 6월 소비자물가 상승률이 5월보다 더 높아진다고 예고했다. 5월 물가 상승률이 5.4%였던 점을 고려하면 6월 상승률은 5%대 후반에서 6% 초반 사이가 될 것으로 보인다. 방기선 기획재정부 1차관은 1일 정부서울청사에서 열린 제2차 비상경제차관회의에서 “5월 5.4%에 이어 6월에는 소비자물가 상승률이 더욱 높아질 전망”이라면서 “앞으로도 상당 기간 인플레이션 압력이 지속될 것”이라고 말했다. 정부는 이런 고물가 상황을 조금이라도 완화하고자 이날부터 유류세를 법적 최대한도인 37%까지 낮춘다. 유류세 인하율이 오롯이 반영되면 휘발유는 ℓ당 57원 경유는 38원씩 내려가는 효과가 나타난다. MobileAdNew center 정유사 직영주유소는 이날부터 즉시 가격을 인하했다. 정부는 자영주유소에도 가격이 인하된 물량이 최대한 빨리 공급될 수 있도록 비상 운송에 나설 계획이다. 7월 첫째 주부터는 관계 기관이 석유시장 점검단을 꾸려 주 2회 이상 전국 주유소를 현장 방문해 물가 상승기에 편승한 주유소의 가격 담합과 가짜석유 유통 등 불법행위를 적발할 예정이다. 방 차관은 이날 발표된 상반기 수출입 통계에 대해 “무역수지 적자 폭은 지난달보다 다소 확대됐지만 6월 하순 들어 수출이 빠르게 회복하면서 적자 폭을 상당히 줄일 수 있었다”고 설명했다. 이어 “수출 애로 해소와 하반기 수출 활성화를 위해 당장 추진할 필요가 있는 지원 대책을 검토 중”이라면서 “이번 주 일요일 3일 비상경제장관회의에서 논의할 계획”이라고 말했다. 산업통상자원부는 올해 상반기 무역수지 적자가 103억 달러를 기록했다고 밝혔다. 이는 상반기 기준 역대 최대 규모다.\n",
      "\n",
      "### 답변: 정 6월 소비자물가 상승률이 5.4%에 이어 6월에도 소비자물가 상승률이 5%대 후반에서 6% 초반 사이가 될 것으로 예상되면서 정부는 고물가 상황을 조금이라도 완화하고자 유류세를 법적 최대한도인 37%까지 낮춤과 동시에 직영주유소에도 가격이 인하된 물량이 최대한 빨리 공급될 수 있도록 비상 운송에 나설 계획이다.<|endoftext|>\n",
      "15 ### 질문: 아래의 문서를 요약해줘.\n",
      "\n",
      "###맥락: LG전자가 지난 1일 서울시 강남구에 위치한 초 超 프리미엄 빌트인 가전 브랜드 시그니처 키친 스위트 청담 쇼룸 1층 카페에서 유명 피아니스트 겸 작곡가인 이루마 사진 왼쪽 의 피아노 콘서트와 유명 셰프인 오스틴강의 쿠킹쇼를 진행했다. 사진제공 LG전자 LG전자가 피아니스트 이루마 셰프 오스틴강과 함께 프리미엄 빌트인 가전 브랜드 시그니처 키친 스위트 의 차별화된 고객가치를 알리는 콘서트를 열었다. 이루마가 피아노를 연주하고 오스틴강이 쿠킹쇼를 진행했다. LG전자는 지난 1일 서울시 강남구 시그니처 키친 스위트 청담 쇼룸 1층 카페에서 시그니처 키친 스위트 콘서트를 개최했다고 3일 밝혔다. 공연엔 시그니처 키친 스위트 구매고객과 인플루언서 등 총 40여명이 참석했다. 이날 이루마는 자신의 곡 가운데 공간을 작품으로 삶을 예술로 라는 시그니처 키친 스위트의 브랜드 철학과 어울리는 13곡을 엄선해 연주했다. 해당 곡은 공연 후에도 청담 쇼룸 카페에서 들을 수 있다. 피아노 콘서트 뒤에는 오스틴강의 쿠킹쇼가 이어졌다. 고객들은 △다양한 용량의 제품을 목적에 맞게 선택해 조합할 수 있는 컬럼형 냉장·냉동고 △상·중·하칸의 온도를 각각 조절할 수 있는 컬럼형 와인셀러 △5개 화구를 갖춘 전기레인지 △원바디 블랙글라스 디자인의 스팀오븐과 광파오븐 등 시그니처 키친 스위트 제품을 활용해 오스틴강이 대표 레시피로 만든 요리를 즐겼다. LG전자는 2017년 국내 최초 초프리미엄 빌트인 가전 브랜드 전시관인 시그니처 키친 스위트 논현 쇼룸을 개관한 데 이어 지난해 복합문화공간인 청담 쇼룸을 선보였다. 이곳에서는 가전과 가구가 조화를 이루는 공간을 직접 체험하고 공간별 구성제품을 패키지로 구입할 수 있다. 오승진 LG전자 한국영업본부 한국전략담당은 더 많은 고객이 초프리미엄 브랜드가 선사하는 차원이 다른 가치를 경험할 수 있도록 다양한 분야에서의 마케팅 활동을 전개할 것 이라고 말했다.\n",
      "\n",
      "### 답변: LG전자는 지난 1일 서울시 강남구 시그니처 키친 스위트 청담 쇼룸 1층 카페에서 시그니처 키친 스위트 콘서트를 열어 구매고객과 인플루언서 등 총 40여명과 함께 시그니처 키친 스위트의 브랜드 철학과 어울리는 13곡을 엄선해 연주하고 피아니스트 이루마와 오스틴강의 쿠킹쇼를 진행했다고 3일 밝혔다.<|endoftext|>\n",
      "16 ### 질문: 아래의 문서를 요약해줘.\n",
      "\n",
      "###맥락: 여야 저금리 갈아타는 원스톱 플랫폼 한목소리 요구 지난해 은행ㆍ핀테크 간 이견으로 추진 중단돼 금융위 의견 조율 나서...시중은행 여전히 반대 이데일리 전선형 최훈길 박기주 기자 지난해 8월 이후 논의가 중단된 ‘대환대출 플랫폼’ 구축이 다시 재논의된다. 대출금리 고공 비행으로 차주들의 이자 부담이 커지면서 이번엔 정치권에서 ‘카드’를 들이밀었다. 하지만 과거에도 은행들과 빅테크 간 이견이 컸던 만큼 이번에도 플랫폼 구축이 쉽지는 않을 것이란 관측이다. ‘대환대출’ 고금리 부담 줄여줄 수 있어 6일 금융당국에 따르면 금융위원회는 금융사들에게 ‘대환대출플랫폼’ 구축에 대한 의견을 조율 중이다. 특히 은행과 빅테크사를 중심으로 대환대출 플랫폼 구축 및 이용 방식에 대한 의견을 물은 것으로 전해진다. 금융결제원 망에 핀테크가 운영 중인 대출금리 비교 서비스를 연동하면 대출 갈아타기가 가능하다. 모든 가계대출을 모바일로 법무사 비용 없이 쉽게 갈아타는 것이다. 사진은 지난해 금융위원회가 추진하려다 무산된 비대면 대환대출 플랫폼 설명 내용이다. 자료 금융위원회 대환대출플랫폼은 모바일 등 비대면으로 여러 금융사 대출 상품의 금리를 조회하고 그중 낮은 금리로 갈아탈 수 있도록 하는 시스템을 말한다. 지난해 8월 금융당국이 빅테크가 운영 중인 대출금리 비교 서비스를 활용해 은행ㆍ카드사ㆍ저축은행 등의 대출상품을 갈아탈 수 있도록 하는 방식으로 사업을 추진했다. 망은 금융결제원 망을 이용하기로 했다. 하지만 당시 은행권은 고객을 빼앗길 우려를 내비치면서 강한 반발을 했고 결국 사업은 중단됐다. 그렇게 잊혔던 대환대출플랫폼이 1년 만에 다시 고개를 든 건 정치권의 압박이 있었기 때문이다. 기준금리 인상 물가 인상 등으로 차주들의 부담이 커지면서 금리 부담을 줄이기 위해서는 ‘대환대출 플랫폼이 반드시 필요하다’는 게 정치권의 생각이다. 특히 이번에는 여야 할 것 없이 한목소리를 내고 있다. 실제 국민의 힘은 지난 5일 금융당국에 대환대출 플랫폼 사업을 신속하게 추진할 것을 요구했다. 성일종 국민의힘 정책위의장은 원내대책회의를 통해 “대환대출 플랫폼이 지난해 추진됐으나 금융권 상황으로 중단됐다”며 “하지만 당시보다 상황이 더 악화된 지금과 같은 금리 상승기에 무엇보다 필요한 사업“이라고 강조했다. 국민의힘은 김주현 금융위원장 후보자가 위원장으로 임명되는 즉시 당정 간담회를 열고 대환대출 플랫폼 등 서민 금융 지원 방안을 1순위로 논의하겠다는 입장이다. 더불어민주당도 6일 오전 ‘상환부담 완화를 위한 원스톱 대출 이동제 도입 간담회’를 열고 대환대출 플랫폼에 대한 구체적인 논의를 했다. 박홍근 더불어민주당 원내대표는 “낮은 금리의 대출로 갈아타는 대환대출도 서민들의 부담 줄이기 위해 고려할 선택지”라며 “당사자 간의 이해충돌로 현재는 추진이 중단됐지만 급격한 고금리로 국민들의 부담이 가중되는 비상 상황인 만큼 원스톱 대출 이동제를 시급히 도입해야 한다”고 말했다. 은행권 우려 여전해...반면 빅테크는 적극적 다만 금융권이 이를 받아들일 지는 미지수다. 특히 빅테크들의 금융권 진출로 고유 영역 예금ㆍ대출 을 빼앗긴 시중은행들의 반발은 여전히 거세다. 지난해에도 금융당국의 대환대출 플랫폼 추진 과정에서 시중은행들이 빅테크 종속·수수료 지급 등을 이유로 불참을 선언하면서 결국 도입이 무산됐다. 더욱이 당시 은행끼리 모여 추진했던 자체 플랫폼 구축 사업도 시중은행ㆍ지방은행ㆍ인터넷은행 간에 의견이 갈리면서 현재 중단된 상태다. 반면 빅테크ㆍ핀테크사들은 적극적으로 움직이고 있다. 토스도 대환대출 플랫폼 사업 진출 채비에 나섰다. 특히 토스는 금융당국 주도의 대환대출플랫폼에 참여 요청이 있다면 적극적으로 검토하겠다는 입장이다. 60개 금융사 대출 비교가 가능한 ‘핀다’ SK텔레콤 017670 과 하나금융그룹이 투자한 ‘핀크’도 대환대출 플랫폼에 참여할 예정이다. 현재 양사 모두 대출 비교는 가능하나 앱으로 실시간 대출 갈아타기는 불가능하다. 한 금융권 관계자는 “금융결제원의 망을 이용하고 플랫폼 서비스를 그대로 활용하면 되니까 사실 시스템적으로 문제 될 것은 없다”며 “하지만 각 금융사마다 신용등급을 산정하는 기준이 달라 직접적인 비교가 불가능하고 기존 금융권의 경우 빅테크 플랫폼 이용 시 수수료까지 지불해야 하는 불합리성이 있어 해당 사업이 달갑지 않은 건 사실”이라고 말했다.\n",
      "\n",
      "### 답변: 6금리 인상 물가 인상 등으로 차주들의 이자 부담이 커지면서 금리 부담을 줄이기 위해 대환대출 플랫폼 구축이 다시 재논의되나 과거에도 은행들과 빅테크 간 이견이 컸던 만큼 이번에도 플랫폼 구축이 쉽지는 않을 전망이다.<|endoftext|>\n",
      "17 ### 질문: 아래의 문서를 요약해줘.\n",
      "\n",
      "###맥락: 노조 운송료 27% 인상 vs 제조사 9%대 인상 차주 8 200명 파업 참가로 150여 공장 가동 중단 건설업계 연이은 파업에 공기 연장 등 피해 우려 수도권의 레미콘 운송 차주들이 파업에 돌입한 1일 오후 경기도 안양시의 한 레미콘 업체에 레미콘 차량이 세워져 있다. 연합뉴스 수도권 레미콘 제조사들과 운송료 인상 협상이 결렬되면서 수도권 레미콘운송노조 조합원들이 1일부터 파업에 돌입했다. 양측은 협상을 이어간다지만 간극이 커 파업이 장기화할 가능성도 배제할 수 없는 상황이다. 건설현장에 미칠 파장도 만만찮을 전망이다. 레미콘운송노조에 따르면 수도권 레미콘운송노조는 주요 레미콘 제조사들과 운송료 인상 관련 협상 결렬을 이유로 이날부터 운송 거부에 들어갔다. 파업에 참가하는 차주는 8 200여 명에 달한다. 노조는 수도권 내 158곳에 달하는 레미콘 공장이 가동을 멈춘 것으로 파악했다. 양측은 지난달 29일과 30일에 걸쳐 운송료 협상을 진행했지만 합의에 이르지 못했다. 수도권 레미콘운송조합원들은 운송료를 회당 5만6 000원에서 7만1 000원으로 약 27% 인상을 요구하고 있다. 또 △명절상여금 100만 원 △근로시간 면제수당 △성과급 1인당 100만 원 △요소수 100% 지급 등도 요구하고 있다. 이에 반해 레미콘 제조사들은 운송료는 9%대 중반 이상의 인상은 어렵다고 맞서고 있다. 운송노조 관계자는 제조업체는 레미콘 납품가격을 인상했지만 레미콘가격에 포함된 운송비는 올려주지 않고 있다 고 주장했다. 이어 지방은 운송료가 올랐지만 수도권만 합의가 미진해 형평성에 어긋난다 고 덧붙였다. 다만 노조 측은 제조사들과의 협상은 이어간다는 방침이다. 노조 파업으로 건설업계가 직격탄을 맞게 됐다. 지난달 화물연대 파업에 이어 레미콘 운송 거부까지 이어지면서 작업 중단 등 또다시 피해를 입게 됐다. 파업이 장기화할 경우 공기가 늘어나고 아파트 입주 일정도 미뤄질 수밖에 없어 손실 규모는 더욱 커질 전망이다. 한 대형건설사 관계자는 화물연대 파업 때도 콘크리트 타설 골조공사가 중단됐었다 며 파업이 끝난 지 얼마 안 됐는데 또다시 레미콘운송조합 파업이 이어져 난감하다 고 토로했다.\n",
      "\n",
      "### 답변: 수도체 레미콘운송노조는 주요 레미콘 제조사들과 운송료 인상 관련 협상 결렬을 이유로 1일부터 파업에 돌입하여 건설업계가 직격탄을 맞게 됐으며 지난달 화물연대 파업에 이어 레미콘 운송 거부까지 이어지면서 작업 중단 등 또다시 피해를 입게 됐다.<|endoftext|>\n",
      "18 ### 질문: 아래의 문서를 요약해줘.\n",
      "\n",
      "###맥락: 일본 신문 니케이엠제이가 한국 프랜차이즈 업계에서 이례적으로 윤홍근 제너시스BBQ그룹 회장을 다룬 기사를 냈다. 사진은 BBQ의 치킨대학 전경. 사진제공 제너시스BBQ 윤홍근 제너시스BBQ그룹 회장이 한국 프랜차이즈 대표로는 이례적으로 일본 경제지와 인터뷰를 진행했다. 지난 1일 니케이엠제이는 윤 회장 인터뷰가 포함된 BBQ 취재 기사를 보도했다. 일본 매체로는 처음으로 치킨대학을 탐방했다는 점이 의미 있다. 니케이엠제이는 일본 주요 경제신문인 니혼게이자이신문의 유통·마케팅 전문지다. 해당 매체는 윤 회장에 대해 프랜차이즈 세계 1등의 야망을 품은 경영인 이라는 평가와 함께 BBQ가 라이벌로 미국 맥도날드를 꼽고 있는 점을 조명했다. 윤 회장은 세계 5만여개의 점포를 열고 맥도날드를 추격하고 싶다 고 전했다. 일본에서는 치킨 프랜차이즈가 라이벌로 KFC가 아닌 맥도날드를 꼽는 데 의아함을 나타냈다. 이에 윤 회장은 외식 산업 에 초점을 맞추고 있다고 답변했다. BBQ는 현재 58개국에서 약 2250개의 점포를 운영 중이다. 일본에는 21개 점포가 있다. 올해 말 100개까지 늘릴 계획이다. 레스토랑 타입 베이커리 타입 배달 전문점 등 다양한 사업체로 개점한다는 전략이다. 치킨대학 탐방 내용도 비중 있게 다뤄졌다. BBQ 매장을 운영할 수 있는 실력을 양성하는 최초의 치킨대학이라는 점을 강조했다. BBQ 점포를 내기 전 최소 2명이 2주간의 과정을 수료해야 하며 조리 방법 회계 마케팅 등의 교육이 진행된다. BBQ 관계자는 해외를 중심으로 점포망을 늘려 신종 코로나바이러스 감염증 코로나19 이후도 대비하고 있다 며 영어 중국어 일본어로 쓰여진 교과서를 마련하는 등 유학생 대응도 준비 중 이라고 말했다.\n",
      "\n",
      "### 답변: 지난홍근 BBQ그룹 회장이 한국 프랜차이즈 대표로는 이례적으로 일본 경제지와 인터뷰를 진행했는데 프랜차이즈 세계 1등의 야망을 품은 경영인 이라는 평가와 함께 BBQ가 라이벌로 미국 맥도날드를 꼽고 있는 점을 조명했고 윤 회장은 외식 산업 에 초점을 맞추고 있다고 답변했다.<|endoftext|>\n",
      "19 ### 질문: 아래의 문서를 요약해줘.\n",
      "\n",
      "###맥락: 지난 4일 오후 1시30분께 서울시의회 앞에서 노원구 공릉동 서울태릉골프장 일대 공공주택지구 지정 을 반대하는 시민들이 기자회견을 가졌다 사진 황서율 기자 문 정부의 8·4대책에 포함돼 6800가구가 공급될 계획이었던 서울 노원구 공릉동 태릉골프장 CC 일대의 공공주택지구 지정에 주민들이 반대하고 나서면서 사업에 차질을 빚을 것으로 예상된다. 3080 도심복합사업 역시 아직 사업진행이 더딘 상황으로 파악되면서 공공주도 공급물량에 변화가 생기는 것이 아니냐는 목소리도 나온다. 5일 서울시의회는 전날 서울시의회 1호 청원으로 ‘노원구 공릉동 서울태릉골프장 일대 공공주택지구 지정 반대에 관한 청원’이 접수됐다고 밝혔다. 1호 청원을 접수한 박환희 시의원 노원2 에 따르면 청원 접수에는 공릉동 주민 등 3000명이 서명한 것으로 알려졌다. 태릉골프장 일대의 공공주택지구 지정은 2020년 문재인 정부의 주택공급정책인 8.4대책의 일환으로 이야기 됐다. 발표 당시 해당 부지에 1만호가 공급될 예정이었으나 녹지확보 저밀개발 교통문제 등에 부딪혀 6800가구 공급으로 사업계획을 변경했다. 이에 따라 수락산역 역세권 도심복합사업 노원구 내 도시재생사업 등을 통해 총 3100가구의 대체물량을 확보했다. 이번 주민들의 반발로 태릉지구 6800가구 공급정책은 차질이 생길 것으로 예상된다. 주민들은 태릉·강릉 세계문화유산 지정 취소 가능성 생태공원조성계획 희망 교통정체 등을 이유로 반대하고 있다. 이미 올해 상반기 안에 지구 지정을 하겠다던 목표는 지방선거 등으로 주민 설명회나 공청회 등의 절차가 미뤄지면서 하반기로 조정됐다. 이러한 상황에서 지난달 17일 열릴 예정이었던 1차 공청회까지 주민들의 반발로 무산되면서 사업 진행이 더욱 느려진 것이다. 2차 공청회는 오는 11일 열릴 계획이다. 국토부 관계자는 “환경연합평가를 충분히 했고 태릉·강릉 경관에 영향이 없도록 준비하고 있다”며 “법적으로 없는 절차지만 유네스코 유산 영향 평가 역시 준비 중이기 때문에 부정적인 영향을 최소화해 사업을 추진할 계획”이라고 밝혔다. 한편 문 정부의 또다른 공공주도 공급정책인 3080 도심복합사업 역시 아직 진행이 더딘 상황으로 파악됐다. 총 19만6000호 공급을 목적으로 하는 이 사업은 현재 76곳 총 10만호 의 후보지를 발표한 상황이지만 후보지 중 지구지정까지 완료한 곳은 8곳 약 1만3000호 뿐이다. 지난 5월23일 원희룡 국토부장관이 “주민 호응도가 떨어지는 사업은 덜어내겠다”는 입장을 밝혀 일각에서는 해당 사업을 통한 공급 물량이 조정되는 것이 아니냐는 분석도 나온다.\n",
      "\n",
      "### 답변: 노릉골프장 CC 일대의 공공주택지구 지정과  문 정부의 공공주도 공급정책인 3080 도심복합사업의 진행이 더딘 상황으로 주민들이 반대하고 나서면서 사업에 차질을 빚을 것으로 예상된다.<|endoftext|>\n",
      "20 ### 질문: 아래의 문서를 요약해줘.\n",
      "\n",
      "###맥락: 서울 연합뉴스 쌍용자동차가 5일 인천 중구 네스트호텔에서 개최한 개발자와 함께하는 Q A 간담회 에서 토레스 신차 개발에 참여한 김범석 마케팅담당이 기자 질의에 답하고 있다.\n",
      "\n",
      "### 답변: 쌍 쌍용자동차가 5일 인천 중구 네스트호텔에서 개최한 개발자와 함께하는 개발자와 함께하는  간담회에서   쌍용자동차                                                                                                                                                                                                                                                                                                                                                                                                                                                                                                    <|endoftext|>\n",
      "21 ### 질문: 아래의 문서를 요약해줘.\n",
      "\n",
      "###맥락: GS25 메이플스토리빵 18일만에 100만개 판매 돌파 GS리테일이 운영하는 편의점 GS25가 지난달 17일 선보인 메이플스토리 빵 5종. 사진 GS리테일 편의점 GS25가 온라인게임 메이플스토리 와 손잡고 선보인 메이플스토리 빵이 흥행 돌풍을 이어가고 있다. 출시 첫 날 초도물량 10만개가 완판된 데 이어 18일 만에 누적 100만개가 팔렸다. 6일 GS리테일에 따르면 편의점 GS25가 지난달 17일부터 선보인 메이플스토리빵 5종이 출시 18일 만에 판매량 100만개를 돌파했다. GS25는 꾸준히 이어진 굿즈 상품 마케팅의 일환으로 전 세계 1억9000만명의 사용자를 보유한 온라인 게임 메이플스토리에 주목했다. 이에 GS25는 메이플스토리빵에 메이플스토리의 인기 몬스터 캐릭터 80종의 스티커를 상품 1개당 1장씩 동봉했다. GS리테일 관계자는 메이플스토리빵이 매일 전 GS25매장에 입고되는 즉시 품절이 될 정도로 큰 인기를 끌고 있다 고 전했다. 메이플스토리빵의 인기는 GS25의 자체브랜드 PB 브레디크 상품의 매출에도 영향을 미쳤다. 메이플빵 출시 후 브레디크 매출이 전월 동기보다 64% 뛴 것. 모델이 GS25에서 월간 브레디크 소금버터롤케익 상품을 바라보고 있는 모습. 사진 GS리테일 GS25 측은 메이플스토리빵을 구매하러 오는 소비자들이 빵 진열 매대를 자주 살펴보는 기회가 늘어나며 브레디크 등 다른 빵도 경험하게 되고 재구매로 연결되는 선순환 효과가 나타나고 있다 고 풀이했다.\n",
      "\n",
      "### 답변: 6점 GS리테일에 따르면 편의점 GS25가 온라인게임 메이플스토리'와 손잡고 지난달 17일부터 선보인 메이플스토리빵 5종이 출시 18일 만에 판매량 100만개를 돌파하여 흥행 돌풍을 이어가고 있다고 밝혔다.<|endoftext|>\n",
      "22 ### 질문: 아래의 문서를 요약해줘.\n",
      "\n",
      "###맥락: 앱장터 ‘인앱결제’를 둘러싼 구글 카카오의 갈등이 가열되고 있는 가운데 한상혁 방송통신위원장이 7일 양측 관계자를 불러 의견을 듣기로 했다. 한 위원장은 6일 방통위 전체회의 직후 “담당 행정청으로서 이용자들의 불편을 해소하기 위해 노력하는 것은 당연한 의무”라며 “지금 벌어지고 있는 일에 대한 조율은 정책적인 방향에서 해야 할 일이라고 생각한다”고 말했다. 안드로이드용 카카오톡에서는 이모티콘플러스 정기구독 웹결제 안내 링크가 제공된다. 앞서 구글은 지난 1일 부로 자사 앱 장터인 구글플레이 스토어에서 카카오톡 앱 최신 업데이트 버전 제공을 중단했다. 인앱결제 시스템을 도입하지 않는 구글플레이스토어 내 앱에 대해 4월부터 업데이트를 금지하기로 한 자체 방침에 다른 조치다. 카카오가 그동안 구글플레이 스토어에서 ‘이곳을 클릭해서 결제하면 저렴한 가격에 이모티콘 구독 서비스를 이용할 수 있다’며 외부 결제 링크를 홍보해왔는데 이점을 문제 삼은 것이다. 이에 카카오는 안드로이드 사용자들을 대상으로 지난 1일부터 APK 설치파일 형태로 카카오톡 앱을 배포하고 있다. 최신 카카오톡 버전은 다음 포털을 통해 제공하기로 했다. IT업계에서는 구글과 카카오의 기싸움이 계속될 경우 구글플레이 스토어에서 카카오톡 앱이 삭제될 가능성도 배제할 수 없다고 보고 있다. 이용자 5000만명의 국민 메신저 ‘카카오톡’을 앞세운 카카오가 국내 IT업계를 대리해 국내 앱 장터 점유율 70%가 넘는 구글에 맞서는 형국이다. 앞서 구글은 지난달 1일부터 앱 내 결제 시 수수료 최대 30%를 받는 인앱결제 강제 정책을 본격 시작했다. 구글 결제나 구글이 허용한 제3자 결제를 이용하지 않는 앱은 장터에서 퇴출하기로 한 것이다. 더 나아가 다른 결제 수단을 홍보하는 문구나 아웃링크도 넣지 못하게 했다.\n",
      "\n",
      "### 답변: 한상장터 ‘인앱결제’를 둘러싼 구글 카카오와 국내 앱 장터 점유율 70%가 넘는 카카오의 갈등이 가열되고 있는 가운데 한상혁 방송통신위원장이 7일 양측 관계자를 불러 의견을 듣기로 했으며, 한 위원장은 6일 방통위 전체회의 직후 이용자들의 불편을 해소하기 위해 노력하는 것은 당연한 의무”라며 “지금 벌어지고 있는 일에 대한 조율은 정책적인 방향에서 해야 할 일이라고 생각한다”고 말했다.<|endoftext|>\n",
      "23 ### 질문: 아래의 문서를 요약해줘.\n",
      "\n",
      "###맥락: 윤석열 대통령은 경제 위기 상황에 대응해 매주 비상경제 민생회의를 여는 등 직접 민생 현안을 챙기겠다고 밝혔습니다. 윤 대통령은 오늘 5일 용산 대통령실에서 열린 국무회의에서 공급망 재편과 코로나 팬데믹이 겹치면서 전 세계가 70년대 오일쇼크 이후 가장 심각한 물가 충격을 받고 있다 며 이같이 말했습니다. 또 민생의 어려움을 덜기 위해 공공 부문이 앞장설 것이라며 과감한 지출 구조조정과 공공기관 경영 효율화로 허리띠를 졸라맬 것이라고 강조했습니다.\n",
      "\n",
      "### 답변: 윤석열 대통령은 경제 위기 상황에 대응해 매주 비상경제 민생회의를 여는 등 직접 민생 현안을 챙기겠다고 밝힌 가운데 오늘 5일 용산 대통령실에서 열린 국무회의에서 전 세계가 70년대 오일쇼크 이후 가장 심각한 물가 충격을 받고 있다 며 전 세계가 70년대 오일쇼크 이후 가장 심각한 물가 충격을 받고 있다 고 말했고 또 민생의 어려움을 덜기 위해 과감한 지출 구조조정과 공공기관 경영 효율화로 허리띠를 졸라맬 것이라고 강조했다.<|endoftext|>\n",
      "24 ### 질문: 아래의 문서를 요약해줘.\n",
      "\n",
      "###맥락: 앵커 새 정부 출범 이후 처음으로 고위급 당정협의회가 열렸지만 물가와 민생 안정이 시급하다는 원론적 언급만 확인했을 뿐 뾰족한 대책은 나오지 않았습니다. 이준석 국민의 힘 대표는 윤석열 정부가 약속한 많은 공약들이 국민들에게 제대로 전달되지 않고 있다 고 쓴 소리를 했습니다. 김주영 기자가 취재했습니다. 리포트 윤석열 정부 한마음 한덕수 총리의 건배사로 시작된 첫 고위급 당정협의회. 당정은 물가 등 민생 안정을 최우선 과제로 꼽았습니다. 권성동 원내대표는 예산과 기금의 적극적 활용을 당부했고 권성동 국민의힘 원내대표 국민들은 새 정부 기대도 잠시 치솟는 장바구니 물가와 기름값 높아진 이자 부담 가스 전기요금 등 생활물가 상승에 답답한 나날 보내고 있습니다. 이준석 대표는 대선 당시 약속한 정책들이 제대로 이행되고 있지 않다고 꼬집었습니다. 이준석 국민의힘 대표 많은 정책이 지금 정책 수요자들에게 아주 효율적으로 전달되고 있지 않습니다 김대기 비서실장은 국회 차원의 협력을 요청했습니다. 김대기 대통령 비서실장 이제는 정치의 힘이 너무 강해진 것 같습니다. 경제가 정치의 핵심이 돼 있기 때문에 어쩔 수 없는 현상이라고 보고… 당정은 수입 물가를 잡기 위한 할당관세 확대 원자재 가격 상승분을 납품가에 반영하는 납품단가 연동제 등을 논의했습니다. 또 취약 계층 지원을 위해 추경 예산의 신속한 집행에 나설 방침입니다. 하지만 그동안 언급돼온 대책의 되풀이에 그쳤을 뿐 심각해지는 경제 위기를 타개할 눈에 띄는 대책은 없었다는 평가입니다. TV조선 김주영입니다.\n",
      "\n",
      "### 답변: 새 정부 출범 이후 처음으로 열린 고위급 당정협의회에서 새 정부 기대도 잠시 치솟는 물가와 생활물가 상승에 답답한 나날날을 보내고 있는 가운데 이준석 국민의 힘 대표는 윤석열 정부가 약속한 많은 공약들이 국민들에게 제대로 전달되지 않고 있다면서 원론적 언급만 확인했을 뿐 경제 위기를 타개할 실질적인 대책이 나오지 않아 우려를 자아내고 있다.<|endoftext|>\n",
      "25 ### 질문: 아래의 문서를 요약해줘.\n",
      "\n",
      "###맥락: 대구 뉴시스 이무열 기자 홍준표 왼쪽 대구시장이 5일 오전 대구국제공항 계류장에서 열린 ‘대구경북통합신공항 성공적 건설을 위한 주 티웨이항공 본사 대구이전 MOU체결’ 행사에서 인사말을 하고 있다. 2022.07.05. lmy newsis.com 사진 영상 제보받습니다 공감언론 뉴시스가 독자 여러분의 소중한 제보를 기다립니다. 뉴스 가치나 화제성이 있다고 판단되는 사진 또는 영상을 뉴시스 사진영상부 n photo newsis.com 로 보내주시면 적극 반영하겠습니다.\n",
      "\n",
      "### 답변: 5일 오전 대구국제공항 계류장에서 열린 ‘대구경북통합신공항 성공적 건설을 위한 주 티웨이항공 본사 대구이전 MOU체결’ 행사에서 홍준표 왼쪽 대구시장이 인사말을 했으며  뉴시스 뉴시스 사진영상부 n photo newsis.com 로 보내주시면 적극 반영하겠다며 뉴스 가치나 화제성이 있다고 판단되는 사진이나  뉴스 가치성이 있다고 판단되는 사진 또는 영상을 뉴시스 사진영상부 n photo newsis.com 로 보내주시면 적극 반영하겠다며 2022.07.05. lmy newsis.com 사진 영상 제보받습니다 뉴시스 사진영상부 n photo newsis.com 로 보내주시면 적극 반영하겠다며 기자 가치 가치나 화제성이 있다고 판단되는 사진이나 화제성이 있다고 판단되는 사진 또는 영상을 뉴시스 사진영상부 n photo newsis.com 로 보내주시면 적극 반영하겠다며  뉴시스 뉴시스 사진영상부 뉴시스 사진영상부 n photo newsis.com 로 보내주시면 뉴시스 사진영상부 뉴시스 사진영상부 n photo newsis.com 로 보내주시면 적극 반영하겠다고 밝혔다.<|endoftext|>\n",
      "26 ### 질문: 아래의 문서를 요약해줘.\n",
      "\n",
      "###맥락: 수도권의 레미콘 운송 차주들이 오늘 1일 부터 파업에 들어갔습니다. 레미콘운송노동조합은 유진기업·삼표산업 등 수도권 주요 레미콘 제조사들과 운송료 인상 관련 협상을 벌였지만 최종 합의에 이르지 못해 오늘부터 운송 거부에 들어간다고 밝혔습니다. 레미콘운송조합은 약 27%의 운송료 인상을 요구하는 반면 제조사들은 9%대 이상 인상은 어렵다는 입장을 고수했습니다. 건설업계는 이달 초 화물연대 파업이 일주일 넘게 이어진 데 이어 레미콘 차량의 운행 중단이 장기화할 경우 건설 현장에 타격이 발생할 수 있다며 우려하고 있습니다.\n",
      "\n",
      "### 답변: 수도권의 레미콘 운송 차주들이 제조사들과 운송료 인상 관련 협상을 벌였지만 최종 합의에 이르지 못해 오늘부터 운송 거부에 들어간다고 밝혔으며, 건설업계는 이달 초 화물연대 파업이 일주일 넘게 이어진 데 이어 레미콘 차량의 운행 중단이 장기화할 경우 건설 현장에 타격이 발생할 경우 건설 현장에 타격이 발생할 수 있다며 우려하고 있습니다.<|endoftext|>\n",
      "27 ### 질문: 아래의 문서를 요약해줘.\n",
      "\n",
      "###맥락: 삼성바이오로직스가 미국 제약사 MSD와 2768억원 규모 위탁생산 계약을 체결했다. 사진 삼성바이오로직스 삼성바이오로직스가 미국 제약사 MSD와 위탁생산 계약을 체결했다. 삼성바이오로직스는 MSD MSD International Business GmbH 와 2768억2938만원 규모의 의약품 위탁생산 공급계약을 체결했다고 4일 공시했다. 계약금액은 2768억원으로 최근 매출액 대비 17.65% 규모다. 계약기간은 2022년 7월1일부터 2028년 12월31일이다. 삼성바이오로직스 관계자는 해당 계약은 지난해 9월29일에 공시된 투자판단 관련 주요경영사항에 대한 본 계약 체결 건 이라며 계약금액은 고객사의 수요증가에 따라 4942억원으로 증가할 수 있다 고 말했다.\n",
      "\n",
      "### 답변: 삼성바이오로직스는 4일 미국 제약사 MSD와 2768억2938만원 규모의 의약품 위탁생산 공급계약을 체결했다고 공시하고 2022년 7월1일부터 2028년 12월31일까지 계약기간은 2022년 7월1일부터 2028년 12월31일이라고 밝혔다.<|endoftext|>\n",
      "28 ### 질문: 아래의 문서를 요약해줘.\n",
      "\n",
      "###맥락: 3일 협상 타임오프 이견 커…노조 인정도 평행선 운반비 인상은 공감대 형성…올해 7500원·내년 6000원 수도권 공장 일제히 중단할 듯…하루 피해 224억 예상 이데일리 함지현 기자 레미콘 제조사와 운송사업자 간 협상이 또다시 결렬됐다. 이에 따라 전국레미콘운송총연합회가 본격적인 단체 행동에 돌입할 예정이다. 사태가 이어질 경우 수도권 레미콘 공장 ‘셧다운’ 장기화가 불가피할 전망이다. 1일 오전 서울 종로구 동화면세점 앞에서 열린 레미콘운송노동자 생존권사수 결의대회에서 참가자들이 구호를 외치고 있다. 사진 연합뉴스 3일 관련 업계에 따르면 양측은 이날 오전부터 협상을 실시했지만 접점을 찾지 못했다. 이번에 발목을 잡은 부분은 ‘타임오프’ 근로시간 면제수당 와 ‘노조’ 인정 여부였던 것으로 알려졌다. 우선 운송사업자 측은 자신들을 노조로 인정해 달라고 요청했다. 하지만 레미콘 제조사들은 이를 수용할 수 없다고 맞섰다. 지입계약을 맺은 개인사업자로서 단체협상 대상이 아니라는 입장에 변화가 없었던 것이다. 특히 명칭을 놓고 ‘수도권 레미콘 운송연대’와 같이 절충안이 제시되기도 했지만 결국 협상은 결렬됐다. 특히 운송사업자 측은 타임오프 수당도 강력히 요청했다. 타임오프는 제조사별 노조 대표자가 근무를 하지 않아도 상생기금 등을 통한 혜택을 제공하는 것을 말한다. 이에 대해 레미콘 제조사들은 특정 대표자들만 수혜를 주는 게 타당하지 않다며 거부 의사를 밝혔다. 이와 함께 운송사업자들이 그동안 요구해 온 △명절 상여금 100만원 △요소수 100% 지급 △타설 후 폐수 비용으로 레미콘 운송료 50% 지급 등은 논의가 이뤄지지 못했다. 운반비 부분에 대해서는 어느 정도 접점을 찾은 모습이다. 2년에 걸쳐 올해 7500원 내년 6000원씩 총 1만3500원을 올리는 형태다. 앞서 운송사업자들은 현재 5만6000원인 운반비를 7만1000원으로 27% 인상해줄 것을 요구했다. 양측은 이번 협상 결렬 이후 추가적인 협의 진행 여부는 아직 정하지 않았다. 지난 1일 생존권사수결의대회를 진행하면서 파업 신호탄을 쏘아 올린 운송노동자들은 이번 협상 결렬에 따라 4일부터 총파업에 돌입할 계획이다. 이에 따라 이미 지난 1일 95%가량 운영을 멈춰 섰던 수도권 공장은 모두 문을 닫을 것으로 예상된다. 사태 장기화로 셧다운이 길어질 경우 레미콘 제조사들이 큰 타격을 입을 전망이다. 수도권 14개 권역의 158개 레미콘 제조사 공장을 운영하지 못하면 하루 추정 피해액만 224억원 규모에 달한다. 아파트 등 건설 현장 공급 차질도 예상된다. 운송사업자들이 독점적 지위를 가질 수밖에 없는 구조가 변하지 않으면 시장이 왜곡되면서 업계가 경쟁력을 잃을 수 있다는 우려도 나온다. 레미콘 업계 관계자는 “레미콘 운반사업자의 집단적 운송 거부로 인해 레미콘 공장이 멈춰선다면 이는 곧바로 건설 현장 차질까지 이어질 것”이라며 “일부 기득권의 이득을 위해 수많은 소비자들이 피해를 떠안게 되는 셈”이라고 말했다.\n",
      "\n",
      "### 답변: 지난 레미콘 제조사와 운송사업자 간 협상이 또다시 결렬되어 전국레미콘운송총연합회가 본격적인 단체 행동에 돌입할 예정이며 사태가 이어질 경우 수도권 레미콘 공장 ‘셧다운’ 장기화가 불가피할 전망이다.<|endoftext|>\n",
      "29 ### 질문: 아래의 문서를 요약해줘.\n",
      "\n",
      "###맥락: KT 외국인 맞춤 서비스 강화 KT는 최근 입국이 늘고 있는 외국인 고객을 위한 케어서비스를 강화한다고 3일 밝혔다. 국내 거주 외국인 중 비중이 가장 높은 중국인 고객은 위챗 중국 최대 메신저 앱 내 KT 미니프로그램을 통해 KT 유무선 서비스에 대한 중국어 실시간 채팅 상담 통신 상품 사용량 조회 등을 할 수 있다. 사진은 국내 거주 중국인이 이날 실제 위챗 KT 미니프로그램을 이용하는 모습.KT 제공 KT는 최근 입국이 늘고 있는 외국인 고객을 위한 케어서비스를 강화한다고 3일 밝혔다. 국내 거주 외국인 중 비중이 가장 높은 중국인 고객은 위챗 중국 최대 메신저 앱 내 KT 미니프로그램을 통해 KT 유무선 서비스에 대한 중국어 실시간 채팅 상담 통신 상품 사용량 조회 등을 할 수 있다.\n",
      "\n",
      "### 답변: K 3일 KT는 최근 입국이 늘고 있는 외국인 고객을 위한 케어서비스를 강화한다고 밝힌 가운데 국내 거주 외국인 중 비중이 가장 높은 중국인 고객은 위챗 중국 최대 메신저 앱 내 KT 미니프로그램을 통해 KT 유무선 서비스에 대한 중국어 실시간 채팅 상담 통신 상품 사용량 조회 등을 할 수 있으며 국내 거주 외국인 중 비중이 가장 높은 중국인 고객은 위챗 중국 최대 메신저 앱 내 KT 미니프로그램을 통해 KT 유무선 서비스에 대한 중국어 실시간 채팅 상담 통신 상품 사용량 조회 등을 할 수 있다.<|endoftext|>\n",
      "30 ### 질문: 아래의 문서를 요약해줘.\n",
      "\n",
      "###맥락: 대전조차장역 인근서 탈선…경상 7명 포함 총 11명 부상 최대 110분 지연…원희룡 SR·코레일 등 혁신 만전 1일 오후 서울 강남구 SRT수서역 매표소 앞에 열차 탈선사고로 인한 열차 지연과 배상 안내문이 걸려있다. 이날 부산에서 수서역으로 향하던 SRT 열차가 대전조창역 인근에서 탈선하는 사고가 발생해 11명이 부상을 입었다. 국토부와 한국철도공사는 복구 작업과 함께 사고 원인을 조사중이다. 2022.7.1 뉴스1 © News1 박세연 기자 서울 뉴스1 김진 기자 1일 오후 부산역을 출발해 서울 수서역을 향하던 SRT 열차가 탈선해 총 11명이 다쳤다. 열차 운행이 지연되는 가운데 한국철도공사 코레일 는 심야 임시전동열차 운영을 결정했다. 코레일은 이날 오후 KTX 및 일반열차들이 상당 시간 지연 운행되고 있다 며 수도권 전동열차 이용객들의 편의를 위해 기존 막차 시간보다 약 1시간 19분 연장 운행한다 고 밝혔다. 연장운행 노선은 경인선과 경부선 총 2개 노선이다. 인천을 향하는 경인선 하행 막차는 2일 새벽 1시10분 서울역 지상 에서 출발한다. 구로를 향하는 경부선 상행 은 같은 날 0시55분 병점역에서 출발할 예정이다. 앞서 수서행 SRT 338호 열차는 이날 오후 3시21분쯤 대전조차장역 인근에서 탈선했다. 열차의 1호차와 맨 후부 동력차 총 2량이 궤도를 이탈했다. 오후 1시45분 부산역에서 출발한열차는 4시8분 수서역에 도착할 예정이었다. 해당 열차에는 380명이 탑승해 있었고 사고로 11명이 다쳤다. 4명은 귀가 조치됐고 7명은 인근 병원으로 이송됐으나 경상으로 파악됐다. 나머지 승객들은 인근 역까지 도보로 이동한 뒤 연계버스로 환승 조치됐다. 사고로 인해 KTX·SRT 열차 운행은 모두 지연됐다. 서울행 상행 KTX 열차는 대전 서울 간 일반선으로 우회 운행되고 있으며 수서행 상행 SRT 열차는 대전 신탄진 간 하행 고속선로를 이용되고 있다. 상행선은 최대 110분가량 지연 운행 중으로 6개 열차는 운행을 중지한 상태다. 부산행 하행 KTX·SRT 열차는 정상 운행 중이나 열차 운행 조정 등으로 최대 40분 지연 운행 되고 있다. 사고 복구는 열차 운행이 종료되는 밤 11시부터 본격적으로 시작될 예정이다. 코레일은 첫 열차 오전 5시5분 서울역 출발 운행을 목표로 복구 작업을 진행할 방침이다. 코레일은 현장에는 차량 시설 전기 등 300여명의 복구인력과 기중기 모터카 등 가용할 수 있는 모든 장비를 투입해 작업할 예정 이라고 설명했다. 1일 부산에서 수서역으로 향하던 SRT 열차가 대전조창역 인근에서 탈선하는 사고가 발생해 관계자들이 사고를 수습하고 있다. 2022.7.1 뉴스1 © News1 김기태 기자 주무부처인 국토교통부는 관계기관과 정확한 사고 원인을 파악 중이다. 주요 탈선 원인으로는 폭염이 거론된다. 30도를 웃도는 무더위에 레일이 팽창하면서 선로에 뒤틀림 현상이 발생했을 가능성이다. 사고 발생 열차는 바퀴가 빠진 것으로 알려졌다. 원인 조사는 국토부 항공철도사고조사위원회가 맡게 된다. 국토부는 사고 발생 직후 철도안전감독관·철도경찰 및 사고조사반을 현장에 투입하고 대책 매뉴얼에 따라 철도재난상황반을 구성해 대응에 나섰다. 긴급대책회의 및 장관 보고도 이뤄졌다. 원희룡 국토부 장관은 관련 보고를 받고 철도 등 교통을 총괄하는 장관으로서 이번 사고로 인해 피해를 입은 승객과 불편을 겪고 있는 국민께 진심으로 송구하다 며 신속한 복구 작업을 지시했다. 특히 원 장관은 이번 사고와 관련해 공공기관 혁신 을 재차 언급했다. 원 장관은 사고 차량을 운행한 SR과 차량정비·유지보수 등을 담당하는 코레일 직원들이 자신의 가족이 열차를 이용한다고 생각하고 긴장감을 갖고 업무에 임했으면 이러한 사고가 발생하지 않을 것 이라고 강조했다. 이어 정확한 사고조사를 바탕으로 철저한 안전관리체계를 구축하는 것은 물론이고 사소한 사고도 재발하지 않도록 코레일 SR 등 공공기관 스스로 혁신하는 데 만전을 기할 것 이라고 덧붙였다. 1일 부산에서 수서역으로 향하던 SRT 열차가 대전조창역 인근에서 탈선하는 사고가 발생 열차의 바퀴가 선로에서 이탈해 있다.\n",
      "\n",
      "### 답변: 1일 오후 부산역을 출발해 서울 수서역을 향하던 SRT 열차가 대전조차장역 인근에서 탈선하는 사고가 발생해 11명이 부상을 입었는데, 코레일은 수도권 전동열차 이용객들의 편의를 위해 기존 막차 시간보다 약 1시간 19분 연장 운행하고, 사고 복구는 열차 운행이 종료되는 밤 11시부터 본격적으로 시작될 예정이다.<|endoftext|>\n",
      "31 ### 질문: 아래의 문서를 요약해줘.\n",
      "\n",
      "###맥락: 이창용 한국은행 총재 사진 이기범 기자 leekb 인플레이션 상황이 심각해지면서 한국은행이 사상 첫 빅스텝 기준금리 0.5%포인트 인상 에 나설 가능성도 높아진다. 증권가에서는 한은의 빅스텝을 예상하면서도 하반기 경기 상황에 따라 금리 인상에 속도 조절을 할 가능성이 있다고 보고 있다. 5일 금융투자업계에 따르면 국내 증권사들은 오는 14일 열리는 금융통화위원회에서 기준금리 50bp 1bp 0.01%포인트 인상이 결정될 것으로 전망한다. 우리나라에서 기준금리 50bp 인상은 유례가 없는 일이다. 실제 빅스텝을 단행할 경우 기준금리는 현재 1.75%에서 2.25%로 오른다. 빅스텝 전망의 가장 큰 이유는 급격한 물가상승이다. 이날 통계청이 발표한 6월 국내 소비자물가지수는 108.22로 전년 동월대비 6% 상승했다. 외환위기였던 1998년11월 6.8% 이후 가장 높은 수치다. 2 3%를 오가던 물가상승률은 지난 3월 4.1%를 기록한 이후 4월 4.8% 5월 5.4%로 갈수록 높아지는 추세다. 러시아 우크라이나 전쟁으로 인한 에너지와 원자재 곡물 가격 상승 원화 약세로 인한 수입물가 상승 등이 주요 원인으로 꼽힌다. 심각한 물가를 잡기 위해선 금리 인상이 불가피하다는 분석이다. 임재균 KB증권 연구원은 6월 소비자물가가 고점을 기록했지만 하반기에는 공공요금 인상 등으로 물가 상승 압력이 더 높아질 수 있다 며 7월 금통위에서 50bp 인상을 단행할 것 이라고 설명했다. 미국 연방준비제도의 2연속 자이언트스텝 75bp 인상 가능성으로 인한 한미 금리차 역전도 우리나라 기준금리 인상 압력을 높이는 요인이다. 신흥국으로 분류되는 한국은 통상 미국보다 금리를 높게 유지해 왔다. 하지만 최근 미국이 연달아 금리를 높이면서 현재 한국과 미국의 금리는 같은 수준 1.75% 으로 올라왔다. 페드워치 FedWatch 에 따르면 오는 26 27일 열리는 FOMC 미국 연방공개시장위원회 에서 75bp 인상할 확률은 95.1%다. 이 경우 미국 기준금리는 2.25 2.5%가 된다. 한은이 빅스텝을 하더라도 미국 금리가 더 높아진다. 금리가 더 높은 곳으로 이동하는 자본의 특성을 고려할 때 한미 금리차 역전은 한국에서의 자본 유출을 심화시키는 요인으로 지적된다. 이를 최소화하기 위해서라도 한국은 미국의 금리 인상 속도에 어느정도 발을 맞출 수밖에 없다. 민지희 미래에셋증권 연구원은 외국인 자본 유출은 단순 금리차 외에도 국내 펀더멘털 기초체력 둔화 속도의 영향을 받을 가능성이 높다 며 미국 연준의 75bp 인상 가능성이 높은 만큼 우리나라도 빅스텝 가능성이 크다 고 전망했다. 급격한 금리 인상은 소비를 위축시키고 경기 침체 우려를 불러온다. 지금 인플레이션이 수요 때문이 아닌 공급의 문제라는 점에서 각국 중앙은행들의 긴축 조치가 적절한 것이냐는 의문도 제기된다. 하지만 시장 거품을 진정시키기 위해선 경기 침체를 감내해서라도 금리 인상하는 수단을 써야 한다는 시각도 존재한다. 강승원 NH투자증권 연구원은 미국은 경기 침체 가능성을 용인하면서까지 물가와 싸우고 있다 며 한국은 수출 국가이자 인플레이션 압력을 강제로 수입하고 있는 국가라는 점에서 딜레마가 더 크다 고 지적했다. 그러면서 당장 7월 금통위에서 50bp 인상을 피할 수 없을 것 이라며 8월 금통위에서도 25bp 추가 인상을 통해 연말 기준금리 전망치인 2.5%에 도달할 것 이라고 분석했다. 글로벌 긴축이 진행될 수록 증시 변동성도 높아진다. 금리 인상으로 채권 가격이 하락할뿐 아니라 할인율 상승으로 주식의 상대적 매력이 떨어진다. 실질적으론 기업의 자금조달 압력이 커지면서 실적에도 부담이 될 수 있다. 급격한 긴축으로 인한 경기 침체 가능성이 커지면서 연말로 갈수록 긴축 강도는 약해질 수 있다는 분석도 나온다. 민 연구원은 최근 국내 경기에 대한 우려가 높아지면서 하반기 예정된 두 번의 금통위 10월 11월 중 한 번 25bp 올리거나 두 차례 모두 동결할 가능성이 있다 며 연말 우리나라 기준금리 전망은 2.5% 혹은 2.75%가 될 것 이라고 전망했다. 이어 시장은 미국 연준이 4분기에도 빅스텝을 가져갈 것으로 예상하지만 그 보단 인상 속도가 좀 낮아질 수도 있다 며 미국이 긴축 속도를 조절하면 한국도 조절할 가능성이 있다 고 말했다.\n",
      "\n",
      "### 답변: 인플레이션 상황이 심각해지면서 한국은행이 사상 첫 빅스텝 기준금리 0.5%포인트 인상 에 나설 가능성도 높아져, 증권가에서는 한은의 빅스텝을 예상하면서도 하반기 경기 상황에 따라 금리 인상에 속도 조절을 할 가능성이 있다고 보고, 오는 14일 열리는 금융통화위원회에서 기준금리 50bp 1bp 0.01%포인트 인상이 결정될 것으로 전망하고 있다.<|endoftext|>\n",
      "32 ### 질문: 아래의 문서를 요약해줘.\n",
      "\n",
      "###맥락: 서울 뉴시스 이재준 기자 오미크론 변이를 중심으로 코로나19가 기승을 부리는 대만에서 4일 신규환자는 2만3118명으로 2개월 만에 2만명대로 줄었지만 추가 사망자는 69명 나왔다. 중앙통신과 연합보 聯合報 중국시보 中國時報 등에 따르면 코로나19 대책본부인 중앙유행병 지휘센터는 이날 확진자 가운데 대만 안에서 2만3045명 생기고 외국에선 73명이 들어왔다고 발표했다. 전날 감염자는 3만2681명 2일 3만4827명 7월1일 3만5800명 6월30일 3만8942명 29일 4만2204명 28일 4만4428명 27일 2만8530명 26일 3만9646명 25일 4만398명 24일 4만5767명 23일 4만8356명 22일 5만2246명 21일 5만6404명 20일 경우 3만5632명으로 1개월 2주일 만에 3만명대로 떨어졌다. 19일은 5만636명 18일 5만3707명 17일 5만5261명 16일 6만3221명 15일 6만8939명 14일 6만6189명 13일 4만5110명 12일 5만657명 11일 7만9663명 10일 6만8347명 9일 7만2967명 8일 8만223명 7일 8만3027명 6일 5만3023명 5일 6만2110명 4일 6만8151명 3일 7만6564명 2일 7만6986명 6월1일 8만8293명 5월31일 8만705명 6일 3만6213명 4일 2만8487명 2일 1만7858명 1일 1만7085명 4월30일 1만5149명이다. 대만 내 새 감염자는 22개 현시에서 발생했으며 남성 1만929명 여성 1만2087명 29명은 확인하고 있다. 나이는 5세 미만에서 90대 사이다. 신베이시에서 3438명 타이중시 3217명 가오슝시 2719명 타오위안시 2411명 타이베이시 1992명 타이난시 1842명 장화현 1336명 핑둥현 921명 먀오리현 619명 윈린현 609명 신주현 599명 신주시 491명 이란현 491명 난터우현 472명 자이현 439명 화롄현 436명 타이둥현 254명 지룽시 246명 자이시 213명 펑후현 157명 진먼현 125명 롄장현 18명이다. 외부 유입 감염자는 남성 42명 여성 31명이다. 나이는 5세 미만에서 80대까지다. 미국에서 3명 베트남 2명 독일과 터키 스페인 1명씩 유입했고 65명은 출발 국가를 조사하고 있다. 이로써 대만 코로나 감염자는 총 389만3643명에 달했다. 대만 안에서 387만8594명이고 국외 유입이 1만4995명 친선함대 36명 항공기 2명 불명 1명 조사 중 14명이다. 코로나19 환자는 작년 5월10일 100명 미만이다가 이후 1년1개월24일 동안 크게 증대하면서 이날까지 389만3550명 가까이 늘어났다. 지휘센터는 코로나19 환자 가운데 이날 전날 88명에서 19명 줄어든 69명이 새로 사망했다고 전했다. 남성 36명 여성 33명으로 연령이 5세 미만에서 90대 사이다. 64명이 만성질환자이고 48명은 백신을 3차까지 맞지 않았다. 이제껏 코로나19 감염자 중 7025명이 숨졌다. 이중 15명은 국외 유입자다. 대만 내에서 숨진 환자 7010명 분포를 보면 신베이시 1726명 수도 타이베이 905명 타이중시 656명 가오슝시 598명 타오위안시 557명 타이난시 457명 장화현 362명 핑둥현 289명 윈린현 182명 난터우현 179명 지룽시 173명 이란현 159명 먀오리현 137명 자이현 128명 화롄현 114명 신주현 111명 자이시 109명 타이둥현 89명 신주시 67명 진먼현과 펑후현 각 9명이다.\n",
      "\n",
      "### 답변: 오통신과 연합보 聯合報 중국시보 中國時報 등에 따르면 코로나19 대책본부인 중앙유행병 지휘센터는 이날 오미크론 변이를 중심으로 코로나19가 기승을 부리는 대만에서 4일 신규환자는 2만3118명으로 2개월 만에 2만명대로 줄었지만 추가 사망자는 69명 나와 대책본부인 중앙유행병 지휘센터는 이날 확진자 가운데 대만 안에서 2만3045명 생기고 외국에선 73명이 들어왔다고 발표했고 대만 내 새 감염자는 22개 현시에서 발생했으며 남성 1만929명 여성 1만2087명 확인하고 있다.<|endoftext|>\n",
      "33 ### 질문: 아래의 문서를 요약해줘.\n",
      "\n",
      "###맥락: 유류세 인하폭이 37%로 확대된 1일 서울 강서구 목화알뜰주유소를 찾은 시민들이 유류세 인하분이 적용된 휘발유 및 경유를 주유하고 있다.\n",
      "\n",
      "### 답변: 1일 서울 강서구 목화알뜰주유소를 찾은 시민들이 유류세 인하분이 적용된 휘발유 및 경유를 주유하고 있으며 유류세 인하폭이 37%로 확대된 1일 서울 강서구 목화알뜰주유소를 찾은 시민들이 유류세 인하분이 적용된 휘발유 및 경유를 주유하고 있고, 유류세 인하폭이 37%로 확대된 1일 서울 강서구 목화알뜰주유소를 찾은 시민 서울 강서구 목화알뜰주유소를 찾은 시민들이 유류세 인하폭이 37%로 확대된 1일 서울 강서구 목화알뜰주유소를 찾은 시민 서울 강서구 목화알뜰주유소를 찾은 시민들이 유류세 인하폭이 37%로 확대된 1일 서울 강서구 목화알뜰뜰주유소를 찾은 시민들이 유류세 인하폭이 37%로 확대된 1일 서울 강서구 목화알뜰주유소를 찾은 시민들이 유류세 인하분이 적용된 휘발유 및 경유를 주유하고 있다.<|endoftext|>\n",
      "34 ### 질문: 아래의 문서를 요약해줘.\n",
      "\n",
      "###맥락: 서울 뉴시스 1사 1인 장애인 채용 1호 기업 인 한국후꼬꾸에서 김동석 IBK기업은행 기업지원부장 오른쪽 과 이동일 한국장애인고용공단 부장 왼쪽 이 지난달 23일 회사 관계자들과 기념촬영을 하고 있다. 2022.7.4 사진 IBK기업은행 제공 photo newsis.com 서울 뉴시스 정옥주 기자 IBK기업은행은 한국장애인고용공단과 1사 1인 장애인 채용 캠페인 을 추진한다고 4일 밝혔다. 이는 지난해 10월 체결한 중소기업 장애인 채용 지원을 위한 업무협약 의 후속사업이다. 이번 캠페인을 통해 두 기관은 장애인 채용 희망 중소기업에게 장애인 구인서비스를 밀착 지원한다. 장애인공단의 장애인 고용컨설팅과 기업은행의 경영 컨설팅도 무료로 제공한다. 또 장애인 채용 시 기업은행은 일자리 채움펀드를 통해 1인당 100만원의 금융비용을 지원하고 장애인 고용 우수기업으로 선정될 경우 금리 우대 대출상품도 활용할 수 있다. 참여 신청방법은 기업은행이 운영하는 중소기업 전문 취업포털 아이원 잡 i ONE JOB 홈페이지에서 가능하며 참여 기업을 상시 모집한다. 기업은행 관계자는 이번 캠페인을 통해 중소기업의 장애인 채용에 많은 관심을 기대한다 고 말했다.\n",
      "\n",
      "### 답변: IBK기업은행은 한국장애인고용공단과 중소기업 장애인 채용 지원을 위한 업무협약 의 후속 사업으로 지난해 10월 중소기업 장애인 채용 지원을 위한 업무협약 의 후속 사업으로 1사 1인 장애인 채용 캠페인 을 추진한다고 4일 밝혔다.<|endoftext|>\n",
      "35 ### 질문: 아래의 문서를 요약해줘.\n",
      "\n",
      "###맥락: 서울 은평·서대문구 경기 고양시 등지에 이른바 러브 버그 라 불리는 벌레떼가 출몰해 주민들이 불편을 겪고 있다. 사진은 러브 버그 모습. 사진 연합뉴스 최근 서울 서북권과 경기 고양시 등에 떼로 나타난 일명 러브버그 사랑벌레 . 벌레를 싫어하는 사람에게 혐오감을 줄지언정 해충은 아니라는 것이 중론입니다. 오늘 5일 환경부 국립생물자원관 등에 따르면 최근 출몰한 러브버그는 계피우단털파리 로 추정되며 유전자 분석이 아직 진행 중이긴 하지만 외래종보다는 자생종일 가능성에 무게가 실립니다. 유전자 분석 결과는 이번 주 내 나올 전망입니다. 자원관 관계자는 국내에 털파리 전공자가 없어 이번에 나타난 러브버그가 언제부터 국내에 있었는지 등을 추적하기 어려운 상황 이라고 설명했습니다. 같은 털파리과에 속하며 미국에서 러브버그로 불리는 플리시아 니악티카 는 플로리다주 등 멕시코만에 접한 미국 남부지역 등에서 여름철 단골손님이다. 코스타리카 온두라스 멕시코 등에도 서식합니다. 국내 러브버그와 플리시아 니악티카는 특성이 비슷할 것으로 추측됩니다. 플로리다대 식품 및 농업과학연구소 IFAS 가 펴낸 책 등을 보면 플리시아 니악티카는 몸길이가 수컷은 6㎜ 정도이고 암컷은 8㎜가량으로 작으며 생존시간은 실험실 환경에선 수컷과 암컷 각각 92시간과 72시간 정도인데 자연에서는 짝을 찾아 교미하고 알을 낳는 데 필요한 만큼 만 삽니다. 주로 낮에 기온이 20도 이상일 때만 날아다니고 밤에는 낮은 초목에 숨어서 쉽니다. 플리시아 니악티카는 통상 연중 4 5월과 8 9월 두 차례 번성하며 고속도로 주변에 떼로 살면서 차에 부딪혀 자국을 남기는 터라 미국에서도 골칫거리 로 취급받기도 합니다. 암컷 플리시아 니악티카는 썩어가는 식물이나 잔해 밑에 100 350개 알을 낳으며 알에서 애벌레가 태어나는 데는 약 20일이 걸립니다. 그간에도 우리나라 생태계 일원으로 살아온 러브버그가 이번에 화제의 중심에 오른 이유는 도심에 떼로 나타났기 때문입니다. 털파리류 애벌레가 성체로 우화 羽化 하려면 고온다습해야 하는데 지난달까지는 가뭄으로 이런 환경이 나타나지 않다가 최근 장마철에 들어서면서 한꺼번에 성체가 됐다는 분석이 나옵니다. 지방자치단체들이 민원에 러브버그 방역에 나섰지만 전문가들은 그럴 필요가 있는지 의문을 제기합니다. 대기가 건조해지면 금방 죽기 때문인데 당국은 장마가 끝나고 2주 정도 지나면 러브버그들이 자연히 소멸할 것으로 예상합니다. 더구나 러브버그는 굳이 따지자면 해충보다는 익충에 가깝습니다. 국립생물자원관 관계자는 사람에게 질병을 옮기거나 농작물을 해쳐 농사를 망치지 않는다 라고 말했습니다. 플리시아 니악티카는 사람을 물거나 쏘지 않아 위협이 되지 않고 다양한 식물의 화밀 花蜜 을 먹기에 수분에는 도움을 줍니다. 애벌레의 경우 썩은 식물을 유기물로 바꿔 땅을 옥토로 바꾸는 역할을 하는 것으로 알려졌습니다. 러브버그를 피하고 싶다면 어떻게 해야 할까. 지난 2015년 학술지 Florida Entomologist 에 실린 논문에 따르면 플리시아 니악티카는 수컷이든 암컷이든 꽃에서 유래된 페닐아세트알데히드 PAA 에 후각적으로 끌리고 노란색과 흰색에 시각적으로 끌리는 것으로 나타났습니다. 러브버그를 멀리하려면 꽃향기가 나는 향수와 노란옷이나 흰옷을 입지 않는 것이 좋다는 의미입니다.\n",
      "\n",
      "### 답변: 5일 환경부 국립생물자원관 등에 따르면 최근 서울 서북권과 경기 고양시 등에 떼로 나타난 이른바 러브 버그 라 불리는 벌레떼가 계피우단털파리로 추정되며 유전자 분석이 아직 진행 중이긴 하지만 외래종보다는 자생종일 가능성에 무게가 실리고 있어 국내 러브버그와 플리시아 니악티카는 특성이 비슷할 것으로 추측된다.<|endoftext|>\n",
      "36 ### 질문: 아래의 문서를 요약해줘.\n",
      "\n",
      "###맥락: 화학연·안전성평가연구소 등과 시너지 제고 신·변종 감염병·원숭이두창 등 연구 박차 최영기 왼쪽 한국바이러스기초연구소장과 신의철 바이러스면역연구센터장이 5일 오후 기초과학연구원 과학문화센터에서 출범1주년 간담회를 열고 연구성과에 대해 설명하고 있다. 사진 IBS 제공 신·변종 감염병 등을 연구하는 한국바이러스기초연구소 바이러스연 가 출범 1주년을 맞았다. 코로나19와 원숭이두창 등 주요 감염병을 대응하는 기초연구는 물론 국내에 부족한 바이러스 분야 인재를 육성하는 데 역량을 집중하고 있다. 올해는 주요 정부출연연구기관 등과 바이러스 연구협력 협의체 를 구축 연구기관간 시너지를 내는 데도 주력하고 있다. 5일 기초과학연구원 IBS 에 따르면 바이러스연은 IBS 산하 조직으로 지난해 7월 1일 설립한 후 바이러스 기초원천역량을 확보해 국내 감염병 안보에 공헌하는 것이 목표다. 바이러스연은 현재 신·변종 바이러스 연구센터 와 바이러스 면역 연구센터 2개 센터로 구성돼 있다. 각각 신·변종 바이러스의 이해를 통한 바이러스성 질병 극복 연구와 면역병리 기전 연구 등을 수행한다. 출범 후 고연령 코로나19 감염자의 중증도와 전파율이 저연령 감염자 보다 높다는 사실을 동물실험으로 입증하는 등 신종 감염병 연구에 매진하고 있다. 이르면 내년 바이러스 구조분석 플랫폼 연구센터도 추가 설립해 연구 역량을 확대할 예정이다. 바이러스연은 현재 한국화학연구원 안전성평가연구소 등과 함께 바이러스 연구협력 협의체 를 구축해 기초·응용연구간 시너지 효과도 제고하고 있다. 최영기 바이러스연구소장은 협력체를 통해 국가방역에 도움이 될 수 있는 기반 연구를 수행하겠다 며 좀더 빠르게 국민들에게 옳은 정보와 바이러스를 대처할 수 있는 좋은 방향을 제시할 수 있는 연구를 하도록 노력하겠다 고 말했다. 신의철 바이러스면역연구센터장은 바이러스를 빠르게 대응하는 연구 외에도 향후 발생할 신종 바이러스를 미리 대비하는 연구도 수행하고 있다 며 어떤 바이러스가 오더라도 대응할 수 있도록 연구에 최선을 다하겠다 고 강조했다. 한편 이날부터 6일까지 대전 IBS 과학문화센터에서 바이러스연 출범 1주년을 기념하는 바이러스 연구 포럼 이 열린다. 5일에는 바이러스 면역 연구센터를 포함해 한국생명공학연구원 한국과학기술원 KAIST 등이 6일에는 신변종 바이러스 연구센터를 필두로 한국화학연구원 등이 대표 연구성과를 발표한다. 포럼은 IBS 유튜브 채널에 생중계되며 자세한 정보는 포럼 누리집을 참고하면 된다.\n",
      "\n",
      "### 답변: 한국바이러스기초연구소 바이러스연은 코로나19와 원숭이두창 등 주요 감염병을 대응하는 기초연구는 물론 국내에 부족한 바이러스 분야 인재를 육성하고, 올해는 주요 정부출연연구기관 등과 바이러스 연구협력 협의체 를 구축 연구기관간 시너지를 내는 데도 주력하고 있으며 출범 1주년을 맞았다.<|endoftext|>\n",
      "37 ### 질문: 아래의 문서를 요약해줘.\n",
      "\n",
      "###맥락: 머니S리포트 물가·금리에 환율까지 3高 ④ 매매 차익·이자 수익 톡톡 편집자주 물가와 환율 금리가 모두 상승하는 3중고 로 인해 대한민국 경제에 비상이 걸렸다. 2년 넘게 이어진 팬데믹 세계적 감염병 대유행 상황에서 물가 상승 지속 러시아·우크라이나 전쟁 장기화 미국 연방준비제도 Fed 연준 의 기준금리 인상 중국의 봉쇄 조치까지 대외 불확실성이 커지면서 대다수 기업들이 실적 둔화를 겪을 것이란 전망이다. 원 달러 환율이 약 13년 만에 최고 수준으로 치솟으면서 외국인 투자금 이탈이 가속화되고 있다는 점도 국내 증시엔 부담이다. 현재 코스피의 외국인 보유 비중은 30% 정도로 2009년 이후 가장 낮은 수준이다. 반면 섬유의복·제약바이오 등 일부 업종은 환율 상승에 따른 수혜가 기대되기도 한다. 증시를 떠난 투자자들은 고환율을 이용 달러에 투자하는 상장지수펀드 ETF 와 달러예금 달러보험 등으로 눈을 돌리고 있다. 안전자산으로 분류되는 채권 역시 개인의 순매수 금액이 1년 간 2배 가까이 증가하는 등 자금이 몰리고 있다. 글로벌 금리 인상 기조가 지속되고 채권금리 또한 상승하면서 채권으로 손을 뻗은 투자자들이 급증한 것으로 나타났다. 사진 이미지투데이 기사 게재 순서 ① 또 커지는 불확실성 대한민국 경제 비상 ② 强달러에 돈 몰린다… 달러 예금·보험부터 ETF까지 ③ 원화 약세에 셀코리아 ... 한미 금리 역전 우려에 하반기도 답없다 ④ 투자 암흑기... 채권 저가매수 기회 6월 한 달 새 코스피지수가 연중 최저점을 일곱 차례 경신하고 비트코인을 비롯한 암호화폐 가상화폐 가 급락하는 등 금융 자산이 휘청이면서 채권으로 눈을 돌리는 투자자들이 늘고 있다. 저가 매수와 이자 수익에 대한 기대감 등에 주목하고 있는 것이다. 러시아와 우크라이나 전쟁 장기화 미국의 강한 긴축 기조 지속적인 물가 상승 우려 중국의 신종 코로나바이러스 감염증 코로나19 봉쇄 조치 등 많은 매크로 거시경제 불확실성이 지속되면서 주식 등 위험자산에 대한 회피 심리가 강해졌다. 반대로 안전자산으로 분류되는 채권은 환영을 받는 분위기다. 개인의 채권 순매수 금액은 1년 간 2배 가까이 증가했다. ━ 채권금리 상승에 채권 투자 매력↑ ━ 그래픽 김은옥 기자 글로벌 금리 인상 기조가 지속되고 채권금리 또한 상승하면서 채권으로 손을 뻗은 투자자들이 급증한 것으로 나타났다. 금융투자협회 채권정보센터에 따르면 6월 17일 3년 만기 국고채 금리는 전거래일 대비 1.7bp 1bp 0.01%포인트 오른 연 3.745%로 마감했다. 2011년 8월 4일 연 3.770% 이후 최고치였다. 이후 3.5 3.6%대를 등락하고 있다. 채권 투자 방법은 만기 보유 와 트레이딩 거래 등 크게 두 가지 방식으로 나뉜다. 만기 보유는 만기가 도래할 때까지 채권을 팔지 않고 이자를 받은 후 만기에 원금을 돌려 받는 방법 트레이딩은 채권을 사고팔며 매매차익을 거두는 방법이다. 통상 시장 금리가 오르면 시장에서 거래되는 채권 가격은 하락해 이미 발행돼 거래되는 채권을 저가에 매수 매매 차익을 기대할 수 있다. 새롭게 발행되는 채권은 발행 금리가 높기 때문에 이자 수익을 노려볼 수 있다. 황세운 자본시장연구원 선임연구위원은 채권금리 상승은 평가 손실이 발생할 수 있는 위험이 있어 금리 상승기가 채권 투자에 부담스러운 시기로 여겨질 수도 있으나 만기까지 보유한다면 얘기가 달라진다 며 중간에 발생하는 이자를 지급받으면서 만기까지 보유하면 평가 손실에 대한 걱정은 하지 않아도 되기 때문 이라고 설명했다. 이어 올해 채권금리는 추가 상승이 가능할 것이란 전망이 나오는 만큼 연말까지 더 상승할 가능성이 있다 며 채권 투자 적기는 향후 예상 이자율 등을 고려해 신중하게 판단해야 한다 고 덧붙였다. ━ 개인 채권 투자금액 1년 새 2배 껑충 ━ 삼성증권의 올 5월 말까지 개인투자자 평균 채권 투자금액은 1억9732만원으로 전년동기 대비 91% 증가했다 그래픽 김은옥 기자 과거와 달리 최근엔 1만원 전후의 채권 소액투자가 가능해졌다. 그만큼 개인투자자들의 채권 투자 문턱이 낮아진 것이다. 이 같은 배경과 맞물리며 개인투자자들의 채권 투자도 크게 늘었다. 채권의 경우 주식과 달리 장외시장 비중이 높다. 금융투자협회에 따르면 개인투자자들은 올들어 6월 28일까지 장외 채권시장에서 채권 4조8805억원어치를 순매수한 것으로 집계됐다. 전년동기 2조6253억원 보다 86% 가량 증가한 수치다. 삼성증권의 경우 올해 개인투자자 대상 채권 판매 규모는 5월 말 기준 지난해 같은 기간에 비해 47% 늘어난 2조2000억원을 기록했다. 신종자본증권과 회사채는 이자 지급 주기가 3개월로 짧다는 장점이 있다. 높은 이자수익을 노리는 투자자들은 은행·금융지주사가 발행한 신종자본증권과 일반 회사채를 절세를 노리는 투자자들은 저쿠폰 국채를 선호하는 추세를 보이고 있다는 게 삼성증권의 설명이다. 개인투자자들의 평균 채권 투자금액도 급증세다. 삼성증권 관계자는 올 5월 말까지 개인투자자들의 평균 채권 투자금액은 1억9732만원으로 전년동기 1억351만원 대비 91% 증가했다 고 말했다.\n",
      "\n",
      "### 답변: 물 상승, 러시아·우크라이나 전쟁 장기화, 미국 연방준비제도 Fed 연준 의 기준금리 인상 중국의 봉쇄 조치까지 물가와 환율 금리가 모두 상승하는 3중고로 인하여 대한민국 경제에 비상이 걸렸으며, 증시를 떠난 투자자들은 달러에 투자하는 ETF 와 달러예금 달러보험 등으로 눈을 돌리고 있다.<|endoftext|>\n",
      "38 ### 질문: 아래의 문서를 요약해줘.\n",
      "\n",
      "###맥락: 구글 결제 정책 미준수로 최신 버전 심사 거절 6월 30일부터 구글플레이 업데이트 적용 안 돼 카카오 다음에서 최신 버전 다운로드 안내 중 카카오톡 이모티콘 플러스의 웹 결제용 아웃링크 공지. 사진 카카오톡 구글이 인앱결제 강제 정책을 따르지 않은 카카오톡에 업데이트 중단 이라는 초강수로 대응했다. 인앱결제강제방지법 시행에 맞선 구글이 앱마켓 입점 사업자를 제재한 첫 사례다. 5일 업계에 따르면 구글은 지난 6월 30일부터 앱 내 웹 결제 아웃링크를 유지한 카카오톡 의 앱 업데이트 심사를 거절했다. 이에 지난달 30일부터 구글 앱마켓 구글플레이에서 최신버전 v9.8.5 의 카카오톡을 설치할 수 없게 됐다. 카카오 관계자는 구글의 결제 정책을 준수하지 않았다는 이유로 최신 버전 심사가 거절됐다 며 이용자 불편을 최소화하기 위해 지난 1일부터 다음 검색을 통해 카카오톡 최신 버전을 다운로드 받을 수 있도록 안내하고 있다 고 했다. 다음에서 APK 안드로이드패키지 파일로 카카오톡 최신 버전을 설치할 경우 경로를 알 수 없는 앱 이라는 등 보안경고 가 뜬다. 이에 대해 카카오는 다음에서 카카오톡 검색 시 제공 중인 카카오톡의 APK 파일은 카카오에서 제공하는 공식 설치 파일이므로 안심하고 설치를 진행해달라 고 고객센터를 통해 안내하고 있다. 사진 카카오톡 고객센터 카카오는 지난 5월 말부터 카카오톡 앱 내 이모티콘 구독 서비스 이모티콘 플러스 결제 화면에 웹에서는 월 3900원의 가격으로 구독하실 수 있습니다 라는 문구와 함께 웹 결제 화면으로 연결되는 아웃링크 를 도입했다. 구글 인앱결제 정책으로 수수료가 인상되면서 이모티콘 플러스 가격이 월 4900원에서 5700원으로 올랐기 때문이다. 카카오 측은 구독 상품을 기존 가격대로 구매할 수 있는 방법을 안내할 필요가 있다고 판단해 웹 결제 아웃링크를 추가한 것 이라고 설명했다. 구글은 아웃링크 유지가 자사 앱마켓 정책에 위배된다는 입장이다. 구글은 지난달부터 자사 인앱결제 시스템이나 개발자 제공 인앱결제 인앱결제 내 제3자 결제방식 를 강제하는 앱마켓 정책을 도입했다. 구글은 이 정책을 지키지 않는 앱은 구글플레이에서 삭제하겠다고 경고해왔다. 구글 인앱결제 강제 방지법을 집행하는 방송통신위원회는 현재 실태조사 중이라는 이유로 적극적인 제재를 미루고 있다. 앱 삭제는 면했지만 조만간 카카오톡 앱이 구글플레이에서 사라지게 될 가능성도 있다. 카카오가 당분간 아웃링크 유지를 고수할 계획이기 때문이다. 카카오 관계자는 이용자들의 결제 방법을 선택할 수 있도록 인앱결제 외 다른 결제 방법을 함께 안내하는 현재 방식을 당분간 유지하고자 한다 고 전했다.\n",
      "\n",
      "### 답변: 5일 업계에 따르면 구글은 지난 6월 30일부터 앱 내 웹 결제 아웃링크를 유지한 카카오톡의 앱 업데이트 심사를 거절하였고 이에 지난달 30일부터 구글 앱마켓 구글플레이에서 최신버전 v9.8.5 의 카카오톡을 설치할 수 없게 되어 카카오 관계자는 구글의 결제 정책을 준수하지 않았다는 이유로 최신 버전 심사가 거절되어 지난 1일부터 다음 검색을 통해 카카오톡 최신 버전을 다운로드 받을 수 있도록 안내하고 있다고 전했다.<|endoftext|>\n",
      "39 ### 질문: 아래의 문서를 요약해줘.\n",
      "\n",
      "###맥락: SRT 운영사인 SR은 대전조차장역 인근에서 발생한 열차 탈선 사고를 계기로 비상 대응 매뉴얼을 전면 개편한다고 밝혔습니다. 이종국 SR 대표이사는 오늘 4일 서울 강남구 본사에서 대전조차장역 인근 탈선 사고 대책 점검 회의를 주재한 자리에서 “대응 매뉴얼을 고객 관점에서 재점검해야 한다”며 이같이 밝혔습니다. 이 대표는 특히 “형식적인 내용은 삭제하고 실제 상황에서 바로 적용할 수 있도록 메뉴얼을 전면 개편하라”고 강조했습니다. 이 대표는 이어 “안전 확보 고객 수송 차량 복구 등 모든 분야에서 전화위복의 기회가 될 수 있도록 강력한 대책을 마련하겠다”고 강조한 뒤 “국민께 큰 불편을 겪게 해드려 죄송하다”고 사과했습니다. SR은 이번 사고 발생 직후 홈페이지와 앱 문자메시지를 통해 열차 이용과 관련해 안내를 했고 승객들에게 교통비를 추가로 지급했습니다. 하지만 사고로 인한 열차 운행 지연시간 변경된 열차 운행 정보가 고객에게 즉시 전달되지 않아 고객의 불편이 컸던 것으로 파악됐습니다. SR은 지연 정보를 실시간으로 반영해 안내할 수 있도록 시스템을 보완하고 부산 광주송정 등 KTX 공용역 구간에서도 사고 등으로 열차가 장시간 지연될 경우 이용객의 교통 편의를 지원하는 방안을 마련할 방침입니다. 지난 1일 오후 3시 20분쯤 부산발 수서행 SRT 338호 열차가 대전 조차장역 인근에서 탈선해 11명이 다쳤고 이 가운데 7명이 병원으로 이송돼 치료를 받았습니다.\n",
      "\n",
      "### 답변: SRT 운영사인 SR은 지난 1일 오후 3시 20분쯤 부산발 수서행 SRT 338호 열차가 대전 조차장역 인근에서 열차 탈선 사고로 11명이 다쳤고 7명이 병원으로 이송돼 치료를 받은 후  4일 서울 강남구 본사에서 대전조차장역 인근 탈선 사고 대책 점검 회의를 주재한 자리에서 “대응 매뉴얼을 고객 관점에서 고객 관점에서 고객 관점에서 재점검해야 한다”며 이같이 밝혔다.<|endoftext|>\n",
      "40 ### 질문: 아래의 문서를 요약해줘.\n",
      "\n",
      "###맥락: 위메이드는 커뮤니티 기반 웹3.0 탈중앙화 웹 게임사 플라네타리움랩스에 전략적 투자를 단행했다고 8일 알렸다. 사진은 위메이드 미르M 이미지. 사진제공 위메이드 위메이드가 커뮤니티 기반 웹3.0 탈중앙화 웹 게임사 플라네타리움랩스에 전략적 투자를 단행했다고 8일 전했다. 플라네타리움랩스는 립플래닛 Libplanet 기반의 웹3.0 게임 생태계 구현 툴킷 소프트웨어 도구 세트 을 게임 개발사에게 제공해 서버 없는 server less 게임을 개발할 수 있도록 지원한다. 특히 각 게임별로 독자적인 네트워크와 프로토콜을 구성해 게임 안의 모든 이용자가 노드 운영자로서 게임의 상태를 관리하고 네트워크를 운영할 수 있게 한다. 이용자들은 이를 통해 게임을 공동 운영하고 보상을 받는 구조다. 립플래닛을 활용한 세계 최초로 자체 블록체인에서 구동되는 오픈소스 온라인 역할수행게임 RPG 나인 크로니클 Nine Chronicles 은 30만명 이상의 플레이어 커뮤니티를 조성했다. 올해 플라네타리움랩스는 자체 퍼블리싱 역량을 활용해 아시아 태평양 지역의 주요 게임 개발사와 협력하고 여러 건의 커뮤니티 기반 게임 개발 및 퍼블리싱 활동을 선보일 계획이다. 김재석 플라네타리움랩스 대표는 게임의 미래는 이용자와 커뮤니티가 비전을 공유하고 협력하는 방향으로 가고 있다 며 커뮤니티가 소유하고 형성하는 게임이라는 비전을 함께 실현해 나갈 파트너들이 생겨 기쁘다 고 말했다. 장현국 위메이드 대표는 유틸리티 코인 위믹스와 100% 완전담보 스테이블 코인 위믹스 를 기반으로 하는 자체 메인넷 위믹스3.0는 게임 탈중앙화 자율조직 DAO 와 결합된 대체 불가능한 토큰 NFT 서비스 나일 NILE 다양한 디파이 프로토콜까지 모든 것을 갖춘 생태계가 될 것 이라며 플라네타리움 랩스와의 협업이 위믹스3.0의 생태계에 가져다 줄 흥미로운 가능성들을 기대하고 있다 고 말했다. 위메이드는 자체 메인넷 위믹스3.0 테스트넷을 론칭하고 다양한 국내외 블록체인 기업과 프로젝트에 투자하며 자체 블록체인 플랫폼 위믹스의 생태계 확장에 구슬땀을 흘리고 있다.\n",
      "\n",
      "### 답변: 위메이드는 게임 안의 모든 이용자가 노드 운영자로서 게임의 상태를 관리하고 네트워크를 운영할 수 있게 하는 등 게임의 미래는 이용자와 커뮤니티가 비전을 공유하고 협력하는 방향으로 가고 있다 며 커뮤니티 기반 웹3.0 탈중앙화 웹 게임사 플라네타리움랩스에 전략적 투자를 단행한다고 8일 밝혔다.<|endoftext|>\n",
      "41 ### 질문: 아래의 문서를 요약해줘.\n",
      "\n",
      "###맥락: 전국금융산업노동조합과 금융산업사용자협의회가 지난 14일 서울 중구 은행회관에서 2022년 제3차 산별중앙교섭을 개최했다. 사진 전국금융산업노동조합 금융노사가 올해 임금인상률을 두고 이견을 보이면서 갈등이 깊어지고 있다. 금융산업사용자협의회와 전국금융산업노동조합이 제시한 임금인상률 차이는 5.2%포인트에 달해 진통이 예상된다. 4일 금융권에 따르면 금융산업사용자협의회와 금융노동조합은 오는 5일 제4차 산별중앙교섭을 통해 올해 임금인상률을 정한다. 앞서 사용자협의회는 올해 임금인상률로 0.9%를 제시했다. 산업 평균 대비 금융권의 임금수준이 높고 미국의 금리 인상도 우려스럽다는 이유에서다. 금융노조가 지난 3월 제시했던 인상률 6.1%와 크게 차이 나는 수치다. 금융노조는 지난 4월 한국은행이 제시한 올해 성장률 전망치 3%와 2월 기준 소비자물가상승률 3.1%를 적용한 임금인상률 총액 기준 6.1% 저임금직군 12.2% 을 포함 34개 단체협약안을 제시한 바 있다. 이 외에도 정년 65세 연장 60세 이전 임금피크 진입 금지 임금피크 기간 근로시간 단축 등의 안건을 사용자측에 제시했다. 사용자 측은 비정규직 채용제한 폐지 탄력적 근로시간제 도입 호봉제 폐지 등 임금체계 개편 영업시간 1시간 단축 등 14가지 단체협약 개정안을 요구했다. 올해 금융권 산별교섭은 예년보다 치열하게 진행될 가능성이 있다. 신종 코로나바이러스 감염증 코로나19 속 일상 회복이 본격화된 데다 빠른 물가 상승세 대법원 임금피크제 무효 판결 은행 점포 폐쇄 가속화 등 산별교섭 테이블에 오를 요인들이 많아졌기 때문이다. 금융권 노사가 접점을 찾지 못하고 산별교섭이 공회전할 경우 안건은 중앙노동위원회로 넘어간다. 중노위에서 한두차례 조정 과정을 거치고도 입장차를 좁히지 못하면 조합원 쟁의행위 찬반투표에 부치는 수순이다. 일각에선 금융노조와 사측 의견이 팽팽하게 맞붙으면서 교섭이 결렬될 것이라는 관측도 제기된다. 지난해 10월에도 사용자협의회와 산별교섭에 난항을 겪던 금융노조는 총파업 목전까지 갔다가 극적 합의에 성공한 바 있다. 금융권 관계자는 지난해 산별교섭에도 실무교섭 18차례 대표 교섭 4차례 중노위 조정 2차례 등을 거쳤지만 합의를 보지 못했다 며 올해는 임금인상률 임금피크제 등 핵심안건인 임금협상에 타협이 어려운 만큼 교섭이 결렬될 가능성이 크다 고 말했다.\n",
      "\n",
      "### 답변: 금융금융노조가 산업 평균 대비 금융권의 임금수준이 높고 미국의 금리 인상도 우려스럽다는 이유로 올해 임금인상률로 0.9%를 제시하고 있으며 금융산업사용자협의회와 전국금융산업노동조합은 5.2%에 달해 진통이 예상되며 금년 금융권 산별교섭은 예년보다 치열하게 진행될 가능성이 있다.<|endoftext|>\n",
      "42 ### 질문: 아래의 문서를 요약해줘.\n",
      "\n",
      "###맥락: 서울 연합뉴스 김승두 기자 이영 중소벤처기업부 장관 왼쪽 과 이정식 고용노동부 장관 가운데 이 3일 정부서울청사에서 열린 제3차 비상경제장관회의에 참석해 인사하고 있다.\n",
      "\n",
      "### 답변: 3일 3일 정부서울청사에서 열린 제3차 비상경제장관회의에 참석한 이영 중소벤처기업부 장관 왼쪽 과 이정식 고용노동부 장관 가운데 이 3일 정부서울청사에서 열린 제3차 비상경제장관회의에 참석해 인사하고  이영 중소벤처기업부 장관 왼쪽 과 이정식 고용노동부 장관 왼쪽  이정식 고용노동부 장관 왼쪽 가운데 이 3일 정부서울청사에서 열린 제3차 비상경제장관회의에 참석해 인사하고 있다.<|endoftext|>\n",
      "43 ### 질문: 아래의 문서를 요약해줘.\n",
      "\n",
      "###맥락: “고물가가 지속되는 가운데 글로벌 경기 하방 위험의 국내 전이 가능성까지 우려해야 하는 복합위기 상황에 직면해 있다.” 3일 추경호 부총리 겸 기획재정부 장관은 비상경제장관회의에서 이같이 경고했다. 과장이 아니다. 경제가 흘러가는 모습이 금융위기가 발생했던 2007 2008년과 여러모로 비슷한 상황이라서다. ①위기를 극복하겠다고 펼친 금리 인하 돈 풀기 후유증이 ②석유ㆍ가스 등 원자재 수급난과 맞물려 고물가를 촉발해 ③금융ㆍ실물 경제 동반 침체 위험을 키우는 양상이 그렇다. 그래픽 김영옥 기자 yesok joongang.co.kr 발단이 된 위기가 2007년 서브프라임모기지 비우량 주택담보대출 사태 2020년 신종 코로나바이러스 감염증 코로나19 대유행이란 점이 다를 뿐이다. 2000년대 중국ㆍ인도ㆍ브라질 등 신흥시장이 부상하며 원자재 가격을 끌어올렸다면 올해는 러시아ㆍ우크라이나 전쟁이 에너지ㆍ곡물 대란의 신호탄 역할을 했다. 14 15년 전과 견줘 국내총생산 GDP 이나 무역액 주식ㆍ외환시장으로 대표되는 한국의 경제 규모는 커졌다. 문제는 경제 펀더멘털 기초체력 이 외부 충격에 더 민감한 ‘허약 체질’로 바뀌었다는 점이다. 주요 거시경제 지표를 보면 우선 기재부는 올해 경제성장률 실질 GDP 기준 을 2.6%로 전망했다. 글로벌 금융위기가 터졌던 2008년 3.0%보다 낮은 수치다. 지난달 추 부총리는 “6월 또는 7∼8월에 6%대의 물가 상승률을 볼 수 있을 것”이라고 말했는데 2008년 7월 기록한 5.9%를 웃돈다. 국제통화기금 IMF 위기가 있었던 1998년 이후 처음으로 6%대 물가 상승률을 맞닥뜨릴 상황이다. 2008년 13.6%였던 수출액 증가율은 올해 한 자릿수 산업연구원 전망 9.2% 로 내려앉을 위기다. 수출액에서 수입액을 뺀 무역수지는 적자다. 이미 역대 최대 규모로 불었다. 올 상반기 1 6월 에만 103억 달러 약 13조원 적자를 기록했다. 대 對 중국 무역에서 1994년 8월 이후 28년 만에 처음 적자를 볼 정도다. 무엇보다 위기가 왔을 때 버텨낼 ‘맷집’이 예전만 못하다. 가계와 정부의 재무 건전성 지표가 2008년에 비해 크게 악화했다. 한국은행에 따르면 2008년 말 723조5000억원이었던 가계부채 신용 는 올 1분기 1859조4000억원으로 2.6배 불었다. 이 기간 처분가능소득 대비 가계부채 비율도 125.4%에서 168.9%로 나빠졌다. 국가채무 상황은 더 심각하다. 2008년 297조9000억원에서 올해 1068조8000억원 기재부 전망 으로 3배 이상 덩치를 불렸다. GDP 대비 국가채무 비율은 25.8%에서 49.7%로 상승했다. 가계나 정부 할 것 없이 14 15년 전보다 많은 빚을 지고 있어 금리 상승 충격에 훨씬 취약하다는 의미다. 추경호 부총리 겸 기획재정부 장관이 3일 정부서울청사에서 열린 제3차 비상경제장관회의를 주재하고 있다. 연합뉴스 우석진 명지대 경제학과 교수는 “2008년 금융위기로 세계 경제가 어려웠지만 한국은 수출ㆍ가계부채ㆍ재정 등 지표가 상대적으로 나았던 덕에 다른 신흥국에 비해 타격을 덜 받았고 경기 회복도 빨랐다”며 “그때와 비교해 경제 지표는 크게 나빠졌다”고 진단했다. 우 교수는 이어 “인플레이션 고물가 이 진행될수록 ‘가격을 통한 자원 배분’이란 민간 시장의 원리가 제대로 작동하지 않기 때문에 정부의 역할이 더 중요하다”며 “이번 충격이 외부적 요인이 큰 게 사실이지만 정부가 물가ㆍ금리 상승에 따른 실효성 있는 대응책을 내놓지 못하고 있다”고 지적했다. 엎친 데 덮친 격으로 대외 여건은 악화일로다. 경기에 대한 전문가 진단은 상반기보다 하반기가 더 나쁘다는 쪽으로 모인다. 안영진 SK증권 연구원은 “전쟁ㆍ유가ㆍ원자재의 공급 이슈가 계속되고 대외 수요가 둔화한다는 다수의 전망이 유효한 이상 무역적자는 당분간 계속된다고 봐야 할 것”이라며 “원ㆍ달러 환율도 1300원대 공방이 예상된다”고 밝혔다. 임혜윤 한화투자증권 연구원도 “ 경제 심리의 확연한 개선이 나타나기 어렵다면 실물 경기 둔화 압력으로 작용할 가능성이 크다”고 평가했다.\n",
      "\n",
      "### 답변: 고 물가가 지속되는 가운데 글로벌 경기 하방 위험의 국내 전이 가능성까지 우려하는 복합위기 상황에 처해 있어 경제 펀더멘털 기초체력 이 외부 충격에 더 민감한 허약 체질로 바뀌어 올해 경제성장률 실질 GDP 기준 을 2.6%로 전망했다.<|endoftext|>\n",
      "44 ### 질문: 아래의 문서를 요약해줘.\n",
      "\n",
      "###맥락: KBS 광주 앵커 광주시와 전라남도가 반도체 생산 단지 조성을 상생 1호 정책으로 추진하고 있는데요. 더불어민주당 우상호 비상대책위원장이 오늘 광주를 찾아 지역균형발전 차원에서 반도체 인재 양성을 위한 정책을 마련하겠다고 말했습니다. 보도에 최혜진 기자입니다. 리포트 성균관대학교가 삼성전자와 손잡고 운영하는 반도체시스템공학과입니다. 졸업 이후 취업도 보장합니다. 반도체 고급 인력을 육성하기 위한 겁니다. 윤석열 정부가 이런 반도체 학과의 수도권 증설을 검토하자 지역의 반발이 거센 상황입니다. 특히 광주시와 전라남도의 상생 1호 정책인 반도체 특화단지 조성과 기업 유치 성과를 내려면 지역 대학의 반도체 학과 신설이 필수적입니다. 이를 위해 더불어민주당과 지자체 지역 대학이 머리를 맞댔습니다. 강기정 광주시장 반도체 특화단지 300만 평을 조성하겠다고 약속을 드렸습니다. 가능하려면 인재 양성이 중요하고 정부의 정책이 중요합니다. 민영돈 조선대학교 총장 지방대학도 충분히 감당할 수 있는 능력을 보유하고 있음에도 불구하고 수도권만 집중적으로 육성하겠다는 것은 더 나아가서는 지역 소멸까지 간다는 심각한 우려를 표하지 않을 수 없습니다. 민주당 우상호 비상대책위원장은 반도체 학과의 수도권 집중을 막기 위해 당 차원에서 대응하겠다고 말했습니다. 우상호 더불어민주당 비상대책위원장 지역균형발전 차원에서 지역 대학에 도움을 주는 정책이 무엇이 있는지 당 차원의 정책을 만들어보도록 하겠습니다. 국민의힘 주도로 국회 반도체 특별위원회도 구성된 가운데 반도체 단지 조성과 인재 양성을 위해서는 다른 지역과 차별화된 민선 8기의 전략적 접근이 필요하다는 목소리도 나오고 있습니다. KBS 뉴스 최혜진입니다.\n",
      "\n",
      "### 답변: 광주시와 전라남도가 반도체 생산 단지 조성을 상생 1호 정책으로 추진하고 있는 가운데 더불어민주당 우상호 비상대책위원장이 오늘 광주를 찾아 지역균형발전 차원에서 반도체 단지 조성과 반도체 인재 양성을 위한 정책을 마련하겠다고 말했고 반도체 단지 조성과 인재 양성을 위해서 다른 지역과 차별화된 민선 8기의 전략적 접근이 필요하다는 목소리가 나오고 있다.<|endoftext|>\n",
      "45 ### 질문: 아래의 문서를 요약해줘.\n",
      "\n",
      "###맥락: 근로자퇴직급여 보장법 시행령 의결 퇴직연금 수익률을 높이기 위한 디폴트옵션 사전지정운용제도 이 오는 12일 도입된다. 디폴트옵션은 확정기여 DC 형 퇴직연금과 개인형 퇴직연금 IRP 가입자가 별다른 운용 지시를 하지 않을 경우 사전에 정한 적립금이 자동 운용되도록 하는 제도다. 금융위원회는 디폴트옵션의 주요 내용을 규정하는 근로자퇴직급여 보장법 시행령 이 국무회의에서 의결됨에 따라 12일부터 DC·IRP에 사전지정운용제도가 도입된다고 5일 밝혔다. 퇴직연금 운영경험이 풍부한 미국 영국 호주 등 주요 선진국에서는 가입자의 적절한 선택을 유도해 노후소득보장을 강화하는 것이 정부의 사회적 책무라는 인식하에 오래전부터 퇴직연금제도에 디폴트옵션을 도입해 운영해왔다. 연 평균 6 8%의 안정적 수익률 성과를 내고 있다. 퇴직연금 수익률을 높이기 위한 디폴트옵션 사전지정운용제도 이 오는 12일 도입된다. 사진 금융위원회 먼저 은행·보험·증권사 등 퇴직연금사업자가 사전지정운용방법을 승인받기 위해선 사용자 회사 와 가입자 근로자 에게 제시할 사전지정운용방법을 마련해 고용노동부 소속 심의위원회 심의를 거쳐 고용노동부장관의 승인을 받아야 한다. 승인 가능한 상품은 원리금보장상품 법령상 허용되는 유형의 펀드상품 포트폴리오 유형 상품 등이다. 심의위원회는 예금·이율보증보험계약 GIC 등 원리금보장상품에 대해 금리·만기의 적절성 예금자 보호 한도 상시가입 가능 여부 위주로 심의할 예정이다. 펀드·포트폴리오 유형에 대해선 자산 배분의 적절성 손실가능성 수수료 등의 사항에 대해 심의하게 된다. 정부는 제도 시행 후 퇴직연금사업자로부터 신청을 받아 신속하게 심의 등 승인 절차를 진행할 예정이다. 오는 10월 중 첫 번째 심의위원회를 거쳐 승인된 상품을 공시할 예정이다. 퇴직연금사업자는 고용노동부로부터 승인 받은 사전지정운용방법에 대한 주요 정보를 사용자에게 제시한다. 사용자는 제시 받은 사전지정운용방법 중 사업장에 설정할 사전지정운용방법을 선택해 제도에 관한 사항과 함께 퇴직연금규약에 반영해야 한다. 이때 근로자대표 동의 절차를 반드시 거쳐야 한다. 근로자는 규약에 반영된 상품에 대한 주요 정보를 사업자로부터 제공 받아 그 중 본인의 사전지정운용방법을 선정하게 된다. 디폴트옵션은 근로자가 DC형에 신규로 가입했거나 기존 상품의 만기가 도래했음에도 운용지시를 하지 않거나 디폴트옵션으로 본인의 적립금을 바로 운용 OPT IN 하기를 원할 경우 적용된다. 사진 금융위원회 사전지정운용방법은 근로자가 신규로 가입했거나 기존 상품의 만기가 도래했음에도 운용지시를 하지 않거나 사전지정운용방법으로 본인의 적립금을 바로 운용 OPT IN 하기를 원할 경우 적용된다. 근로자가 기존 상품의 만기가 도래했음에도 4주간 운용지시를 하지 않으면 퇴직연금사업자로부터 2주 이내 운용지시를 하지 않으면 해당 적립금이 사전지정운용방법으로 운용됨 을 통지받게 된다. 통지 후 2주 이내에도 운용지시가 없을 경우 적립금이 사전지정운용방법으로 운용된다. 사전지정운용방법으로 적립금을 운용하고 있지 않은 근로자는 언제든지사전지정운용방법으로 본인의 적립금을 운용하는 것을 선택 OPT IN 할 수 있다. 또한 사전지정운용방법으로 운용 중에도 근로자의 의사에 따라 언제든지 원하는 다른 방법으로 운용지시가 가능 OPT OUT 하다. 아울러 퇴직연금 감독규정 개정에 따라 기존 위험자산한도 70% 규제에도 불구하고 사전지정운용방법은 적립금의 100%까지 운용이 가능하다. DC에 도입되는 사전지정운용제도에 관한 사항은 IRP에도 동일하게 적용된다. 정부는 이외에도 가입자의 선택권 보장과 사업자간 경쟁 제고 등을 위해 사전지정운용방법의 운용현황과 수익률 등을 분기별로 고용노동부 홈페이지와 금융감독원 통합연금포탈을 통해 공시할 예정이다. 사전지정운용방법을 3년에 1회 이상 정기평가해 승인 지속여부를 심의하는 등 상품에 대한 모니터링과 관리에도 역량을 집중할 계획이다. 이정식 고용노동부장관은 퇴직연금제도는 낮은 수익률 문제 등으로 근로자의 노후준비에 든든한 버팀목 역할을 하지 못했던 측면이 있었다 며 지난 4월 도입된 중소기업퇴직연금기금제도와 적립금운용위원회 이달 도입되는 사전지정운용제도를 빠르게 현장에 안착시켜 수익률 제고뿐 아니라 퇴직연금제도가 근로자들이 믿고 맡길 수 있는 좋은 제도로 자리 잡을 수 있도록 적극 노력하겠다 고 밝혔다.\n",
      "\n",
      "### 답변: 금융위원회는 디폴트옵션의 주요 내용을 규정하는 근로자퇴직급여 보장법 시행령 이 국무회의에서 의결됨에 따라 12일부터 DC·IRP에 사전지정운용제도가 도입된다고 5일 밝히고 사전지정운용방법을 사용자 회사 와 가입자 근로자 에게 제시할 사전지정운용방법을 마련해 심의를 거쳐 고용노동부장관의 승인을 받아야 하고 사전지정운용방법 중 사업장에 설정할 사전지정운용방법을 선택해 제도에 관한 사항과 함께 퇴직연금규약에 반영해야 한다.<|endoftext|>\n",
      "46 ### 질문: 아래의 문서를 요약해줘.\n",
      "\n",
      "###맥락: 사회적기업 예비 창업자 지원 29일 서울 용산구 동자동 포포인츠호텔에서 열린 ‘MG휴먼 브릿지 청년 창업캠프’에서 새마을금고중앙회 관계자와 우수아이디어 수상자들이 기념촬영을 하고 있다. 새마을금고중앙회 제공 헤럴드경제 이태형 기자 새마을금고중앙회는 6월 27일에서 29일까지 3일간 청년 실업 문제 해결과 사회적경제 육성을 위해 사회적기업 창업을 준비하는 청년을 대상으로 ‘MG휴먼 브릿지 청년 창업캠프’를 성황리에 개최했다고 1일 밝혔다. 서울 용산구 동자동 포포인츠 호텔에서 진행된 이번 창업캠프는 만 19세 이상 만 39세 이하 청년 중 사회적 문제 해결과 연관된 휴먼 비즈니스 아이디어를 보유한 사회적 기업 예비 창업가 및 창업 2년 이내 초기 창업기업을 대상으로 모집이 이뤄졌으며 서류 심사를 통해 선발된 10개 팀에 참가했다. 이번 창업캠프의 주제인 ‘휴먼 비즈니스 아이디어’는 기술 교육 문화 등 사회의 다양한 격차를 해소하고 시민의 동등한 기본권을 보장하기 위한 비즈니스 아이디어를 의미한다. 특히 일자리 문제 해결을 위한 고용 안정화 아이디어와 금융 격차 해소를 위한 아이디어에는 우대 자격이 주어졌다. 10개의 참가팀은 2박 3일 간의 캠프를 통해 사업계획 고도화 교육 IR 피칭 교육 등을 이수했으며 특히 새마을금고중앙회의 지원을 통해 성장한 선배 사회적기업으로부터 창업 노하우를 전수받고 사업에 대한 고민을 나누는 1대1 멘토링 등 사회적기업 창업에 특화된 교육 프로그램이 큰 호응을 얻었다. 또 이번 창업캠프에서 우수 아이디어로 채택된 5개팀 대상 함경우 금상 서성구·이도경 은상 장효선·김범준 에는 소정의 시상금과 함께 새마을금고중앙회와 함께일하는재단이 추진하는 ‘MG희망나눔 소셜 성장 지원사업’의 5기의 Starter 트랙으로 우선 선발될 수 있는 기회가 제공된다. 시상은 김동욱 새마을금고중앙회 ESG금고경영지원부문장이 맡았다. 박차훈 새마을금고중앙회장은 “이번 창업캠프가 불안정성이 큰 초기 창업기업이 사회적경제 생태계에 무사히 안착하기 위한 발판이 되기를 기원한다”며 “새마을금고는 훌륭한 소셜 미션을 가진 청년의 꿈을 다방면으로 지원함으로써 청년 세대와 상생하고 지역사회 문제 해결에 힘쓸 것”이라고 말했다. 한편 새마을금고중앙회는 지난해 친환경 분야 사회적기업 청년 창업캠프인 ‘청년이 그린 Green 창업캠프’를 개최했다. 또 대표적인 사회적기업 육성 지원 사업인 ‘MG희망나눔 소셜 성장 지원사업’ 등을 통해 유망한 사회적기업 육성 및 사회적경제 생태계 활성화에 앞장서고 있다. 올해 지원 예정 사업을 더하면 총 100여개 사회적기업에 43억원 규모의 자원이 투입될 예정이다.\n",
      "\n",
      "### 답변: 1일 새마을금고중앙회는 6월 27일에서 29일까지 3일간 청년 실업 문제 해결과 사회적경제 육성을 위해 사회적기업 창업을 준비하는 청년을 대상으로 ‘MG휴먼 브릿지 청년 창업캠프’를 성료했다고 1일 밝혔으며 이번 캠프의 주제는 ‘휴먼 비즈니스 아이디어’로 2박 3일 간의 캠프를 통해 사업계획 고도화 교육 IR 피칭 교육 등을 이수했으며 특히 새마을금고중앙회의 지원을 통해 성장한 선배 사회적기업으로부터 창업 노하우를 전수받고 사업에 대한 고민을 나누는 1대1 멘토링 등 사회적기업 창업에 특화된 교육 프로그램이 큰 호응을 얻었다.<|endoftext|>\n",
      "47 ### 질문: 아래의 문서를 요약해줘.\n",
      "\n",
      "###맥락: 정부 신외환법 제정 추진…해외 송금·투자 편의성 제고 업권별 외국환 업무 범위 조정 검토…법령 체계도 단순화 전문가들 신외환법 제정 필요성 동감…새로운 금융환경 반영해야 환전 해외송금 여행자수표 표시 촬영 이충원 미디어랩 세종 연합뉴스 박원희 기자 A씨는 해외 취업에 성공한 아들에게 6만달러를 송금하기 위해 대외지급수단매매를 신고했다. 송금을 위해 A씨는 관계 기관에 최소 11개 이상의 서류를 제출했다. 태국 소재 기업의 지분 50%를 취득한 B 기업은 추가로 출자할 때 사전 신고서를 제출해야 한다. 이와 별개로 매년 사후 보고서도 제출해야 한다. 정부가 자본거래 시 사전신고 등을 규정한 기존 외국환거래법을 폐기하고 23년만에 새로운 외환법을 만든다. 외화 등을 거래하는 과정에서 요구되는 사전 신고를 폐지해 외환거래와 투자를 하는 데 있어 불편함을 해소한다는 취지다. 기획재정부는 5일 신외환법 제정방향 세미나 를 열고 이같이 밝혔다. 해외 송금 및 투자에 대한 수요가 그간 증가해왔으나 여전히 외환거래를 하는 데 있어 많은 서류를 제출해야 하는 등 절차가 복잡하다는 지적에 따른 것이다. 신고 절차가 복잡해 부지불식간에 법규를 위반하거나 해외 직접투자 시 매년 사후보고하도록 하는 등 기업 부담이 과중하다는 지적도 끊이지 않았다. 정부는 외환거래의 편의성을 높이기 위해 자본거래 및 지급·수령 단계에서의 사전신고를 폐지한다. 사전에 인지를 못 했을 때 중대한 경제적 영향을 미치는 일부 거래에 대해서만 신고제를 유지한다는 방침이다. 기존 법이 사전신고를 원칙으로 하고 예외사항을 열거했다면 새로운 외환법은 미신고를 원칙으로 하고 신고대상을 열거하는 식으로 바뀌는 셈이다. 정부는 동일 업무·동일 규제 원칙하에서 개별 금융기관의 외국환업무 범위를 확대하는 방안도 검토한다. 현재 증권사 등은 환전·송금 업무에 제한이 있다. 정부는 자본시장법 등에 규정된 금융기관들의 외국환업무는 허용하면서 필요한 규율 등을 부과하는 식으로 업무 범위를 조정하는 방안을 검토한다. 법령 체계도 전면 개편해 일반 국민의 외환법에 대한 접근성도 제고한다. 기존 조문 체계는 원칙을 명시한 뒤 예외와 예외의 예외를 덧붙이는 식이어서 매우 복잡했다. 금융기관들도 숙지하기가 어려워 매번 정부에 유권해석을 의뢰할 정도였다. 정부는 원칙 예외라는 구조로 법령 서술체계를 단순화한다. 단계적인 원화 국제화 기반 마련 해외직접투자 규제와 거주자의 해외증권취득과 관련한 규제를 완화하는 방안 가상자산 등장 등 환경 변화에 대한 대응 방안도 검토하겠다는 계획이다. 김성욱 기재부 국제금융국장은 기업이나 개인에게 너무나 과도한 형벌 책임을 부과하는 측면이 있어서 형벌 조항에 대해서도 다른 법령과 비교해 전반적인 개선이 필요하다 며 경제 안보가 나날이 중요해지는 시기에 이러한 테마에 맞춰 외국환 법령에서 할 수 있는 일이 무엇인지에 대해서도 생각해야 한다 고 말했다. 신 新 외환법 제정방향 세미나 서울 연합뉴스 방기선 기획재정부 차관이 5일 서울 여의도 한국수출입은행에서 열린 신 新 외환법 제정방향 세미나 에서 개회사 하고 있다. 2022.7.5 기획재정부 제공. 재판매 및 DB 금지 photo yna.co.kr 정부가 외환법을 전면 개편하는 건 1999년 현행 외국환거래법을 제정한 이후 23년 만이다. 이번 신외환법 제정은 근본적인 규제 철학을 바꾸는 작업이라는 게 정부의 설명이다. 과거 외환위기 트라우마 등에 따라 만들어진 외화 유출 억제 라는 철학에서 벗어나서 새로운 외환거래 제도를 마련한다는 의미다. 방기선 기재부 1차관은 원칙적 자유·예외적 규제 의 원칙에 충실하도록 외환거래의 걸림돌이 되는 규제는 과감히 정비하겠다 며 거래 절차를 쉽고 단순하게 바꾸고 효과적인 모니터링 체계를 구축해 위기 때 대외건전성 회복을 위한 조치도 실효성 있게 마련하겠다 고 말했다. 기획재정부 제공. 재판매 및 DB금지 세미나에 참석한 전문가들은 대체로 신외환법의 제정 필요성과 정부가 제시한 방향성 등에 대해 공감했다. 인구 고령화 잠재성장률 하락 등의 경제구조 변화 속에서 대외자산을 늘려 이를 통한 소득을 창출해야 한다는 의견도 있었다. 다만 외환시장 개방을 확대할 경우 시장 변동성 확대 역외탈세 등의 가능성을 지적하며 이에 대한 관리가 필요하다는 의견도 제기됐다. 고수익·고위험을 추구하는 증권사 등을 고려했을 때 비은행으로 외국환 업무를 확대하는 경우 거시 건전성을 확보해야 한다는 주문도 있었다. 전문가들은 디지털 거래가 확대되고 새로운 유형의 자산이 나오는 환경도 법 제정에 반영해야 한다고 주문했다. 김 국장은 올해 말까지 신외환법 개편의 기본 방향을 만들려고 한다 며 가급적 연말까지 연구해서 법안이 어떤 모습일지를 국민들께 밝히려고 한다 고 말했다.\n",
      "\n",
      "### 답변: 외 자본거래 시 사전신고 등을 규정한 기존 외국환거래법을 폐기하고 23년만에 새로운 외환법을 제정하는데 이는 외화 등을 거래하는 과정에서 요구되는 사전 신고를 폐지해 외환거래와 투자를 하는 데 있어 불편함을 해소한다는 목적이며 정부는 외환거래의 편의성을 높이기 위해 자본거래 및 지급·수령 단계에서의 사전신고를 폐지한다.<|endoftext|>\n",
      "48 ### 질문: 아래의 문서를 요약해줘.\n",
      "\n",
      "###맥락: 서울 뉴스1 김진환 기자 서울 주택 매매에서 빌라 다세대·연립주택 가 차지하는 비중이 61.5%를 기록하며 역대 최고로 올라섰다. 서울부동산정보광장의 통계에 따르면 빌라 매매 건수 계약 일자 기준 는 지난해 1월부터 올해 6월까지 18개월 연속 아파트 매매 건수보다 많았다. 지난달의 경우 거래 등록 신고 기한 거래후 30일간 이 남은 상황이지만 이날까지 빌라 매매 건수 1960건 가 아파트 매매 건수 667건 의 약 3배에 달했다. 집값 급등으로 내집 마련이 어려워진데다 대출·세제 등 규제가 아파트에 집중된 점이 영향을 미친 것으로 보인다.\n",
      "\n",
      "### 답변: 집 매매에서 빌라 다세대·연립주택 가 차지하는 비중이 61.5%를 기록하며 역대 최고로 올라섰는데 집값 급등으로 내집 마련이 어려워진데다 대출·세제 등 규제가 아파트에 집중된 점이 영향을 미친 것으로 보이며 지난달의 경우 거래 등록 신고 기한 30일간 이 남은 상황이지만 이날까지 빌라 매매 건수 1960건 가 아파트 매매 건수 667건 의 약 3배에 달했다.<|endoftext|>\n",
      "49 ### 질문: 아래의 문서를 요약해줘.\n",
      "\n",
      "###맥락: 지난해 연봉 1200만원 인상을 단행해 화제가 됐던 게임사 베스파가 경영난에 시달린 끝에 직원 대다수에 권고사직을 통보했다. 1일 게임업계에 따르면 김진수 베스파 대표는 전날 3회사 전 직원이 모인 자리에서 “회사를 회생시키려고 많이 노력했고 투자도 유치했지만 안타깝게 됐다”며 권고사직을 통보했다. 임직원 148명 중 3분의 2 이상인 100여명이 권고사직을 받은 것으로 알려졌다. 2013년 설립된 베스파는 2017년 ‘킹스레이드’를 히트시켰고 이는 대한민국 게임대상에서 모바일게임 부문 우수상까지 수상했다. 2018년 코스닥 상장을 통해 회사 규모를 키웠으나 실적은 그리 좋지 않았다. 최근 3년 동안 2019년 87억원 2020년 339억원 2021년 441억원 등의 적자를 이어갔다. 올해 1분기에도 28억원의 적자를 기록했다. 특히 베스파는 지난해 게임업계 전반에 연봉 인상 바람이 불 당시 전 직원 연봉을 일괄적으로 1200만원 올려 화제가 되기도 했다. 그러나 얼마후 자기자본을 50% 초과하는 사업손실로 코스닥 시장본부로부터 ‘관리종목 지정 우려’ 통보를 받았다. 지난해 8월 신작 ‘타임디펜더스’를 일본에서 선출시했지만 흥행에 성공하지 못했고 올해 4월 출시한 국내 시장에서도 외면을 받았다. 베스파는 지난 2월에도 상장폐지 우려를 이유로 거래정지 처분을 받는 등 경영난에 시달린 끝에 권고사직 통보를 선택하게 됐다. 베스파는 최소 인원으로 라이브 서비스와 신규 개발을 이어갈 계획인 것으로 전해졌다.\n",
      "\n",
      "### 답변: 전해 연봉 1200만원 인상을 단행해 화제가 됐던 게임사 베스파가 상장폐지 우려를 이유로 거래정지 처분을 받는 등 경영난에 시달린 끝에 임직원 148명 중 3분의 2 이상인 100여명이 권고사직을 통보했다.<|endoftext|>\n",
      "50 ### 질문: 아래의 문서를 요약해줘.\n",
      "\n",
      "###맥락: 이데일리 김태형 기자 유류세가 인하된 1일 소비자들이 서울 강남구 한 셀프 주유소에서 주유를 하고 있다. 이날 유류세 인하 폭이 37%로 전국 휘발유 평균 가격은 전날보다 11.37원 내린 2 133.53원 1리터 을 기록했다.\n",
      "\n",
      "### 답변: 유류세 인하 폭이 37%로 전국 휘발유 평균 가격은 전날보다 11.37원 내린 2 133.53원 1리터 을 기록하며 전국 휘발유 평균 가격은 전날보다 11.37원 내린 2 133.53원 1리터를 기록했다고 유류세가 인하된 1일 소비자들이 서울 강남구 한 셀프 주유소에서 주유를 하고 있다.<|endoftext|>\n",
      "51 ### 질문: 아래의 문서를 요약해줘.\n",
      "\n",
      "###맥락: 카카오노동조합 서승욱 지회장이 판교역 광장에서 카카오모빌리티 매각반대 1인 시위를 하고 있다. 카카오 노조가 사측과의 긴급회동 열흘 만에 카카오모빌리티 매각 반대 서명운동을 재개한다. 6일 카카오 노조 크루유니언 은 경영진과의 면담에서 카카오는 매각이 무산되면 모빌리티 사업을 포기할 것이라 배수의 진을 쳤다 며 잠정 보류했던 카카오모빌리티 매각 반대 서명운동을 시작하겠다고 밝혔다. 노조는 카카오모빌리티·카카오 판교 사옥 앞에서 매각에 반대하는 피켓 시위 기자회견을 열고 카카오모빌리티와의 단체교섭 등 노동조건 개선을 위한 후속 단체행동에 나설 계획이라고 설명했다. 이날 카카오 노조는 지난달 김성수 카카오 공동체얼라인먼트센터 CAC 장을 만나 긴급 면담을 진행한 결과를 공개했다. 노조에 따르면 지난달 27일 진행된 1차 협의에서 카카오는 매각 추진 사실을 인정하며 카카오가 2대 주주로 남아 향후 사업을 영위할 수 있는 방향을 설계할 것이다 고 밝혔다. 당시 노조 측은 사모펀드 매각에 반대한다 는 입장을 전달했지만 회사 측은 사모펀드 매각 이외의 옵션은 고려하고 있지 않다 는 입장을 고수했다. 이후 2차 협의에 앞서 노조는 사측에 모빌리티 경영진의 도덕적 책임 이행 임직원과 사업 방향에 대한 검토·토론 진행 카카오모빌리티의 사회적 책임 이행 경과 설명 플랫폼노동자와 매각방향에 대한 논의 김범수 카카오 미래이니셔티브센터장의 협의테이블 참여를 요구했다. 하지만 회사는 이달 4일 최종 결정자는 김성수 카카오 이사회 의장이다 며 노조의 요청을 거절했다. 그러면서 회사 측은 카카오라는 기업 내에서 더이상 모빌리티는 플랫폼의 성장이 불가능해 사업 성장을 위해선 매각이 불가피하다 라며 일축했다고 노조는 전했다. 노조는 사측에 사모펀드에 매각되면 모빌리티 사업이 성장할 수 있는 근거가 있느냐 고 물었지만 사측은 모빌리티 사업을 이어나갈 의지가 없다 는 입장을 되풀이했다고 노조는 지적했다. 이정대 카카오모빌리티 분회 스태프는 2대 주주가 된다고 해서 카카오모빌리리티의 성장성이 담보된다는 회사의 주장은 아이러니하다 고 비판의 목소리를 냈다. 서승욱 카카오노조 지회장은 카카오모빌리티와 카카오가 올바른 판단을 할 수 있도록 전 공동체 임직원들과 힘을 모으겠다 며 사회적 책임 조차 이행하지 않고 택시 대리운전 바이크 등 모빌리티 플랫폼을 정리하려는 카카오에 대해 많은 국민들이 관심을 계속 가져달라 고 말했다.\n",
      "\n",
      "### 답변: 카카오는 사측과의 긴급회동 열흘 만에 카카오모빌리티·카카오 판교 사옥 앞에서 매각에 반대하는 피켓 시위 기자회견을 열고 카카오모빌리티와의 단체교섭 등 노동조건 개선을 위한 후속 단체행동에 나서며 잠정 보류했던 카카오모빌리티 매각 반대 서명운동을 시작하겠다고 밝혔다.<|endoftext|>\n",
      "52 ### 질문: 아래의 문서를 요약해줘.\n",
      "\n",
      "###맥락: 디지털데일리 박세아 기자 위메이드가 블록체인 게임 플랫폼 위믹스 플레이 WEMIX PLAY 를 1일 글로벌 시장에 론칭했다. 위믹스 플레이는 오픈 블록체인 게임 플랫폼을 지향한다. 이용자는 가상자산으로 게임 관련 아이템을 구입하거나 대체불가능한 토큰 Non Fungible Token 이하 NFT 을 거래할 수 있다. 게임에서 번 자산을 게임에 재투자하는 플레이투언 Play Earn ’이 가능하다. 위믹스 플레이는 이용자 편의성을 극대화했다는 설명이다. 게임 허브 토큰 시가 총액 토큰 스왑 경매 스테이킹 프로그램 등 핵심 정보와 기능을 위믹스 플레이에서 모두 이용할 수 있다. 위메이드는 7월 중 리플렉트 코인 Reflect Coin 도 선보인다. 리플렉트는 위믹스 플레이에서 서비스하는 다양한 게임 중 리플렉트 얼라이언스에 포함된 여러 토큰들을 융합 Fusion 해 받을 수 있는 유틸리티 코인이다. 위메이드는 오늘 위믹스3.0 테스트넷도 론칭했다. 위믹스3.0은 위메이드가 자체 개발한 블록체인 메인넷이다. 위메이드는 메인넷 프로토콜을 테스트넷 환경으로 복사해 프로토콜 모든 잠재적 위협이나 허점을 발견하고 수정하기 위해 다양한 테스트를 진행한다. 테스트가 완료된 이후 메인넷을 오픈할 계획이다. 위메이드 장현국 대표는 게임은 블록체인과 암호화폐의 가장 핵심적인 유틸리티인데 위믹스 플레이는 오픈 블록체인 게임 플랫폼으로 자리잡을 것 이라며 오늘 테스트를 시작한 위믹스3.0 또한 완전히 개방된 서비스와 플랫폼을 중심으로 1등 메인넷으로 성장시켜 나갈 것 이라고 말했다. 위메이드는 스테이블코인 위믹스달러 탈중앙금융 서비스 ‘위믹스 디파이 서비스’ 탈중앙화 조직 DAO 프로젝트를 운영할 수 있는 플랫폼 ‘나일 NILE ’ 등을 3분기까지 순차적으로 공개할 예정이다.\n",
      "\n",
      "### 답변: 위메이드가 블록체인 게임 플랫폼을 지향하는 '위믹스 플레이 WEMIX PLAY'를 1일 글로벌 시장에 론칭하며 게임 관련 아이템을 구입하거나 대체불가능한 토큰 Non Fungible Token 이하 NFT 을 거래할 수 있다.<|endoftext|>\n",
      "53 ### 질문: 아래의 문서를 요약해줘.\n",
      "\n",
      "###맥락: 가계대출 1조4천억원↓…신용대출은 7개월째 줄고 주담대는 증가세 전환 가계대출 연합뉴스 자료사진 서울 연합뉴스 김유아 오주현 기자 국내 5대 시중은행의 가계대출 잔액이 6개월 연속 감소했지만 금리 상승으로 이들 은행의 예·적금 잔액은 늘어났다. 1일 KB국민·신한·하나·우리·NH농협 등 5대 시중은행에 따르면 이들 은행의 지난달 말 가계대출 잔액은 699조6천521억원으로 5월 말보다 1조4천94억원 줄었다. 600조원대 가계대출 잔액은 지난해 8월 698조8천149억원 이후 처음이다. 5대 시중은행의 가계대출 잔액은 올 1월부터 6개월째 감소세다. 이달 감소 폭은 전월 1조3천302억원 보다도 소폭 커졌다. 대출 종류별로 보면 지난달 말 주택담보대출 주담대 잔액은 506조7천714억원이다. 전월에는 5천245억원 줄었지만 한 달 새 991억원 늘며 증가세로 전환했다. 신용대출 잔액은 1조1천204억원 줄며 130조6천789억원을 기록했다. 신용대출은 지난해 12월 1조5천766억원 부터 7개월째 감소하고 있다. 감소 폭은 지난 3월 2조4천579억원 이후 4월 9천390억원 과 5월 6천613억원 을 거치며 축소되는 듯 했지만 지난달 다시 커졌다. 이는 최근 주식 가상화폐 시장이 하락세를 보이면서 빚투 대출 받아 투자 경향이 약해진 데 따른 것으로 풀이된다. 전세자금 대출 잔액은 4천479억원 늘어난 132조9천601억원이다. 5개월째 증가세다. 기업대출은 가계대출 흐름과 정반대로 지속해서 늘고 있다. 지난달 말 대기업 대출 잔액은 91조5천688억원에 달했고 중소기업 대출 잔액은 581조8천307억원을 기록했다. 수신 예금 현황을 보면 금리 상승에 따라 예·적금 모두 늘었다. 요구불예금 잔액은 6조3천512억원 늘어난 709조9천635억원 정기예금은 5조3천191억원 늘어난 685조959억원을 나타냈다. 또 수시입출금식 저축성예금 MMDA 잔액은 118조6천572억원 정기적금 잔액은 37조4천643억원으로 각각 3조1천240억원 7천46억원 불었다.\n",
      "\n",
      "### 답변: 1일 5대 시중은행에 따르면 이들 은행의 지난달 말 가계대출 잔액은 699조6천521억원으로 5월 말보다 1조4천94억원 줄었으나 금리 상승으로 이들 은행의 예·적금 잔액은 늘어났으며 가계대출 잔액은 올 1월부터 6개월째 감소세다.<|endoftext|>\n",
      "54 ### 질문: 아래의 문서를 요약해줘.\n",
      "\n",
      "###맥락: 피트니스 기기들은 자주 우리에게 1만 보 걷기를 권장합니다. 하지만 “1만 보”라는 목표는 과학에서 비롯됐다기보다는 우연과 역사에 따른 것이라 볼 수 있습니다. 하버드대의 교수이자 건강전문가인 아이민 리 I Min Lee 박사에 따르면 ‘만 보’는 1960년대 일본에서 인기를 끌기 시작했습니다. 그리고 1964년 도쿄올림픽 이후 높아진 피트니스에 대한 관심을 활용하고자 했던 한 시계 제작사가 만보계를 대량생산했죠. 이렇게 ‘만보계’가 자리 잡으면서 우리들의 머릿속에도 ‘만보’가 하나의 목표로 각인되게 됐습니다. 하지만 오늘날의 과학은 건강과 장수를 위해 하루에 1만보씩이나 걸을 필요는 없다고 말합니다. 2019년 리 박사와 동료들은 하루에 4400보 정도를 걸었던 70대 여성들이 하루에 2700보를 채 걷지 않은 여성들과 비교할 때 조기사망 위험을 40% 가량 줄인 것을 발견했습니다. 하루 5000보 이상 걷는 경우에도 조기사망 위험이 더 낮아졌지만 걸음을 더 걷는다고 사망위험률이 낮아진 것은 하루 7500보까지였습니다. “1만 보”라는 목표의 절반을 채 채우지 못해도 충분히 사망위험을 낮출 수 있다는 얘기인거죠. 현실적으로 어쨌든 만보란 목표를 달성하는 이도 거의 없죠. 최근 통계들에 따르면 미국 캐나다 그리고 주요 서구 국가들의 대부분의 성인들의 하루 평균 걸음 수는 5000보 미만입니다. 1만보란 목표를 달성해도 오래 지속되기란 쉽지 않습니다. 벨기에 겐트에서는 시민들에게 2005년 만보계를 제공하고 1년 동안 하루에 1만 보 이상 걷도록 권장했죠. 이 연구를 마친 660명 남녀 중 약 8%는 매일 1만 보라는 목표를 달성했습니다. 하지만 4년 후의 후속연구를 해보니 아무도 그렇게 하루 걸음수를 유지하고 있지 못했죠. 그들은 연구 전 애초의 걸음수로 다 되돌아가 있었습니다. 보통 정부들에서는 걸음 수보다는 시간을 가이드라인으로 제공하는데 일상생활의 일부로서 하는 운동을 더해 일주일에 적어도 150분 하루 30분 가량 운동할 것을 제안하고 있습니다. 걸음수로 환산하면 일주일에 1만6000보가 조금 넘고 하루 2000보에서 3000보 정도가 될 것이라고 이 박사는 말합니다. 만약 쇼핑이나 집안일 등 일상생활로 하루 한 5000보 정도를 걷는다면 2000보 3000보만 더해도 하루 7000보 8000보를 걷게 되는 것이고 이는 “딱 좋은” 걸음수가 됩니다.\n",
      "\n",
      "### 답변: '의1만 보'라는 목표는 과학에서 비롯됐다기보다는 우연과 역사에 따른 것으로 하루에 4400보 정도를 걸었던 70대 여성들이 하루에 2700보를 채 걷지 않은 여성들과 비교할 때 조기사망 위험을 40% 가량 줄인 것을 발견하며 더 나아가서 1만 보라는 목표의 절반을 채 채우지 못해도 충분히 사망위험을 낮출 수 있다.<|endoftext|>\n",
      "55 ### 질문: 아래의 문서를 요약해줘.\n",
      "\n",
      "###맥락: 中企 금리 상승 탓 금융비용 증가 자금난 대비 위한 지원책 검토 금융위원회. 금융위 제공 금융위원회가 금리·환율·물가 상승에 따라 경영·자금난이 가중되고 있는 중소기업에 대한 지원 방안을 논의했다. 금융위 취약부문 금융애로 대응 태스크포스 TF 는 6일 ‘중소기업 금융상황 점검회의’를 개최하고 최근 중소기업 경영 및 자금여건 등에 대해 의견을 나누었다. 금융감독원 중소기업중앙회 연구기관 및 정책금융기관이 이 자리에 참석해 중소기업의 현 상황을 점검했다. 취약부문 금융애로 대응 TF의 첫 회의가 지난달 23일 열린 이후 두 번째 회의가 열린 것이다. 이날 점검회의 결과 최근 중소기업 생산 및 평균 가동률은 양호한 수준을 유지하고 있는 것으로 파악됐다. 하지만 원자재 가격 상승으로 중소기업 채산성 악화가 우려되고 공급망 재편 등 불확실성 확대로 경영 여건이 녹록지 않다는 의견이 나왔다. 아울러 금융 여건 측면에서 중소기업의 대출 잔액 증가와 함께 최근의 금리 상승으로 인한 금융비용 증가가 경영상 부담으로 작용한다는 평가도 나왔다. 만기연장‧상환유예 조치 연장을 통해 중소기업이 상환부담이 줄어 연체율 및 부실채권비율은 낮은 수준을 유지하고 있는 것으로 나타났다. 또 은행 등 금융회사들은 1대 1 사전컨설팅 및 채무상환계획 조정을 통해 만기연장‧상환유예 대출이 연착륙될 수 있도록 조치하고 있어 급격한 연체율 확대 등 우려 역시 적은 상황이다. 금융당국은 중소기업이 복합 경제위기를 돌파하고 위기를 기회로 전환할 수 있도록 금융지원 역량을 강화할 방침이다. 금융위 관계자는 “중소기업의 경영상 부담을 완화하고 경쟁력을 높일 수 있도록 금융지원 방안을 검토하고 마련할 계획”이라고 말했다.\n",
      "\n",
      "### 답변: 금융원 중소기업중앙회 연구기관 및 정책금융기관은 금리·환율·물가 상승으로 경영·자금난이 가중되고 있는 중소기업에 대한 지원 방안으로 6일 ‘중소기업 금융상황 점검회의’를 개최하고 최근 중소기업 경영 및 자금여건 등에 대해 의견을 나누었다.<|endoftext|>\n",
      "56 ### 질문: 아래의 문서를 요약해줘.\n",
      "\n",
      "###맥락: 사진 오준오 오른쪽 보람그룹 대표이사가 ‘2022 소비자가 선정한 품질만족대상’ 시상식에서 수상 기념촬영을 하고 있다. 제공 보람그룹 상조서비스부문 총 2회 수상 쾌거 “토털 라이프케어 서비스로 고객 만족 실현할 것” 보람그룹 회장 최철홍 의 상조 브랜드 보람상조가 2022 소비자가 선정한 품질만족대상에서 상조서비스부문 대상을 수상했다. 지난 2020년에 이은 두 번째 수상이다. ‘소비자가 선정한 품질만족대상’은 소비자의 눈높이에서 고객 만족을 위해 양질의 서비스 품질을 구현하는 기업 및 기관을 선정 표창하는 시상식이다. 수상기업은 소비자 설문조사와 더불어 산학 전문가로 구성된 전문 심사위원단의 엄정한 심사로 결정된다. 시상식은 6월 30일 코리아나호텔에서 거행됐다. 1991년 설립돼 올해로 창립 32주년을 맞이한 보람상조는 최철홍 회장을 중심으로 ‘고객중심 나눔경영’을 이어나가고 있다. ‘가격정찰제 실시’를 비롯한 다양한 최초 시도로 업계를 선도하고 있으며 국가자격증 교육기관인 ‘보람장례지도사교육원’을 직영으로 운영하는 등 업계 선진화에도 힘쓰고 있다. 최철홍 보람그룹 회장은 “32년간 고객 만족을 위해 달려온 것에 대한 평가를 ‘소비자가 선정한 품질만족대상’으로 받게 돼 기쁘다”며 “앞으로도 토털 라이프 케어 서비스 기업으로서 고객만족을 실현하도록 최선의 노력을 다하겠다” 고 수상 소감을 밝혔다.\n",
      "\n",
      "### 답변: 창2 소비자가 선정한 품질만족대상에서 상조부문 대상을 수상한 최철홍 의 상조 브랜드 보람상조는 '가격정찰제 실시'를 비롯한 다양한 최초 시도로 업계를 선도하고 있으며 국가자격증 교육기관인 ‘보람장례지도사교육원’을 직영으로 운영하는 등 업계 선진화에도 힘쓰고 있다.<|endoftext|>\n",
      "57 ### 질문: 아래의 문서를 요약해줘.\n",
      "\n",
      "###맥락: 1998년 11월 이후 상승폭 최고…공업제품 9.3%↑ 현재 추세면 연간 상승률 5% 넘어… 하반기 불확실 © News1 김초희 디자이너 세종 뉴스1 이철 기자 한종수 기자 김혜지 기자 6월 소비자물가가 1년 전보다 6.0% 오르면서 1998년 외환위기 후 약 24년 만에 가장 큰 상승폭을 기록했다. 국제유가와 곡물가격 등 각종 원자재 가격 상승에 따라 경유가 50.7% 수입쇠고기가 27.2% 급등했다. 특히 체감 물가를 나타내는 생활물가지수가 7.4% 크게 오르면서 23년7개월 만에 가장 높은 상승률을 기록해 실제 민생난을 보여줬다. 통계청이 5일 펴낸 2022년 6월 소비자물가동향 에 따르면 지난달 소비자물가지수는 108.22 2020 100 으로 지난해 같은 달과 비교해 6.0% 상승했다. 상승폭이 전월인 5월 5.4% 보다 0.6%포인트 p 확대됐다. 이는 국제통화기금 IMF 외환위기 직후인 1998년 11월 6.8% 이후 23년7개월 만에 가장 높은 상승률이다. 6월 물가는 석유류를 포함한 공업제품과 외식 등 개인서비스 전기·수도·가스 농축수산물이 모두 상승했다. 특히 공업제품이 9.3% 오르면서 2008년 9월 9.3% 이후 가장 높은 상승세를 보였다. 구체적으론 Δ경유 50.7% Δ휘발유 31.4% Δ등유 72.1% Δ자동차용LPG 29.1% 등 유가 급등세가 가팔랐다. 농축수산물은 1년 전보다 4.8% 상승한 가운데 Δ돼지고기 18.6% Δ수입쇠고기 27.2% Δ포도 31.4% Δ배추 35.5% Δ닭고기 20.1% Δ감자 37.8% 등이 크게 올랐다. 전기·가스·수도는 9.6% 급등했는데 이에 포함된 전기료 11.0% 도시가스 11.0% 상수도료 3.7% 등 공공요금 상승률도 컸다. 서비스 물가는 1년 전에 비해 3.9% 상승했다. 특히 외식이 1992년 10월 8.8% 이후 최대 상승률인 8.0%에 달했다. 어운선 통계청 경제동향통계심의관은 석유류 등 공업제품과 개인서비스 가격이 높은 오름세를 지속하고 농축산물 오름 폭이 확대됐다 면서 1998년 11월은 외환위기 이후 구제금융을 신청해 환율이 급등하면서 원자재 가격이 상승한 시기 라고 말했다. 역대 월별 소비자물가 상승률 추이를 보면 작년 10월 3.2% 9년8개월 만에 3%대로 올라선 뒤 11월 3.8% 12월 3.7% 올해 1월 3.6% 2월 3.7% 까지 5개월 연속 3%대를 보이다가 3월 4.1% 과 4월 4.8% 에 4%선을 돌파했다. 이어서 5월 5.4% 에 5%대 상승률을 기록했는데 이는 글로벌 금융위기 당시인 2008년 9월 이후 13년8개월 만에 처음 있는 일이었다. 이번에 6% 선에 다다르면서 IMF 외환위기 수준으로 악화한 것이다. 6월 소비자물가 동향. 통계청 제공 © 뉴스1 물가의 기조적 흐름을 보여주는 근원물가 농산물 및 석유류 제외지수 는 4.4% 올라 2009년 3월 4.5% 이후 가장 크게 뛰었다. 식료품 및 에너지 제외지수도 3.9% 올라 2009년 2월 4.0% 이후 최대 상승폭을 나타냈다. 체감 물가를 나타내는 생활물가지수는 1년 전보다 7.4% 오르면서 1998년 11월 10.4% 이후 23년7개월 만에 가장 급격하게 치솟았다. 계절 요인이나 일시적 충격에 의한 변동을 배제한 식료품 및 에너지제외지수는 2009년 4월 4.0% 이후 13년2개월 만에 가장 높은 상승 폭인 3.9%를 기록했다. 어 심의관은 큰 흐름에서 석유류 등 공업제품과 개인서비스가 물가상승을 주도하는 것은 변함없다 며 특히 석유류의 상승 기여도가 줄어들고 있지 않다는 것이 눈에 띈다 고 분석했다. 이어 개인서비스의 물가상승폭은 조금씩 늘어나는 경향이다. 다만 코로나19 이후 소비가 회복되면서 개인서비스 가격이 오르는 것은 누구나 예상할 수 있었기 때문에 특이하게 보이지는 않는다 며 오히려 개인서비스에 국제 에너지 비용 상승 곡물가격 상승 효과가 반영됐다고 보이기 때문에 여전히 대외적인 공급측면의 물가 상승 요인들이 빨리 완화돼야 한다는 생각을 한다 고 분석했다. 그러면서 하반기는 불확실하다. 석유류의 오름세 둔화 시각도 있긴 한데 지켜봐야 한다 며 7월부터 현재와 같은 수치면 연간으로 5%를 넘게 된다 고 전망했다.\n",
      "\n",
      "### 답변: 통계청이 5일 펴낸 2022년 6월 소비자물가동향에 따르면 지난달 소비자물가지수는 108.22 2020 으로 지난해 같은 달과 비교해 6.0% 상승했으며, 이는 국제유가와 곡물가격 등 각종 원자재 가격 상승에 따른 것으로 각종 원자재 가격 상승에 따라 경유가 50.7% 수입쇠고기가 27.2% 급등하면서  1998년 외환위기 후 약 24년 만에 가장 큰 상승폭을 기록했다.<|endoftext|>\n",
      "58 ### 질문: 아래의 문서를 요약해줘.\n",
      "\n",
      "###맥락: 한 멕시코 비즈니스라운드테이블 개최 삼성전자 SK 현대차 포스코 등 주요 진출기업 참석 마르셀로 에브라르드 멕시코 외교장관. ⓒ대한상공회의소 데일리안 박영국 기자 대한상공회의소는 5일 한 멕시코 수교 60주년을 기념해 방한한 마르셀로 에브라르드 멕시코 외교장관을 초청해 ‘한 멕시코 비즈니스 라운드테이블’을 개최했다고 밝혔다. 이날 행사에는 우태희 대한상의 상근부회장 김유석 SK온 부사장 이상직 삼성전자 멕시코 법인장 김경수 현대차 상무 허순재 LG전자 상무 유삼 포스코 상무 삼성엔지니어링 로버트 윤 부사장 박현철 위니아전자 대표이사 이성우 대한상의 국제통상본부장 등 국내 주요 그룹 임원 10여명이 참석해 현지 진출기업들의 애로사항을 멕시코 정부에 건의하고 지원방안을 제안했다. 멕시코 측에서는 마르셀로 에브라르드 외교장관을 비롯해 카르멘 모레노 토스카노 외교차관 브루노 피게로아 주한멕시코대사 하비에르 다비야 협력정책실장 등 정부 고위급 인사들과 핀테크·이커머스 스타트업 기업인 등 약 20명이 참석했으며 공급망 및 그린비즈니스 협력 투자확대 등 향후 협력과제도 논의했다. 대한상의는 엑스포 주무부처인 멕시코 외교부에 ‘2030 월드 엑스포’를 부산이 유치할 수 있도록 적극적인 지지를 요청하기도 했다. 에브라르드 장관은 멕시코시티 시장 외교부차관 등을 거치며 오랜 기간 정치에 몸담아 온 인물로 멕시코 외교 및 국제 업무를 총괄하고 있으며 평소에도 투자 통상 등 경제이슈에 관심이 많아 이번 방한 시에도 한국기업들을 만나고 싶다는 의향을 적극 내비친 것으로 알려졌다. 회의를 주재한 우태희 대한상의 상근부회장은 축사를 통해 “삼성전자 SK 현대차 LG전자 포스코 삼성엔지니어링 위니아전자 등 주요기업들을 필두로 현재 약 450여개의 우리 기업이 멕시코에 진출 15만여개의 일자리 창출에 기여했으며 대 멕시코 투자액 아시아 2위라는 성과를 거뒀다”면서 “코로나 이후 글로벌 경제환경이 급변하고 있는 가운데 공급망 기후변화 대응 등 양국 간 새로운 협력기반을 확대해 나가길 바란다”고 말했다. 이날 회의에서 우리 기업들은 현지 생산공장 설립·운영 등 현재까지의 멕시코 투자현황 관련한 애로사항 관련 건의와 함께 일자리창출 등의 진출성과를 발표하고 양국 기업 간 미래지향적 협력을 위한 의견을 제시하는 등 구체적 경제협력 확대방안에 대해 논의했다. 이성우 대한상의 국제본부장은 “멕시코는 북미와 남미를 이어주는 전략적 요충지로 최근 14년간 중단되었던 한 멕시코 자유무역협정 FTA 협상이 재개되는 등 양국간 경제협력에 훈풍이 불고 있다”며 “공급망이 요즘 최대 이슈인 만큼 관련 협력을 강화하고 우리 기업들이 더 활발히 진출해 활동할 수 있도록 지속적으로 노력하겠다”고 말했다.\n",
      "\n",
      "### 답변: 대한상공회의소는 5일 한 멕시코 수교 60주년을 기념해 국내 주요 그룹 임원 10여명이 방한한 마르셀로 에브라르드 멕시코 외교장관을 초청해 ‘한 멕시코 비즈니스 라운드테이블’을 개최했다고 밝혔으며 멕시코 측에서는 마르셀로 에브라르드 외교장관을 비롯해 정부 고위급 인사들과 핀테크·이커머스 스타트업 기업인 등 약 20명이 참석했으며 공급망 및 그린비즈니스 협력 투자확대 등 향후 협력과제도 논의했다.<|endoftext|>\n",
      "59 ### 질문: 아래의 문서를 요약해줘.\n",
      "\n",
      "###맥락: 디지털데일리 변재영 기자 링컨코리아는 올해 브랜드 창립 100주년을 맞이해 오는 2일부터 10일까지 서울 강남 신세계 센트럴시티 내 오픈스테이지에서 ‘링컨 센테니얼 라운지’ 전시 행사를 진행한다고 1일 밝혔다. 링컨 센테니얼 라운지에서는 링컨 SUV의 전 라인업이 전시됐다. 전시모델은 네비게이터 에비에이터 노틸러스 코세어 등 4종이다. 아울러 링컨 100주년 기념 및 전동화 콘셉트카인 ‘링컨 스타’ 소개 영상 링컨 100년 역사를 테마로 한 다양한 헤리티지 콘텐츠를 멀티미디어 형식으로 전달할 예정이다. 현장 모습은 추후 링컨 홈페이지에 오픈되는 360도 버추얼 투어를 통해서 공개된다.\n",
      "\n",
      "### 답변: 링컨코리아는 올해 브랜드 창립 100주년을 맞이해 오는 2일부터 10일까지 서울 강남 신세계 센트럴시티 내 오픈스테이지에서 ‘링컨 센테니얼 라운지’ 전시 행사를 진행한다고 1일 밝혔으며 링컨 센테니얼 라운지에서는 링컨 SUV의 전 라인업이 전시됐고 아울러 링컨 100주년 기념 및 전동화 콘셉트카인 ‘링컨 스타’ 소개 영상 링컨 100년 역사를 테마로 한 다양한 헤리티지 콘텐츠를 멀티미디어 형식으로 전달할 예정이다.<|endoftext|>\n",
      "60 ### 질문: 아래의 문서를 요약해줘.\n",
      "\n",
      "###맥락: 서울 연합뉴스 현대건설과 삼성엔지니어링이 사우디아라비아 국영 석유기업 아람코에서 추진하는 건설 설계·조달·시공 EPC 파트너 기업에 최종 선정돼 향후 아람코에서 발주하는 석유·화학 관련 신사업들에 대한 수의계약과 입찰 인센티브를 받는 본 협약을 체결했다고 6일 밝혔다.\n",
      "\n",
      "### 답변: 현대건설과 삼성엔지니어링이  6일 현대건설과 삼성엔지니어링이  사우디아라비아 국영 석유기업 아람코에서 추진하는 건설 설계·조달·시공 EPC 파트너 기업에 최종 선정돼 향후 아람코에서 발주하는 석유·화학 관련 신사업들에 대한 수의계약과 입찰 인센티브를 받는 본 협약을 체결했다고 밝혔다.<|endoftext|>\n",
      "61 ### 질문: 아래의 문서를 요약해줘.\n",
      "\n",
      "###맥락: 1000만원 이상의 지방세를 체납한 고액·상습체납자가 해외여행 중에 고가의 명품을 구입하거나 해외 직구로 물품을 구매하면 세관에서 바로 압류됩니다. 서울시는 지방세징수법 개정에 따라 지방세 고액·상습체납자가 수입하는 물품에 대한 체납처분을 지난 1일 관세청에 위탁했다고 4일 밝혔습니다. 그동안 국세 체납자의 경우 수입물품 압류가 가능했지만 지방세 체납자에 대한 압류 처분은 올해 새롭게 실시됩니다. 지난해 1월 고액·상습체납자의 수입물품에 대한 체납처분을 세관장에게 위탁할 수 있는 법적 근거가 마련됨에 따른 것입니다. 시가 고액·상습체납자의 체납처분을 관세청에 위탁하면 관세청에서 고액체납자가 입국시 휴대한 고가품의 경우 현장에서 압류처리하고 해외직구로 산 수입품 등은 통관을 보류하고 압류해 체납액을 징수하게 됩니다. 압류 대상은 △체납자가 입국할 때 직접 휴대 또는 소지해 수입하는 물품 휴대품 △인터넷 등을 통해 해외에서 직접 구매한 후 배송업체를 통해 수입하는 물품 특송품 △무역계약 체결 등을 통한 일반적인 형태의 수입물품 일반수입품 등입니다. 시가 위탁 의뢰한 체납자는 지난해 신규 명단공개자로 시와 25개 자치구에서 관리되고 있는 지방세 체납액 1000만 원 이상인 고액·상습체납자입니다. 총 1127명이며 이들이 체납한 총 체납액은 712억원에 달합니다.\n",
      "\n",
      "### 답변: 서울시는 지방세징수법 개정에 따라 그동안 국세 체납자의 경우 수입물품 압류가 가능했지만 지방세 체납자에 대한 압류 처분은 올해 새롭게 실시되는데 지난해 1월 고액·상습체납자의 수입물품에 대한 체납처분을 세관장에게 위탁할 수 있는 법적 근거가 마련됨에 따라 고액의 지방세를 체납한 고액·상습체납자가 해외여행 중에 고가의 명품을 구입하거나 해외 직구로 물품을 구매하면 세관에서 바로 압류된다.<|endoftext|>\n",
      "62 ### 질문: 아래의 문서를 요약해줘.\n",
      "\n",
      "###맥락: 전기와 가스요금이 오늘 1일 부로 동시에 인상됐습니다. 전기요금에 적용되는 연료비 조정단가가 킬로와트당 5원 인상되면서 4인 가구 전기요금은 월 평균 1 535원 늘어날 것으로 추산됩니다. 도시가스 요금도 올라 4인 가구 가스요금은 서울시 기준으로 월 평균 2 220원 오릅니다. 전기차 충전요금의 경우 특례할인 제도가 어제 종료되면서 인상된 것이나 다름 없게 됐습니다. 오는 10월 전기요금과 가스요금이 다시 한번 동시에 오를 예정이라 가계 부담은 더 커질 것으로 전망됩니다.\n",
      "\n",
      "### 답변: 오늘 1일 부로 동시에 전기와 가스요금이 동시에 동시에 인상되어 4인 가구 전기요금은 월 평균 1 535원 늘어날 것으로 추산되고 도시가스 요금도 올라 4인 가구 가스요금은 서울시 기준으로 월 평균 2 220원 오르게 됐다.<|endoftext|>\n",
      "63 ### 질문: 아래의 문서를 요약해줘.\n",
      "\n",
      "###맥락: 양로원·도서관 등에 서비스·방역 로봇 기부 KT가 사회적 관계망 서비스 SNS 인스타그램 릴스를 활용한 KT AI D 에이드 캠페인 을 진행한다고 4일 밝혔다. KT 제공 © 뉴스1 서울 뉴스1 윤지원 기자 KT가 사회관계망서비스 SNS 인스타그램 릴스를 활용한 KT 에이드 AI D 캠페인 을 진행한다고 4일 밝혔다. 누구나 참여 가능한 이번 캠페인은 KT의 인공지능 AI 기술로 세상을 돕는다 는 사회적 의미를 담아 진행된다. KT는 오는 31일까지 SNS 인스타그램 릴스 콘텐츠 1000개 이상이 모이면 양로원이나 공공 어린이 도서관 등에 KT의 AI 서비스로봇 과 AI 방역로봇 을 제공할 예정이다. KT 인스타그램 공식 계정에 공개된 증강현실 AR 필터를 활용해 집 사무실 등 어디서든 인스타그램 릴스 영상을 찍어 업로드 하면 된다. 릴스 업로드 시 KT에이드 · 서비스로봇 · 방역로봇 등 필수 해시태그를 함께 게재하면 된다. 이번 캠페인을 통해 이용자들은 AR 필터를 통해 선물을 전달해주는 AI 서비스로봇과 바이러스 제로 공간을 만드는 AI 방역로봇 기능을 간접 체험할 수 있다. KT는 참여자를 대상으로 선착순 777명에게 기프티콘을 제공할 예정이다. 아울러 댓글이 가장 많거나 좋아요 를 많이 받은 참여자들에게는 경품을 제공한다. 배철기 KT AI·DX사업전략담당 상무는 이번 AI D 캠페인은 고객이 KT AI 로봇을 재미와 함께 간접적으로나마 체험해볼 수 있는 기회를 제공하기 위해 기획했다 며 KT는 참여형 콘텐츠를 통해 KT의 디지코 서비스를 경험하면서도 사회적으로 의미 있는 활동에 동참할 수 있는 캠페인을 지속할 예정이다 라고 밝혔다.\n",
      "\n",
      "### 답변: KT가 사회관계망서비스 SNS 인스타그램 릴스를 활용해 누구나 참여 가능한 KT의 인공지능 AI 기술로 세상을 돕는다는 사회적 의미를 담아 진행한 'KT AI D 캠페인'을 통해 이용자들은 AI 서비스로봇과 바이러스 제로 공간을 만드는 AI 방역로봇 기능을 간접 체험할 수 있다.<|endoftext|>\n",
      "64 ### 질문: 아래의 문서를 요약해줘.\n",
      "\n",
      "###맥락: 서울 연합뉴스 강민지 기자 7일 오후 서울 종로구 연합뉴스 사옥에서 열린 연합뉴스 세계한류학회 업무협약식에서 성기홍 연합뉴스 사장과 문시연 세계한류학회 회장이 협약서를 들고 있다.\n",
      "\n",
      "### 답변: 7일 오후 서울 종로구 연합뉴스 사옥에서 열린 세계한류학회 업무협약식에서 세계한류학회 회장이 협약서를 들고 세계한류학회 업무협약식을 진행했다.<|endoftext|>\n",
      "65 ### 질문: 아래의 문서를 요약해줘.\n",
      "\n",
      "###맥락: CJ ENM 스튜디오 센터 르포 파주에 최첨단 ‘콘테크’ 전진기지 버추얼 프로덕션 스테이지 압권 벽면·천장까지 대형 LED 스크린 환상적인 배경 CG로 구현 가능 스크린·세트장 유기적 연결 탄성 5일 처음 공개된 경기 파주 CJ ENM 스튜디오 센터 내 ‘버추얼 프로덕션 스테이지’에서 제작진이 천장과 벽면을 360도로 둘러싼 메인 LED월에 펼쳐진 설산을 배경으로 자동차를 촬영하고 있다.CJ ENM 제공 차디찬 바람이 불어오는 웅장한 설산이 거대한 타원형 스크린에 펼쳐졌다. 스크린 앞 세트장에 올라선 배우를 촬영하니 정말 그가 설산의 품에 안긴 듯한 영상이 모니터에 출력됐다. 이윽고 스크린은 아름다운 노을이 드리운 해변가로 검붉은 낙엽이 흐트러진 숲속으로 엠파이어스테이트빌딩이 내려다보이는 미국 뉴욕으로 어느 소도시의 낭만적인 밤거리로 계속 전환됐다. 그때마다 영상 속 배우도 각각의 공간에 실제로 가 있는 것처럼 다채롭게 녹아들어 갔다. 5일 기자가 찾은 경기 파주 CJ ENM의 스튜디오 센터는 국내 최대 규모인 약 6만 4000평 21만 1570㎡ 의 문화 콘텐츠와 최첨단 기술이 융합된 ‘콘테크’ 콘텐츠 기술 전진 기지로 구성돼 있었다. 특히 높은 해상도의 삼성전자 마이크로 발광다이오드 LED ‘더 월’을 심은 ‘버추얼 프로덕션 VP 스테이지’ 500평·1652㎡ 는 콘테크의 집약체였다. VP 스테이지의 가장 큰 특징은 지름 20m 높이 7.3m의 말굽형 구조로 이뤄진 ‘메인 LED월’이다. 벽면 360도와 천장까지 모두 대형 LED 스크린으로 채워진 이 공간은 다양한 배경 영상을 틀어 촬영할 수 있다. 사막 영상을 띄운 LED월 앞에 모래와 바위 등을 가져다 놓으면 배우들이 실제로 황막한 사막을 거니는 듯한 영상을 찍을 수 있다. 막대한 비용과 시간이 소요되는 해외 로케이션을 갈 필요가 없어 제작비를 줄일 수 있고 촬영이 힘든 공간을 구현하고 싶을 때도 효율을 극대화할 수 있다. 5일 처음 공개된 경기 파주 CJ ENM 스튜디오 센터 내 ‘버추얼 프로덕션 스테이지’에서 울창한 숲속을 배경으로 연기하는 배우를 촬영하는 모습.CJ ENM 제공 현실에 존재하지 않는 환상적인 배경도 컴퓨터그래픽 CG 으로 구현할 수 있다. 마블 시네마틱 유니버스 MCU 시리즈 등 화려한 CG로 이뤄진 영화를 찍을 땐 아무것도 없는 합성용 녹색 스크린 앞에서 배우들이 연기하는 것이 일반적이다. 하지만 메인 LED월에 CG 배경을 띄우면 배우들도 더욱 몰입감 있게 연기할 수 있게 된다. MobileAdNew center 기자가 직접 VP 스테이지에 들어가서 확인해 보니 촬영된 영상이 배경과 이질감 없이 매우 실감나게 느껴졌다. 단순히 배경만 띄워 놓는 것이 아니라 배경 속 사물이 카메라 촬영 각도에 따라 달라지는 등 스크린과 세트장이 유기적으로 연결되는 모습도 인상적이었다. VP 스테이지엔 메인 LED월 외에 길이 20m 높이 3.6m의 ‘일자형 월’도 마련돼 있어 다양한 형태의 영상 촬영이 가능했다. CJ ENM VP 스테이지에서 밤거리를 배경으로 촬영하고 있다. CJ ENM 제공 이국적인 밤거리를 배경으로 촬영한 결과물. 배경과 배우 세트장이 자연스럽게 녹아들어 있다. CJ ENM은 앞으로 드라마와 영화는 물론 예능 공연 등 다양한 콘텐츠를 찍을 때 VP 스테이지를 활용한다. 특히 가상현실 VR ·증강현실 AR ·확장현실 XR 과 메타버스 등의 첨단 기술을 접목한 콘텐츠 제작도 가능하다. 서정필 CJ ENM 테크 아트 사업부장은 “글로벌 무대에서 신드롬을 일으킬 K콘텐츠 탄생의 메카로 만들겠다”고 말했다.\n",
      "\n",
      "### 답변: 경기 최대 규모의 문화 콘텐츠와 최첨단 기술이 융합된 콘테크 콘텐츠 전진 기지로 구성된 경기 파주 CJ ENM의 스튜디오 센터는 대형 LED 스크린으로 채워진 공간은 다양한 배경 영상을 틀어 촬영할 수 있고, 막대한 비용과 시간이 소요되는 해외 로케이션을 갈 필요가 없어 제작비를 줄일 수 있는 등 효율을 극대화 할 수 있는 것으로 알려졌다.<|endoftext|>\n",
      "66 ### 질문: 아래의 문서를 요약해줘.\n",
      "\n",
      "###맥락: 금리인상 우려에 매물적체 영향…매수심리도 갈수록 위축 노원·강북·강동 등 하락폭 확대…인천·수원도 찬바람 서울 남산에서 바라본 아파트단지. © News1 박세연 기자 서울 뉴스1 박승주 기자 서울 집값이 5주 연속 하락하고 외곽지역을 위주로 낙폭도 커진다. 매물은 늘어나는 추세지만 잇따른 금리인상 등의 영향으로 매수심리는 점점 위축된다. 서울을 포함한 수도권 전체에서 찬바람이 불고 있다. 2일 한국부동산원에 따르면 이번주 서울 아파트값 변동률은 지난주와 같은 0.03%를 기록했다. 서울 아파트값은 5월 다섯째주 0.01%로 하락 전환한 뒤 6월 첫째주 0.01% 둘째주 0.02% 셋째주 0.03% 이번주 0.03% 등 하락폭이 느는 추세다. 추가 금리인상 우려와 매물 적체 영향 등으로 관망세가 계속됐다. 부동산 빅데이터 업체 아실의 통계를 보면 6월말 기준 아파트 매물은 6만4977건으로 지난달 10일 5만6568건 양도소득세 중과 한시 배제 조치 시행 이후 14.8% 늘었다. 그러나 서울 아파트 거래는 가뭄 상태고 아파트 매수 심리도 8주째 하락하고 있다. 서울 아파트 매매수급지수는 87.0로 지난주 88.1 보다 1.1포인트 하락했다. 수급지수는 0 100사이면 매도세가 100 200사이면 매수세가 더 크다는 의미다. 서울 25개 자치구 중 서초구 0.02% 만 올랐고 3개 구는 보합 나머지 21개 구는 하락을 기록했다. 특히 노도강 노원·도봉·강북 등 외곽지역이 하락폭을 키웠다. 강북구와 노원구는 각각 지난주 0.05%에서 이번주 0.07%를 기록했다. 동대문구와 서대문구도 각각 0.05%를 나타냈다. 강남4구에서는 서초구의 강세가 이어졌고 강남구는 4주째 보합을 기록했다. 다만 송파구 0.02% 는 마천·석촌동 중저가 위주로 하락했고 강동구 0.04% 도 내렸다. 경기 수원시내 아파트 단지 모습. © News1 조태형 기자 특히 수도권은 거래 침체가 길어지면서 가격 하락 지역이 늘고 있다. 2기 신도시의 내림세가 지속됐고 인천 수원 등 입주물량이 집중된 지역은 약세를 나타냈다. 인천은 0.06%에서 0.08%로 낙폭이 커졌다. 연수구의 경우 지난해 상승 피로감이 있는 옥련·송도동 위주로 하락하며 일주일새 0.23% 하락했다. 경기도 0.04%에서 0.05%로 내림폭이 확대됐다. 전셋값 하락 영향이 있는 수원 영통구 0.18% 권선구 0.13% 양주시 0.05% 등에서 하락폭이 늘어났다. 민간 통계인 부동산R114 조사에서도 신도시는 0.03% 내렸고 경기·인천은 0.05% 하락하면서 두 지역 모두 지난주 대비 낙폭이 늘었다. 인천은 용현동 SK스카이뷰 중산동 신명스카이뷰주얼리 송도동 송도더샵센트럴시티 등 대단지에서 1000만 2000만원 내렸다. 수원은 세류동 수원역센트럴어반시티 수원역해모로 등이 1000만 2 000만원 하락했다. 평택은 청북읍 사랑으로부영1차 평택청북지구EGthe1이 1000만원가량 내렸다. 수도권의 하락세는 당분간 이어질 것이란 관측이다. 국토교통부는 주거정책심의위원회를 열고 미분양이 누적되고 집값 하락세를 보인 17개 시군구에 대한 규제지역 해제를 결정했다. 다만 수도권의 경우 여전히 상승세인 지역이 있고 미분양이 많지 않다는 이유 등으로 규제지역 지정이 유지됐다. 여경희 부동산R114 수석연구원은 금리 추가 인상 경기 불확실성 계절적 비수기 등으로 매수심리가 풀리기 어려운 상황 이라며 거래시장의 부진한 흐름은 한동안 계속될 전망 이라고 밝혔다.\n",
      "\n",
      "### 답변: 서울물가지난주 집값이 5주 연속 하락하고 외곽지역을 위주로 낙폭도 커지는데 매물은 늘어나는 추세지만 잇따른 금리인상 등의 영향으로 매수심리는 점점 위축되어 서울을 포함한 수도권 전체에서 찬바람이 불고 있다고 2일 한국부동산원에 따르면 이번주 서울 아파트값 변동률은 지난주와 같은 0.03%를 기록했다.<|endoftext|>\n",
      "67 ### 질문: 아래의 문서를 요약해줘.\n",
      "\n",
      "###맥락: 디지털데일리 변재영 기자 신한금융투자는 가산 데이터센터 개발사업 관련 PF대출 단독주관에 성공했다고 7일 밝혔다. 가산 데이터센터 개발사업은 금천구 가산동에 지하 5층 지상 10층 규모의 데이터센터를 개발하는 사업이다. 신한금융투자 주관 사업을 시행하는 가산아이윌의 조달 금액은 총 3700억원이다. 케이티에서 분사한 케이티클라우드가 마스터리스 Master Lease 할 예정이며 시공은 DL건설과 케이티가 공동으로 맡는다. 이번 개발로 서울 서남부권의 신축 데이터센터가 완성된다. 가산 데이터센터는 서울 전역의 글로벌IT업체 및 대기업 등 다양한 고객군을 대상으로 트래픽 수요에 즉시 대응할 수 있는 데이터센터가 될 것으로 평가된다.\n",
      "\n",
      "### 답변: 신한금융투자는 금천구 가산동에 지하 5층 지상 10층 규모의 데이터센터를 개발하는 가산 데이터센터 개발사업 관련 PF대출 단독주관에 성공했다고 7일 밝혔으며 이를 통해 서울 전역의 글로벌IT업체 및 대기업 등 다양한 고객군을 대상으로 트래픽 수요에 즉시 대응할 수 있는 데이터센터가 될 것으로 평가된다.<|endoftext|>\n",
      "68 ### 질문: 아래의 문서를 요약해줘.\n",
      "\n",
      "###맥락: 포스코홀딩스 포스코홀딩스 제공. 재판매 및 DB 금지 서울 연합뉴스 박상돈 기자 포스코홀딩스는 최근 테라사이언스와 실리콘음극재 생산기술을 보유한 테라테크노스 지분 100%를 인수하는 계약을 체결했다고 5일 밝혔다. 테라테크노스는 2017년 설립된 실리콘음극재 스타트업으로 열전달이 우수한 고온 액상 방식의 생산 기술을 보유하고 있다. 포스코홀딩스는 실리콘음극재는 현재 리튬이온전지에 대부분 사용되고 있는 흑연음극재보다 에너지 밀도를 4배 정도 높일 수 있어 전기차 주행거리 향상은 물론 충전 시간도 단축할 수 있는 차세대 음극재 라고 소개했다. 포스코홀딩스는 테라테크노스 인수 후 연내 증설을 시작해 2024년 상반기 제품을 양산·판매할 계획이다. 포스코그룹은 리튬과 니켈 등 원료부터 양극재까지 이차전지소재 공급망 가치사슬을 구축한 데 이어 이번 테라테크노스 인수로 음극재 분야에서도 포트폴리오를 확대해 향후 이차전지소재 분야의 높은 중국 의존도를 낮출 수 있을 것으로 기대했다.\n",
      "\n",
      "### 답변: 포스코홀딩스는 고온 액상 방식의 생산 기술을 보유한 실리콘음극재 스타트업으로 열전달이 우수한 고온 액상 방식의 생산 기술을 보유하고 있는 테라사이언스와 생산기술을 보유한 테라테크노스 지분 100%를 인수하는 계약을 체결했다고 5일 밝혔다.<|endoftext|>\n",
      "69 ### 질문: 아래의 문서를 요약해줘.\n",
      "\n",
      "###맥락: 인천공항 뉴스1 유승관 기자 수학계의 노벨상 으로 불리는 필즈상을 수상한 허준이 미국 프린스턴대학교 교수 한국 고등과학원 석학교수 가 8일 인천국제공항을 통해 귀국하고 있다. 필즈상 Fields Medal 은 국제수학연맹 IMU 이 4년마다 개최하는 세계수학자대회 ICM 에서 만 40세 미만의 수학자에게 수여하는 수학계 최고의 상이다.\n",
      "\n",
      "### 답변: 8계의 노벨상이라 불리며 수학계의 노벨상 으로 불리는 필즈상을 수상한 허준이 미국 프린스턴대학교 교수 한국 고등과학원 석학교수가 8일 인천국제공항을 통해 귀국하였으며 필즈상 Fields Medal은 국제수학연맹 IMU 이 4년마다 개최하는 세계수학자대회 ICM 에서 만 40세 미만의 수학자에게 수여하는 수학계 최고의 상이고 필즈상을 수상한 허준이 미국 프린스턴대학교 교수 한국 고등과학원 석학교수 가 8일 인천국제공항을 통해 귀국하고 있다.<|endoftext|>\n",
      "70 ### 질문: 아래의 문서를 요약해줘.\n",
      "\n",
      "###맥락: 가와사키 AP 뉴시스 일본 스바루 자동차가 만든 수출용 승용차들이 지난 9월7일 도쿄 부근 가와사키항에서 선적을 위해 야적장에 도열해 있다. 2021.10.08 서울 뉴시스 이재준 기자 2022년 1 6월 일본 국내 신차 판매량은 208만대로 전년 동기 대비 15%나 줄었다고 닛케이 신문 등이 1일 보도했다. 매체는 이날 일본자동차판매협회 연합회와 전국경자동차협회 연합회가 정리한 통계를 인용해 이같이 전하며 동일본 대지진이 있던 2011년 상반기 191만9000대 이래 11년 만에 적은 수준이라고 지적했다. 반도체 부족과 중국 상하이 등 봉쇄 여파로 일본에서 자동차 생산이 지체되면서 올해 상반기 신차 판매가 코로나19 확대로 외출자제에 따른 영향이 컸던 2020년 상반기 220만대까지 밑돌았다. 내역을 보면 배기량 660cc 이상 등록차가 지난해 같은 기간보다 16% 감소한 128만5760대에 그쳤다. 경자동차도 작년 동기에 비해 15% 줄어든 80만418대에 머물렀다. 승용차 브랜드별로는 도요타 자동차 렉서스 제외 가 19% 감소한 63만8050대 SUBARU도 21% 크게 준 4만6008대로 주저앉았다. 6월 한달간 신차 판매 대수는 경자동차를 포함해 전년 동월 대비 10% 줄어든 32만7896대로 떨어졌다. 2021년 7월 이래 12개월 연속 전년 동월 실적을 밑돌았다. 등록차는 16% 적은 19만7530대로 1968년 관련 통계 시작 이래 6월로는 최저를 기록했다. 경자동차는 0.4% 감소한 13만366대다. 중국 록다운에 따른 일본공장에서 감산 때문에 도요타의 일본 판매량이 25% 다이하쓰 공업도 18% 각각 줄었다.\n",
      "\n",
      "### 답변: 닛 닛케이 신문은 일본자동차판매협회 연합회와 전국경자동차협회 연합회가 정리한 통계를 인용해 동일본 대지진이 있던 2011년 상반기 191만9000대 이래 11년 만에 일본 6월 일본 국내 신차 판매량은 208만대로 전년 동기 대비 15%나 줄었다고 1일 보도하며 일본 국내 신차 판매량은 208만대로 전년 동기 대비 15%나 줄었다고 전했다.<|endoftext|>\n",
      "71 ### 질문: 아래의 문서를 요약해줘.\n",
      "\n",
      "###맥락: 중소벤처기업진흥공단 제공 파이낸셜뉴스 중소벤처기업진흥공단은 제조 소기업 경쟁력 제고를 위한 2022년 중소기업 혁신바우처 사업 2차 참여기업을 모집한다고 4일 밝혔다. 중소기업 혁신바우처는 컨설팅 기술지원 마케팅 서비스를 맞춤형 패키지 형태로 제공해 제조 중소기업의 경영 혁신을 지원하는 사업이다. 지원대상은 3개년 평균 매출액 120억원 이하 제조 소기업 중 지역별 개별사업공고상 참여 요건에 해당하는 기업이다. 올해 1차 공고에선 총 498억원 규모로 일반 및 재기컨설팅 탄소중립 경영혁신 바우처를 지원했다. 이번 2차 모집에는 기업 특성별 맞춤형 지원을 위해 고도화 서비스 바우처 20억원 와 지역단위 자율형 바우처 100억원 를 신설해 총 120억원을 지원할 계획이다. 구체적으로 고도화 서비스 바우처는 2020년 2021년 혁신바우처 사업을 통해 시제품 제작 프로그램에 참여 완료한 기업을 대상으로 한다. 전문가가 현장진단을 바탕으로 맞춤형 프로그램을 추천해 서비스 고도화 및 기업 사업화 역량 강화를 뒷받침할 계획이다. 선정기업에게는 매출 규모에 따라 최대 5000만원 한도로 바우처 발급 금액의 50 90%를 차등 지원한다. 지역단위 자율형 바우처는 지역별 육성 필요산업과 경제현안 등을 고려해 13개 지방중소벤처기업청이 자율적으로 프로그램을 설계·지원한다. 지역산업 성장을 위한 지원주제에 따라 서비스 분야 및 프로그램 한도 등을 정할 예정이다. 김학도 중진공 이사장은 중진공은 성장 가능성이 높은 중소벤처기업의 경쟁력 강화를 위해 혁신 바우처 사업을 비롯한 다양한 사업을 지원해오고 있다 며 앞으로도 제조 소기업의 혁신성장을 통해 지역 균형발전을 이룰 수 있도록 수요자 맞춤형 지원을 확대할 것 이라고 말했다. 한편 사업 공고는 지역별 지원대상 업종과 시기를 고려해 지방중소벤처기업청에서 순차적으로 진행한다. 공고문 확인 및 사업참가 신청은 혁신바우처플랫폼에서 할 수 있고 자세한 문의는 중진공 통합콜센터 1357 또는 지역본·지부로 하면 된다.\n",
      "\n",
      "### 답변: 중소벤처기업진흥공단이 3개년 평균 매출액 120억원 이하 제조 소기업 중 지역별 개별사업공고상 참여 요건에 해당하는 기업을 대상으로 제조 소기업 경쟁력 제고를 위한 2022년 중소기업 혁신바우처 사업 2차 참여기업을 모집한다고 4일 밝혔으며, 이번 2차 모집에는 고도화 서비스 바우처 20억원와 지역단위 자율형 바우처 100억원을 신설해 총 120억원을 지원할 예정이다.<|endoftext|>\n",
      "72 ### 질문: 아래의 문서를 요약해줘.\n",
      "\n",
      "###맥락: 김세연 초록뱀미디어 부회장 사진 퍼즐랩 과거 주몽·올인·불새부터 최근 나의아저씨·펜트하우스·나의 해방일지까지 지난 24년의 역사 동안 수많은 히트작을 포함한 총 70여편의 드라마를 제작한 국내 대표 드라마 제작사 초록뱀미디어가 NFT 대체불가능토큰 사업에 도전장을 내밀었다. 초록뱀미디어는 자체 메타버스 세계관이자 초록뱀 소속 아티스트 및 작품 IP 지식재산권 기반 NFT 브랜드 CRB 오리지널 CRB Original 을 앞서 지난달 공개했다. CRB 오리지널 의 첫 프로젝트인 1호 NFT 출시를 앞두고 김세연 초록뱀미디어 부회장을 만나봤다. ◇ 초록뱀의 자체 IP와 블록체인 기술의 만남 김세연 초록뱀미디어 부회장 사진 퍼즐랩 김 부회장은 4일 블루밍비트와의 인터뷰에서 CRB 오리지널 의 출범 배경으로 디지털 콘텐츠 산업의 변화와 블록체인 및 메타버스 등 새로운 시장의 출현을 꼽았다. 그는 드라마 콘텐츠 산업은 2020년 이전까지 공중파 3사가 주도하던 구조에서 최근 종편 및 OTT 서비스의 급격한 성장으로 인해 셀러즈 마켓 으로 산업이 재편됐다 면서 제작사 입장에서는 긍정적인 변화로 IP를 제작사가 소유·판매하는 방향으로 바뀌면서 제작 콘텐츠 수도 크게 늘어나고 있다 고 말했다. 셀러즈 마켓 은 구매자보다 판매자의 의사가 더 중요한 시장으로 그와 반대되는 바이어즈 마켓과 대조되는 의미다. 초록뱀은 OTT 시장 활성화 이후로 매년 1 2편 제작하던 콘텐츠 수를 6 9편으로 늘렸다고 전했다. 무엇보다 IP를 방송사에 넘기는 것이 아니라 제작사가 직접 소유할 수 있게 되면서 이를 활용할 수 있는 분야가 다양해졌다. 즉 IP로 인한 부가가치 창출이 가능해진 가운데 메타버스와 블록체인 산업이 떠오르면서 이를 결합한 CRB 오리지널 이 탄생하게 된 것이다. ◇ 드라마 콘텐츠 IP·소속 연예인 기반 NFT 구축 초록뱀은 지난해 말 블록체인 신사업 TF 태스크포스 팀을 꾸리고 내외부 인재들을 영입해 CRB 오리지널 의 구축과 자체 NFT 제작에 착수했다. NFT 마켓을 운영하는 글로벌 가상자산 거래소 등 해외 유명 기업들이 NFT 사업 협업을 목적으로 먼저 회사 측에 손을 건네기도 했다. 초록뱀이 보유한 IP 강점 덕분이다. 초록뱀은 자체 콘텐츠 IP 뿐만 아니라 스카이이앤엠 YG케이플러스 후크엔터 등 매니지먼트 세 곳을 보유하고 있다. 3사의 소속 연예인은 총 400여명에 달해 이들을 통한 NFT 사업 확장에도 유리한 상황이다. 회사가 조만간 공개를 계획 중인 1호 NFT 역시 소속 연예인 중 한 명을 통해 만들어진 프로젝트다. 단순한 소장가치를 넘어 팬덤 기반 혜택과 멤버십 기능 등 다양한 장점을 부여했다. 김세연 부회장은 초록뱀미디어의 콘텐츠는 크게 드라마와 연예인으로 나눌 수 있다 라며 드라마 속 일부 콘텐츠나 드라마 자체를 NFT화하거나 예능 연기자 가수 모델 등 소속 연예인들의 팬덤을 만족시킬 수 있는 NFT를 개발하는 방안을 고민하고 있다 고 말했다. ◇ 거대한 스토리 형성...SF·판타지 등 요소 투입 물론 단순히 NFT를 출시하는 데서 끝나는 것이 아니다. 향후 내놓을 NFT 프로젝트들은 서로 유기적인 관계로 CRB 오리지널 이라는 초록뱀의 메타버스 세계관 속에서 하나의 스토리를 형성한다. 김 부회장은 예를 들면 마블 세계관처럼 거대한 초록뱀 월드를 만들고자 하는 게 CRB 오리지널 이다 라면서 조만간 출시할 1호 NFT는 CRB 오리지널 로 진입하는 첫 단계가 될 것 이라고 설명했다. 하나의 NFT로 그치는 것이 아니라 지속적으로 CRB 오리지널 NFT 시리즈 를 내놓고 연속성과 연계성을 부여해 구매자들도 꾸준한 혜택을 누릴 수 있도록 한다는 방침이다. 김 부회장은 향후에는 초록뱀 세계관을 바탕으로 드라마 영화 뿐만 아니라 웹툰 웹소설 등 새로운 콘텐츠 제작도 가능할 것 이라며 SF나 판타지 등 흥미로운 장르의 스토리를 구성하는 방안을 마련 중 이라고 말했다. 초록뱀은 첫 번째 NFT 프로젝트를 완성시켜 당초 지난 달 공개할 예정이었으나 현재 글로벌 블록체인 시장의 상황을 고려해 출시 시점을 미루기로 했다. 김세연 부회장은 해당 NFT 연예인의 팬은 물론 구매자 혹은 투자자에 대한 보호와 안정성 제고를 위해 1호 NFT 출시 연기를 결정했다 며 작품의 가치를 오롯이 전달할 수 있는 머지않은 시점에 다시 정식 론칭을 알릴 것 이라고 전했다.\n",
      "\n",
      "### 답변: 총 70여편의 드라마를 제작한 국내 대표 드라마 제작사 초록뱀미디어가 4일  블루밍비트와의 인터뷰에서 CRB 오리지널의 첫 프로젝트인 1호 NFT 출시를 앞두고 디지털 콘텐츠 산업의 변화와 블록체인 및 메타버스 등 새로운 시장의 출현을 꼽으며 NFT 대체불가능토큰 사업에 도전장을 내밀었다.<|endoftext|>\n",
      "73 ### 질문: 아래의 문서를 요약해줘.\n",
      "\n",
      "###맥락: 발행액 14.5조원 상환액 9조원 작년말 퇴직연금 기저효과로 발행 감소 …금융감독원 제공 홍콩H지수 등 주요 주가지수가 하락해 파생결합증권 DLS·ELS 조기상환 규모가 감소함에 따라 올해 1분기 파생결합증권 발행잔액이 지난해 같은 기간보다 증가한 것으로 나타났다. 금융감독원이 1일 발표한 ‘2022년 1분기 중 증권회사 파생결합증권 발행·운용 현황’에 따르면 1분기 파생결합증권 발행잔액은 89조4000억원으로 전년 동기 대비 4조6000억원 증가했다. 1분기중 파생결합증권 발행액은 14조5000억원 상환액은 9조원으로 전년 동기 발행액 24조1000억원 과 상환액 29조3000억원 대비 모두 감소했다. 종류별로 보면 ELS 발행액은 12조원으로 전년 동기 대비 6조8000억원 36.0% 감소했다. 작년 말과 비교하면 13조원 51.8% 줄어든 수치다. 금감원은 “퇴직연금에 편입되는 원금보장형 ELS의 상환‧발행이 연말에 집중되면서 작년 말 발행액이 일시적으로 크게 증가한 영향”이라며 “지난해 홍콩H지수 약세와 1분기 글로벌 증시하락 등으로 투자수요가 감소하며 원금비보장형 ELS 발행액이 지속 감소했다”고 설명했다. ELS 상환액은 6조8000억원으로 지난해 1분기 대비 17조원 71.4% 감소했다. 이에 따라 3월말 ELS 발행잔액은 61조9000억원으로 전년 동기 대비 6조1000억원 11.0% 증가했다. 1분기 중 DLS 발행액은 2조5000억원으로 전년 동기 대비 2조8000억원 52.5% 감소했다. 퇴직연금에 편입되는 원금보장형 DLS의 상환‧발행이 연말에 집중되면서 작년말 발행액이 일시적으로 증가했으나 원금비보장형 DLS의 일괄신고서 금지방안과 대내외 금리 상승 등의 영향으로 전체 발행액이 감소한 것으로 나타났다. DLS 상환액은 2조2000억원으로 전년 동기 대비 3조3000억원 59.8% 감소했다. 3월말 DLS 발행잔액은 4000억원 증가한 27조5000억원으로 집계됐다. 1분기 ELS 투자수익률은 연 3.7% DLS 투자수익률은 연 1.5%로 전년 동기 대비 각각 0.8%p 1.1%p 높아졌다. 금감원은 금융시장 변동성 확대에 따른 투자자 손실위험을 모니터링하고 증권회사 리스크관리를 강화할 방침이다. 금감원 관계자는 “원금비보장형 ELS에서 변동성이 높은 종목형 상품이 증가하고 미국 금리 상승 경기침체 우려로 금융시장 변동성이 확대되는 상황”이라며 “투자자 손실위험에 대한 모니터링을 지속하고 증권회사의 헤지운용에 따른 예상손실을 상시 점검해 잠재적 리스크에 선제적으로 대응할 계획”이라고 밝혔다.\n",
      "\n",
      "### 답변: 1일감동원은 1분기 파생결합증권 발행잔액은 89조4000억원으로 전년 동기 대비 4조6000억원 증가, 주요 주가지수가 하락해 파생결합증권 DLS·ELS 조기상환 규모가 감소함에 따라 올해 1분기 파생결합증권 발행잔액이 지난해 같은 기간보다 증가한 것으로 나타나 금감원은 금융시장 변동성 확대에 따른 투자자 손실위험을 모니터링하고 증권회사 리스크관리를 강화할 방침이다.<|endoftext|>\n",
      "74 ### 질문: 아래의 문서를 요약해줘.\n",
      "\n",
      "###맥락: DC IRP에 디폴트옵션 도입...적립금 자동 운용 운용지시 없다면 최대 6주 대기 후 디폴트옵션 운용 10월중 첫 승인상품...분기별로 수익률 공시 …고용노동부 제공 이달 12일부터 확정기여형 퇴직연금 DC 과 개인형퇴직연금 IRP 에 사전지정운용제도 디폴트옵션 가 도입된다. 고용노동부·금융위원회·금융감독원은 디폴트옵션 도입을 위한 근로자퇴직급여보장법 근퇴법 시행령이 국무회의에서 의결됐다고 5일 밝혔다. 앞서 정부는 지난해 12월 근퇴법 개정안이 국회에서 통과됨에 따라 시행규칙 퇴직연금감독규정을 개정했다. 사전지정운용제도 디폴트옵션 는 근로자가 본인의 퇴직연금 적립금을 운용할 금융상품을 결정하지 않을 경우 사전에 정해둔 운용방법으로 적립금이 자동 운용되도록 하는 제도를 말한다. 상품 유형은 예금 이율보증보험계약 GIC 등 원리금보장상품 100% 타깃데이트펀드 TDF 밸런스펀드 BF 스테이블밸류펀드 SVF 사회간접자본펀드 SOC 등 펀드상품 100% 원리금보장상품과 펀드상품을 혼합한 포트폴리오 상품 모두 가능하다. 퇴직연금사업자는 사용자와 근로자에게 제시할 디폴트옵션을 마련해 고용노동부 소속 심의위원회 심의를 거쳐 고용노동부장관의 승인을 받아야 한다. 심의위원회는 원리금보장상품의 금리 만기 예금자 보호 한도 상시가입 가능 여부 펀드 포트폴리오 상품의 수수료 수익률 손실 가능성 자산 배분의 적절성을 위주로 심사한다. …고용노동부 제공 최대 6 주 대기 후 디폴트옵션 운용 ... 언제든 변경 가능 근로자는 퇴직연금규약에 반영된 디폴트옵션 주요정보를 퇴직연금사업자로부터 제공받아 그중 하나의 상품을 본인의 디폴트옵션으로 선정한다. 기존 운용하던 상품의 만기가 도래한 후 운용지시 없이 4주 경과 시 ‘향후 2주 이내 운용지시가 없을 경우 적립금이 디폴트옵션으로 운용됨’을 통지받게 된다. 통지 이후에도 운용지시 없이 2주가 지나면 디폴트옵션으로 운용된다. 신규가입 후 운용지시가 없는 경우에는 4주 대기 없이 바로 통지를 받게 되며 통지 후 2주 이내에 운용지시 없을 경우 적립금이 디폴트옵션으로 운용된다. 디폴트옵션으로 적립금을 운용하고 있지 않은 근로자는 언제든지 디폴트옵션으로 본인의 적립금을 운용하는 것을 선택 OPT IN 할 수 있다. 또 디폴트옵션으로 운용 중에도 언제든지 원하는 다른 상품으로 운용지시가 가능 OPT OUT 하다. 적립금 100% 까지 운용 ...IRP 도 동일 퇴직연금 감독규정 개정에 따라 기존 위험자산 한도 70% 규제에도 불구하고 디폴트옵션은 적립금의 100%까지 운용할 수 있다. 확정기여형 퇴직연금 DC 에 도입되는 디폴트옵션에 관한 사항은 개인형퇴직연금 IRP 에도 동일하게 적용된다. 퇴직연금사업자가 승인받은 상품을 가입자에게 바로 제공하고 가입자는 그중 본인의 디폴트옵션을 선정하면 된다. 정부는 제도 시행 후 퇴직연금사업자로부터 신청을 받아 신속하게 승인 절차를 진행할 예정이며 10월 중에는 첫 번째 심의위원회를 거쳐 승인된 상품을 공시할 예정이다. 아울러 가입자의 선택권 보장과 사업자 간 경쟁 제고를 위해 디폴트옵션의 운용현황 수익률 등을 분기별로 고용노동부와 금융감독원 홈페이지에 공시한다. 또 3년에 1회 이상 정기평가해 승인 지속 여부를 심의해 모니터링 및 관리를 강화할 방침이다. 이정식 고용노동부장관은 “그간 퇴직연금제도는 낮은 수익률 문제로 근로자의 노후준비에 든든한 버팀목 역할을 하지 못했던 측면이 있었다”며 “지난 4월 도입된 중소기업퇴직연금기금제도와 적립금운용위원회 이달 도입되는 디폴트옵션을 빠르게 현장에 안착시키도록 적극 노력하겠다”고 밝혔다.\n",
      "\n",
      "### 답변: 이달 12일부터 확정기여형 퇴직연금 DC과 개인형퇴직연금 IRP에 사전지정운용제도 디폴트옵션이 도입되어 근로자가 본인의 퇴직연금 적립금을 운용할 금융상품을 결정하지 않을 경우 사전에 정해둔 운용방법으로 적립금이 자동 운용되도록 하며 특정 상품 유형은 예금 이율보증보험계약 GIC 등 원리금보장상품 100% 타깃데이트펀드 TDF 밸런스펀드 BF 스테이블밸류펀드 SVF 사회간접자본펀드 SOC 등 펀드상품 100% 원리금보장상품과 펀드상품을 혼합한 포트폴리오 상품 모두 가능하다.<|endoftext|>\n",
      "75 ### 질문: 아래의 문서를 요약해줘.\n",
      "\n",
      "###맥락: 핵심요약 23일 우리은행 이어 30일 신한은행서도 거액 외환 이상 거래 발생 금감원 현장 수시검사 나서며 타은행에도 점검 후 보고 지시 실수요 자금인지 위조나 가상자산 통한 차익 거래인지 여부에 주목 연합뉴스 우리은행에 이어 신한은행에서도 거액의 외환 이상 거래가 발견되면서 금융감독원이 타 시중 은행에 대해서도 외환 거래 운용 상황을 보고하도록 했다. 3일 금융권에 따르면 금감원은 지난 30일 신한은행 지점에서 발생한 거액의 외환 이상 거래에 대해 수시 검사에 나서며 나머지 은행들에 대해서도 외환 거래 이상 여부를 확인해 보고하도록 했다. 일부 은행은 금감원 지시 전인 우리은행 지점 사건 직후 자체 점검에 나서거나 금감원에 관련 사안을 문의한 것으로 전해졌다. 금감원은 이번 수시 검사를 통해 자금세탁 방지법과 외환 거래법 위반 여부를 집중 점검할 방침이다. 수입 대금 결제 명목으로 이뤄진 거래에 대한 실수요 자금 여부 서류 위조나 가상 자산과 연루된 차익 거래 여부 중국계 불법성 자본 등과의 연루 여부 자금세탁 목적 여부 등이다. 우리은행은 내부감사를 통해 서울의 한 지점에서 최근 1년 동안 8천억원에 달하는 비정상적인 외환거래가 이뤄진 사실을 알아내고 금감원에 보고했다. 금감원은 지난달 23일 이 지점에 대한 현장 검사를 시작했으며 신한은행으로부터도 이상 거래 현황을 보고 받고 지난달 30일 해당 지점에 대한 현장 검사에 착수했다. 이복현 금감원장은 최근 시중은행장들과의 간담회에서 횡령 등 금융 사고가 반복되는 점과 관련해 내부 통제 강화 를 촉구하면서 개선방안을 추진하겠다고 말했다. ※CBS노컷뉴스는 여러분의 제보로 함께 세상을 바꿉니다.\n",
      "\n",
      "### 답변: 3일은행에 이어 신한은행에서도 거액의 외환 이상 거래가 발견되면서 금융감독원이 타 시중 은행에 대해서도 외환 거래 운용 상황을 보고하도록 했는데, 3일 금융권에 따르면 금감원은 지난 30일 신한은행 지점에서 발생한 거액의 외환 이상 거래에 대해 수시 검사에 나서며 나머지 은행들에 대해서도 외환 거래 이상 여부를 확인해 보고하도록 했다고 전했으며, 일부 은행은 금감원 지시 전인 우리은행 지점 사건 직후 자체 점검에 나서거나 금감원에 관련 사안을 문의한 것으로 있다고 밝혔다.<|endoftext|>\n",
      "76 ### 질문: 아래의 문서를 요약해줘.\n",
      "\n",
      "###맥락: 서울 뉴시스 김근수기자 비트코인이 경기 침체와 고금리에 대한 우려로 가상화폐 가격이 등락을 거듭한 1일 오후 서울 서초구 빗썸 고객센터 전광판에 암호화폐 시세가 나타나고 있다. 2022.07.01. ks newsis.com 사진 영상 제보받습니다 공감언론 뉴시스가 독자 여러분의 소중한 제보를 기다립니다. 뉴스 가치나 화제성이 있다고 판단되는 사진 또는 영상을 뉴시스 사진영상부 n photo newsis.com 로 보내주시면 적극 반영하겠습니다.\n",
      "\n",
      "### 답변: 경기 침체와 고금리에 대한 우려로 가상화폐 가격이 등락을 거듭한 1일 오후 서울 서초구 빗썸 고객센터 전광판에 암호화폐 시세가 나타나고 있으며, 뉴시스 뉴시스 사진영상부 n photo newsis.com 로 보내주시면 적극 반영하겠다며 뉴스 가치나 화제성이 있다고 판단되는 사진이나 영상을 뉴시스 사진영상부 n photo newsis.com 로 보내주시면 적극 반영하겠다고 밝혔다.<|endoftext|>\n",
      "77 ### 질문: 아래의 문서를 요약해줘.\n",
      "\n",
      "###맥락: 모아데이타가 무상증자 발표 이후 상한가를 기록했다. 5일 오후 1시20분 현재 모아데이타는 전거래일대비 가격제한폭 29.70% 까지 오른 1만9650원을 나타내고 있다. 이날 모아데이타는 보통주 1주당 신주 5주를 배정하는 무상증자를 결정했다고 5일 공시했다. 신주 배정기준일은 오는 20일이며 신주의 상장예정일은 8월10일이다.\n",
      "\n",
      "### 답변: 모아데이타가 무상증자 발표 이후 상한가를 기록했다고 5일 날렸는데 5일 오후 1시20분 현재 모아데이타는 전거래일대비 가격제한폭 29.70% 까지 오른 1만9650원을 나타내고 있으며 이날 모아데이타는 보통주 1주당 신주 5주를 배정하는 무상증자를 결정했다고 5일 공시했다.<|endoftext|>\n",
      "78 ### 질문: 아래의 문서를 요약해줘.\n",
      "\n",
      "###맥락: 우리·신한 이상거래 후속조치 가상자산·불법자금세탁 조사 우리은행에 이어 신한은행에서도 거액의 외환 이상 거래가 발견되자 금융감독원이 모든 은행에 외환 거래 운용 상황을 점검하고 그 결과를 보고하도록 했다. 3일 금융권에 따르면 금감원은 지난달 23일 우리은행에 이어 30일 신한은행 지점에서 발생한 거액의 외환 이상 거래에 대해 수시 검사를 시작했으며 나머지 은행들에도 자체적으로 점검한 뒤 외환 거래 이상 여부를 보고하도록 했다. 일부 은행은 최근 우리은행 지점에서 문제가 발생하자 자체 점검에 착수하고 금감원에 관련 사안을 문의한 것으로 전해졌다. 금융당국 관계자는 우리은행 등에서 거액의 외환 이상 거래가 드러나는 등 문제가 있다고 판단돼 모든 은행에 공식적으로 자체 점검을 진행하도록 했다 고 말했다. 금감원은 우리은행 신한은행 지점의 거액의 외환 이상 거래와 관련한 수시 검사에서 자금세탁방지법과 외환거래법 위반 여부를 집중적으로 들여다보고 있다. 수입 대금 결제 명목으로 이뤄진 거래가 실수요 자금인지 서류를 위조하거나 가상자산과 연루돼 차익 거래를 했는지 중국계 불법성 자본 등과 연루됐는지 자금세탁 목적이 있는지 등을 살펴볼 계획이다. 금융당국 관계자는 거액의 송금 거래가 해당 업체의 무역 거래에 맞는 규모인지 의심을 가질 수 있어 여러 가능성을 보고 있다 고 전했다. 우리은행은 서울의 한 지점에서 최근 1년 동안 8000억원에 달하는 비정상적인 외환 거래가 이뤄진 사실을 내부 감사를 통해 포착해 금감원에 보고했다. 이에 금감원은 지난달 23일 이 지점에 대한 현장 검사에 착수했다. 이어 금감원은 신한은행으로부터 외환 이상 거래 현황을 보고받고 지난달 30일 해당 지점에 대한 현장 검사에 나섰다.\n",
      "\n",
      "### 답변: 3일 금융권에 따르면 금감원은 지난달 23일 우리은행에 이어 30일 신한은행 지점에서 발생한 거액의 외환 이상 거래에 대해 수시 검사를 시작했으며 나머지 은행들에도 자체적으로 점검한 뒤 외환 거래 이상 여부를 보고하도록 했다고 밝혔으며 일부 은행은 최근 우리은행 지점에서 문제가 발생하자 자체 점검에 착수하고 금감원에 관련 사안을 문의한 것으로 전해졌다.<|endoftext|>\n",
      "79 ### 질문: 아래의 문서를 요약해줘.\n",
      "\n",
      "###맥락: KDDI 사고 원인 검증·재발방지책 마련할 계획 일본의 대형 이동통신사 KDDI가 통신사고 발생 약 86시간만에 서비스를 복구했다고 밝혔다. 5일 아사히뉴스네트워크 등 다수의 외신에 따르면 KDDI는 이날 오후 3시36분에 서비스 이용 상황과 네트워크 트래픽에 문제가 없음을 최종 확인했다. KDDI는 원인을 검증하고 최대한 빠른 시일 내에 재발 방지책을 마련한다는 계획이다. KDDI는 설비 고장으로 인해 VoLTE 교환기에 트래픽이 급증하며 통신망 과부하가 발생한 것을 사고 발생 원인으로 보고 있다. 2일 오전 1시35분 도쿄에 위치한 타마네트워크센터에서 모바일 코어망 라우터를 교환하던 중 KDDI는 음성 트래픽 경로가 변경되지 않고 VoLTE 통신에 문제가 생긴 것을 처음 확인했다. 타카하시 마코토 KDDI 사장 오른쪽 과 요시무라 카즈유키 KDDI 기술 총괄 본부장이 지난 3일 통신 장애에 대해 사과하고 있다. 사진 지디넷재팬 라우터 변경 작업 중 신규 라우터에 엑세스가 집중되며 VoLTE 교환기에 폭주가 발생했다. KDDI는 트래픽을 줄이기 위해 오전 3시부터 약 12시간 동안 액세스 요구를 제한하는 작업을 진행했지만 오후 3시 22분부터 가입자 데이터베이스 처리 부하가 발생했다. 오후 5시22분에는 가입자 데이터베이스에서 데이터 불일치가 발생하면서 장애 복구가 정상적으로 이뤄지지 않았다. 사고를 수습하는 과정에서도 18대의 VoLTE 교환기 중 6대에서 가입자 데이터베이스에 대한 신호를 과도하게 송출하고 있는 것을 발견했다. KDDI는 이번 통신장애가 지난 2월에 발생한 NTT도코모 사고와 비슷하다고 보고 있다. KDDI 측은 전날 진행된 기자회견에서 이번 사고는 단말기에 트래픽이 급증해 발생했다는 점에서 NTT도코모와 같은 현상이라고 볼 수 있다 고 설명했다. 복구가 늦어진 이유에 대해서는 복구 절차를 착실하게 준비하고 있었지만 처리에 문제가 있었다 며 지금부터 확실히 검증할 계획 이라고 말했다. KDDI는 이번 사고로 최소 3천915만 회선이 피해를 입은 것으로 추정하고 있다. 요시무라 본부장은 사용자 보상에 대해 원인 규명과 재발 방지를 우선적으로 고려하고 있으며 보상은 추후 별도로 안내할 예정 이라고 말했다.\n",
      "\n",
      "### 답변: 5일 아사히뉴스네트워크 등 다수의 외신에 따르면 일본의 대형 이동통신사 KDDI가 통신사고 발생 약 86시간만에 서비스를 복구했다고 밝혔는데, KDDI는 설비 고장으로 인해 VoLTE 교환기에 트래픽이 급증하며 통신망 과부하가 발생한 것을 사고 발생 원인으로 보고 있으며 KDDI는 원인을 검증하고 최대한 빠른 시일 내에 재발 방지책을 마련할 계획이다.<|endoftext|>\n",
      "80 ### 질문: 아래의 문서를 요약해줘.\n",
      "\n",
      "###맥락: 날짜미상의 사진에서 카타르 북부에서 운반선에 액화천연가스 LNG 가 실리고 있다.AP뉴시스 우크라이나의 전쟁으로 인한 천연가스의 가격 상승과 공급 우려로 향후 몇년 동안 천연가스에 대한 수요 증가가 둔화시킬 것으로 국제에너지기구 IEA 가 전망했다. 5일 현지시간 온라인 에너지전문매체 오일프라이스닷컴에 따르면 IEA는 이날 공개한 3·4분기 보고서에서 2021∼25년 사이 천연가스에 대한 세계 수요가 1400억㎥ 증가할 것으로 예측했다. 이는 코로나19 대유행으로 인한 경기침체를 포함한 직전 5년 간 2016∼20년 의 3700억㎥ 증가의 절반에도 못미치는 것이다. 이같은 수요 감소 전망은 우크라이나 전쟁으로 인한 천연가스의 높은 가격과 공급 불안 때문인 것으로 분석됐다. 또 구매자들이 천연가스에 대한 수요를 석탄이나 석유 또는 재생 가능한 에너지로 전환하기보다는 경제성장이 더 둔화될 것이라는 예측 때문이다. IEA는 러시아산 가스 구매를 줄이려는 유럽연합 EU 국가들의 노력으로 러시아에서 EU로의 천연가스 수출은 55∼75% 감소할 것으로 예상했다. 대신 EU는 아시아 같은 다른 지역으로부터 액화천연가스 LNG 구매를 늘릴 것으로 예상되는데 2025년 아시아로부터의 구매는 EU 수요의 절반을 차지할 것으로 예상됐다. 오일프라이스닷컴은 LNG 수출을 위한 시설 확충이 수요 증가세에 비해 느린 점도 수요를 둔화시키게 만들 것이라고 전했다. 이 매체는 지난 2010년대 중반 유가 폭락으로 취소된 에너지 인프라 프로젝트가 많고 지난 2020 21년 코로나19 봉쇄령으로 건설도 늦어지면서 시설 확충 속도가 느릴 것으로 전망했다.\n",
      "\n",
      "### 답변: 국제에너지기구 IEA가 우크라이나의 전쟁으로 인한 천연가스의 가격 상승과 공급 우려로 향후 몇년 동안 천연가스에 대한 수요 증가가 둔화시킬 것으로 예측한 가운데 5일 온라인 에너지전문매체 오일프라이스닷컴에 따르면 IEA는 이날 공개한 3·4분기 보고서에서 2021∼25년 사이 천연가스에 대한 세계 수요가 1400억m3 증가할 것으로, 이는 코로나19 대유행으로 인한 경기침체를 포함한 경기침체를 포함한 직전 5년 간 2016∼20년 의 3700억m3 증가의 절반에도 못미치는 것이다.<|endoftext|>\n",
      "81 ### 질문: 아래의 문서를 요약해줘.\n",
      "\n",
      "###맥락: 웨이브 독점 HBO 다큐멘터리 세기의 범죄 지난해 미국에서 약물 과다 복용으로 인한 사망자 수가 처음으로 10만명을 넘었다. 마약성 진통제 오피오이드 중독 문제 심각성이 커지자 도널드 트럼프 당시 미국 대통령이 이를 공중보건 비상사태로 규정했고 조 바이든 대통령 또한 불법 마약 거래 관련 국가 비상사태를 선포했다. HBO 다큐멘터리 세기의 범죄 는 이 같은 중독 사태 원인에 대해 집중 조명한다. 실제 제약산업에 종사했던 사람 의사 판매원 생생한 증언으로 사건 이면을 고발한다. 마약성 진통제 이른바 오피오이드는 양귀비의 꼬투리에서 채취한 아편을 원료로 한다. 양귀비에서 직접 추출한 천연 알칼로이드 천연 알칼로이드에서 유도한 반합성 알칼로이드 그리고 처음부터 화학 약품에서 합성한 성분 모두를 총칭한다. 마약성 진통제는 인간 고통을 덜어주기 위한 목적으로 등장했다. 진통제는 중추신경계 오피오이드 수용체에 작용해 통증 자극을 전달하는 신경전달물질 분비를 억제한다. 진통 효과로 주로 말기 암 환자나 수술 직후 환자 등에 한해 처방한다. 하지만 2000년대 이후 이 약은 미국에서 만병통치약으로 과용되기 시작한다. 오피오이드 사태 배후에는 미국의 제약회사 의사 정부의 철저한 계획이 있었다. 1952년 작은 제약회사 퍼듀 프레데릭 을 인수한 새클러 가문은 홍보와 사기를 넘나드는 영업 방식으로 안정제 시장을 선점했다. 이익 창출을 위해 기존에 판매하던 모르핀 계열 진통제보다 더욱 강력한 옥시코돈 에 주목했다. 그렇게 합성 마약제 옥시코돈 에 약물의 지속력을 높이는 코팅 기술이 더해져 마약성 진통제 옥시콘틴 이 탄생했다. 퍼듀 제약회사는 약물 부작용을 축소해 공표했다. 퍼듀로부터 뇌물을 약속 받은 식품의약국은 승인했다. 국가에서 인증한 이 약은 흡수를 지연시켜 오용 가능성을 줄인다 는 설명서 한 줄을 근거로 많은 판매원은 의사에게 마약을 권장했고 의사 역시 대중에 적극적으로 진통제를 처방했다. 약물 오남용 가능성을 알면서 저지른 행동이었다. 가장 큰 부작용은 중독이다. 환각 기억 상실 등 부작용과 투여 중지 시 금단 현상을 일으키며 모르는 사이 중독 과정을 겪게 된다. 환자들은 더 강한 효과를 위해 불법 마약 구매를 하기 시작했다. 멈출 수 없는 중독은 오피오이드 과다 복용으로 이어졌고 미국 질병통제예방센터 CDC 는 1999년부터 2019년까지 약 50만명 미국인이 이로 인해 숨졌다고 발표했다. 지방 정부는 관련 업체들을 상대로 소송을 제기하며 죽음에 대한 책임을 물었다. 제약사 존슨앤드존슨을 포함한 미국 3대 유통업체는 약 30조원이라는 합의금을 지불키로 했으며 퍼듀 파마 역시 지역 사회에 마약성 진통제를 유통한 유죄를 인정했다. 약물 중독과의 전쟁은 진행 중이다. 인간 통증을 인질로 탄생한 합법적 마약 이를 판매했던 장사꾼들의 민낯을 고발하는 HBO 다큐멘터리 세기의 범죄 는 온라인동영상서비스 OTT 웨이브에서 시청할 수 있다.\n",
      "\n",
      "### 답변: 지난해 미국에서 약물 과다 복용으로 인한 사망자 수가 처음으로 10만명을 넘기고, 미국에서 약물 과다 복용으로 인한 사망자 수가 처음으로 10만명을 넘어서면서 도널드 트럼프 당시 도널드 트럼프 당시 미국 대통령이 이를 공중보건 비상사태로 규정했고 조 바이든 대통령 또한 불법 마약 거래 관련 국가 비상사태를 선포한 가운데,  HBO 다큐멘터리 세기의 범죄는 중독 사태 원인에 대해 집중 조명하고 제약산업에 종사했던 사람 의사 판매원 생생한 증언으로 사건 이면을 고발한다.<|endoftext|>\n",
      "82 ### 질문: 아래의 문서를 요약해줘.\n",
      "\n",
      "###맥락: 다음 블로그가 운영 17년 만에 서비스를 종료한다. 5일 정보기술 IT 업계에 따르면 카카오는 다음 블로그와 티스토리로 나뉘어 운영하던 블로그 플랫폼을 티스토리로 통합하기로 했다. 서비스 통합 예정일은 9월 30일이다. 기존 다음 블로그 이용자들은 콘텐츠를 티스토리로 이관해 활동을 이어나갈 수 있다. 카카오는 서비스 품질 향상을 위해서라고 통합 이유를 설명했다. 서비스 통합에 앞서 카카오는 지난 4일부터 다음 블로그 신규 개설을 중단됐다. 다음 블로그는 블로그 열풍이 불던 2005년 2월 서비스를 시작했다. 2007년 다음이 티스토리를 인수했으며 2020년 5월 전면 리뉴얼 이후 디자인·구조 측면에서 티스토리와 유사하다는 평가가 나왔다.\n",
      "\n",
      "### 답변: 5일 카카오는 다음 블로그와 티스토리로 나뉘어 운영하던 블로그 플랫폼을 티스토리로 통합하기로 했다고 밝혔으며 다음 블로그가 운영 17년 만에 서비스를 종료하고 기존 다음 블로그 이용자들은 콘텐츠를 티스토리로 이관해 활동을 이어나갈 수 있게 되었다.<|endoftext|>\n",
      "83 ### 질문: 아래의 문서를 요약해줘.\n",
      "\n",
      "###맥락: 게티이미지뱅크 인터넷전문은행이 대환대출 시장에 본격 진출하면서 카드·저축은행 등 제2금융권에 비상이 걸렸다. 제2금융권 대출을 이용하면서 상대적으로 신용이 우량한 고객 중심으로 이탈이 불가피해졌다. 향후 출혈경쟁으로 업권 자체 건전성까지 해칠 수 있다는 우려도 나온다. 3일 업계에 따르면 토스뱅크가 삼성카드를 시작으로 이달부터 복수 카드사 대상 카드론 장기카드대출 대환대출 서비스를 확대할 예정이어서 카드업계 우려가 커졌다. 카드사 고위 관계자는 “토스뱅크가 하겠다는 서비스가 사실상 카드론 고객 정보를 긁어다가 자사로 유입하겠다는 의도”라면서 “일부 고객에겐 금리인하 등 편익이 있을 수 있지만 산업 종사자로서 산업 생태계 자체가 위협을 받을 가능성이 짙어 우려스럽다”고 설명했다. 토스뱅크가 선보인 카드론 대환대출 서비스 는 이용자가 개인정보 열람에 동의하고 인증서 정보를 입력하면 기존 카드사에서 받은 카드론 금리 등을 안내하고 토스뱅크 대출로 갈아탈 수 있도록 해준다. 실제 1일 기준 토스뱅크 신용대출 금리는 연 4.18 15.00%로 6개 카드사 신한·KB국민·삼성·하나·우리·롯데카드 카드론 금리 5월 31일 기준 연 6.95 19.10%보다 낮다. 토스뱅크에 따르면 카드론 대환대출 서비스 이용자가 해당 서비스를 이용하면 평균금리가 연 6.83% 연이자상환액이 연평균 약 47만원 각각 감소하는 효과를 낸다고 설명했다. 카드업계는 우량 고객 이탈이 불가피하다고 우려한다. 최근 카드채 금리가 급등하면서 자금을 조달하기 어려워진데다 토스뱅크로 상대적으로 신용이 우량한 고객이 이탈하면 자체 대출 사업이 위축될 수 있다고 보고 있다. 이렇다 보니 토스뱅크의 서비스 구현 방식에 대해 볼멘소리도 나온다. 현재 토스뱅크는 카드론 정보를 수집하는 과정에서 웹사이트 콘텐츠를 수집·저장하는 웹 스크래핑 방식을 사용한다. 일각에서는 마이데이터 사업자인 토스와 토스뱅크가 같은 앱에서 서비스를 제공하는데도 토스뱅크가 사업자가 아니라는 이유로 스크래핑을 사용하는 것이 형평성에 어긋난다고 지적한다. 하지만 전체 신용정보를 스크래핑으로 통합 조회한 것이 아니기 때문에 규정을 어긴 것은 아니다. 저축은행도 인터넷은행의 대환대출 확대에 부정적인 견해를 내비쳤다. 현재 토스뱅크 카카오뱅크 등은 자사 플랫폼에서 기존 사용자가 받은 대출을 저축은행 등으로 대환해주는 서비스를 제공하고 있다. 인터넷은행보다 플랫폼 접근성이 현저히 낮은 저축은행 사정상 울며 겨자먹기로 수수료를 내면서 이들 대환대출 서비스에 탑승한 것이다. 다만 초기 예상과 달리 현재 저축은행들은 대환대출에 적극적이지 않다. 인터넷은행이 플랫폼에 들어온 우량 고객은 자사로 유입하고 상대적으로 신용이 취약한 고객만 저축은행으로 대환하고 있다는 주장이다. 한 저축은행 관계자는 “현장에서 인터넷은행의 대환대출 서비스 제공에 대한 우려가 크다”며 “신용이 우량한 고객은 인터넷은행으로 유입하고 상대적으로 신용이 취약한 고객만 저축은행으로 보내다 보니 이 부분에 대한 마케팅도 저절로 줄어드는 상황”이라고 토로했다.\n",
      "\n",
      "### 답변: 토전문은행이 대환대출 시장에 본격 진출하면서 상대적으로 신용이 우량한 고객 중심으로 이탈이 불가피해져 카드·저축은행 등 제2금융권에 비상이 걸렸으며 향후 출혈경쟁으로 업권 자체 건전성까지 해칠 수 있다는 우려도 나온다.<|endoftext|>\n",
      "84 ### 질문: 아래의 문서를 요약해줘.\n",
      "\n",
      "###맥락: ‘시장형 일자리’ 식당 가보니 저렴한 식대 고령 손님 증가 일만 늘고 현상유지 어려워 “자생 위한 중장기 지원해야” 지난 23일 오후 서울 시내 한 반찬 전문점에서 시민들이 반찬을 구입하고 있다. 연합뉴스 “돼지고기 가격이 30%는 올랐어요. 제육볶음에 딸려 나가는 공깃밥값을 추가로 받아야 하나 고민됩니다.” 충북 청주에서 ‘노인일자리’ 식당을 운영하고 있는 담당자 김주현씨 가명 의 말이다. 김씨에게 ‘물가가 더 오를 것’이라는 정부 전망을 전하자 한숨을 크게 내쉬었다. 노인일자리 사업장이 고물가에 흔들리고 있다. 노인이 일하는 식당과 카페 반찬가게는 대표적인 시장형 노인일자리 사업장이다. 시장형 일자리는 정부가 민간 사업체에 인건비 일부를 지원해 만든 취업 자리다. 민간이 주도하는 수익 추구형 일자리사업으로 정부·지방자치단체가 직접 노인을 고용해 인건비를 지원하는 방식과 다르다. 다만 직접 일자리는 아니지만 노인일자리 창출을 위한 정부 지원 사업이기 때문에 공익 성격도 짙다. 노인일자리 사업장에서 판매하는 상품 가격은 비교적 낮은 수준이다. 지난 4일 찾은 청주의 ‘노인 보리밥집’도 정부가 지정한 착한가격업소다. 대표 메뉴인 시래기장 정식은 5500원으로 주변 식당 평균 백반 가격보다 저렴하다. 그나마도 코로나19를 거치면서 수년간 유지한 5000원에서 500원을 올린 가격이다. 코로나19 터널을 빠져나온 뒤 매출은 증가했는데 적자가 더 늘었다. 식자재 가격이 큰 폭으로 올랐기 때문이다. 음식을 팔면 팔수록 손해다. 5일 통계청이 발표한 6월 물가동향을 보면 돼지고기와 닭고기 가격은 1년 전보다 각각 18.6% 20.1% 올랐다. 같은 기간 배추는 35.5% 감자는 37.8% 상승했다. 김씨는 “코로나 때 300만원 적자였다면 올해는 장사가 나아졌으니까 적자가 200만원으로 줄어야 하는데 그게 안 된다”며 “일이 많아져서 어르신들만 더 고생한다”고 했다. 지역공동체를 기반으로 하는 식당 특성상 음식 가격을 올리기도 어렵다. 손님 대부분이 형편이 어려운 고령층이다. 저렴한 가격 때문에 이곳을 찾는 노인도 많다. 김씨는 “지금보다 식자재 가격이 더 오르면 현상 유지도 어려워질 수 있다”며 “뾰족한 방법이 없는 상황”이라고 말했다. 노인일자리 카페도 같은 처지다. 노인 10명이 돌아가며 일하는 청주 A카페도 고물가에 운영난을 겪고 있다. 노인들이 시간당 최저임금을 받으며 일해도 카페 운영이 쉽지 않다. A카페의 수박주스 가격은 4000원으로 다른 프랜차이즈 카페보다 20% 가까이 싸다. 수박 가격 6월 기준 은 1년 전보다 22.2% 올랐다. 카페 관계자는 “일하는 노인분들의 급여를 정산하면 남는 게 거의 없다”고 했다. 김문정 한국노인인력개발원 연구조사센터 부연구위원은 “시장형 노인일자리는 지역사회에 공헌하는 바가 크고 공익성이 있는 일자리”라며 “일자리사업이 중단되지 않고 중장기적으로 자생할 수 있도록 지원할 필요가 있다”고 말했다.\n",
      "\n",
      "### 답변: 5일 통계청이 발표한 6월 물가동향에 따르면 돼지고기와 닭고기 가격은 1년 전보다 각각 18.6% 20.1% 올랐고 노인일자리 사업장에서 판매하는 상품 가격은 비교적 낮은 수준으로 노인일자리 사업장이 고물가에 흔들리고 있다.<|endoftext|>\n",
      "85 ### 질문: 아래의 문서를 요약해줘.\n",
      "\n",
      "###맥락: 톰 레이턴 아카마이 대표 해킹 규모 커지고 횟수도 늘어 컴퓨팅 등 全분야 솔루션 제공 24시간 탐지로 피해 예방 가능 클라우드 이용땐 특히 더 필요 우크라이나·러시아 전쟁으로 새로운 종류의 해킹 위협이 많이 늘어날 줄 알았는데 그보다는 전통적인 해킹 악성코드·디도스 이 급증했습니다. 특히 랜섬웨어 피해가 올해 극심합니다. 톰 레이턴 아카마이 최고경영자 CEO·사진 가 최근 매일경제와 인터뷰에서 이 같은 사이버 동향을 전했다. 레이턴 CEO는 지난달 15 16일 한국에 머물며 국내 유수 대기업 관계자와 미팅을 했다. 콘텐츠 전송 네트워크 CDN 분야 글로벌 1위 기업인 아카마이는 보안 솔루션과 클라우드라는 신산업 을 개척하며 New 아카마이 로 탈바꿈하고 있는 기업이다. 지난해 한 해에만 약 34억달러의 매출을 기록했는데 보안 분야 매출액만 13억달러에 이른다. 레이턴 CEO는 컴퓨팅·콘텐츠 전송까지 아우르며 전 세계에 걸쳐 보안 솔루션을 제공할 수 있다는 게 아카마이 보안의 장점 이라고 강조했다. 그는 상시화되고 규모가 커진 해킹 위협에 대응해 사이버 복원력 resiliency 을 가져야 한다고 조언했다. 레이턴 CEO는 해킹 공격은 언젠가는 들어오는데 이를 미리 감지하고 확산이 되지 않게끔 하는 게 사이버 복원력의 핵심 이라며 아카마이는 마이크로세그멘테이션 부문 Microsegmentation 보안에서 강점을 가지고 있다 고 설명했다. 마이크로세그멘테이션이란 기관 내부 시스템에 내재된 악성코드를 미리 감지하고 통신 네트워크를 통해 해당 악성코드가 확산되는 것을 방지하는 솔루션을 말한다. 워낙 촘촘하게 기기와 네트워크가 연결되다 보니 해킹에 노출되는 취약점도 덩달아 많아지게 되는데 마이크로세그멘테이션 보안이 도입되면 24시간 실시간으로 이를 탐지하고 큰 피해를 예방할 수 있다. 아카마이는 지난해 보안업체 가디코어를 인수하고 마이크로세그멘테이션 역량을 확장한 바 있다. 레이턴 CEO는 향후 가장 성장할 분야로 클라우드 보안 을 꼽았다. 자체 서버를 구축하는 것이 아니라 사용한 만큼 구독료를 내며 언제 어디서든 접속이 가능한 클라우드를 도입하는 기업이 점차 늘면서 이에 대한 보안 위협도 증가하고 있다. 레이턴 CEO는 이를 두고 복수 층위에서 보안에 신경을 써야 한다 고 조언했다. 클라우드와 연결되는 주변 기기 휴대폰 PC 등 클라우드에 접근 권한이 있는 임직원 기업 내 여러 서비스와 이와 연관된 통신 단계 애플리케이션 레이어 등이 모두 해커의 타깃이 될 수 있다. 각 단계에 따른 해킹 수법도 모두 다르다. 디도스 공격처럼 한 번에 트래픽을 많이 보내서 시스템을 무력화시키는 해킹이 활용되는 경우도 있지만 애플리케이션 레이어를 해킹할 때는 트래픽을 많이 발생시키지 않고 몰래 악성코드를 심어넣는 해킹 방식이 선호된다. 해킹의 목적도 단순히 시스템을 무력화시키는 것부터 데이터 유출 금품 갈취 등 다양하다. 레이턴 CEO는 이 모든 복수의 층위를 모두 신경 쓰면서 해킹으로 인한 피해를 막고 복원력을 기르는 것이 클라우드 보안의 핵심 이라고 강조했다. 레이턴 CEO는 지난 1분기 매출액을 살펴보면 보안과 컴퓨터 분야 매출이 이미 CDN 매출을 앞질렀다 며 보안 분야 매출이 급성장하고 있어서 앞으로 가장 큰 회사의 수익원이 될 것 이라고 밝혔다.\n",
      "\n",
      "### 답변: CC 톰 레이턴 아카마이 최고경영자 CEO·사진이 최근 매일경제와 인터뷰에서 전통적인 해킹 악성코드·디도스가 급증하고 있는 사이버 동향을 전하며 컴퓨팅·콘텐츠 전송까지 아우르며 전 세계에 걸쳐 보안 솔루션을 제공할 수 있다는 게 아카마이 보안의 장점 이라고 강조했다.<|endoftext|>\n",
      "86 ### 질문: 아래의 문서를 요약해줘.\n",
      "\n",
      "###맥락: 고승범 금융위원장 연합뉴스 자료사진 서울 연합뉴스 오주현 기자 고승범 금융위원장이 5일 퇴임하는 가운데 후임 김주현 금융위원장 후보자가 곧 임명 수순을 밟을지 관심이 쏠린다. 금융권에 따르면 고 위원장은 이날 오전 정부서울청사 별관에서 이임식을 연다. 지난해 8월 취임한 고 위원장은 재임 기간이 짧았지만 가계부채 급증 문제를 안정시켰다는 평가를 받는다. 금융사들에 가계부채 총량을 전년보다 5% 수준 이상 늘리지 않도록 주문하는 등 강력한 가계부채 총량 규제를 시행하고 총부채원리금상환비율 DSR 규제를 더욱 강화해 가계부채 저승사자 라는 별명을 얻기도 했다. 그는 소상공인 등 취약층에 대한 금융 지원 무질서한 가상자산 가상화폐 시장의 제도화 등에도 적극적인 역할을 했다는 평가를 받는다. 고 위원장은 이임사에서 그간의 소회를 밝히고 후배들에게 금융시장 안정이 훼손되지 않도록 가계부채 관리 등의 소임을 다 해줄 것을 당부할 예정이다. 고 위원장은 새 정부가 출범한 이후인 지난 5월 사의를 표명했으나 원 구성을 두고 여야가 대치하는 상황이 이어지며 사의를 표명한 지 약 두 달 만에 이임식을 하게 됐다. 윤석열 대통령은 전날 국회에 김주현 금융위원장 후보자에 대한 인사 청문보고서 송부를 재요청했다. 송부 기한인 오는 8일까지 인사청문회가 열리지 않으면 대통령 직권으로 임명할 수 있다. 전날 여야 합의로 국회의장단이 구성되면서 국회가 정상화 수순에 접어든 만큼 이르면 이번 주 중 청문회 일정이 확정될 가능성도 있다. 금융당국 관계자는 원 구성이 이번 주 내로 되지 않는다면 최근 교육부총리가 임명되는 등 선례를 볼 때 다음 주 초께 후임 금융위원장이 임명될 가능성이 있을 것으로 예상한다 고 말했다. 고 위원장이 퇴임하면서 금융위는 당분간 김소영 금융위 부위원장 대행 체제로 운영될 예정이다. 질문에 답변하는 김주현 금융위원장 후보자 서울 연합뉴스 김인철 기자 금융위원장 후보자로 지명된 김주현 여신금융협회 회장이 7일 오후 서울 중구 여신금융협회에서 열린 소감 발표 및 출입기자 간담회에서 취재진 질문에 답하고 있다.\n",
      "\n",
      "### 답변: 5일해 퇴임하는 고승범 금융위원장이 후임 김주현 금융위원장 후보자가 곧 임명 수순을 밟을지 관심이 쏠리는 가운데 금융권에 따르면 고 위원장은 그간의 소회를 밝히고 후배들에게 금융시장 안정이 훼손되지 않도록 가계부채 관리 등의 소임을 다 해줄 것을 당부할 예정이며 금융위는 당분간 김소영 금융위 부위원장 대행 체제로 운영될 예정이다.<|endoftext|>\n",
      "87 ### 질문: 아래의 문서를 요약해줘.\n",
      "\n",
      "###맥락: NBA 2K23 에 등장하는 마이클 조던 모습 2K 제공 미국프로농구 NBA 역대 최고 스타인 마이클 조던이 NBA 2K 커버를 다시 장식했다. NBA 2K11 과 NBA 2K12 NBA 2K16 에 이은 네 번째 행보다. 미국 게임업체 2K는 등번호 23번으로 기억되는 마이클 조던이 NBA 2K23 스페셜 에디션인 마이클 조던 에디션과 챔피언십 에디션 커버에 등장한다고 6일 밝혔다. 마이클 조던은 선수 시절 NBA를 세계적인 현상으로 만들고 농구계에 막대한 영향을 끼친 인물이다. NBA 올스타 14회 기아 NBA MVP 5회 NBA 월드 챔피언 6회 기록을 세우며 네이스미스 농구 명예의 전당에 오르기도 했다. 2K는 올해 NBA 2K 24주년을 맞아 진행하는 캠페인 테마 위대함에 응하라 에 걸맞은 인물로 조던을 꼽았다. 엘피 브로디 NBA 2K 글로벌 마케팅 전략 부사장은 23을 스포츠에서 가장 눈에 띄는 숫자로 만든 역사를 생각하면 NBA 2K23에 마이클 조던 에디션을 선보이는 것은 더할 나위 없는 선택 이라고 했다. 2K는 조던의 빛나는 경력 중 15가지 상징적인 순간을 재현할 수 있는 조던 챌린지를 NBA 2K23 에 다시 도입했다. 이를 위해 NBA 2K11 오리지널 챌린지 10개를 모두 처음부터 다시 만들었다. 2K 측은 10년 이상 기술적 도약이 반영된 새로운 게임 플레이로 조던의 업적을 경험할 수 있다 고 했다. 발로 뛰는 더팩트는 24시간 여러분의 제보를 기다립니다.\n",
      "\n",
      "### 답변: 미국프로농구 NBA 역대 최고 스타인 마이클 조던이 NBA 2K 커버를 다시 장식했는데 선수 시절 NBA를 세계적인 현상으로 만들고 농구계에 막대한 영향을 끼친 인물로 올해 NBA 2K 24주년을 맞아 진행하는 캠페인 테마 위대함에 응하라에 걸맞은 인물로 조던을 꼽았다<|endoftext|>\n",
      "88 ### 질문: 아래의 문서를 요약해줘.\n",
      "\n",
      "###맥락: 당국 3세대백신 5천명분 계약 중…지자체서 원숭이두창 검사 시행 준비 치료제 물량 초기 대응에 충분…전국민 백신 접종 필요성 없어 국내 첫환자 상태 호전·양호…김남중 교수 사람두창보다 경미 사망률 과장돼 원숭이두창 감염병 주의 인천공항 안내 모니터 연합뉴스 자료사진 서울 연합뉴스 최인영 조민정 기자 원숭이두창 치료제인 테코비리마트 504명분이 오는 9일 국내에 도입될 예정이다. 또 원숭이두창 예방 효과가 있는 3세대 두창 백신 진네오스 5천명분 1만도즈 을 국내 공급하기 위한 계약도 진행 중이다. 중앙방역대책본부는 5일 원숭이두창 대응을 위해 치료제와 백신 도입을 추진하고 있다며 이같이 밝혔다. 당국은 치료제가 국내 도입되면 전국 17개 시도 지정 병원에 공급해 활용할 예정이다. 임숙영 방대본 상황총괄단장은 도입되는 치료제 물량은 초기 대응에 충분한 수준 이라며 향후 발생 양상을 고려하면서 필요하면 추가로 도입하겠다 고 말했다. 원숭이두창은 증상이 경미한 경우가 많아 원숭이두창 전용 치료제를 사용하지 않고도 증상이 호전되는 경우가 많다고 임 단장은 설명했다. 그러면서 국내 1호 원숭이두창 확진자도 전용 치료제 없이 상태가 많이 호전돼 현재 건강 상태가 양호하다고 밝혔다. 1명당 4주 간격으로 2회 접종하는 3세대 백신 진네오스는 현재 해외 제조사 바바리안 노르딕 와 공급 계약을 진행하고 있으며 계약이 완료되면 구체적인 도입 시기 등을 발표할 예정이다. 앞서 질병청은 진네오스 긴급도입을 요청했고 이에 식품의약품안전처는 국가필수의약품 안정공급협의회 심의를 거쳐 지난 1일 국내 긴급도입을 인정했다. 현재는 정부가 비축한 2세대 두창 백신을 활용해 원숭이두창 예방접종을 하고 있다. 임 단장은 원숭이두창의 전파방식과 전파력을 고려했을 때 백신을 일반 국민을 대상으로 광범위하게 접종할 필요성은 없다고 본다고 설명했다. 그러나 밀접접촉자는 14일 이내 접종해야 효과를 볼 수 있기 때문에 밀접접촉자 중심으로 한 포위접종 방식으로 접종을 진행할 예정이라고 밝혔다. 원숭이두창 관련 검역 강화된 공항 공동취재 원숭이두창은 전날 기준으로 59개국에서 6천157명이 확진된 것으로 확인된다. 국내 확진자는 1명이다. 질병청은 원숭이두창 24시간 종합상황실과 즉각대응팀을 설치하는 등 대응체계를 구축했다. 전국 시도에도 지역 방역대책반을 설치하고 지난달 27일과 이달 4일 시도 보건과장 회의를 개최해 중앙 지역 협조 체계를 다졌다. 질병청은 지난달 28일 지역사회 의심 환자 발생에 대비한 대응체계 점검 도상 훈련을 진행하고 지난달 28∼29일에는 의료진 대상 교육을 시행해 추가 원숭이두창 확진자 발생에 대비했다. 또 지자체 17개 보건환경연구원 검사 확대 계획을 수립해 숙련도 평가를 완료했다. 향후 진단검사시약을 배포해 지자체에서도 원숭이두창 검사를 할 수 있도록 준비하고 있다. 또 DUR 의약품안전사용서비스 과 ITS 해외여행력정보제공시스템 를 연계해 원숭이두창 발생 빈발 국가 5개국의 해외 여행력을 의료기관에 제공하도록 했다. 질병청은 이날 브리핑에 대한감염학회 이사장인 김남중 서울대병원 감염내과 교수를 초청해 원숭이두창에 대한 질의응답 시간을 가졌다. 김 교수는 원숭이두창이 코로나19와 같은 대유행을 일으킬 가능성을 묻는 말에 새로운 환자가 유입될 가능성은 충분히 있지만 밀접접촉에 의한 전파이기 때문에 코로나19 유행처럼 대유행을 일으킬 가능성은 아예 없다고 생각한다 고 답했다. 또 원숭이두창의 치명률이 3∼8%로 알려진 것과 관련 비풍토지역에서 5천명 이상의 환자가 발생했지만 사망자가 없다 며 면역이 저하된 분들이 걸릴 경우가 있을 수 있어 사망자가 앞으로도 0 일 것이라고 장담할 수는 없지만 사망률이 3%에 이른다고 하는 것은 과장됐다 고 강조했다. 그러면서 원숭이두창은 두창 사람두창 에 비해서도 경미한 질병으로 회복 후 반흔 흉 을 남기는 두창과 달리 원숭이두창은 회복 후 시간이 지나면서 반흔도 대부분 없어지는 것으로 알려져있다 고 설명했다. 질병청은 원숭이두창 발생 국가를 방문·여행하는 국민들에게는 현지에서 유증상자나 야생동물과 접촉을 피하고 마스크 착용 손 씻기 등 개인 위생수칙을 준수하는 것이 중요하다고 당부했다. 또 귀국 후 3주 이내 발열 오한 수포성 발진 등 의심 증상이 나타나면 동거인을 포함한 주위 사람들과 접촉하지 않도록 주의해야 하며 주소지 관할 보건소로 신속히 신고해야 한다고 강조했다.\n",
      "\n",
      "### 답변: 중앙방역대책본부는 증상이 경미한 경우가 많아 원숭이두창 전용 치료제를 사용하지 않고도 증상이 호전되는 경우가 많기 때문에  원숭이두창 치료제인 테코비리마트 504명분을 오는 9일 국내에 도입할 예정이며 향후 발생 양상을 고려하면서 필요하면 추가로 도입하겠다고 말했다.<|endoftext|>\n",
      "89 ### 질문: 아래의 문서를 요약해줘.\n",
      "\n",
      "###맥락: 게임업계 소통 간담회… 중국 판호 발급 확대 노력·주 52시간 근로 합리적 운영 문화체육관광부 장관 게임업계 소통 간담회 서울 연합뉴스 김주환 기자 1일 서울 강남구 한국게임산업협회에서 열린 게임업계 소통 간담회에 참석한 박보균 문화체육관광부 장관과 게임계 관계자들이 기념 촬영을 하고 있다. 2022.7.1 jujuk yna.co.kr 서울 연합뉴스 김주환 기자 박보균 문화체육관광부 문체부 장관이 취임 이후 처음으로 게임 업계 관계자들을 만난 자리에서 게임은 질병이 아니다 라며 업계의 규제를 풀겠다고 약속했다. 박 장관은 1일 서울 강남구 한국게임산업협회에서 열린 간담회 모두발언에서 게임은 늘 편견과 오해에 시달려왔다. 게임 과몰입을 질병으로 몰아가는 시선이 엄존한다 며 이런 뜻을 밝혔다. 이날 간담회에는 강신철 한국게임산업협회장 황성익 한국모바일게임협회장 정석희 한국게임개발자협회장 윤상규 한국VR·AR콘텐츠진흥협회장 게임산업협회 부회장사를 맡은 12개 게임 업체 대표 및 임원급 등이 참석했다. 박 장관은 K 콘텐츠라면 방탄소년단 BTS 이나 오징어 게임 등을 떠올리는데 글로벌 장악력을 따지면 단연 게임이 맨 앞에 있다 고 말했다. 그러면서 세계 게임시장 경쟁에서 필요한 인재를 키우고 기획·제작·유통 전 과정을 문체부에서 지원하겠다. 규제를 선도적으로 혁신하고 풀겠다 고 약속했다. 또 업계에서 요구하는 중국의 판호 발급 확대를 위해 외교부 경제 부처와 협력해 특별한 노력을 기울이겠다 며 주 52시간제의 합리적인 운영을 위해 지혜롭게 대처하겠다 고도 덧붙였다. 1시간가량 열린 이날 간담회는 참가자들이 돌아가며 한국 게임산업 현안과 산업 경쟁력 회복 방안 등을 이야기하는 방식으로 진행됐다. 간담회에서는 현재 게임 업계의 화두인 P2E Play to Earn·플레이로 돈 벌기 게임에 대한 규제를 완화해 달라는 건의가 나온 것으로 전해졌다. 박 장관은 이에 신기술과 사행성이라는 양면성이 있어 종합적 접근이 필요하다 는 원론적 답변을 내놓았다. 또 근무 시간 확대 요구에 대해서는 유연근무제 확장은 필요하나 판교의 등대 크런치 모드 에 대한 우려의 목소리도 있다 며 게임 업계가 선제적으로 대처해 달라고 주문했다. 이날 토론회에서는 현안과 관련한 구체적인 논의는 오가지 않은 것으로 전해졌다. 한 참석자는 토론회가 끝나고 대형 게임사만 참가해 상대적으로 약자인 중소 게임사들의 이야기가 전혀 나오지 않았다 며 아쉬움을 드러내기도 했다.\n",
      "\n",
      "### 답변: 박 장관은 1일 서울 강남구 한국게임산업협회에서 열린 간담회 모두발언에서 게임은 늘 편견과 오해에 시달려왔다며, 게임은 게임 과몰입을 질병으로 몰아가는 시선이 엄존하다며, 업계의 규제를 풀겠다고 약속했다.<|endoftext|>\n",
      "90 ### 질문: 아래의 문서를 요약해줘.\n",
      "\n",
      "###맥락: 파르나스 호텔 제주 숙박권 애플워치에어팟 세트 다이슨 에어랩 등 경품 이벤트도 진행 유통사 자체 페이 GS Pay의 론칭 1주년을 맞아 대고객 감사 이벤트가 열린다. GS리테일은 지난해 론칭한 GS Pay의 1주년을 기념하여 7월 한 달간 운영 중인 모든 채널에서 상상 이상의 간편결제 GS Pay 백만초월 페스티벌 행사를 진행한다. GS25는 GS Pay 사용 시 결제 건 당 GS POINT 100포인트 페이백 행사 최대 5천 원 한도 와 시원한 여름을 날 수 있도록 파우치 음료 1 1 행사를 진행한다. GS더프레시는 물가 안정을 위해 주차 별 생필품 위주의 계절과일 초복 상품 공산품 등에 대해 GS Pay 추가 할인 행사를 진행한다. GS샵은 Weekly GS Pay Day 를 통해 매주 1회 GS Pay 결제에 대한 카드 할인을 적용하며 GS프레시몰은 일주일 간 GS Pay로 7만 원 이상 결제 시 1만 점의 더팝 리워즈를 캐시백 하는 행사를 진행한다. 또한 GS리테일은 경품 이벤트도 선보인다. GS리테일 자회사인 파르나스에서 신규 오픈하는 파르나스 호텔 제주 숙박권 디럭스 2박 을 비롯해 애플워치 에어팟 프로 세트 다이슨 에어랩 스타일러 컴플리트 다이슨 슈퍼소닉 헤어드라이어 케니샤프 콜라보 굿즈 패키지 더팝 리워즈 5 000점 등 다양한 경품을 준비했다. 고객들은 GS리테일의 모든 채널에서 GS Pay를 한번 이상 사용한 후 더팝앱 이벤트 페이지를 통해 응모할 수 있다. GS Pay는 GS리테일이 KB국민은행 및 KG이니시스와 손잡고 선보인 간편 결제 시스템이다. 고객은 GS Pay에 신용카드나 결제 연동 계좌를 1회만 등록하면 GS리테일의 모든 채널에서 원클릭 결제만으로 편리한 쇼핑을 할 수 있다. 10만 원 이하 결제 시 비밀번호 입력 없이 원클릭만으로도 결제할 수 있는 서비스와 KB국민은행의 FDS Fraud Detection System이상금융거래탐지시스템 가 적용돼 업계 최고 수준의 편의성과 안전성도 갖췄다. 또한 계좌 연동 후 상시 2% 적립 행사상품 최대 20% 할인 매월 파격 행사 등 고객을 위한 혜택도 다양하다. GS리테일은 편의성 안전성 차별화 고객 혜택 등 GS Pay가 가지고 있는 다양한 강점들과 GS리테일의 온오프 전 채널에서 함께 사용 가능한 통합적 록인 Lock in 효과가 고객들이 GS Pay를 가입해 이용하고 있는 원인으로 분석하고 있다. 앞으로 GS리테일은 자회사 주요 계열사 제3자까지 GS Pay의 제휴 영역을 확대하고 결제 데이터 분석을 통한 고객 맞춤형 쇼핑 정보 제공 및 파격 할인 프로모션 등을 지속 선보여 GS Pay 사용 고객을 더욱 확대하고 더 많은 혜택을 제공할 방침이다. 조광현 GS리테일 전략마케팅팀 팀장은 GS리테일의 통합 및 GS Pay의 1주년을 기념하여 이용해주시는 모든 고객분들께 감사의 의미를 담아 혜택 가득한 GS Pay 백만초월 페스티벌 행사를 준비하게 됐다 라며 앞으로도 제휴 영역 확대 고객 맞춤형 쇼핑 정보 제공 할인 프로모션 등 GS Pay의 차별화 서비스를 강화해 고객에게 더 큰 만족을 드릴 수 있도록 최선의 노력을 다할 것 이라고 말했다.\n",
      "\n",
      "### 답변: G은행은 GS Pay의 1주년을 맞아 7월 한 달간 모든 채널에서 상상 이상의 간편결제 GS Pay 백만초월 페스티벌 행사를 열고 파르나스 호텔 제주 숙박권 디럭스 2박 등 애플워치 에어팟 프로 세트 다이슨 에어랩 프로 세트 다이슨 에어랩 스타일러 컴플리트 다이슨 슈퍼소닉 헤어드라이어 케니샤프 콜라보 굿즈 패키지 5 000점 등 경품 이벤트도 준비했다.<|endoftext|>\n",
      "91 ### 질문: 아래의 문서를 요약해줘.\n",
      "\n",
      "###맥락: 배재현 CIO 완전 매각은 루머 서울경제 카카오가 카카오모빌리티 지분 10%대를 매각해 2대 주주로 남는 방안을 검토한다. 매각안이 성사될 경우 MBK파트너스가 1대 주주로 올라서게 된다. 6일 정보기술 IT 업계에 따르면 배재현 카카오 최고투자책임자 CIO 는 이날 사내 공지를 통해 “카카오모빌리티 지분의 상당수를 매각하는 방안은 검토한 적 없다”며 “현재 검토 중인 방안은 지분 10%대를 매각해 2대 주주로 내려오는 지분변경 구조”라고 밝혔다. 당초 카카오는 40%대의 보유 지분을 MBK파트너스에 매각하는 방안을 검토하고 있는 것으로 알려졌으나 이같은 소문을 정면 반박한 것이다. MBK파트너스가 TPG·칼라일 등 재무적투자자 FI 보유 지분과 카카오 보유 지분을 모두 매입해 1대 주주로 올라설 것으로 전망된다. 지난 연말 기준으로 카카오모빌리티 지분은 △카카오 57.55% △TPG 29.04% △칼라일 그룹 6.21% 등 순이다. 카카오가 MBK에 최대 19% 지분을 매각해도 기존 지분 구조대로라면 1대 주주가 된다. 카카오는 자사가 최대주주에서 물러나야 카카오모빌리티의 기존 사업확장 기조를 이어갈 수 있다고 본다. 글로벌 경쟁에서 살아남으려면 본격적인 성장 드라이브가 필요한데 공익적 성격이 강한 카카오 공동체 안에선 이를 실현하기 어렵다는 판단이다. 다만 카카오 관계자는 “매각안이 확정된 것은 아니 라고 전했다. 한편 이날 카카오 노조 크루유니언 은 카카오 경영진과의 면담 결과를 공개하며 전 계열사 임직원을 대상으로 모빌리티 매각 반대 서명운동을 재개하겠다고 선언했다. 카카오 노조는 카카오가 모빌리티 사업을 이어나갈 의지가 없다 며 사회적 책임을 파기한 것 이라고 주장했다.\n",
      "\n",
      "### 답변: 6카카오는  40%대의 보유 지분을 MBK파트너스에 매각하는 방안을 검토하고 있으나  MBK파트너스가 TPG·칼라일 등 재무적투자자 FI 보유 지분과 카카오 보유 지분을 모두 매입해 1대 주주로 올라설 것으로 전망되며  현재 검토 중인 방안은 지분 10%대를 매각해 2대 주주로 내려오는 지분변경 구조라고 밝혔다.<|endoftext|>\n",
      "92 ### 질문: 아래의 문서를 요약해줘.\n",
      "\n",
      "###맥락: 네덜란드 ASML 본사 사옥. 로이터 연합뉴스 미국이 중국의 반도체 산업에 대한 제재의 수위를 높이고 있다. 그간의 고강도 제재에도 불구하고 중국의 반도체 굴기 가 오히려 더 속도를 내자 추가 압박을 가하는 것으로 분석된다. 5일 현지시간 블룸버그통신에 따르면 미국은 네덜란드의 대표적 반도체 장비 업체인 ASML에게 EUV 극자외선 노광장비에 이어 구형 장비인 DUV 심자외선 노광장비에 대해서도 중국 판매 금지를 요청했다. 블룸버그는 돈 그레이브스 미국 상무부 부장관이 5월 말부터 지난달 초까지 네덜란드와 벨기에를 방문했을 당시 공급망 이슈를 논의하며 중국 수출 문제를 언급했고 ASML 본사도 방문해 피터 베닝크 ASML CEO 최고경영자 를 만나 이와 같은 내용을 요청했다고 소식통들을 인용해 보도했다. 네덜란드 정부는 미국의 압박으로 ASML이 세계에서 유일하게 생산하는 EUV 장비의 중국 수출 승인을 내주지 않고 있는데 이 조치를 DUV까지 확대하기를 요구한 것이다. ASML은 반도체 웨이퍼 위에 회로 선폭을 새기는 노광 과정에 필요한 장비를 주로 생산한다. 이 중 EUV는 극자외선 파장의 빛을 이용하는 것으로 파장이 짧아 미세한 회로 구현에 용이하다. EUV 장비는 차세대 반도체 공정에 반드시 필요한 장비지만 현재까지는 5나노 이하 초미세공정이 필요한 시스템반도체 생산이나 10나노 초반대의 차세대 D램 등에서만 주로 쓰인다. 20나노 이상의 숙성 공정에서는 여전히 불화아르곤 ArF 을 사용하는 DUV 노광장비가 가장 일반적으로 사용된다. 미국은 일본 니콘에도 DUV 장비를 중국에 판매하지 못하게 금지해줄 것을 요청하고 있는 것으로 알려졌다. 이는 중국이 10나노 이상급 파운드리에서 괄목할 성장을 이어가고 있어서인 것으로 풀이된다. 대만 시장조사업체 트렌드포스에 따르면 중국 파운드리 반도체 위탁생산 를 대표하는 SMIC 화훙 넥스칩의 시장점유율 합계는 올해 1분기 처음으로 10%를 넘어섰다. 이들 3개사의 매출 합계는 33억2900만 달러에 이른다. 최근 국제반도체장비재료협회 SEMI 에 따르면 해외 반도체 생산장비 업체에 대한 중국의 장비 주문은 지난해에만 전년 대비 58% 증가하며 2년 연속 글로벌 1위를 기록했다. 블룸버그는 이 같은 중국의 반도체 자급화 움직임에 미국의 제재가 오히려 중국 반도체의 약진을 도왔다 고 언급하기도 했다.\n",
      "\n",
      "### 답변: 5일 그레이브스 미국 상무부 부장관이 5월 말부터 지난달 초까지 네덜란드와 벨기에를 방문했을 당시 공급망 이슈를 논의하며 중국 수출 문제를 언급했고 네덜란드의 대표적 반도체 장비 업체인 ASML에게 EUV 극자외선 노광장비에 이어 구형 장비인 DUV 심자외선 노광장비에 대해서도 중국 판매 금지를 요구한 것으로 전해지며, 그간의 고강도 제재에도 불구하고 중국의 반도체 굴기 가 오히려 더 속도를 내자 추가 압박을 가하는 것으로 분석된다.<|endoftext|>\n",
      "93 ### 질문: 아래의 문서를 요약해줘.\n",
      "\n",
      "###맥락: 서울 연합뉴스 박동주 기자 3일 서울의 한 재래시장. 이번 주 발표되는 6월 소비자물가 상승률이 6%대를 넘을 수 있다는 관측이 나온다. 전기·가스요금이 인상되고 추석 9월 10일 성수품 수요가 몰리는 7∼8월에는 물가 상승률이 더 높아질 가능성이 크다. 기저효과를 고려하면 후반기에는 물가 오름세가 다소 완화될 수 있다는 기대가 있지만 공공요금 상승과 러시아·우크라이나 전쟁 장기화 높은 기대인플레이션율 임금 상승 압력 등 물가 상승 요인이 산적해 있어 예단하기 어려운 상황이다.\n",
      "\n",
      "### 답변: 이요금 상승, 러시아·우크라이나 전쟁 장기화 높은 기대인플레이션율 임금 상승 압력 등 물가 상승 요인이 산적해 있어 예단하기 어려운 상황인데, 이번 주 발표되는 6월 소비자물가 상승률이 6%대를 넘을 수 있다는 관측이 나온다.<|endoftext|>\n",
      "94 ### 질문: 아래의 문서를 요약해줘.\n",
      "\n",
      "###맥락: 장 그루넨워드 퓨리나 AOA CEO 인터뷰 전세계 75개국과 함께하는 네슬레 퓨리나 반려동물도 가족’ 펫휴머니제이션 확산에 프로플랜 등 영양·면역까지 챙긴 제품 내놔 지속가능성·반려동물 복지 최우선 과제 재활용 포장재 등 2050년까지 탄소배출 ‘0’ 최근 MZ 세대를 중심으로 미닝아웃 트렌드가 빠르게 확산되고 있다. 미닝아웃은 신념을 뜻하는 미닝 과 자신의 정체성을 드러냄을 의미하는 커밍아웃 의 합성어다. 자신의 신념과 가치를 드러내는 소비활동으로 윤리적 소비의 일종이다. 미닝아웃 트렌드의 확산에 따라 기업의 사회적 책임을 요구하는 목소리 역시 커지고 있다. 이를 반영해 기업들도 착한 제품 을 개발해 연일 내놓고있다. 반려동물업계도 이러한 트렌드를 따라가고 있다. 특히 국내에서는 반려인구 1500만 시대를 맞아 양적 성장에서 질적 변화를 위한 시도들이 이어지고 있다. 지속가능한 미래를 위해 반려동물 업계는 재활용 포장재 사용 사료 업사이클링 반려동물 용품 등 다양한 친환경 제품들이 출시하고 있다. 세계적인 반려동물 식품기업 네슬레 퓨리나도 이러한 시장 변화에 맞춰 움직이고 있다. 자신의 신념과 가치를 드러내는 소비활동이 늘어나는 지금 네슬레 퓨리나는 어떤 방향으로 움직이고 있는지 아시아·오세아니아·아프리카 AOA 지역 최고경영자 CEO 인 장 그루넨워드 Jean Grunenwald·사진 의 이야기를 들어봤다. 그루넨워드 CEO는 펫산업계의 미래 키워드로 기업의 사회적 책임감 을 꼽으며 바로 오늘이 반려인과 반려동물 그리고 지구가 공존할 수 있는 지속가능한 시스템이 필요한 때 라고 강조했다. 다음은 그루넨워드 CEO와의 일문일답. ―네슬레 퓨리나는 어느 나라에 진출해 있는가. 국가별로 집중하는 전략과 제품이 다른지. 한국과 일본을 포함해 약 75개 국가에 진출해 있다. 우리의 전략은 제품을 이용하는 소비자들의 반려동물이 건강하고 오랜 시간 행복한 삶을 영위할 수 있도록 돕는 것이다. 역사적으로 펫케어 분야는 미국과 유럽 지역에서 먼저 발달했다. 반면 아시아는 앞으로 발전할 기회가 더 많다. ―코로나19가 반려동물 산업에 미친 영향은 무엇인가. 코로나19에 따른 재택근무 증가로 인해 반려동물을 삶에 들일 수 있는 환경이 조성됐다. 네슬레 퓨리나는 다양한 연구를 통해 사람이 반려동물과 함께 하는 것이 더 좋다는 것을 이야기해 왔다. 네슬레 퓨리나가 진행한 반려동물과 인간간 유대감 연구는 반려동물이 사회적 포용성을 촉진하고 외로움을 완화한다는 것을 보여줬다. 팬데믹 이후 맞춤형 영양 제품인 프로플랜과 퓨리나원의 면역력 증진용 제품 수요도 증가한 것으로 나타났다. ―미래 반려동물 산업은 어떻게 변화할 것이라 생각하는가. 반려동물 산업은 꾸준히 성장할 것이다. 펫 휴머니제이션 의 가속화에 따라 MZ세대를 비롯한 새로운 세대의 반려인들은 반려동물의 건강과 지속가능성 상호작용에 더 주의를 기울일 것으로 생각된다. 소비자들은 지속가능성을 검증하기 위해 더 많은 사료 제품을 검토하고 있다. 또 원료와 원료 공급의 투명성에 대한 기대를 품고 있다. 전세계 천연자원이 감소하면서 지속적으로 대체 자원을 찾는 노력이 필요해지고 있는 상황이다. 우리 데이터에 따르면 최근 소비자들 사이에서 대체식품과 대체단백질에 대한 선호도가 증가하고 있다. 퓨리나는 이러한 부분들을 고려하고 반영해 펫푸드 분야에서 지속적인 혁신을 이어 나갈 계획이다. 네슬레 퓨리나의 스마트 연계형 사료 용기 CHEKR ―글로벌 펫 시장의 주요 트렌드는 무엇인가. 특히 관심 가는 부분이 있다면. 반려동물이 중요한 가족 구성원으로 인식되고 있는 만큼 △반려동물이 섭취하는 음식 △건강 문제 △반려인의 경험과 같은 펫케어 부분이 트렌드를 주도할 것이다. 기술적인 관점에서 △오믹스 omics 기술 △빅데이터 △예측 지능의 사용과 △분자 영양학에 대해 집중 연구가 식품영양학을 빠르게 발전하게 했다. 그리고 △활력징후 관찰 △반려동물의 마이크로바이옴 분석 △고양이 배변 상태 분석과 같은 건강 필요에 맞춘 반려동물 기기들이 증가하는 추세다. 모두 반려동물들이 더 오래 더 건강하게 사는데 도움을 주고 있다. 반려인을 도와주는 기술의 한 가지 예시로 네슬레 퓨리나 펫케어 호주가 지난해 론칭한 스마트사료 용기인 체커 CHEKR 를 소개하고 싶다. 앱과 연동이 가능한 체커엔 벼룩 예방을 비롯 반려동물 치료 알림 기능이 내장됐다. 반려인들이 반려동물의 건강을 손쉽게 관리할 수 있도록 도움을 준다. ―네슬레 퓨리나가 주목하고 있는 펫푸드 트렌드가 있다면. 대부분의 반려인들은 제품을 구입시 각각 다른 특성의 사료를 찾는다. 네슬레 퓨리나의 포트폴리오는 반려동물에게 요리식 식사 경험부터 특정 영양분이 필요한 반려동물을 위한 수의사의 처방 식단에 이르기까지 다양하다. 반려동물을 사람처럼 대하는 펫 휴머니제이션의 시대의 영향으로 반려동물을 만족시킬 수 있는 고급 펫푸드 제품 시장이 성장하고 있다. 또한 반려동물이 더 오래 그리고 건강하게 삶을 살 수 있도록 건강학적 이점이 입증된 영양학적 솔루션에 대한 수요도 증가하고 있다. ―네슬레 퓨리나는 성장을 위해 어떤 면에 집중하고 있는가. 우리의 기본은 반려동물 제품을 생산하는 회사다. 항상 최고의 품질과 안전 기준을 갖춘 회사가 되고자 노력하고 있다. 또 건강과 맛 그리고 영양을 모두 챙긴 사료를 제공하기 위해 노력 중이다. 반려동물 복지가 네슬레 퓨리나의 최우선 관심사이자 과제다. 소비자들은 기업에게 투명성 정보공개 을 요구하고 있다. 자신의 구매 결정이 환경에 미칠 영향과 동물 복지 측면에 소비자들의 관심이 높아지고 있다. 그래서 지속가능성을 강조하고 있다. ―지속가능성을 위해 네슬레 퓨리나가는 어떤 노력을 하는지. 네슬레 퓨리나는 2030년까지 온실가스 배출량을 절반으로 줄이고 2050년까지 순배출 제로 0 에 도달하는 순배출 제로 와 2025년까지 포장재의 100%를 재활용 또는 새 플라스틱 사용을 3분의 1까지 줄이는 지속가능한 포장 2025년까지 지속 가능한 방법으로 모든 반려동물 사료의 재료를 조달할 것을 보장하는 지속가능한 소싱 공장 전체의 연간 물 사용량 감소를 목표로 하는 수자원 보호 등 4가지 분야에 힘쓰고 있다. 현재까지 포장재의 29.6%를 재활용 또는 재사용이 가능한 재질로 도입해 생산 중이며 올해까지는 포장재의 69%를 재활용 또는 재사용이 가능한 재질로 전환하는 것을 목표로 하고 있다.\n",
      "\n",
      "### 답변: 반 MZ 세대를 중심으로 신념과 가치를 드러내는 소비활동인 미닝아웃(신념을 뜻하는 미닝과 자신의 정체성을 드러냄을 의미하는 커밍아웃의 합성어)이 빠르게 확산되고 있으며 자신의 신념과 가치를 드러내는 소비활동이 늘어나는 지금 네슬레 퓨리나는 어떤 방향으로 움직이고 있는지 아시아·오세아니아·아프리카 AOA 지역 최고경영자 CEO 인 장 그루넨워드 Jean Grunenwald·사진 의 이야기를 들어봤다.<|endoftext|>\n",
      "95 ### 질문: 아래의 문서를 요약해줘.\n",
      "\n",
      "###맥락: 올해 연말 종료될 예정이었던 전기차와 수소차의 고속도로 통행료 감면 제도가 2년 연장됩니다. 국토교통부는 이 같은 내용이 담긴 유료도로법 시행령 개정안을 다음 달 11일까지 입법 예고한다고 밝혔습니다. 정부는 지난 2017년부터 미세먼지 저감과 친환경차 보급을 위해 전기차와 수소차의 고속도로 통행료를 절반 깎아주고 있습니다. 국토부는 또 밤 9시부터 다음 날 아침 6시까지 사업용 화물차와 건설기계의 통행료를 30∼50% 감면해주는 제도도 유가 상승으로 어려움을 겪는 화물업계를 지원하기 위해 연장했습니다.\n",
      "\n",
      "### 답변: 국차년 연말 종료 예정이었던 전기차와 수소차의 고속도로 통행료 감면 제도가 2년 연장되어 올해 연말 종료될 예정 이었던 전기차와 수소차의 고속도로 통행료 감면 제도가 올해 연말 종료 되며, 국토교통부는 이 같은 내용이 담긴 유료도로법 시행령 개정안을 다음 달 11일까지 입법 예고한다고 밝혔다.<|endoftext|>\n",
      "96 ### 질문: 아래의 문서를 요약해줘.\n",
      "\n",
      "###맥락: 사진 나이벡 펩타이드 융합 바이오 전문기업 나이벡 주가가 강세다. 4일 오후 1시10분 나이벡은 전 거래일 대비 700원 3.08% 오른 2만3400원에 거래되고 있다. 이날 나이벡은 펩타이드 기반 조직재생 바이오 소재 가 하반기 본격적인 임상에 진입할 계획이라고 밝혔다. 이번 임상은 4차 혁명 및 미래의료 선도과제 를 골자로 하는 범부처사업단 범부처 전주기 의료기기 연구개발 사업단 과 1·2차에 이어 3차년도 협약에 선정된 결과다. 나이벡은 50억원 규모의 정부출연금을 지원받아 서울대 치과병원 한국광기술연구원과 함께 조직재생 기능성 바이오 소재에 대한 연구개발을 진행해 왔다. 나이벡 관계자는 범부처사업단으로부터 3차년도 협약에 성공하지 못한 기업들도 상당하기 때문에 이번 조직재생 바이오 소재에 대한 3차년도 협약성공은 기술이전을 비롯한 제품 상용화에 있어 큰 의미가 있다 며 이미 글로벌 판매처로부터 기술이전을 비롯한 구매의사 확인을 받은 상태로 올해 하반기 임상 시험에 진입해 빠른 상용화를 위해 노력하겠다 고 말했다.\n",
      "\n",
      "### 답변: 펩타이드 기반 조직재생 바이오 소재가 하반기 본격적인 임상에 진입할 계획이라고 밝히자 펩타이드 융합 바이오 전문기업 나이벡의 주가가 강세여서 4일 오후 1시10분 나이벡은 전 거래일 대비 700원 3.08% 오른 2만3400원에 거래되고 있다.<|endoftext|>\n",
      "97 ### 질문: 아래의 문서를 요약해줘.\n",
      "\n",
      "###맥락: 앵커 코로나19 장기화로 가장 타격을 입은 분들이 바로 소상공인들이죠. 줄어든 매출을 회복하고 경영 환경을 개선해보려 해도 기반이 부족하다보니 어려움이 따르는 경우가 많습니다. 최근엔 소상공인들이 빅데이터와 SNS 등을 활용해 디지털 전환에 나서고 있다고 하는데요. 신현욱 기자가 취재했습니다. 리포트 서울의 한 아파트 단지 앞 호두과자 가게. 가게 주변의 유동인구 등 각종 자료를 바탕으로 상권을 분석해 봤습니다. 박수현 한국외대 경영학과 데이터를 봐도 퇴근 시간대에 2030 여성분들이 많이 지나가셔서. 그리고 저희가 현장조사 통해서도 혼자 많이 찾아서 오시는 분들이 많으셨는데... 그 결과를 바탕으로 제품을 소포장으로 바꾸고 개점 시간도 앞당기자 매출이 늘었습니다. 장 호 호두과자 가게 사장 영업시간을 당기면 어떻겠느냐 해서 여덟 시 반으로 당겼는데 의외로 출근하시는 분들이 많이 들러서... 이 상권 분석 플랫폼은 전국을 대상으로 한 무료 서비스인데 자료도 매일 갱신됩니다. 이종헌 KT 잘나가게 담당 상무 철저하게 소상공인한테 필요한 상권 입장에서 가장 적합한 것들을 저희가 이 플랫폼에 담으려고 기획을 했고요. 오늘 바나나 한 송이 천 원 드리고... 수십 년간 한 자리에서 장사를 이어온 전통시장 상인들. 갈수록 치열해지는 온라인 마케팅 적응이 쉽지 않습니다. 김수자 상인 온라인에 모르는 게 너무 많았어요. 이럴 때 전문가가 누군가가 좀 나를 도와줬으면 내가 이렇게 저렇게 치고 나갈텐데 하는 아쉬움이 많았어요. 이런 상인들에게도 최근 새로운 창구가 생겼습니다. 모바일 SNS를 통해 쉽게 홍보할 수 있는 채널 을 개설해 고객과 소통할 수 있게 된 겁니다. 육심나 카카오 ESG 사업실장 상인과 고객을 단골 개념으로 묶는 방법에 대해서 고민을 했습니다. 오늘 싸게 팔아요 그런 정보로 다가간다면 고객들한테도 되게 좋은 정보인 거고... 디지털 기술에 대한 소상공인들의 수요가 커지는 만큼 좀 더 체계적인 정부 지원이 필요하다는 지적이 나오고 있습니다. KBS 뉴스 신현욱입니다.\n",
      "\n",
      "### 답변: 최근로 소상공인들이 빅데이터와 SNS 등을 활용해 디지털 전환에 나서고 있지만 기반이 부족하다보니 어려움이 따르는 경우가 많아 디지털 기술에 대한 소상공인들의 수요가 커지는 만큼 좀 더 체계적인 정부 지원이 필요하다는 지적이 나오고 있다.<|endoftext|>\n",
      "98 ### 질문: 아래의 문서를 요약해줘.\n",
      "\n",
      "###맥락: 구미 사업장에 2023년까지 총 1조4000억원 투자 투자금 FC BGA와 카메라모듈 생산시설 구축에 활용 LG이노텍 구미사업장 전경 LG이노텍이 반도체기판 FC BGA 및 카메라모듈 생산기지 확대에 나선다. LG이노텍은 6일 구미시청에서 경상북도 및 구미시와 1조4000억원 규모의 투자협약 MOU 을 체결했다고 밝혔다. LG이노텍은 연면적 약 23만㎡에 달하는 구미 4공장 구 LG전자 A3 공장 인수를 포함해 구미 사업장에 2023년까지 총 1조4000억원을 투자한다. 투자금액은 FC BGA와 카메라모듈 생산을 위한 제조시설 구축에 쓰인다. LG이노텍은 내년 양산을 목표로 구미 4공장에 FC BGA 신규 생산라인을 구축해 나갈 방침이다. 지난 2월 시장 진출을 공식화한 FC BGA는 LG이노텍이 미래 성장동력으로 육성하는 분야다. FC BGA는 PC 서버 네트워크 등의 반도체칩을 메인기판과 연결해주는 반도체용 기판으로 글로벌 수요가 급증하는데 비해 기술력을 보유한 업체가 적어 공급 부족 현상이 지속되고 있다. 카메라모듈 생산시설 확대로 스마트폰용 카메라모듈 세계 1위 입지도 더욱 확고히 할 수 있게됐다. 카메라모듈은 LG이노텍의 매출을 이끄는 대표 사업분야다. 카메라모듈을 생산하는 광학솔루션사업부 매출은 지난해 기준 11조8000억원에 달한다. 특히 지난해에는 전년 대비 매출이 68%가량 늘었다. 6일 구미시청에서 LG이노텍이 경상북도 및 구미시와 투자 협약 MOU 을 체결했다. LG이노텍은 구미 4공장 인수를 포함해 구미 사업장에 2023년까지 총 1.4조원을 투자할 계획이다. 사진 왼쪽부터 이철우 경상북도 도지사 정철동 LG이노텍 사장 김장호 구미시장 LG이노텍은 기존에 운영중인 구미 1A 1 2 3공장에 이어 구미 4공장을 추가로 확보하며 총 5개 공장을 갖추게 됐다. LG이노텍 구미 사업장은 총 대지면적이 약 37만㎡로 축구장 52개를 합한 규모다. 이번 구미 투자로 인한 직·간접 고용 창출 효과는 총 1000여명에 이를 것으로 예상된다. 정철동 사장은 “이번 투자는 LG이노텍과 구미 지역사회 협력회사들이 동반성장 할 수 있는 좋은 기회”라며 “고객경험 혁신을 위한 적극적인 투자를 이어 나갈 것”이라고 말했다.\n",
      "\n",
      "### 답변: LG이노텍은 6일 구미시청에서 경상북도 및 구미시와 1조4000억원 규모의 투자협약 MOU 을 체결하여 구미 4공장 구 LG전자 A3 공장 인수를 포함해 구미 사업장에 2023년까지 총 1조4000억원을 투자하여 FC BGA 및 카메라모듈 생산기지 확대에 나선다.<|endoftext|>\n",
      "99 ### 질문: 아래의 문서를 요약해줘.\n",
      "\n",
      "###맥락: 산업부·조달청 정책설명회 정부가 중견기업을 우리 산업의 새로운 성장 엔진으로 육성하기 위해 이들이 생산하는 제품을 공공조달을 통해 적극적으로 활용·육성하기로 했다. 중견기업은 우리나라 전체 공공조달 계약 규모 184조원 중 26조3000억원을 담당하고 있다. 산업통상자원부는 조달청과 함께 1일 서울 마포구 한국중견기업연합회에서 중견기업을 대상으로 공공조달 정책설명회를 개최하고 중견기업 제품의 공공조달 강화방안을 논의했다고 밝혔다. 이날 설명회는 중견기업 지원에 대한 정부인식 제고를 위해 마련된 가운데 조달청은 새 정부의 공공조달 정책방향을 설명했고 참석자들은 중견기업의 공공조달 관련 애로 및 건의 사항을 전달했다. 이종욱 조달청장은 “중견기업은 공공조달 시장 전체 기업 수의 0.7% 3487개 에 불과하지만 우리나라 전체 공공조달 계약 규모 184조원 중 26조3000억원을 담당한다”며 “중견기업이 공공조달 시장에 보다 활발하게 참여하고 국내를 넘어 해외조달시장으로 뻗어나갈 수 있도록 다각적인 지원방안을 강구하겠다”고 말했다. 장영진 사진 산업부 제1차관은 “우리 경제 역동성·활력을 제고하기 위해서는 기업 성장사다리의 핵심 연결고리인 중견기업에 대한 정부 지원체계 강화가 필수적”이라며 “이번 설명회를 시작으로 향후 중견기업계의 주요 애로사항과 관련된 부처를 대상으로 지속적인 소통을 하겠다”고 말했다.\n",
      "\n",
      "### 답변: 우리통상자원부는 조달청과 함께 1일 서울 마포구 한국중견기업연합회에서 중견기업을 대상으로 공공조달 정책설명회를 개최해 새 정부의 공공조달 정책방향과 중견기업 제품의 공공조달 강화방안을 논의하며 공공조달을 통해 이들이 생산하는 제품을 공공조달을 통해 적극적으로 활용·육성하기로 했다.<|endoftext|>\n"
     ]
    }
   ],
   "source": [
    "# Input 길이가 2048이 넘어가는 경우 학습 불가로 인하여, 학습 전 제거. \n",
    "\n",
    "data = data.filter(lambda example: len(example[\"input_ids\"]) < 2048)\n",
    "\n",
    "for i in range(100):\n",
    "    print(i, data[\"test\"][i][\"text\"])"
   ]
  },
  {
   "cell_type": "code",
   "execution_count": 12,
   "metadata": {
    "colab": {
     "base_uri": "https://localhost:8080/",
     "height": 1000
    },
    "id": "jq0nX33BmfaC",
    "outputId": "769fb34e-acd0-4a56-ac87-40db98dabd78"
   },
   "outputs": [
    {
     "name": "stderr",
     "output_type": "stream",
     "text": [
      "You're using a PreTrainedTokenizerFast tokenizer. Please note that with a fast tokenizer, using the `__call__` method is faster than using a method to encode the text followed by a call to the `pad` method to get a padded encoding.\n"
     ]
    },
    {
     "data": {
      "text/html": [
       "\n",
       "    <div>\n",
       "      \n",
       "      <progress value='516' max='516' style='width:300px; height:20px; vertical-align: middle;'></progress>\n",
       "      [516/516 5:11:23, Epoch 2/3]\n",
       "    </div>\n",
       "    <table border=\"1\" class=\"dataframe\">\n",
       "  <thead>\n",
       " <tr style=\"text-align: left;\">\n",
       "      <th>Step</th>\n",
       "      <th>Training Loss</th>\n",
       "    </tr>\n",
       "  </thead>\n",
       "  <tbody>\n",
       "    <tr>\n",
       "      <td>10</td>\n",
       "      <td>2.372900</td>\n",
       "    </tr>\n",
       "    <tr>\n",
       "      <td>20</td>\n",
       "      <td>2.249000</td>\n",
       "    </tr>\n",
       "    <tr>\n",
       "      <td>30</td>\n",
       "      <td>2.107000</td>\n",
       "    </tr>\n",
       "    <tr>\n",
       "      <td>40</td>\n",
       "      <td>2.034100</td>\n",
       "    </tr>\n",
       "    <tr>\n",
       "      <td>50</td>\n",
       "      <td>1.989500</td>\n",
       "    </tr>\n",
       "    <tr>\n",
       "      <td>60</td>\n",
       "      <td>1.953400</td>\n",
       "    </tr>\n",
       "    <tr>\n",
       "      <td>70</td>\n",
       "      <td>1.948200</td>\n",
       "    </tr>\n",
       "    <tr>\n",
       "      <td>80</td>\n",
       "      <td>1.931200</td>\n",
       "    </tr>\n",
       "    <tr>\n",
       "      <td>90</td>\n",
       "      <td>1.917500</td>\n",
       "    </tr>\n",
       "    <tr>\n",
       "      <td>100</td>\n",
       "      <td>1.921800</td>\n",
       "    </tr>\n",
       "    <tr>\n",
       "      <td>110</td>\n",
       "      <td>1.895100</td>\n",
       "    </tr>\n",
       "    <tr>\n",
       "      <td>120</td>\n",
       "      <td>1.918200</td>\n",
       "    </tr>\n",
       "    <tr>\n",
       "      <td>130</td>\n",
       "      <td>1.904900</td>\n",
       "    </tr>\n",
       "    <tr>\n",
       "      <td>140</td>\n",
       "      <td>1.908600</td>\n",
       "    </tr>\n",
       "    <tr>\n",
       "      <td>150</td>\n",
       "      <td>1.880800</td>\n",
       "    </tr>\n",
       "    <tr>\n",
       "      <td>160</td>\n",
       "      <td>1.874100</td>\n",
       "    </tr>\n",
       "    <tr>\n",
       "      <td>170</td>\n",
       "      <td>1.879600</td>\n",
       "    </tr>\n",
       "    <tr>\n",
       "      <td>180</td>\n",
       "      <td>1.866000</td>\n",
       "    </tr>\n",
       "    <tr>\n",
       "      <td>190</td>\n",
       "      <td>1.888700</td>\n",
       "    </tr>\n",
       "    <tr>\n",
       "      <td>200</td>\n",
       "      <td>1.891400</td>\n",
       "    </tr>\n",
       "    <tr>\n",
       "      <td>210</td>\n",
       "      <td>1.880900</td>\n",
       "    </tr>\n",
       "    <tr>\n",
       "      <td>220</td>\n",
       "      <td>1.877300</td>\n",
       "    </tr>\n",
       "    <tr>\n",
       "      <td>230</td>\n",
       "      <td>1.848600</td>\n",
       "    </tr>\n",
       "    <tr>\n",
       "      <td>240</td>\n",
       "      <td>1.868000</td>\n",
       "    </tr>\n",
       "    <tr>\n",
       "      <td>250</td>\n",
       "      <td>1.868100</td>\n",
       "    </tr>\n",
       "    <tr>\n",
       "      <td>260</td>\n",
       "      <td>1.877400</td>\n",
       "    </tr>\n",
       "    <tr>\n",
       "      <td>270</td>\n",
       "      <td>1.851400</td>\n",
       "    </tr>\n",
       "    <tr>\n",
       "      <td>280</td>\n",
       "      <td>1.870900</td>\n",
       "    </tr>\n",
       "    <tr>\n",
       "      <td>290</td>\n",
       "      <td>1.841700</td>\n",
       "    </tr>\n",
       "    <tr>\n",
       "      <td>300</td>\n",
       "      <td>1.842600</td>\n",
       "    </tr>\n",
       "    <tr>\n",
       "      <td>310</td>\n",
       "      <td>1.854100</td>\n",
       "    </tr>\n",
       "    <tr>\n",
       "      <td>320</td>\n",
       "      <td>1.848900</td>\n",
       "    </tr>\n",
       "    <tr>\n",
       "      <td>330</td>\n",
       "      <td>1.813400</td>\n",
       "    </tr>\n",
       "    <tr>\n",
       "      <td>340</td>\n",
       "      <td>1.846400</td>\n",
       "    </tr>\n",
       "    <tr>\n",
       "      <td>350</td>\n",
       "      <td>1.822300</td>\n",
       "    </tr>\n",
       "    <tr>\n",
       "      <td>360</td>\n",
       "      <td>1.840500</td>\n",
       "    </tr>\n",
       "    <tr>\n",
       "      <td>370</td>\n",
       "      <td>1.834100</td>\n",
       "    </tr>\n",
       "    <tr>\n",
       "      <td>380</td>\n",
       "      <td>1.823900</td>\n",
       "    </tr>\n",
       "    <tr>\n",
       "      <td>390</td>\n",
       "      <td>1.846800</td>\n",
       "    </tr>\n",
       "    <tr>\n",
       "      <td>400</td>\n",
       "      <td>1.822000</td>\n",
       "    </tr>\n",
       "    <tr>\n",
       "      <td>410</td>\n",
       "      <td>1.833300</td>\n",
       "    </tr>\n",
       "    <tr>\n",
       "      <td>420</td>\n",
       "      <td>1.840500</td>\n",
       "    </tr>\n",
       "    <tr>\n",
       "      <td>430</td>\n",
       "      <td>1.838600</td>\n",
       "    </tr>\n",
       "    <tr>\n",
       "      <td>440</td>\n",
       "      <td>1.845300</td>\n",
       "    </tr>\n",
       "    <tr>\n",
       "      <td>450</td>\n",
       "      <td>1.835700</td>\n",
       "    </tr>\n",
       "    <tr>\n",
       "      <td>460</td>\n",
       "      <td>1.820300</td>\n",
       "    </tr>\n",
       "    <tr>\n",
       "      <td>470</td>\n",
       "      <td>1.841800</td>\n",
       "    </tr>\n",
       "    <tr>\n",
       "      <td>480</td>\n",
       "      <td>1.821800</td>\n",
       "    </tr>\n",
       "    <tr>\n",
       "      <td>490</td>\n",
       "      <td>1.817700</td>\n",
       "    </tr>\n",
       "    <tr>\n",
       "      <td>500</td>\n",
       "      <td>1.832700</td>\n",
       "    </tr>\n",
       "    <tr>\n",
       "      <td>510</td>\n",
       "      <td>1.840500</td>\n",
       "    </tr>\n",
       "  </tbody>\n",
       "</table><p>"
      ],
      "text/plain": [
       "<IPython.core.display.HTML object>"
      ]
     },
     "metadata": {},
     "output_type": "display_data"
    },
    {
     "data": {
      "text/plain": [
       "TrainOutput(global_step=516, training_loss=1.8909196299175883, metrics={'train_runtime': 18719.1001, 'train_samples_per_second': 3.529, 'train_steps_per_second': 0.028, 'total_flos': 2.4312553714640486e+17, 'train_loss': 1.8909196299175883, 'epoch': 3.0})"
      ]
     },
     "execution_count": 12,
     "metadata": {},
     "output_type": "execute_result"
    }
   ],
   "source": [
    "import transformers\n",
    "\n",
    "# needed for gpt-neo-x tokenizer\n",
    "tokenizer.pad_token = tokenizer.eos_token\n",
    "\n",
    "# For LLaMA\n",
    "# tokenizer.pad_token_id = (\n",
    "#     0  # unk. we want this to be different from the eos token\n",
    "# )\n",
    "\n",
    "trainer = transformers.Trainer(\n",
    "    model=model,\n",
    "    train_dataset=data[\"train\"],\n",
    "    args=transformers.TrainingArguments(\n",
    "        per_device_train_batch_size=4,\n",
    "        gradient_accumulation_steps=32,\n",
    "        # warmup_steps=200,\n",
    "        # max_steps=500, ## 초소형만 학습: 10 step = 20개 샘플만 학습.\n",
    "        learning_rate=2e-4,\n",
    "        fp16=True,\n",
    "        logging_steps=10,\n",
    "        save_total_limit=3,\n",
    "        output_dir=\"outputs\",\n",
    "        optim=\"paged_adamw_8bit\"\n",
    "    ),\n",
    "    data_collator=transformers.DataCollatorForLanguageModeling(tokenizer, mlm=False),\n",
    ")\n",
    "model.config.use_cache = False  # silence the warnings. Please re-enable for inference!\n",
    "trainer.train()"
   ]
  },
  {
   "cell_type": "code",
   "execution_count": 13,
   "metadata": {
    "colab": {
     "base_uri": "https://localhost:8080/"
    },
    "id": "TvP11yUbhzWP",
    "outputId": "96eb0cfe-e22f-4642-9fba-796942c62540"
   },
   "outputs": [],
   "source": [
    "trainer.save_model(\"polyglot-ko_1.3b_news_3ep\")"
   ]
  },
  {
   "cell_type": "code",
   "execution_count": 14,
   "metadata": {
    "id": "a-jauOEv9XVe"
   },
   "outputs": [],
   "source": [
    "model.eval()\n",
    "model.config.use_cache = True  # silence the warnings. Please re-enable for inference!"
   ]
  },
  {
   "cell_type": "code",
   "execution_count": 13,
   "metadata": {
    "colab": {
     "base_uri": "https://localhost:8080/"
    },
    "id": "r4ITTiXfp-2r",
    "outputId": "e6376ea8-f293-4ca4-f9f3-13f231f5de07"
   },
   "outputs": [
    {
     "name": "stderr",
     "output_type": "stream",
     "text": [
      "/opt/conda/lib/python3.8/site-packages/transformers/generation/utils.py:1264: UserWarning: You have modified the pretrained model configuration to control generation. This is a deprecated strategy to control generation and will be removed soon, in a future version. Please use a generation configuration file (see https://huggingface.co/docs/transformers/main_classes/text_generation )\n",
      "  warnings.warn(\n",
      "/opt/conda/lib/python3.8/site-packages/transformers/generation/utils.py:1363: UserWarning: Using `max_length`'s default (20) to control the generation length. This behaviour is deprecated and will be removed from the config in v5 of Transformers -- we recommend using `max_new_tokens` to control the maximum length of the generation.\n",
      "  warnings.warn(\n",
      "Input length of input_ids is 20, but `max_length` is set to 20. This can lead to unexpected behavior. You should consider increasing `max_new_tokens`.\n",
      "/opt/conda/lib/python3.8/site-packages/transformers/generation/utils.py:1462: UserWarning: You are calling .generate() with the `input_ids` being on a device type different than your model's device. `input_ids` is on cpu, whereas the model is on cuda. You may experience unexpected behaviors or slower generation. Please make sure that you have put `input_ids` to the correct device by calling for example input_ids = input_ids.to('cuda') before running `.generate()`.\n",
      "  warnings.warn(\n",
      "/opt/conda/lib/python3.8/site-packages/torch/utils/checkpoint.py:31: UserWarning: None of the inputs have requires_grad=True. Gradients will be None\n",
      "  warnings.warn(\"None of the inputs have requires_grad=True. Gradients will be None\")\n"
     ]
    },
    {
     "data": {
      "text/plain": [
       "tensor([[    0,   835, 29871,   239,   170,   139, 31406, 29901, 29871, 31346,\n",
       "           238,   141,   155, 29871,   238,   133,   163, 31781, 31081, 29973,\n",
       "         29871]])"
      ]
     },
     "execution_count": 13,
     "metadata": {},
     "output_type": "execute_result"
    }
   ],
   "source": [
    "model.generate(**tokenizer(\"### 질문: 오늘 날씨는?\", return_tensors='pt', return_token_type_ids=False))"
   ]
  },
  {
   "cell_type": "code",
   "execution_count": 42,
   "metadata": {
    "id": "oDp9W-Gmp5Mb"
   },
   "outputs": [],
   "source": [
    "def gen(contents):\n",
    "    gened = model.generate(\n",
    "        **tokenizer(\n",
    "            f\"\"\"### 질문: 아래의 문서를 요약해줘.\n",
    "\n",
    "###맥락: {contents}\n",
    "\n",
    "### 답변:\"\"\",\n",
    "            return_tensors='pt',\n",
    "            return_token_type_ids=False\n",
    "        ),\n",
    "        max_new_tokens=256,\n",
    "        early_stopping=True,\n",
    "        do_sample=True,\n",
    "        eos_token_id=2,\n",
    "        no_repeat_ngram_size=8,\n",
    "        top_k=50,\n",
    "        top_p=0.98,\n",
    "        # temperature=0.,\n",
    "    )\n",
    "    print(tokenizer.decode(gened[0]))"
   ]
  },
  {
   "cell_type": "code",
   "execution_count": 46,
   "metadata": {
    "colab": {
     "base_uri": "https://localhost:8080/",
     "height": 128
    },
    "id": "iIbK1GaipZd9",
    "outputId": "46537a15-3bce-4959-860a-80706a8b3693"
   },
   "outputs": [
    {
     "name": "stderr",
     "output_type": "stream",
     "text": [
      "Setting `pad_token_id` to `eos_token_id`:2 for open-end generation.\n"
     ]
    },
    {
     "name": "stdout",
     "output_type": "stream",
     "text": [
      "### 질문: 아래의 문서를 요약해줘.\n",
      "\n",
      "###맥락: 삼성전자 2분기 잠정실적 발표 영업익 6천억원 예상치 웃돌아 HBM·DDR5 등 고사양 반도체 판매 호조에 DS부문 적자줄어  감산효과 본격화되는 하반기에 가격정상화·반등 본격화 예상삼성전자 서초사옥. 7일 삼성전자가 공개한 올해 2분기 잠정실적은 2008년 금융위기 이후 가장 저조했지만 시장에서는 “반도체 바닥을 확인했다”는 평가가 많았다.  업계는 올해 2분기가 시작되는 4월까지만 해도 2분기 실적이 1분기보다 대폭 악화될 것이라는 예상을 내놓았다. 특히 삼성전자가 메모리반도체 감산을 선언했음에도 반도체 가격 하락세가 이어졌고 이에 따라 수익성도 악화될 것으로 예측됐다. 1분기 실적을 뒷받침했던 갤럭시 S23 신제품 효과까지 둔화되면서 시장에서는 적자전환 가능성까지 점치는 분위기였다.  그러나 뚜껑이 열리자 “최악은 면했다”는 반응이 나왔다. 올해 2분기 삼성전자는 전분기와 비슷한 실적을 냈지만 시장 전망치를 크게 웃돌았다. 금융정보업체 에프앤가이드가 집계한 실적 컨센서스는 매출 61조8593억원, 영업이익 2818억원이었다. 영업이익이 증권사 예상치를 2배 이상 웃돈 것이다.잠정실적에 사업부별 수치는 나오지 않지만, 반도체 사업을 담당하는 디바이스솔루션 부문이 4조원대 적자를 냈을 것으로 추정된다. 메리츠증권은 삼성전자 DS부문이 4조2000억원대 적자를 기록한 것으로 분석했다. 대신 디스플레이, 모바일·네트워크, TV·생활가전 등 부문의 흑자가 DS부문의 적자폭을 메웠다는 것이 메리츠증권의 예측이다. 하만 등 기타부문에서도 3000억원 안팎의 영업이익을 예상했다.  눈에 띄는 부분은 DS부문의 적자규모가 예상을 밑돌았다는 점이다. 2분기 DS부문의 영업손실은 1분기에 비해 개선됐을 것으로 추정된다. ‘주력’으로 꼽히는 메모리반도체 부문에서는 3조원대 후반대 적자를 낸 것으로 파악된다.  생성형 인공지능 열풍으로 AI 서버 수요가 늘면서 더블데이터레이트5와 고대역폭메모리 등 고사양 제품 판매가 늘면서 적자 규모를 줄였을 것으로 추정된다. 또 적자제품 판매를 축소한 것도 영향을 미쳤다는 시각이다.  김동원 KB증권 연구원은 “2분기 D램 출하량이 전분기보다 20% 증가해 예상보다 빠르게 원가구조가 개선됐다”고 했다. 다만 시스템반도체와 파운드리 사업의 실적 부진은 이어지는 상황이다.  시장에서는 하반기에 대한 기대감도 커지고 있다. 삼성전자의 감산효과가 본격화되는 3분기부터 재고가 감소하면서 수익성이 개선될 것이라는 예상이다. 그동안 삼성전자는 쌓여있는 재고로 재고자산평가손실이 커져 수익성이 악화됐다.특히 삼성전자는 올해 3분기부터 감산규모를 최대 25% 수준까지 확대할 계획이다. 이에 따라 메모리 반도체 가격 또한 상승세를 탈 것으로 전망된다. 한동희 SK증권 연구원은 “감산 효과가 본격화되면서 출하가 이미 저점을 지나고 있다”며 “가격 반등을 모색할 수 있는 구간”이라고 내다봤다.  시장조사업체 트렌드포스는 감산효과로 올 3분기 D램 평균판매가격이 전분기보다 0~5% 하락할 것으로 예상했다. 전 분기 대비 가격 하락폭 전망치가 13~18%이었던 2분기와 비교하면 가격 하락세가 완만해질 것이라는 전망이다. 트렌드포스는 “D램 공급업체의 지속적인 감산으로 전체 D램 공급이 점차 줄고 있다”고 진단했다.  인공지능 열풍으로 HBM 등 고사양 제품 수요가 폭발적으로 늘어나고 있다는 부분도 시장 반등 기대감을 키우고 있다. 경계현 DS부문장은 최근 임직원에게 “삼성 HBM제품 시장 점유율이 여전히 50% 이상”이라며 “HBM3와 HBM3P가 내년 DS부문 이익 증가에 기여할 것”이라고 언급했다. 노근창 현대차증권 연구원은 “삼성전자는 연내 HBM3를 공급하고 기존 라인을 HBM라인으로 바꾸고 있다”고 설명했다.  최근 DS부문 적자 속에서 삼성전자는 HBM 등 분야에서의 경쟁력을 키우기 위해 인사 또한 단행한 상태다. 삼성전자는 HBM 분야를 책임지는 D램 개발실장을 교체하는 강수를 뒀다. 김동원 연구원은 “D램과 파운드리 부문 개발 총책임자 교체라는 ‘핀셋 인사’로 경쟁력 제고가 기대된다”고 분석했다.\n",
      "\n",
      "### 답변: 6삼성전자는 메모리반도체 감산을 선언한 상황에서 2분기 실적은 전분기 대비 대폭 개선되었는데 삼성전자가  메모리반도체 감산을 선언했음에 따라 2분기가 시작되는 4달까지는 적자전환 가능성이 있었지만 뚜껑이 열리자 “최악을 면했다”는 반응이 나와 “올해 2분기가 시작되는 4윌까지만 해도 2분기 실적이 전분기보다 대폭 악화될 것이”라고 했고 하지만 뚜껑이 열리자 “최악은 면하게 됐다”고 진단했다.\n",
      "\n",
      "7일 삼성전자가 공개한 올해 2Q 잠정실적은 2008년 금융위기이후 최악이었지만 시장에서는 “반도체 바닥 확인했다”는 평이 나오면서 증권가에서는 “하반기가 시작되는 4월까만 해도 2분기 실적이 1분기에 비해 대폭 악화될 것이라는 예상이 많았지만 뚜껑이 열리자 “최악은 모면했다”는 반응이 나왔습니다. 삼성전자는 올해 2분기에 전분기보다 소폭 개선됐지만 시장 전망치를 크게 웃돈 것이고 올해 2분기 삼성전자의 영업손실은 전분기보다 악화됐을 것으로 추정됩니다. 이에 따라 삼성전자는 메모리반도체 감산을 선언함에도 메모리\n"
     ]
    }
   ],
   "source": [
    "gen('''삼성전자 2분기 잠정실적 발표 영업익 6천억원 예상치 웃돌아 HBM·DDR5 등 고사양 반도체 판매 호조에 DS부문 적자줄어  감산효과 본격화되는 하반기에 가격정상화·반등 본격화 예상삼성전자 서초사옥. 7일 삼성전자가 공개한 올해 2분기 잠정실적은 2008년 금융위기 이후 가장 저조했지만 시장에서는 “반도체 바닥을 확인했다”는 평가가 많았다.  업계는 올해 2분기가 시작되는 4월까지만 해도 2분기 실적이 1분기보다 대폭 악화될 것이라는 예상을 내놓았다. 특히 삼성전자가 메모리반도체 감산을 선언했음에도 반도체 가격 하락세가 이어졌고 이에 따라 수익성도 악화될 것으로 예측됐다. 1분기 실적을 뒷받침했던 갤럭시 S23 신제품 효과까지 둔화되면서 시장에서는 적자전환 가능성까지 점치는 분위기였다.  그러나 뚜껑이 열리자 “최악은 면했다”는 반응이 나왔다. 올해 2분기 삼성전자는 전분기와 비슷한 실적을 냈지만 시장 전망치를 크게 웃돌았다. 금융정보업체 에프앤가이드가 집계한 실적 컨센서스는 매출 61조8593억원, 영업이익 2818억원이었다. 영업이익이 증권사 예상치를 2배 이상 웃돈 것이다.잠정실적에 사업부별 수치는 나오지 않지만, 반도체 사업을 담당하는 디바이스솔루션 부문이 4조원대 적자를 냈을 것으로 추정된다. 메리츠증권은 삼성전자 DS부문이 4조2000억원대 적자를 기록한 것으로 분석했다. 대신 디스플레이, 모바일·네트워크, TV·생활가전 등 부문의 흑자가 DS부문의 적자폭을 메웠다는 것이 메리츠증권의 예측이다. 하만 등 기타부문에서도 3000억원 안팎의 영업이익을 예상했다.  눈에 띄는 부분은 DS부문의 적자규모가 예상을 밑돌았다는 점이다. 2분기 DS부문의 영업손실은 1분기에 비해 개선됐을 것으로 추정된다. ‘주력’으로 꼽히는 메모리반도체 부문에서는 3조원대 후반대 적자를 낸 것으로 파악된다.  생성형 인공지능 열풍으로 AI 서버 수요가 늘면서 더블데이터레이트5와 고대역폭메모리 등 고사양 제품 판매가 늘면서 적자 규모를 줄였을 것으로 추정된다. 또 적자제품 판매를 축소한 것도 영향을 미쳤다는 시각이다.  김동원 KB증권 연구원은 “2분기 D램 출하량이 전분기보다 20% 증가해 예상보다 빠르게 원가구조가 개선됐다”고 했다. 다만 시스템반도체와 파운드리 사업의 실적 부진은 이어지는 상황이다.  시장에서는 하반기에 대한 기대감도 커지고 있다. 삼성전자의 감산효과가 본격화되는 3분기부터 재고가 감소하면서 수익성이 개선될 것이라는 예상이다. 그동안 삼성전자는 쌓여있는 재고로 재고자산평가손실이 커져 수익성이 악화됐다.특히 삼성전자는 올해 3분기부터 감산규모를 최대 25% 수준까지 확대할 계획이다. 이에 따라 메모리 반도체 가격 또한 상승세를 탈 것으로 전망된다. 한동희 SK증권 연구원은 “감산 효과가 본격화되면서 출하가 이미 저점을 지나고 있다”며 “가격 반등을 모색할 수 있는 구간”이라고 내다봤다.  시장조사업체 트렌드포스는 감산효과로 올 3분기 D램 평균판매가격이 전분기보다 0~5% 하락할 것으로 예상했다. 전 분기 대비 가격 하락폭 전망치가 13~18%이었던 2분기와 비교하면 가격 하락세가 완만해질 것이라는 전망이다. 트렌드포스는 “D램 공급업체의 지속적인 감산으로 전체 D램 공급이 점차 줄고 있다”고 진단했다.  인공지능 열풍으로 HBM 등 고사양 제품 수요가 폭발적으로 늘어나고 있다는 부분도 시장 반등 기대감을 키우고 있다. 경계현 DS부문장은 최근 임직원에게 “삼성 HBM제품 시장 점유율이 여전히 50% 이상”이라며 “HBM3와 HBM3P가 내년 DS부문 이익 증가에 기여할 것”이라고 언급했다. 노근창 현대차증권 연구원은 “삼성전자는 연내 HBM3를 공급하고 기존 라인을 HBM라인으로 바꾸고 있다”고 설명했다.  최근 DS부문 적자 속에서 삼성전자는 HBM 등 분야에서의 경쟁력을 키우기 위해 인사 또한 단행한 상태다. 삼성전자는 HBM 분야를 책임지는 D램 개발실장을 교체하는 강수를 뒀다. 김동원 연구원은 “D램과 파운드리 부문 개발 총책임자 교체라는 ‘핀셋 인사’로 경쟁력 제고가 기대된다”고 분석했다.''')"
   ]
  },
  {
   "cell_type": "code",
   "execution_count": 40,
   "metadata": {},
   "outputs": [
    {
     "data": {
      "text/plain": [
       "'2.0.1+cu117'"
      ]
     },
     "execution_count": 40,
     "metadata": {},
     "output_type": "execute_result"
    }
   ],
   "source": [
    "import torch\n",
    "torch.__version__"
   ]
  },
  {
   "cell_type": "code",
   "execution_count": null,
   "metadata": {},
   "outputs": [],
   "source": []
  }
 ],
 "metadata": {
  "accelerator": "GPU",
  "colab": {
   "gpuType": "T4",
   "machine_shape": "hm",
   "provenance": []
  },
  "kernelspec": {
   "display_name": "Python 3 (ipykernel)",
   "language": "python",
   "name": "python3"
  },
  "language_info": {
   "codemirror_mode": {
    "name": "ipython",
    "version": 3
   },
   "file_extension": ".py",
   "mimetype": "text/x-python",
   "name": "python",
   "nbconvert_exporter": "python",
   "pygments_lexer": "ipython3",
   "version": "3.8.5"
  },
  "widgets": {
   "application/vnd.jupyter.widget-state+json": {
    "0a91d94890634dc1bb43176347c27fec": {
     "model_module": "@jupyter-widgets/base",
     "model_module_version": "1.2.0",
     "model_name": "LayoutModel",
     "state": {
      "_model_module": "@jupyter-widgets/base",
      "_model_module_version": "1.2.0",
      "_model_name": "LayoutModel",
      "_view_count": null,
      "_view_module": "@jupyter-widgets/base",
      "_view_module_version": "1.2.0",
      "_view_name": "LayoutView",
      "align_content": null,
      "align_items": null,
      "align_self": null,
      "border": null,
      "bottom": null,
      "display": null,
      "flex": null,
      "flex_flow": null,
      "grid_area": null,
      "grid_auto_columns": null,
      "grid_auto_flow": null,
      "grid_auto_rows": null,
      "grid_column": null,
      "grid_gap": null,
      "grid_row": null,
      "grid_template_areas": null,
      "grid_template_columns": null,
      "grid_template_rows": null,
      "height": null,
      "justify_content": null,
      "justify_items": null,
      "left": null,
      "margin": null,
      "max_height": null,
      "max_width": null,
      "min_height": null,
      "min_width": null,
      "object_fit": null,
      "object_position": null,
      "order": null,
      "overflow": null,
      "overflow_x": null,
      "overflow_y": null,
      "padding": null,
      "right": null,
      "top": null,
      "visibility": null,
      "width": null
     }
    },
    "278070bfaaac4794a649f11306ad2947": {
     "model_module": "@jupyter-widgets/controls",
     "model_module_version": "1.5.0",
     "model_name": "HBoxModel",
     "state": {
      "_dom_classes": [],
      "_model_module": "@jupyter-widgets/controls",
      "_model_module_version": "1.5.0",
      "_model_name": "HBoxModel",
      "_view_count": null,
      "_view_module": "@jupyter-widgets/controls",
      "_view_module_version": "1.5.0",
      "_view_name": "HBoxView",
      "box_style": "",
      "children": [
       "IPY_MODEL_5391d6d2385549319099d3bf653c34ee",
       "IPY_MODEL_ee696f00718b43989f653dd01391a87d",
       "IPY_MODEL_e39e4f5284224bfdbde4359d8593d206"
      ],
      "layout": "IPY_MODEL_0a91d94890634dc1bb43176347c27fec"
     }
    },
    "3473e65596d5455385269f59e6159e38": {
     "model_module": "@jupyter-widgets/controls",
     "model_module_version": "1.5.0",
     "model_name": "DescriptionStyleModel",
     "state": {
      "_model_module": "@jupyter-widgets/controls",
      "_model_module_version": "1.5.0",
      "_model_name": "DescriptionStyleModel",
      "_view_count": null,
      "_view_module": "@jupyter-widgets/base",
      "_view_module_version": "1.2.0",
      "_view_name": "StyleView",
      "description_width": ""
     }
    },
    "388757e992344b06b2fc7e4573eba77d": {
     "model_module": "@jupyter-widgets/controls",
     "model_module_version": "1.5.0",
     "model_name": "ProgressStyleModel",
     "state": {
      "_model_module": "@jupyter-widgets/controls",
      "_model_module_version": "1.5.0",
      "_model_name": "ProgressStyleModel",
      "_view_count": null,
      "_view_module": "@jupyter-widgets/base",
      "_view_module_version": "1.2.0",
      "_view_name": "StyleView",
      "bar_color": null,
      "description_width": ""
     }
    },
    "416d78e5558f4019972720c8d52a410b": {
     "model_module": "@jupyter-widgets/base",
     "model_module_version": "1.2.0",
     "model_name": "LayoutModel",
     "state": {
      "_model_module": "@jupyter-widgets/base",
      "_model_module_version": "1.2.0",
      "_model_name": "LayoutModel",
      "_view_count": null,
      "_view_module": "@jupyter-widgets/base",
      "_view_module_version": "1.2.0",
      "_view_name": "LayoutView",
      "align_content": null,
      "align_items": null,
      "align_self": null,
      "border": null,
      "bottom": null,
      "display": null,
      "flex": null,
      "flex_flow": null,
      "grid_area": null,
      "grid_auto_columns": null,
      "grid_auto_flow": null,
      "grid_auto_rows": null,
      "grid_column": null,
      "grid_gap": null,
      "grid_row": null,
      "grid_template_areas": null,
      "grid_template_columns": null,
      "grid_template_rows": null,
      "height": null,
      "justify_content": null,
      "justify_items": null,
      "left": null,
      "margin": null,
      "max_height": null,
      "max_width": null,
      "min_height": null,
      "min_width": null,
      "object_fit": null,
      "object_position": null,
      "order": null,
      "overflow": null,
      "overflow_x": null,
      "overflow_y": null,
      "padding": null,
      "right": null,
      "top": null,
      "visibility": null,
      "width": null
     }
    },
    "5391d6d2385549319099d3bf653c34ee": {
     "model_module": "@jupyter-widgets/controls",
     "model_module_version": "1.5.0",
     "model_name": "HTMLModel",
     "state": {
      "_dom_classes": [],
      "_model_module": "@jupyter-widgets/controls",
      "_model_module_version": "1.5.0",
      "_model_name": "HTMLModel",
      "_view_count": null,
      "_view_module": "@jupyter-widgets/controls",
      "_view_module_version": "1.5.0",
      "_view_name": "HTMLView",
      "description": "",
      "description_tooltip": null,
      "layout": "IPY_MODEL_ec9d84f9337948cba5562b7e995bb2ef",
      "placeholder": "​",
      "style": "IPY_MODEL_3473e65596d5455385269f59e6159e38",
      "value": "100%"
     }
    },
    "664f6a3720a446929197650580dd005d": {
     "model_module": "@jupyter-widgets/base",
     "model_module_version": "1.2.0",
     "model_name": "LayoutModel",
     "state": {
      "_model_module": "@jupyter-widgets/base",
      "_model_module_version": "1.2.0",
      "_model_name": "LayoutModel",
      "_view_count": null,
      "_view_module": "@jupyter-widgets/base",
      "_view_module_version": "1.2.0",
      "_view_name": "LayoutView",
      "align_content": null,
      "align_items": null,
      "align_self": null,
      "border": null,
      "bottom": null,
      "display": null,
      "flex": null,
      "flex_flow": null,
      "grid_area": null,
      "grid_auto_columns": null,
      "grid_auto_flow": null,
      "grid_auto_rows": null,
      "grid_column": null,
      "grid_gap": null,
      "grid_row": null,
      "grid_template_areas": null,
      "grid_template_columns": null,
      "grid_template_rows": null,
      "height": null,
      "justify_content": null,
      "justify_items": null,
      "left": null,
      "margin": null,
      "max_height": null,
      "max_width": null,
      "min_height": null,
      "min_width": null,
      "object_fit": null,
      "object_position": null,
      "order": null,
      "overflow": null,
      "overflow_x": null,
      "overflow_y": null,
      "padding": null,
      "right": null,
      "top": null,
      "visibility": null,
      "width": null
     }
    },
    "92e0594143bd4c2690dc3ddaa0170b17": {
     "model_module": "@jupyter-widgets/controls",
     "model_module_version": "1.5.0",
     "model_name": "DescriptionStyleModel",
     "state": {
      "_model_module": "@jupyter-widgets/controls",
      "_model_module_version": "1.5.0",
      "_model_name": "DescriptionStyleModel",
      "_view_count": null,
      "_view_module": "@jupyter-widgets/base",
      "_view_module_version": "1.2.0",
      "_view_name": "StyleView",
      "description_width": ""
     }
    },
    "e39e4f5284224bfdbde4359d8593d206": {
     "model_module": "@jupyter-widgets/controls",
     "model_module_version": "1.5.0",
     "model_name": "HTMLModel",
     "state": {
      "_dom_classes": [],
      "_model_module": "@jupyter-widgets/controls",
      "_model_module_version": "1.5.0",
      "_model_name": "HTMLModel",
      "_view_count": null,
      "_view_module": "@jupyter-widgets/controls",
      "_view_module_version": "1.5.0",
      "_view_name": "HTMLView",
      "description": "",
      "description_tooltip": null,
      "layout": "IPY_MODEL_664f6a3720a446929197650580dd005d",
      "placeholder": "​",
      "style": "IPY_MODEL_92e0594143bd4c2690dc3ddaa0170b17",
      "value": " 1/1 [00:00&lt;00:00,  9.41it/s]"
     }
    },
    "ec9d84f9337948cba5562b7e995bb2ef": {
     "model_module": "@jupyter-widgets/base",
     "model_module_version": "1.2.0",
     "model_name": "LayoutModel",
     "state": {
      "_model_module": "@jupyter-widgets/base",
      "_model_module_version": "1.2.0",
      "_model_name": "LayoutModel",
      "_view_count": null,
      "_view_module": "@jupyter-widgets/base",
      "_view_module_version": "1.2.0",
      "_view_name": "LayoutView",
      "align_content": null,
      "align_items": null,
      "align_self": null,
      "border": null,
      "bottom": null,
      "display": null,
      "flex": null,
      "flex_flow": null,
      "grid_area": null,
      "grid_auto_columns": null,
      "grid_auto_flow": null,
      "grid_auto_rows": null,
      "grid_column": null,
      "grid_gap": null,
      "grid_row": null,
      "grid_template_areas": null,
      "grid_template_columns": null,
      "grid_template_rows": null,
      "height": null,
      "justify_content": null,
      "justify_items": null,
      "left": null,
      "margin": null,
      "max_height": null,
      "max_width": null,
      "min_height": null,
      "min_width": null,
      "object_fit": null,
      "object_position": null,
      "order": null,
      "overflow": null,
      "overflow_x": null,
      "overflow_y": null,
      "padding": null,
      "right": null,
      "top": null,
      "visibility": null,
      "width": null
     }
    },
    "ee696f00718b43989f653dd01391a87d": {
     "model_module": "@jupyter-widgets/controls",
     "model_module_version": "1.5.0",
     "model_name": "FloatProgressModel",
     "state": {
      "_dom_classes": [],
      "_model_module": "@jupyter-widgets/controls",
      "_model_module_version": "1.5.0",
      "_model_name": "FloatProgressModel",
      "_view_count": null,
      "_view_module": "@jupyter-widgets/controls",
      "_view_module_version": "1.5.0",
      "_view_name": "ProgressView",
      "bar_style": "success",
      "description": "",
      "description_tooltip": null,
      "layout": "IPY_MODEL_416d78e5558f4019972720c8d52a410b",
      "max": 1,
      "min": 0,
      "orientation": "horizontal",
      "style": "IPY_MODEL_388757e992344b06b2fc7e4573eba77d",
      "value": 1
     }
    }
   }
  }
 },
 "nbformat": 4,
 "nbformat_minor": 4
}
